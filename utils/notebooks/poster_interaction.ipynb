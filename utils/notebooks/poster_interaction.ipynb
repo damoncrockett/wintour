{
 "cells": [
  {
   "cell_type": "code",
   "execution_count": 1,
   "metadata": {
    "collapsed": true
   },
   "outputs": [],
   "source": [
    "import pandas as pd"
   ]
  },
  {
   "cell_type": "code",
   "execution_count": 3,
   "metadata": {
    "collapsed": false
   },
   "outputs": [],
   "source": [
    "import sys\n",
    "sys.path.append(\"/Users/damoncrockett/differ/\")"
   ]
  },
  {
   "cell_type": "code",
   "execution_count": 4,
   "metadata": {
    "collapsed": true
   },
   "outputs": [],
   "source": [
    "import differ"
   ]
  },
  {
   "cell_type": "code",
   "execution_count": 5,
   "metadata": {
    "collapsed": true
   },
   "outputs": [],
   "source": [
    "ft = pd.read_csv(\"170728_2015-01-01_alphasort.csv\")"
   ]
  },
  {
   "cell_type": "code",
   "execution_count": 9,
   "metadata": {
    "collapsed": false
   },
   "outputs": [],
   "source": [
    "train_matrix = pd.read_csv(\"170728_2015-01-01_train-matrix-and-labels.csv\")"
   ]
  },
  {
   "cell_type": "code",
   "execution_count": 12,
   "metadata": {
    "collapsed": false
   },
   "outputs": [],
   "source": [
    "tmp = train_matrix.drop(['outcome'],axis=1).apply(sum,axis=0) > 0\n",
    "zcols = tmp.index[tmp==False]\n",
    "train_matrix = train_matrix.drop(zcols,axis=1)\n",
    "\n",
    "tmp = train_matrix.drop(['outcome'],axis=1)\n",
    "ocols = [col for col in tmp.columns if len(tmp[col].value_counts())==1]\n",
    "train_matrix = train_matrix.drop(ocols,axis=1)"
   ]
  },
  {
   "cell_type": "code",
   "execution_count": 13,
   "metadata": {
    "collapsed": true
   },
   "outputs": [],
   "source": [
    "dcols = train_matrix.drop(['outcome'],axis=1).columns\n",
    "train_matrix[dcols] = train_matrix[dcols].applymap(float)"
   ]
  },
  {
   "cell_type": "code",
   "execution_count": 15,
   "metadata": {
    "collapsed": false
   },
   "outputs": [],
   "source": [
    "cols = train_matrix.columns\n",
    "ft = ft[ft.feature.isin(cols)]\n",
    "ft.reset_index(drop=True,inplace=True)"
   ]
  },
  {
   "cell_type": "code",
   "execution_count": 19,
   "metadata": {
    "collapsed": false
   },
   "outputs": [
    {
     "name": "stderr",
     "output_type": "stream",
     "text": [
      "/Library/Python/2.7/site-packages/ipykernel/__main__.py:2: SettingWithCopyWarning: \n",
      "A value is trying to be set on a copy of a slice from a DataFrame\n",
      "\n",
      "See the caveats in the documentation: http://pandas.pydata.org/pandas-docs/stable/indexing.html#indexing-view-versus-copy\n",
      "  from ipykernel import kernelapp as app\n"
     ]
    }
   ],
   "source": [
    "x = 10\n",
    "ft.sort_values(by='feature_importance',ascending=False,inplace=True)\n",
    "top_feats = ft.feature.iloc[:x]"
   ]
  },
  {
   "cell_type": "code",
   "execution_count": 21,
   "metadata": {
    "collapsed": false
   },
   "outputs": [],
   "source": [
    "cfeats = []\n",
    "ifeats = []\n",
    "featdists = []\n",
    "subdists = []\n",
    "\n",
    "nbins = 4 # for continuous features\n",
    "\n",
    "for cfeat in top_feats:\n",
    "    for i in ft.index:\n",
    "        cfeats.append(cfeat)\n",
    "        ifeat = ft.feature.loc[i]\n",
    "        ifeats.append(ifeat)\n",
    "        \n",
    "        if ft.record_type.loc[i]=='ocnd':\n",
    "            outputs = differ.KL_categorical(train_matrix,ifeat,cfeat)\n",
    "        else:\n",
    "            outputs = differ.KL_continuous(train_matrix,ifeat,cfeat,nbins)\n",
    "        \n",
    "        featdists.append(outputs[0])\n",
    "        subdists.append(outputs[1])\n",
    "        \n",
    "df = pd.DataFrame({\n",
    "        \"candidate_feature\":cfeats,\n",
    "        \"interacting_feature\":ifeats,\n",
    "        \"feature_distance\":featdists,\n",
    "        \"subset_distances\":subdists\n",
    "    })"
   ]
  },
  {
   "cell_type": "code",
   "execution_count": 22,
   "metadata": {
    "collapsed": true
   },
   "outputs": [],
   "source": [
    "df.to_csv(\"/Users/damoncrockett/Desktop/poster_interactions.csv\",index=False)"
   ]
  },
  {
   "cell_type": "code",
   "execution_count": null,
   "metadata": {
    "collapsed": true
   },
   "outputs": [],
   "source": []
  },
  {
   "cell_type": "code",
   "execution_count": 29,
   "metadata": {
    "collapsed": true
   },
   "outputs": [],
   "source": [
    "cfeat = 'dispatch_id_p3m_dispatchtype_traffic_sum'"
   ]
  },
  {
   "cell_type": "code",
   "execution_count": 32,
   "metadata": {
    "collapsed": true
   },
   "outputs": [],
   "source": [
    "traff = df[df.candidate_feature==cfeat]"
   ]
  },
  {
   "cell_type": "code",
   "execution_count": 35,
   "metadata": {
    "collapsed": false
   },
   "outputs": [],
   "source": [
    "traff[traff.interacting_feature.str.contains(\"black\")].to_csv(\"/Users/damoncrockett/Desktop/poster_interactions.csv\",index=False)"
   ]
  },
  {
   "cell_type": "code",
   "execution_count": 30,
   "metadata": {
    "collapsed": false,
    "scrolled": false
   },
   "outputs": [],
   "source": [
    "df[df.candidate_feature==cfeat].to_csv(\"/Users/damoncrockett/Desktop/poster_interactions.csv\",index=False)"
   ]
  },
  {
   "cell_type": "code",
   "execution_count": null,
   "metadata": {
    "collapsed": true
   },
   "outputs": [],
   "source": []
  }
 ],
 "metadata": {
  "kernelspec": {
   "display_name": "Python 2",
   "language": "python",
   "name": "python2"
  },
  "language_info": {
   "codemirror_mode": {
    "name": "ipython",
    "version": 2
   },
   "file_extension": ".py",
   "mimetype": "text/x-python",
   "name": "python",
   "nbconvert_exporter": "python",
   "pygments_lexer": "ipython2",
   "version": "2.7.10"
  }
 },
 "nbformat": 4,
 "nbformat_minor": 0
}
