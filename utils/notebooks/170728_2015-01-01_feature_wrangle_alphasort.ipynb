{
 "cells": [
  {
   "cell_type": "code",
   "execution_count": 6,
   "metadata": {
    "collapsed": true
   },
   "outputs": [],
   "source": [
    "import pandas as pd\n",
    "from collections import Counter\n",
    "from PIL import Image,ImageDraw,ImageFont\n",
    "from scipy.stats import spearmanr\n",
    "import os\n",
    "import numpy as np"
   ]
  },
  {
   "cell_type": "code",
   "execution_count": 7,
   "metadata": {
    "collapsed": false
   },
   "outputs": [],
   "source": [
    "df = pd.read_csv(\"170728_2015-01-01_featlist.csv\")"
   ]
  },
  {
   "cell_type": "code",
   "execution_count": 8,
   "metadata": {
    "collapsed": false
   },
   "outputs": [],
   "source": [
    "df.fillna(value='NA',inplace=True) # bc null handling in python is bollocks"
   ]
  },
  {
   "cell_type": "code",
   "execution_count": 9,
   "metadata": {
    "collapsed": false
   },
   "outputs": [
    {
     "name": "stderr",
     "output_type": "stream",
     "text": [
      "/Library/Python/2.7/site-packages/pandas/core/indexing.py:132: SettingWithCopyWarning: \n",
      "A value is trying to be set on a copy of a slice from a DataFrame\n",
      "\n",
      "See the caveats in the documentation: http://pandas.pydata.org/pandas-docs/stable/indexing.html#indexing-view-versus-copy\n",
      "  self._setitem_with_indexer(indexer, value)\n"
     ]
    }
   ],
   "source": [
    "df['strlen'] = [len(item.split(\"_\")) for item in df.feature]\n",
    "df['feat_val'] = 0\n",
    "\n",
    "for i in df.index:\n",
    "    if df.record_type.loc[i]=='ocnd':\n",
    "        df.feat_val.loc[i]=df.feature.loc[i].split(\"_\")[3]\n",
    "        \n",
    "for i in df.index:\n",
    "    if df.record_type.loc[i]!='ocnd':\n",
    "        if df.strlen.loc[i]==5:\n",
    "            df.feat_val.loc[i]=None\n",
    "            \n",
    "for i in df.index:\n",
    "    if df.record_type.loc[i]!='ocnd':\n",
    "        if df.strlen.loc[i]==6:\n",
    "            df.feat_val.loc[i]=df.feature.loc[i].split(\"_\")[4]\n",
    "            \n",
    "for i in df.index:\n",
    "    if df.record_type.loc[i]!='ocnd':\n",
    "        if df.strlen.loc[i]==7:\n",
    "            valstr = df.feature.loc[i].split(\"_\")[4]+df.feature.loc[i].split(\"_\")[5]\n",
    "            df.feat_val.loc[i]=valstr\n",
    "            \n",
    "for i in df.index:\n",
    "    if df.record_type.loc[i]!='ocnd':\n",
    "        if df.strlen.loc[i]==8:\n",
    "            valstr = df.feature.loc[i].split(\"_\")[4]+df.feature.loc[i].split(\"_\")[5]+df.feature.loc[i].split(\"_\")[6]\n",
    "            df.feat_val.loc[i]=valstr\n",
    "            \n",
    "for i in df.index:\n",
    "    if df.record_type.loc[i]!='ocnd':\n",
    "        if df.strlen.loc[i]==9:\n",
    "            valstr = df.feature.loc[i].split(\"_\")[4]+df.feature.loc[i].split(\"_\")[5]+df.feature.loc[i].split(\"_\")[6]+df.feature.loc[i].split(\"_\")[7]\n",
    "            df.feat_val.loc[i]=valstr\n",
    "            \n",
    "featstrs = []\n",
    "for i in df.index:\n",
    "    feat_var = df.feat_var.loc[i]\n",
    "    \n",
    "    if df.feat_val.loc[i] is None:\n",
    "        feat_val = ''\n",
    "    else:\n",
    "        feat_val = df.feat_val.loc[i]\n",
    "        \n",
    "    num_agg = df.num_agg.loc[i]\n",
    "    \n",
    "    if df.temp_agg.loc[i] is 'NA':\n",
    "        temp_agg = ''\n",
    "    else:\n",
    "        temp_agg = df.temp_agg.loc[i]\n",
    "    \n",
    "    featstr = feat_var + \"_\" + feat_val + \"_\" + num_agg + \"_\" + temp_agg\n",
    "    featstrs.append(featstr)\n",
    "\n",
    "df['featstr'] = featstrs\n",
    "\n",
    "df_alphasort = df.sort_values(by=['record_type','feat_var','feat_val','num_agg','temp_agg'])\n",
    "df_alphasort.reset_index(drop=True,inplace=True)"
   ]
  },
  {
   "cell_type": "code",
   "execution_count": 10,
   "metadata": {
    "collapsed": false
   },
   "outputs": [],
   "source": [
    "df_alphasort.to_csv(\"170728_2015-01-01_alphasort.csv\",index=False)"
   ]
  },
  {
   "cell_type": "code",
   "execution_count": null,
   "metadata": {
    "collapsed": true
   },
   "outputs": [],
   "source": []
  }
 ],
 "metadata": {
  "kernelspec": {
   "display_name": "Python 2",
   "language": "python",
   "name": "python2"
  },
  "language_info": {
   "codemirror_mode": {
    "name": "ipython",
    "version": 2
   },
   "file_extension": ".py",
   "mimetype": "text/x-python",
   "name": "python",
   "nbconvert_exporter": "python",
   "pygments_lexer": "ipython2",
   "version": "2.7.10"
  }
 },
 "nbformat": 4,
 "nbformat_minor": 0
}
