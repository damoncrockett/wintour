{
 "cells": [
  {
   "cell_type": "code",
   "execution_count": 2,
   "metadata": {
    "collapsed": true
   },
   "outputs": [],
   "source": [
    "import pandas as pd\n",
    "from collections import Counter\n",
    "from PIL import Image,ImageDraw,ImageFont\n",
    "from scipy.stats import spearmanr\n",
    "import os\n",
    "import numpy as np"
   ]
  },
  {
   "cell_type": "code",
   "execution_count": 3,
   "metadata": {
    "collapsed": true
   },
   "outputs": [],
   "source": [
    "limefeat = pd.read_csv(\"limefeat.csv\")\n",
    "logregfeat = pd.read_csv(\"logregfeat.csv\")"
   ]
  },
  {
   "cell_type": "code",
   "execution_count": 4,
   "metadata": {
    "collapsed": true
   },
   "outputs": [],
   "source": [
    "limefeat_logregsort = limefeat.sort_values(by=\"idx\")"
   ]
  },
  {
   "cell_type": "markdown",
   "metadata": {},
   "source": [
    "# Platz"
   ]
  },
  {
   "cell_type": "code",
   "execution_count": 5,
   "metadata": {
    "collapsed": false
   },
   "outputs": [],
   "source": [
    "def strokeplot(df):\n",
    "    n = len(df)\n",
    "    df['rankratio'] = [float(i)/n for i in df.index]\n",
    "    df['plotbin'] = pd.cut(df.rankratio,bins=100,labels=False)\n",
    "    \n",
    "    canvas = Image.new('RGB',(px_w,px_h),'hsl(0,0%,50%)')\n",
    "    \n",
    "    counter=-1\n",
    "    for i in df.index:\n",
    "        counter+=1\n",
    "        xcoord = counter * strokewidth\n",
    "        bbox = [xcoord, 0, xcoord + strokewidth, strokeheight]\n",
    "        \n",
    "        fillcolor = colorstr+str(df.plotbin.loc[i])+\"%)\"\n",
    "        draw = ImageDraw.Draw(canvas)\n",
    "        draw.rectangle(bbox,fill=fillcolor,outline=None)\n",
    "    \n",
    "    return canvas"
   ]
  },
  {
   "cell_type": "code",
   "execution_count": 6,
   "metadata": {
    "collapsed": true
   },
   "outputs": [],
   "source": [
    "strokewidth = 8\n",
    "strokeheight = 800\n",
    "width = 1459\n",
    "px_w = width * strokewidth\n",
    "px_h = strokeheight\n",
    "colorstr = \"hsl(0,0%,\""
   ]
  },
  {
   "cell_type": "code",
   "execution_count": 7,
   "metadata": {
    "collapsed": false
   },
   "outputs": [],
   "source": [
    "strokeplot(logregfeat).save(\"strokeplot_logregfeat.png\")\n",
    "strokeplot(limefeat_logregsort).save(\"strokeplot_limefeat.png\")"
   ]
  },
  {
   "cell_type": "code",
   "execution_count": 8,
   "metadata": {
    "collapsed": false
   },
   "outputs": [
    {
     "data": {
      "text/plain": [
       "(0.43316132045031458, 8.6776250098092989e-68)"
      ]
     },
     "execution_count": 8,
     "metadata": {},
     "output_type": "execute_result"
    }
   ],
   "source": [
    "spearmanr(limefeat.index,limefeat.idx)"
   ]
  }
 ],
 "metadata": {
  "kernelspec": {
   "display_name": "Python 2",
   "language": "python",
   "name": "python2"
  },
  "language_info": {
   "codemirror_mode": {
    "name": "ipython",
    "version": 2
   },
   "file_extension": ".py",
   "mimetype": "text/x-python",
   "name": "python",
   "nbconvert_exporter": "python",
   "pygments_lexer": "ipython2",
   "version": "2.7.10"
  }
 },
 "nbformat": 4,
 "nbformat_minor": 0
}
