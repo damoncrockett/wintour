{
 "cells": [
  {
   "cell_type": "code",
   "execution_count": 1,
   "metadata": {
    "collapsed": false,
    "deletable": true,
    "editable": true
   },
   "outputs": [],
   "source": [
    "import warnings\n",
    "warnings.filterwarnings('ignore') # pending solution to hdf issue\n",
    "warnings.simplefilter(\"ignore\", DeprecationWarning)\n",
    "import pandas as pd\n",
    "pd.options.mode.chained_assignment = None # shut off SettingWithCopyWarning"
   ]
  },
  {
   "cell_type": "markdown",
   "metadata": {
    "deletable": true,
    "editable": true
   },
   "source": [
    "# Using visualime on CMPD data"
   ]
  },
  {
   "cell_type": "markdown",
   "metadata": {
    "deletable": true,
    "editable": true
   },
   "source": [
    "link to lime module here: https://github.com/marcotcr/lime"
   ]
  },
  {
   "cell_type": "code",
   "execution_count": 2,
   "metadata": {
    "collapsed": false,
    "deletable": true,
    "editable": true
   },
   "outputs": [
    {
     "ename": "ImportError",
     "evalue": "No module named lime.lime_tabular",
     "output_type": "error",
     "traceback": [
      "\u001b[0;31m---------------------------------------------------------------------------\u001b[0m",
      "\u001b[0;31mImportError\u001b[0m                               Traceback (most recent call last)",
      "\u001b[0;32m<ipython-input-2-6e9a4df95f11>\u001b[0m in \u001b[0;36m<module>\u001b[0;34m()\u001b[0m\n\u001b[0;32m----> 1\u001b[0;31m \u001b[0;32mimport\u001b[0m \u001b[0mlime\u001b[0m\u001b[0;34m.\u001b[0m\u001b[0mlime_tabular\u001b[0m\u001b[0;34m\u001b[0m\u001b[0m\n\u001b[0m\u001b[1;32m      2\u001b[0m \u001b[0;32mimport\u001b[0m \u001b[0mvisualime\u001b[0m\u001b[0;34m\u001b[0m\u001b[0m\n\u001b[1;32m      3\u001b[0m \u001b[0;32mimport\u001b[0m \u001b[0mnumpy\u001b[0m \u001b[0;32mas\u001b[0m \u001b[0mnp\u001b[0m\u001b[0;34m\u001b[0m\u001b[0m\n\u001b[1;32m      4\u001b[0m \u001b[0mget_ipython\u001b[0m\u001b[0;34m(\u001b[0m\u001b[0;34m)\u001b[0m\u001b[0;34m.\u001b[0m\u001b[0mmagic\u001b[0m\u001b[0;34m(\u001b[0m\u001b[0;34mu'matplotlib inline'\u001b[0m\u001b[0;34m)\u001b[0m\u001b[0;34m\u001b[0m\u001b[0m\n",
      "\u001b[0;31mImportError\u001b[0m: No module named lime.lime_tabular"
     ]
    }
   ],
   "source": [
    "import lime.lime_tabular\n",
    "import visualime\n",
    "import numpy as np\n",
    "%matplotlib inline"
   ]
  },
  {
   "cell_type": "code",
   "execution_count": 3,
   "metadata": {
    "collapsed": false
   },
   "outputs": [
    {
     "data": {
      "text/plain": [
       "'3.5.2 (default, Jul 17 2016, 00:00:00) \\n[GCC 4.8.4]'"
      ]
     },
     "execution_count": 3,
     "metadata": {},
     "output_type": "execute_result"
    }
   ],
   "source": [
    "import sys\n",
    "sys.version"
   ]
  },
  {
   "cell_type": "markdown",
   "metadata": {
    "deletable": true,
    "editable": true
   },
   "source": [
    "#### Select model_id"
   ]
  },
  {
   "cell_type": "code",
   "execution_count": 4,
   "metadata": {
    "collapsed": false,
    "deletable": true,
    "editable": true
   },
   "outputs": [],
   "source": [
    "model_id = 32092"
   ]
  },
  {
   "cell_type": "markdown",
   "metadata": {
    "deletable": true,
    "editable": true
   },
   "source": [
    "#### Retrieve model info from results.models"
   ]
  },
  {
   "cell_type": "code",
   "execution_count": 6,
   "metadata": {
    "collapsed": false,
    "deletable": true,
    "editable": true
   },
   "outputs": [
    {
     "data": {
      "text/html": [
       "<div>\n",
       "<table border=\"1\" class=\"dataframe\">\n",
       "  <thead>\n",
       "    <tr style=\"text-align: right;\">\n",
       "      <th></th>\n",
       "      <th>model_id</th>\n",
       "      <th>model_group_id</th>\n",
       "      <th>run_time</th>\n",
       "      <th>batch_run_time</th>\n",
       "      <th>model_type</th>\n",
       "      <th>model_parameters</th>\n",
       "      <th>model_comment</th>\n",
       "      <th>batch_comment</th>\n",
       "      <th>config</th>\n",
       "      <th>test</th>\n",
       "      <th>model_hash</th>\n",
       "      <th>train_matrix_uuid</th>\n",
       "      <th>train_end_time</th>\n",
       "      <th>experiment_hash</th>\n",
       "    </tr>\n",
       "  </thead>\n",
       "  <tbody>\n",
       "    <tr>\n",
       "      <th>0</th>\n",
       "      <td>32092</td>\n",
       "      <td>429</td>\n",
       "      <td>2017-03-18 05:07:01.192379</td>\n",
       "      <td>2017-03-17 22:59:12.480044</td>\n",
       "      <td>sklearn.linear_model.LogisticRegression</td>\n",
       "      <td>{\"C\": 1, \"penalty\": \"l1\", \"random_state\": 2193}</td>\n",
       "      <td>with accident as adverse</td>\n",
       "      <td></td>\n",
       "      <td>{\"unit\": \"officer\", \"model\": [\"RandomForest\", ...</td>\n",
       "      <td>False</td>\n",
       "      <td>8647537d80fcf8d60847e5bf5c9ff219</td>\n",
       "      <td>da0e5c602765c5ff83adc4874e1f9c9c</td>\n",
       "      <td>2013-04-01</td>\n",
       "      <td>None</td>\n",
       "    </tr>\n",
       "  </tbody>\n",
       "</table>\n",
       "</div>"
      ],
      "text/plain": [
       "   model_id  model_group_id                   run_time  \\\n",
       "0     32092             429 2017-03-18 05:07:01.192379   \n",
       "\n",
       "              batch_run_time                               model_type  \\\n",
       "0 2017-03-17 22:59:12.480044  sklearn.linear_model.LogisticRegression   \n",
       "\n",
       "                                  model_parameters             model_comment  \\\n",
       "0  {\"C\": 1, \"penalty\": \"l1\", \"random_state\": 2193}  with accident as adverse   \n",
       "\n",
       "  batch_comment                                             config   test  \\\n",
       "0                {\"unit\": \"officer\", \"model\": [\"RandomForest\", ...  False   \n",
       "\n",
       "                         model_hash                 train_matrix_uuid  \\\n",
       "0  8647537d80fcf8d60847e5bf5c9ff219  da0e5c602765c5ff83adc4874e1f9c9c   \n",
       "\n",
       "  train_end_time experiment_hash  \n",
       "0     2013-04-01            None  "
      ]
     },
     "execution_count": 6,
     "metadata": {},
     "output_type": "execute_result"
    }
   ],
   "source": [
    "selected_model = visualime.dataframe_from_model_id(model_id)\n",
    "selected_model"
   ]
  },
  {
   "cell_type": "markdown",
   "metadata": {
    "deletable": true,
    "editable": true
   },
   "source": [
    "#### Retrieve train matrix and labels"
   ]
  },
  {
   "cell_type": "code",
   "execution_count": 7,
   "metadata": {
    "collapsed": true
   },
   "outputs": [],
   "source": [
    "#MATRIX_DIR = '/mnt/data/public_safety/charlotte_eis/triage/matrix_correct_month_1y/'\n",
    "MATRIX_DIR = '/mnt/data/public_safety/charlotte_eis/triage/'"
   ]
  },
  {
   "cell_type": "code",
   "execution_count": 8,
   "metadata": {
    "collapsed": false,
    "deletable": true,
    "editable": true
   },
   "outputs": [],
   "source": [
    "train_matrix,train_labels = visualime.train_matrix_from_dataframe(selected_model,MATRIX_DIR)"
   ]
  },
  {
   "cell_type": "markdown",
   "metadata": {
    "deletable": true,
    "editable": true
   },
   "source": [
    "#### Clone fitted model"
   ]
  },
  {
   "cell_type": "code",
   "execution_count": null,
   "metadata": {
    "collapsed": false,
    "deletable": true,
    "editable": true
   },
   "outputs": [],
   "source": [
    "fitted_model = visualime.clone_model(selected_model,train_matrix,train_labels)"
   ]
  },
  {
   "cell_type": "markdown",
   "metadata": {
    "deletable": true,
    "editable": true
   },
   "source": [
    "#### Show usable test matrices"
   ]
  },
  {
   "cell_type": "code",
   "execution_count": 10,
   "metadata": {
    "collapsed": false,
    "deletable": true,
    "editable": true
   },
   "outputs": [
    {
     "name": "stdout",
     "output_type": "stream",
     "text": [
      "2014-04-01 e90eedb202234ba3a9ca8b5fcd250179\n",
      "2014-04-02 1204392617c288116ae48aee9499225d\n",
      "2014-04-03 3c67c797553c6c0bf1381c230579ab1b\n",
      "2014-04-04 86398d85d07b8207948e8142cd3fb8f6\n",
      "2014-04-05 e6720ec68cf38b617ebe90fab0810ac1\n",
      "2014-04-06 9714c5c23979f4725b785cecdc288bcb\n",
      "2014-04-07 a626dcde27a96d1c47e0f666bdec2b63\n",
      "2014-04-08 05370f8b4c6f24d7084c052d8b8bc9b4\n",
      "2014-04-09 16c4746230f6ceebba1f64923282760b\n",
      "2014-04-10 78ec47c4e420c31d9f8bd9fe93cc5161\n",
      "2014-04-11 725897ad93c2ce1b7e7628d2964142cf\n",
      "2014-04-12 2b821b4d62b50a9c01341d6b0253402d\n",
      "2014-04-13 eaf986b11eb3a0cdef2f9a6f7410aaaa\n",
      "2014-04-14 ffdece815a0bf2c9e6e45bab788b5768\n",
      "2014-04-15 506133659a12b5ac773185384539b318\n",
      "2014-04-16 9137c3d48da0215503956b2dcad4fa1b\n",
      "2014-04-17 16063fbeabbd881adb76d2a9a9b5e405\n",
      "2014-04-18 be6c24a9b33ce96b23013b42d224ef95\n",
      "2014-04-19 15456ae1867c3902aee3b086dd03c6bd\n",
      "2014-04-20 05383683302ed848e3ad46cabbd39b4b\n",
      "2014-04-21 52eab4bb1fa257dbe826e00213c7f02f\n",
      "2014-04-22 7cbc89edad083f6c581d6b74bb156571\n",
      "2014-04-23 dc9c6ca9496586ee9ed7531ea7870bab\n",
      "2014-04-24 61ee0696532aa942e2bb7b14275a9130\n",
      "2014-04-25 46b31079618a913210dcc8c574380701\n",
      "2014-04-26 3bf3b3a677795408e78c2e074f490df8\n",
      "2014-04-27 5d603a0e492a8ff36e23dd9daaa17389\n",
      "2014-04-28 88b50437ea60b26e5a11567652b64bfe\n",
      "2014-04-29 d8135c92688f4a8c77f000031d833141\n",
      "2014-04-30 6d4b3964a7f8f1d42f016db4bc6095e9\n",
      "2014-05-01 58a52c096fbd2806d2bfad64c7907961\n",
      "2014-05-02 817109f25b0c3bc865a7d7a3ff426cae\n",
      "2014-05-03 df9f8d986f669ec3f176f9af09a5bd40\n",
      "2014-05-04 f413ac4caadc24a31a86b5abf7348f2b\n",
      "2014-05-05 ce942b4ec7ef6844a62df340ec18913f\n",
      "2014-05-06 5414f72b15944cbd1684ff9420ded88c\n",
      "2014-05-07 02336ff0f04557a69a11cb93160c8166\n",
      "2014-05-08 fb8fb6936b8c50efff19c6fb9b1f7e1a\n",
      "2014-05-09 28fc143a4b4739962f7db7c4cafc15f7\n",
      "2014-05-10 4f1d23603fdd4bf3a32aff4c27080834\n",
      "2014-05-11 acbba6e5a6d9e83475427f9162525573\n",
      "2014-05-12 40b25f703d1003e2ee3b39ce28932595\n",
      "2014-05-13 58164e74c30d41d37b65c3c3e3d010a8\n",
      "2014-05-14 abf08ae516cd76d6c76514edfc21c7cb\n",
      "2014-05-15 7c55bcb05aabaf553093450efa5160a7\n",
      "2014-05-16 db3a4459cb45a287478b7eb1a551c3c5\n",
      "2014-05-17 715940e2393ab1c3298494a25eefce8e\n",
      "2014-05-18 791e2f21c496c3b3c64f3966cdf40180\n",
      "2014-05-19 9924c0b47877ec494aa4efdee7f9f363\n",
      "2014-05-20 069c87a7933d9e5e47a72ee01cec69ce\n",
      "2014-05-21 410f2ac258b627df3c46dc6c321ea336\n",
      "2014-05-22 ef97fda44bc0c4b9a119b67a9f98f3af\n",
      "2014-05-23 8d965b3c6142aec024fd544f00c95ee6\n",
      "2014-05-24 375dc3f9843e0231ed38f30e1bcd0c3f\n",
      "2014-05-25 c22351db078e76e935bf1dc323fbf85f\n",
      "2014-05-26 125807e6287fd1c35ed3f2cf5740dacb\n",
      "2014-05-27 4090ecc87fb4862c4657f97252d32343\n",
      "2014-05-28 c9243f4729d87708c130e8818a09ed21\n",
      "2014-05-29 421c30b737818977bca9881d04f54a2a\n",
      "2014-05-30 d8b55f5d8afc5e338c17009dea56c51b\n",
      "2014-05-31 cd51297d70d1c042723e347217e8519b\n",
      "2014-06-01 414e50c007b4fa755c7d7969cc23f46a\n",
      "2014-07-01 450aabbcdbbf7380fc58311ac207209f\n"
     ]
    }
   ],
   "source": [
    "possible_test_matrices = visualime.show_test_matrices(selected_model)"
   ]
  },
  {
   "cell_type": "code",
   "execution_count": 11,
   "metadata": {
    "collapsed": true,
    "deletable": true,
    "editable": true
   },
   "outputs": [],
   "source": [
    "test_matrix_uuid = '725897ad93c2ce1b7e7628d2964142cf' # from above listing"
   ]
  },
  {
   "cell_type": "code",
   "execution_count": 12,
   "metadata": {
    "collapsed": false,
    "deletable": true,
    "editable": true
   },
   "outputs": [],
   "source": [
    "test_matrix_and_labels,test_matrix = visualime.test_matrix_from_uuid(test_matrix_uuid,possible_test_matrices,MATRIX_DIR)"
   ]
  },
  {
   "cell_type": "markdown",
   "metadata": {
    "deletable": true,
    "editable": true
   },
   "source": [
    "#### Visualize test set"
   ]
  },
  {
   "cell_type": "code",
   "execution_count": null,
   "metadata": {
    "collapsed": true,
    "deletable": true,
    "editable": true
   },
   "outputs": [],
   "source": [
    "#n = 512\n",
    "n = len(test_matrix) # number of test set points to visualize\n",
    "toppct = 0.05 # percentage of scores labeled '1'"
   ]
  },
  {
   "cell_type": "code",
   "execution_count": null,
   "metadata": {
    "collapsed": false,
    "deletable": true,
    "editable": true,
    "scrolled": true
   },
   "outputs": [],
   "source": [
    "plot_canvas = visualime.plot(n,toppct,fitted_model,test_matrix_and_labels,test_matrix)\n",
    "plot_canvas"
   ]
  },
  {
   "cell_type": "markdown",
   "metadata": {},
   "source": [
    "#### Checking std "
   ]
  },
  {
   "cell_type": "code",
   "execution_count": null,
   "metadata": {
    "collapsed": false
   },
   "outputs": [],
   "source": [
    "tree_preds_all = []\n",
    "for estimator in fitted_model.estimators_:\n",
    "    tree_preds = [estimator.predict_proba(test_matrix.loc[i].as_matrix().reshape(1,-1))[0][0] for i in test_matrix.index]\n",
    "    print(min(tree_preds),max(tree_preds))\n",
    "    tree_preds_all.append(tree_preds)"
   ]
  },
  {
   "cell_type": "markdown",
   "metadata": {
    "collapsed": true,
    "deletable": true,
    "editable": true
   },
   "source": [
    "#### LIME explainer object"
   ]
  },
  {
   "cell_type": "code",
   "execution_count": null,
   "metadata": {
    "collapsed": false,
    "deletable": true,
    "editable": true
   },
   "outputs": [],
   "source": [
    "explainer = lime.lime_tabular.LimeTabularExplainer(train_matrix.as_matrix(), \n",
    "                                                   feature_names=list(train_matrix), \n",
    "                                                   discretize_continuous=False)"
   ]
  },
  {
   "cell_type": "markdown",
   "metadata": {},
   "source": [
    "#### Nullify Large Tables"
   ]
  },
  {
   "cell_type": "code",
   "execution_count": 14,
   "metadata": {
    "collapsed": true
   },
   "outputs": [],
   "source": [
    "test_matrix_and_labels.to_csv(\"32092_2014-04-11_test-matrix-and-labels.csv\")"
   ]
  },
  {
   "cell_type": "code",
   "execution_count": 9,
   "metadata": {
    "collapsed": true
   },
   "outputs": [],
   "source": [
    "train_matrix = None\n",
    "train_labels = None\n",
    "test_matrix_and_labels = None"
   ]
  },
  {
   "cell_type": "markdown",
   "metadata": {
    "deletable": true,
    "editable": true
   },
   "source": [
    "#### Explain instance"
   ]
  },
  {
   "cell_type": "code",
   "execution_count": null,
   "metadata": {
    "collapsed": true,
    "deletable": true,
    "editable": true
   },
   "outputs": [],
   "source": [
    "num_features = 10 # number of features for LIME to use in its model\n",
    "num_samples = 5000 # size of local area\n",
    "#model_regressor = "
   ]
  },
  {
   "cell_type": "code",
   "execution_count": null,
   "metadata": {
    "collapsed": false,
    "deletable": true,
    "editable": true
   },
   "outputs": [],
   "source": [
    "i = np.random.randint(0,test_matrix.shape[0])"
   ]
  },
  {
   "cell_type": "code",
   "execution_count": null,
   "metadata": {
    "collapsed": false,
    "deletable": true,
    "editable": true
   },
   "outputs": [],
   "source": [
    "explainer_i = explainer.explain_instance(test_matrix.iloc[i].as_matrix(),\n",
    "                                         fitted_model.predict_proba,\n",
    "                                         num_features=num_features,\n",
    "                                         top_labels=1,\n",
    "                                         num_samples=num_samples,\n",
    "                                         #model_regressor=model_regressor\n",
    "                                        )\n",
    "\n",
    "#explainer_i.show_in_notebook(show_table=True, show_all=False)"
   ]
  },
  {
   "cell_type": "code",
   "execution_count": null,
   "metadata": {
    "collapsed": false
   },
   "outputs": [],
   "source": [
    "explainer_i.as_list(0)"
   ]
  },
  {
   "cell_type": "code",
   "execution_count": null,
   "metadata": {
    "collapsed": true
   },
   "outputs": [],
   "source": []
  }
 ],
 "metadata": {
  "kernelspec": {
   "display_name": "Python 2",
   "language": "python",
   "name": "python2"
  },
  "language_info": {
   "codemirror_mode": {
    "name": "ipython",
    "version": 2
   },
   "file_extension": ".py",
   "mimetype": "text/x-python",
   "name": "python",
   "nbconvert_exporter": "python",
   "pygments_lexer": "ipython2",
   "version": "2.7.10"
  }
 },
 "nbformat": 4,
 "nbformat_minor": 1
}
