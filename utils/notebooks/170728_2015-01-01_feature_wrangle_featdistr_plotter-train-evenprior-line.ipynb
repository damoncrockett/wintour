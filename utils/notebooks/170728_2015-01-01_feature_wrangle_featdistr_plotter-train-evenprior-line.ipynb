{
 "cells": [
  {
   "cell_type": "code",
   "execution_count": 1,
   "metadata": {
    "collapsed": true
   },
   "outputs": [],
   "source": [
    "import pandas as pd\n",
    "from PIL import Image,ImageDraw,ImageFont\n",
    "import os\n",
    "import numpy as np\n",
    "import math"
   ]
  },
  {
   "cell_type": "code",
   "execution_count": 2,
   "metadata": {
    "collapsed": true
   },
   "outputs": [],
   "source": [
    "feature_table = pd.read_csv(\"170728_2015-01-01_alphasort.csv\")"
   ]
  },
  {
   "cell_type": "code",
   "execution_count": 3,
   "metadata": {
    "collapsed": false
   },
   "outputs": [],
   "source": [
    "feature_table = feature_table[feature_table.feature_importance>0.00135]\n",
    "feature_table.reset_index(drop=True,inplace=True)\n",
    "top_feats = list(feature_table.feature)"
   ]
  },
  {
   "cell_type": "markdown",
   "metadata": {},
   "source": [
    "#### train matrix"
   ]
  },
  {
   "cell_type": "code",
   "execution_count": 4,
   "metadata": {
    "collapsed": true
   },
   "outputs": [],
   "source": [
    "train_matrix = pd.read_csv(\"170728_2015-01-01_train-matrix-and-labels.csv\")\n",
    "labels = train_matrix.outcome\n",
    "#del train_matrix['outcome']"
   ]
  },
  {
   "cell_type": "code",
   "execution_count": 5,
   "metadata": {
    "collapsed": false
   },
   "outputs": [],
   "source": [
    "train_matrix = train_matrix[train_matrix['ocag_id_all_officerage_max']!=0]"
   ]
  },
  {
   "cell_type": "code",
   "execution_count": 6,
   "metadata": {
    "collapsed": false
   },
   "outputs": [
    {
     "data": {
      "text/plain": [
       "0    7862\n",
       "1     780\n",
       "Name: outcome, dtype: int64"
      ]
     },
     "execution_count": 6,
     "metadata": {},
     "output_type": "execute_result"
    }
   ],
   "source": [
    "train_matrix.outcome.value_counts()"
   ]
  },
  {
   "cell_type": "code",
   "execution_count": 7,
   "metadata": {
    "collapsed": false
   },
   "outputs": [],
   "source": [
    "tmp = train_matrix[['ocag_id_all_officerage_max','outcome']]"
   ]
  },
  {
   "cell_type": "code",
   "execution_count": 8,
   "metadata": {
    "collapsed": false
   },
   "outputs": [],
   "source": [
    "prior = float(780)/7862"
   ]
  },
  {
   "cell_type": "code",
   "execution_count": 9,
   "metadata": {
    "collapsed": false
   },
   "outputs": [
    {
     "data": {
      "text/plain": [
       "46.0"
      ]
     },
     "execution_count": 9,
     "metadata": {},
     "output_type": "execute_result"
    }
   ],
   "source": [
    "max(tmp.ocag_id_all_officerage_max) - min(tmp.ocag_id_all_officerage_max)"
   ]
  },
  {
   "cell_type": "markdown",
   "metadata": {},
   "source": [
    "## Binning"
   ]
  },
  {
   "cell_type": "code",
   "execution_count": 10,
   "metadata": {
    "collapsed": true
   },
   "outputs": [],
   "source": [
    "def binticks_label(matrix,feat):\n",
    "    tmp = matrix.loc[:,feat]\n",
    "    tmpmin = min(tmp)\n",
    "    tmpmax = max(tmp)\n",
    "    tmprange = tmpmax - tmpmin\n",
    "    step = tmprange / 100\n",
    "    return np.arange(tmpmin,tmpmax+step,step)"
   ]
  },
  {
   "cell_type": "code",
   "execution_count": 11,
   "metadata": {
    "collapsed": true
   },
   "outputs": [],
   "source": [
    "def labelticks(matrix,feat):\n",
    "    tmp = matrix.loc[:,feat]\n",
    "    tmpmin = min(tmp)\n",
    "    tmpmax = max(tmp)\n",
    "    tmprange = tmpmax - tmpmin\n",
    "    step = tmprange / 20\n",
    "    return np.arange(tmpmin,tmpmax+step,step)"
   ]
  },
  {
   "cell_type": "code",
   "execution_count": 12,
   "metadata": {
    "collapsed": true
   },
   "outputs": [],
   "source": [
    "def minmax_label(matrix,feat):\n",
    "    tmp = matrix.loc[:,feat]\n",
    "    tmpmin = min(tmp)\n",
    "    tmpmax = max(tmp)\n",
    "    return tmpmin,tmpmax"
   ]
  },
  {
   "cell_type": "markdown",
   "metadata": {},
   "source": [
    "### Axis labels"
   ]
  },
  {
   "cell_type": "code",
   "execution_count": 13,
   "metadata": {
    "collapsed": true
   },
   "outputs": [],
   "source": [
    "def addlabels(canvas,ticks):\n",
    "    width = canvas.width\n",
    "    height = canvas.height\n",
    "    margin = 28\n",
    "    newheight = height + margin\n",
    "    \n",
    "    unicanvas = Image.new('RGB',(width,newheight),(255,255,255))\n",
    "    unicanvas.paste(canvas,(0,0))\n",
    "    \n",
    "    font = ImageFont.truetype('VeraMono.ttf', rectheight - 8 )\n",
    "    \n",
    "    # fontWidth, fontHeight = font.getsize(high) # can use if I have sizing issues\n",
    "\n",
    "    draw = ImageDraw.Draw(unicanvas,'RGB')\n",
    "    \n",
    "    for i in range(len(ticks)):\n",
    "        xpos = i * rectwidth * 5\n",
    "        draw.text((xpos,newheight - 28 ),text=str(ticks[i]),font=font,fill=(0,0,0))\n",
    "    \n",
    "    return unicanvas"
   ]
  },
  {
   "cell_type": "markdown",
   "metadata": {},
   "source": [
    "# Train plot"
   ]
  },
  {
   "cell_type": "code",
   "execution_count": 14,
   "metadata": {
    "collapsed": true
   },
   "outputs": [],
   "source": [
    "def updown(X,cfeat,rectwidth,rectheight,pad):\n",
    "    bins = binticks_label(train_matrix,cfeat)\n",
    "    nbins = len(bins)\n",
    "    pos = pd.cut(X[labels==1].loc[:,cfeat],bins=bins,labels=False,include_lowest=True)\n",
    "    neg = pd.cut(X[labels==0].loc[:,cfeat],bins=bins,labels=False,include_lowest=True)\n",
    "    px_w = ( nbins - 1 ) * rectwidth # a hack; won't work with all subsets\n",
    "        \n",
    "    ###########\n",
    "    ### POS ###\n",
    "    ###########\n",
    "    \n",
    "    posbinmax = pos.value_counts().max()\n",
    "    ppx_h = posbinmax * rectheight\n",
    "    \n",
    "    up = Image.new('RGB',(px_w,ppx_h),(255,255,255))\n",
    "    updraw = ImageDraw.Draw(up)\n",
    "    \n",
    "    for binn in range(nbins):\n",
    "        xpos = binn * rectwidth\n",
    "        ypos = ppx_h - rectheight\n",
    "\n",
    "        tmp = pos[pos==binn]\n",
    "        for i in tmp.index:\n",
    "            bbox = [(xpos+pad,ypos+pad),(xpos+rectwidth-pad,ypos+rectheight-pad)]\n",
    "            updraw.rectangle(bbox,fill='hsl(0,0%,50%)',outline=None)\n",
    "            ypos = ypos - rectheight\n",
    "        \n",
    "    up = addlabels(up,labelticks(train_matrix,cfeat))\n",
    "    \n",
    "    ###########\n",
    "    ### NEG ###\n",
    "    ###########\n",
    "    \n",
    "    negbinmax = neg.value_counts().max()\n",
    "    npx_h = negbinmax * rectheight\n",
    "    \n",
    "    down = Image.new('RGB',(px_w,npx_h),(255,255,255))\n",
    "    downdraw = ImageDraw.Draw(down)\n",
    "    updraw = ImageDraw.Draw(up) # have to reset to draw overheight lines bc 'up' reassigned\n",
    "    \n",
    "    for binn in range(nbins):\n",
    "        xpos = binn * rectwidth\n",
    "        ypos = npx_h - rectheight\n",
    "                \n",
    "        tmp = neg[neg==binn]\n",
    "        for i in tmp.index:\n",
    "            bbox = [(xpos+pad,ypos+pad),(xpos+rectwidth-pad,ypos+rectheight-pad)]\n",
    "            downdraw.rectangle(bbox,fill='hsl(0,0%,50%)',outline=None)\n",
    "            ypos = ypos - rectheight\n",
    "               \n",
    "        negbinheight = len(tmp)\n",
    "        nneg = len(neg)\n",
    "        npos = len(pos)\n",
    "        overheight = int( negbinheight * npos / nneg )               \n",
    "        ypos = ppx_h - overheight*rectheight # ppx_h bc plotting to 'up'\n",
    "\n",
    "        coords = [(xpos,ypos),(xpos+rectwidth,ypos)]\n",
    "        updraw.line(coords,fill=(255,166,77),width=6)\n",
    "        \n",
    "        try:\n",
    "            coords = [(last_xpos+rectwidth,last_ypos),(xpos,ypos)]\n",
    "            updraw.line(coords,fill=(255,166,77),width=6)\n",
    "        except:\n",
    "            pass\n",
    "        \n",
    "        last_ypos = ypos\n",
    "        last_xpos = xpos\n",
    "    \n",
    "    unicanvas = Image.new('RGB',(px_w,up.height+npx_h),(255,255,255))\n",
    "    unicanvas.paste(up,(0,0))\n",
    "\n",
    "    down_flipped = down.transpose(Image.FLIP_TOP_BOTTOM)\n",
    "    unicanvas.paste(down_flipped,(0,up.height))\n",
    "\n",
    "    return unicanvas"
   ]
  },
  {
   "cell_type": "code",
   "execution_count": 15,
   "metadata": {
    "collapsed": true
   },
   "outputs": [],
   "source": [
    "pad = 1"
   ]
  },
  {
   "cell_type": "code",
   "execution_count": 16,
   "metadata": {
    "collapsed": true
   },
   "outputs": [],
   "source": [
    "rectwidth = 28\n",
    "rectheight = 28"
   ]
  },
  {
   "cell_type": "code",
   "execution_count": 17,
   "metadata": {
    "collapsed": false
   },
   "outputs": [
    {
     "name": "stderr",
     "output_type": "stream",
     "text": [
      "/Library/Python/2.7/site-packages/ipykernel/__main__.py:4: UserWarning: Boolean Series key will be reindexed to match DataFrame index.\n",
      "/Library/Python/2.7/site-packages/ipykernel/__main__.py:5: UserWarning: Boolean Series key will be reindexed to match DataFrame index.\n"
     ]
    }
   ],
   "source": [
    "for cfeat in top_feats:\n",
    "    im = updown(train_matrix,cfeat,rectwidth,rectheight,pad)\n",
    "    im.save(\"/Users/damoncrockett/Desktop/tmpwintour/PILplatz/evenprior-line/\"+cfeat+\".png\")"
   ]
  }
 ],
 "metadata": {
  "kernelspec": {
   "display_name": "Python 2",
   "language": "python",
   "name": "python2"
  },
  "language_info": {
   "codemirror_mode": {
    "name": "ipython",
    "version": 2
   },
   "file_extension": ".py",
   "mimetype": "text/x-python",
   "name": "python",
   "nbconvert_exporter": "python",
   "pygments_lexer": "ipython2",
   "version": "2.7.10"
  }
 },
 "nbformat": 4,
 "nbformat_minor": 0
}
