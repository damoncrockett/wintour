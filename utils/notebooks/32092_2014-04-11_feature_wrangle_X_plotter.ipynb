{
 "cells": [
  {
   "cell_type": "code",
   "execution_count": 27,
   "metadata": {
    "collapsed": true
   },
   "outputs": [],
   "source": [
    "import pandas as pd\n",
    "from collections import Counter\n",
    "from PIL import Image,ImageDraw,ImageFont\n",
    "from scipy.stats import spearmanr\n",
    "import os\n",
    "import numpy as np"
   ]
  },
  {
   "cell_type": "code",
   "execution_count": 28,
   "metadata": {
    "collapsed": true
   },
   "outputs": [],
   "source": [
    "highlight = True"
   ]
  },
  {
   "cell_type": "code",
   "execution_count": 29,
   "metadata": {
    "collapsed": true
   },
   "outputs": [],
   "source": [
    "limefeat_alphasort = pd.read_csv(\"limefeat_alphasort.csv\")"
   ]
  },
  {
   "cell_type": "markdown",
   "metadata": {},
   "source": [
    "#### Color settings"
   ]
  },
  {
   "cell_type": "code",
   "execution_count": 35,
   "metadata": {
    "collapsed": true
   },
   "outputs": [],
   "source": [
    "cathue = {\n",
    "    'ts':'0',\n",
    "    'fi':'32',\n",
    "    'ir':'60',\n",
    "    'shifts':'115',\n",
    "    'dispatch':'180',\n",
    "    'arrests':'240',\n",
    "    'ic':'270',\n",
    "    'demarrests':'300',\n",
    "    'ocnd':'200'\n",
    "    }\n",
    "\n",
    "bkgdcolor = 'hsl(0,0%,50%)'\n",
    "linecolordark = 'hsl(0,0%,0%)'\n",
    "linecolormed = 'hsl(0,0%,25%)'\n",
    "linecolorlight = 'hsl(0,0%,33%)'\n",
    "textcolor = 'hsl(0,0%,0%)'"
   ]
  },
  {
   "cell_type": "markdown",
   "metadata": {
    "collapsed": true
   },
   "source": [
    "#### X"
   ]
  },
  {
   "cell_type": "code",
   "execution_count": 42,
   "metadata": {
    "collapsed": true
   },
   "outputs": [],
   "source": [
    "X = pd.read_csv(\"32092_2014-04-11_test-matrix-and-labels.csv\")\n",
    "X_pred = pd.read_csv(\"32092_2014-04-11_predictions.csv\")\n",
    "X_pred.rename(columns={\"entity_id\":\"officer_id\"},inplace=True)"
   ]
  },
  {
   "cell_type": "code",
   "execution_count": 44,
   "metadata": {
    "collapsed": false
   },
   "outputs": [],
   "source": [
    "del X['as_of_date']\n",
    "tmp = X_pred[['officer_id','score']]\n",
    "tmp.set_index('officer_id',inplace=True)\n",
    "X = X.join(tmp,on='officer_id')\n",
    "X.sort_values(by='score',ascending=False,inplace=True)"
   ]
  },
  {
   "cell_type": "code",
   "execution_count": null,
   "metadata": {
    "collapsed": true
   },
   "outputs": [],
   "source": [
    "X.reset_index(drop=True,inplace=True)\n",
    "del X['outcome']\n",
    "del X['officer_id']\n",
    "del X['score']"
   ]
  },
  {
   "cell_type": "markdown",
   "metadata": {},
   "source": [
    "#### Mapping saturation to data values"
   ]
  },
  {
   "cell_type": "code",
   "execution_count": 45,
   "metadata": {
    "collapsed": false
   },
   "outputs": [],
   "source": [
    "from scipy.stats import percentileofscore as pct"
   ]
  },
  {
   "cell_type": "code",
   "execution_count": 46,
   "metadata": {
    "collapsed": true
   },
   "outputs": [],
   "source": [
    "Xpct = X"
   ]
  },
  {
   "cell_type": "code",
   "execution_count": 47,
   "metadata": {
    "collapsed": true
   },
   "outputs": [],
   "source": [
    "def norm(col):\n",
    "    rng = max(col) - min(col)\n",
    "    tmp = [(item - min(col)) / float(rng) for item in col]\n",
    "    return [int(round(item*100)) for item in tmp]"
   ]
  },
  {
   "cell_type": "code",
   "execution_count": 48,
   "metadata": {
    "collapsed": false
   },
   "outputs": [
    {
     "name": "stdout",
     "output_type": "stream",
     "text": [
      "3\n",
      "140\n",
      "156\n",
      "199\n",
      "362\n",
      "394\n",
      "411\n",
      "630\n",
      "659\n",
      "676\n",
      "722\n",
      "754\n",
      "843\n",
      "889\n",
      "1388\n",
      "1394\n",
      "1430\n",
      "1458\n"
     ]
    }
   ],
   "source": [
    "counter=-1\n",
    "for col in X.columns:\n",
    "    counter+=1\n",
    "    if np.random.binomial(1,0.01)==1:\n",
    "        print counter\n",
    "    if all(X[col]<=0):\n",
    "        Xpct[col] = 0\n",
    "    elif 'ocnd' in col:\n",
    "        for i in X.index:\n",
    "            if X[col].loc[i]==1:\n",
    "                Xpct[col].loc[i] = 65\n",
    "            elif X[col].loc[i]==0:\n",
    "                Xpct[col].loc[i] = 25\n",
    "    else:\n",
    "        Xpct[col] = norm(X[col])"
   ]
  },
  {
   "cell_type": "code",
   "execution_count": 49,
   "metadata": {
    "collapsed": true
   },
   "outputs": [],
   "source": [
    "rectwidth = 10\n",
    "rectheight = 10\n",
    "px_w = len(limefeat_alphasort) * rectwidth\n",
    "px_h = len(X) * rectheight"
   ]
  },
  {
   "cell_type": "code",
   "execution_count": 65,
   "metadata": {
    "collapsed": false
   },
   "outputs": [],
   "source": [
    "def offtablefeat(X,feature_table):\n",
    "    canvas = Image.new('RGB',(px_w,px_h),bkgdcolor)\n",
    "    feats = X.columns\n",
    "    for i in X.index:\n",
    "        ycoord = i * rectheight\n",
    "        \n",
    "        for feat in feats:\n",
    "            tmp = feature_table[feature_table.feature==feat]\n",
    "            record_type = tmp.record_type.iloc[0]\n",
    "            idx = tmp.index[0]\n",
    "            \n",
    "            xcoord = idx * rectwidth\n",
    "            bbox = [xcoord, ycoord, xcoord + rectwidth, ycoord + rectheight]\n",
    "            \n",
    "            try:\n",
    "                hue = cathue[record_type]\n",
    "                satlevel = Xpct[feat].loc[i]\n",
    "                sat = str(satlevel)+'%'\n",
    "                \n",
    "                if highlight==True:\n",
    "                    if X_pred.label_value[X_pred.officer_id==i].iloc[0]==1:\n",
    "                        val = '65%'\n",
    "                    else:\n",
    "                        val = '25%'\n",
    "                else:\n",
    "                    val = '50%'\n",
    "                    \n",
    "            except: # white\n",
    "                hue = '0'\n",
    "                sat = '0%'\n",
    "                val = '100%'\n",
    "\n",
    "            fillcolor = 'hsl('+hue+\",\"+sat+\",\"+val+\")\"\n",
    "            draw = ImageDraw.Draw(canvas)\n",
    "            draw.rectangle(bbox,fill=fillcolor,outline=None)\n",
    "    return canvas"
   ]
  },
  {
   "cell_type": "code",
   "execution_count": 66,
   "metadata": {
    "collapsed": true
   },
   "outputs": [],
   "source": [
    "im = offtablefeat(X,limefeat_alphasort)\n",
    "w = im.width\n",
    "h = im.height\n",
    "x = 50\n",
    "canvas = Image.new('RGB',((w+x),(h)),bkgdcolor)\n",
    "canvas.paste(im,(x,0))\n",
    "im = None"
   ]
  },
  {
   "cell_type": "code",
   "execution_count": 67,
   "metadata": {
    "collapsed": true
   },
   "outputs": [],
   "source": [
    "draw = ImageDraw.Draw(canvas)\n",
    "for i in X_pred.index:\n",
    "    officer_id = X_pred.officer_id.loc[i]\n",
    "    text = str(officer_id)\n",
    "    font = ImageFont.truetype('VeraMono.ttf', rectheight)\n",
    "    fontWidth, fontHeight = font.getsize(text)\n",
    "    \n",
    "    xpos = 5\n",
    "    ypos = i * rectheight\n",
    "    draw.text((xpos,ypos),text=text,font=font,fill=textcolor)\n",
    "    \n",
    "    linex = w+x\n",
    "    liney = i * rectheight\n",
    "    draw.line([(0,liney),(linex,liney)],width=1,fill=linecolordark)"
   ]
  },
  {
   "cell_type": "code",
   "execution_count": 68,
   "metadata": {
    "collapsed": true
   },
   "outputs": [],
   "source": [
    "w = canvas.width\n",
    "h = canvas.height\n",
    "y = 400\n",
    "unicanvas = Image.new('RGB',((w),(h+y)),bkgdcolor)\n",
    "unicanvas.paste(canvas,(0,y))\n",
    "canvas = None"
   ]
  },
  {
   "cell_type": "code",
   "execution_count": 69,
   "metadata": {
    "collapsed": true
   },
   "outputs": [],
   "source": [
    "draw = ImageDraw.Draw(unicanvas)\n",
    "for i in limefeat_alphasort.index:\n",
    "    feature = limefeat_alphasort.featstr.loc[i]\n",
    "    text = str(feature)\n",
    "    \n",
    "    font = ImageFont.truetype('VeraMono.ttf', rectwidth)\n",
    "    fontWidth, fontHeight = font.getsize(text)\n",
    "    \n",
    "    imtmp = Image.new('RGBA', (fontWidth, fontHeight))\n",
    "    drawtmp = ImageDraw.Draw(imtmp)\n",
    "    drawtmp.text((0,0),text=text,font=font,fill=textcolor)\n",
    "    imtmp = imtmp.rotate(90,expand=1)\n",
    "    \n",
    "    xpos = i * rectwidth + x - 3\n",
    "    ypos = y - imtmp.height - 2\n",
    "    unicanvas.paste(imtmp,(xpos,ypos),imtmp)\n",
    "    \n",
    "    linex = i * rectwidth + x\n",
    "    liney = y\n",
    "    draw.line([(linex,liney),(linex,unicanvas.height)],width=1,fill=linecolordark)"
   ]
  },
  {
   "cell_type": "code",
   "execution_count": 70,
   "metadata": {
    "collapsed": false
   },
   "outputs": [],
   "source": [
    "unicanvas.save(\"/Users/damoncrockett/Desktop/X_\"+str(highlight)+\".png\")"
   ]
  },
  {
   "cell_type": "code",
   "execution_count": null,
   "metadata": {
    "collapsed": true
   },
   "outputs": [],
   "source": []
  },
  {
   "cell_type": "code",
   "execution_count": null,
   "metadata": {
    "collapsed": true
   },
   "outputs": [],
   "source": []
  }
 ],
 "metadata": {
  "kernelspec": {
   "display_name": "Python 2",
   "language": "python",
   "name": "python2"
  },
  "language_info": {
   "codemirror_mode": {
    "name": "ipython",
    "version": 2
   },
   "file_extension": ".py",
   "mimetype": "text/x-python",
   "name": "python",
   "nbconvert_exporter": "python",
   "pygments_lexer": "ipython2",
   "version": "2.7.10"
  }
 },
 "nbformat": 4,
 "nbformat_minor": 0
}
