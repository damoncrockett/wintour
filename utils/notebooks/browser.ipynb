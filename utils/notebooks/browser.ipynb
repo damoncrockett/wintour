{
 "cells": [
  {
   "cell_type": "code",
   "execution_count": 16,
   "metadata": {
    "collapsed": true
   },
   "outputs": [],
   "source": [
    "import pandas as pd\n",
    "import numpy as np"
   ]
  },
  {
   "cell_type": "code",
   "execution_count": 4,
   "metadata": {
    "collapsed": true
   },
   "outputs": [],
   "source": [
    "df = pd.read_csv(\"limefeat_alphasort.csv\")\n",
    "d = pd.read_csv(\"lime-robustness-all-score-outcome.csv\")"
   ]
  },
  {
   "cell_type": "code",
   "execution_count": 11,
   "metadata": {
    "collapsed": false
   },
   "outputs": [
    {
     "data": {
      "text/html": [
       "<div>\n",
       "<table border=\"1\" class=\"dataframe\">\n",
       "  <thead>\n",
       "    <tr style=\"text-align: right;\">\n",
       "      <th></th>\n",
       "      <th>frequency</th>\n",
       "    </tr>\n",
       "    <tr>\n",
       "      <th>temp_agg</th>\n",
       "      <th></th>\n",
       "    </tr>\n",
       "  </thead>\n",
       "  <tbody>\n",
       "    <tr>\n",
       "      <th>1y</th>\n",
       "      <td>13103</td>\n",
       "    </tr>\n",
       "    <tr>\n",
       "      <th>5y</th>\n",
       "      <td>11004</td>\n",
       "    </tr>\n",
       "    <tr>\n",
       "      <th>1d</th>\n",
       "      <td>9841</td>\n",
       "    </tr>\n",
       "    <tr>\n",
       "      <th>1w</th>\n",
       "      <td>2208</td>\n",
       "    </tr>\n",
       "    <tr>\n",
       "      <th>1m</th>\n",
       "      <td>467</td>\n",
       "    </tr>\n",
       "    <tr>\n",
       "      <th>all</th>\n",
       "      <td>216</td>\n",
       "    </tr>\n",
       "  </tbody>\n",
       "</table>\n",
       "</div>"
      ],
      "text/plain": [
       "          frequency\n",
       "temp_agg           \n",
       "1y            13103\n",
       "5y            11004\n",
       "1d             9841\n",
       "1w             2208\n",
       "1m              467\n",
       "all             216"
      ]
     },
     "execution_count": 11,
     "metadata": {},
     "output_type": "execute_result"
    }
   ],
   "source": [
    "df[['temp_agg','frequency']].groupby('temp_agg').agg(sum).sort_values(by='frequency',ascending=False)"
   ]
  },
  {
   "cell_type": "code",
   "execution_count": 12,
   "metadata": {
    "collapsed": false
   },
   "outputs": [
    {
     "data": {
      "text/html": [
       "<div>\n",
       "<table border=\"1\" class=\"dataframe\">\n",
       "  <thead>\n",
       "    <tr style=\"text-align: right;\">\n",
       "      <th></th>\n",
       "      <th>idx</th>\n",
       "    </tr>\n",
       "    <tr>\n",
       "      <th>temp_agg</th>\n",
       "      <th></th>\n",
       "    </tr>\n",
       "  </thead>\n",
       "  <tbody>\n",
       "    <tr>\n",
       "      <th>all</th>\n",
       "      <td>897</td>\n",
       "    </tr>\n",
       "    <tr>\n",
       "      <th>5y</th>\n",
       "      <td>152019</td>\n",
       "    </tr>\n",
       "    <tr>\n",
       "      <th>1y</th>\n",
       "      <td>168218</td>\n",
       "    </tr>\n",
       "    <tr>\n",
       "      <th>1w</th>\n",
       "      <td>201285</td>\n",
       "    </tr>\n",
       "    <tr>\n",
       "      <th>1d</th>\n",
       "      <td>220632</td>\n",
       "    </tr>\n",
       "    <tr>\n",
       "      <th>1m</th>\n",
       "      <td>299503</td>\n",
       "    </tr>\n",
       "  </tbody>\n",
       "</table>\n",
       "</div>"
      ],
      "text/plain": [
       "             idx\n",
       "temp_agg        \n",
       "all          897\n",
       "5y        152019\n",
       "1y        168218\n",
       "1w        201285\n",
       "1d        220632\n",
       "1m        299503"
      ]
     },
     "execution_count": 12,
     "metadata": {},
     "output_type": "execute_result"
    }
   ],
   "source": [
    "df[['temp_agg','idx']].groupby('temp_agg').agg(sum).sort_values(by='idx')"
   ]
  },
  {
   "cell_type": "code",
   "execution_count": 18,
   "metadata": {
    "collapsed": false
   },
   "outputs": [],
   "source": [
    "from collections import Counter"
   ]
  },
  {
   "cell_type": "code",
   "execution_count": 24,
   "metadata": {
    "collapsed": false
   },
   "outputs": [
    {
     "data": {
      "text/plain": [
       "[('ts_id_1d_trafficstopswitharrest_sum', 1467),\n",
       " ('ts_id_1d_trafficstopswitharrest_avg', 1444),\n",
       " ('ir_id_1d_complaintstypesource_unknown_avg', 926),\n",
       " ('ir_id_1d_complaintstypesource_external_avg', 924),\n",
       " ('ir_id_1d_complaintstypesource_internal_avg', 696),\n",
       " ('ir_id_1d_complaintstypesource_automatic_avg', 696),\n",
       " ('ir_id_1d_complaintstypesource_external_sum', 696),\n",
       " ('ir_id_1d_complaintstypesource_unknown_sum', 693),\n",
       " ('ir_id_1d_complaintstypesource_internal_sum', 467),\n",
       " ('ir_id_1d_complaintstypesource_automatic_sum', 465)]"
      ]
     },
     "execution_count": 24,
     "metadata": {},
     "output_type": "execute_result"
    }
   ],
   "source": [
    "tmp = df[df.temp_agg=='1d']\n",
    "l = []\n",
    "for i in tmp.index:\n",
    "    feature = tmp.feature.loc[i]\n",
    "    frequency = tmp.frequency.loc[i]\n",
    "    l.append(list(np.repeat(feature,frequency)))\n",
    "l = [item for sublist in l for item in sublist]\n",
    "Counter(l).most_common(10)"
   ]
  },
  {
   "cell_type": "code",
   "execution_count": null,
   "metadata": {
    "collapsed": true
   },
   "outputs": [],
   "source": []
  }
 ],
 "metadata": {
  "kernelspec": {
   "display_name": "Python 2",
   "language": "python",
   "name": "python2"
  },
  "language_info": {
   "codemirror_mode": {
    "name": "ipython",
    "version": 2
   },
   "file_extension": ".py",
   "mimetype": "text/x-python",
   "name": "python",
   "nbconvert_exporter": "python",
   "pygments_lexer": "ipython2",
   "version": "2.7.10"
  }
 },
 "nbformat": 4,
 "nbformat_minor": 0
}
