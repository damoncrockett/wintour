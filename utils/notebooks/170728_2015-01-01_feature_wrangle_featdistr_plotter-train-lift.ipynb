{
 "cells": [
  {
   "cell_type": "code",
   "execution_count": 20,
   "metadata": {
    "collapsed": true
   },
   "outputs": [],
   "source": [
    "import pandas as pd\n",
    "from PIL import Image,ImageDraw,ImageFont\n",
    "import os\n",
    "import numpy as np\n",
    "import math"
   ]
  },
  {
   "cell_type": "code",
   "execution_count": 21,
   "metadata": {
    "collapsed": true
   },
   "outputs": [],
   "source": [
    "feature_table = pd.read_csv(\"170728_2015-01-01_alphasort.csv\")"
   ]
  },
  {
   "cell_type": "code",
   "execution_count": 22,
   "metadata": {
    "collapsed": false
   },
   "outputs": [],
   "source": [
    "feature_table = feature_table[feature_table.feature_importance>0.00135]\n",
    "feature_table.reset_index(drop=True,inplace=True)\n",
    "top_feats = list(feature_table.feature)"
   ]
  },
  {
   "cell_type": "code",
   "execution_count": 23,
   "metadata": {
    "collapsed": false
   },
   "outputs": [
    {
     "data": {
      "text/plain": [
       "18"
      ]
     },
     "execution_count": 23,
     "metadata": {},
     "output_type": "execute_result"
    }
   ],
   "source": [
    "len(top_feats)"
   ]
  },
  {
   "cell_type": "code",
   "execution_count": 24,
   "metadata": {
    "collapsed": false
   },
   "outputs": [
    {
     "data": {
      "text/plain": [
       "['demarrests_id_p5y_populationdensity_avg',\n",
       " 'dispatch_id_p1m_dispatchinitiatiationtype_ci_sum',\n",
       " 'dispatch_id_p1y_dispatchinitiatiationtype_ci_sum',\n",
       " 'dispatch_id_p3m_dispatchinitiatiationtype_ci_sum',\n",
       " 'dispatch_id_p6m_dispatchinitiatiationtype_ci_sum',\n",
       " 'dispatch_id_p3m_dispatchtype_assist_sum',\n",
       " 'dispatch_id_p6m_dispatchtype_assist_sum',\n",
       " 'dispatch_id_p3m_dispatchtype_disorder_sum',\n",
       " 'dispatch_id_p6m_dispatchtype_disorder_sum',\n",
       " 'dispatch_id_p3m_dispatchtype_domestic_disturb_sum',\n",
       " 'dispatch_id_p3m_dispatchtype_theft_sum',\n",
       " 'dispatch_id_p1m_dispatchtype_traffic_sum',\n",
       " 'dispatch_id_p3m_dispatchtype_traffic_sum',\n",
       " 'ocag_id_all_officerage_max',\n",
       " 'ts_id_p1m_trafficstops_count',\n",
       " 'ts_id_p3m_trafficstops_count',\n",
       " 'ts_id_p3m_trafficstopsbyrace_black_sum',\n",
       " 'ts_id_p3m_trafficstopsbystopresult_verbal_warning_sum']"
      ]
     },
     "execution_count": 24,
     "metadata": {},
     "output_type": "execute_result"
    }
   ],
   "source": [
    "top_feats"
   ]
  },
  {
   "cell_type": "markdown",
   "metadata": {},
   "source": [
    "#### train matrix"
   ]
  },
  {
   "cell_type": "code",
   "execution_count": 25,
   "metadata": {
    "collapsed": true
   },
   "outputs": [],
   "source": [
    "train_matrix = pd.read_csv(\"170728_2015-01-01_train-matrix-and-labels.csv\")\n",
    "labels = train_matrix.outcome\n",
    "#del train_matrix['outcome']"
   ]
  },
  {
   "cell_type": "code",
   "execution_count": 26,
   "metadata": {
    "collapsed": false
   },
   "outputs": [],
   "source": [
    "train_matrix = train_matrix[train_matrix['ocag_id_all_officerage_max']!=0]"
   ]
  },
  {
   "cell_type": "code",
   "execution_count": 27,
   "metadata": {
    "collapsed": false
   },
   "outputs": [
    {
     "data": {
      "text/plain": [
       "0    7862\n",
       "1     780\n",
       "Name: outcome, dtype: int64"
      ]
     },
     "execution_count": 27,
     "metadata": {},
     "output_type": "execute_result"
    }
   ],
   "source": [
    "train_matrix.outcome.value_counts()"
   ]
  },
  {
   "cell_type": "code",
   "execution_count": 28,
   "metadata": {
    "collapsed": false
   },
   "outputs": [],
   "source": [
    "tmp = train_matrix[['ocag_id_all_officerage_max','outcome']]"
   ]
  },
  {
   "cell_type": "code",
   "execution_count": 29,
   "metadata": {
    "collapsed": false
   },
   "outputs": [],
   "source": [
    "prior = float(780)/7862"
   ]
  },
  {
   "cell_type": "code",
   "execution_count": 30,
   "metadata": {
    "collapsed": false
   },
   "outputs": [
    {
     "data": {
      "text/plain": [
       "46.0"
      ]
     },
     "execution_count": 30,
     "metadata": {},
     "output_type": "execute_result"
    }
   ],
   "source": [
    "max(tmp.ocag_id_all_officerage_max) - min(tmp.ocag_id_all_officerage_max)"
   ]
  },
  {
   "cell_type": "markdown",
   "metadata": {},
   "source": [
    "## Binning"
   ]
  },
  {
   "cell_type": "code",
   "execution_count": 31,
   "metadata": {
    "collapsed": true
   },
   "outputs": [],
   "source": [
    "def binticks_label(matrix,feat):\n",
    "    tmp = matrix.loc[:,feat]\n",
    "    tmpmin = min(tmp)\n",
    "    tmpmax = max(tmp)\n",
    "    tmprange = tmpmax - tmpmin\n",
    "    step = tmprange / 100\n",
    "    return np.arange(tmpmin,tmpmax+step,step)"
   ]
  },
  {
   "cell_type": "code",
   "execution_count": 32,
   "metadata": {
    "collapsed": true
   },
   "outputs": [],
   "source": [
    "def labelticks(matrix,feat):\n",
    "    tmp = matrix.loc[:,feat]\n",
    "    tmpmin = min(tmp)\n",
    "    tmpmax = max(tmp)\n",
    "    tmprange = tmpmax - tmpmin\n",
    "    step = tmprange / 20\n",
    "    return np.arange(tmpmin,tmpmax+step,step)"
   ]
  },
  {
   "cell_type": "code",
   "execution_count": 33,
   "metadata": {
    "collapsed": true
   },
   "outputs": [],
   "source": [
    "def minmax_label(matrix,feat):\n",
    "    tmp = matrix.loc[:,feat]\n",
    "    tmpmin = min(tmp)\n",
    "    tmpmax = max(tmp)\n",
    "    return tmpmin,tmpmax"
   ]
  },
  {
   "cell_type": "markdown",
   "metadata": {},
   "source": [
    "### Axis labels"
   ]
  },
  {
   "cell_type": "code",
   "execution_count": 34,
   "metadata": {
    "collapsed": true
   },
   "outputs": [],
   "source": [
    "def addlabels(canvas,ticks):\n",
    "    width = canvas.width\n",
    "    height = canvas.height\n",
    "    margin = 28\n",
    "    newheight = height + margin\n",
    "    \n",
    "    unicanvas = Image.new('RGB',(width,newheight),(255,255,255))\n",
    "    unicanvas.paste(canvas,(0,0))\n",
    "    \n",
    "    font = ImageFont.truetype('VeraMono.ttf', rectheight - 8 )\n",
    "    \n",
    "    # fontWidth, fontHeight = font.getsize(high) # can use if I have sizing issues\n",
    "\n",
    "    draw = ImageDraw.Draw(unicanvas,'RGB')\n",
    "    \n",
    "    for i in range(len(ticks)):\n",
    "        xpos = i * rectwidth * 5\n",
    "        draw.text((xpos,newheight - 28 ),text=str(ticks[i]),font=font,fill=(0,0,0))\n",
    "    \n",
    "    return unicanvas"
   ]
  },
  {
   "cell_type": "markdown",
   "metadata": {},
   "source": [
    "# Train plot"
   ]
  },
  {
   "cell_type": "code",
   "execution_count": 35,
   "metadata": {
    "collapsed": true
   },
   "outputs": [],
   "source": [
    "def updown(X,cfeat,rectwidth,rectheight,pad):\n",
    "    bins = binticks_label(train_matrix,cfeat)\n",
    "    nbins = len(bins)\n",
    "    pos = pd.cut(X[labels==1].loc[:,cfeat],bins=bins,labels=False,include_lowest=True)\n",
    "    neg = pd.cut(X[labels==0].loc[:,cfeat],bins=bins,labels=False,include_lowest=True)\n",
    "    px_w = ( nbins - 1 ) * rectwidth # a hack; won't work with all subsets\n",
    "        \n",
    "    ###########\n",
    "    ### POS ###\n",
    "    ###########\n",
    "    \n",
    "    posbinmax = pos.value_counts().max()\n",
    "    ppx_h = posbinmax * rectheight\n",
    "    \n",
    "    up = Image.new('RGB',(px_w,ppx_h),(255,255,255))\n",
    "    updraw = ImageDraw.Draw(up)\n",
    "    \n",
    "    for binn in range(nbins):\n",
    "        xpos = binn * rectwidth\n",
    "        ypos = ppx_h - rectheight\n",
    "\n",
    "        tmp = pos[pos==binn]\n",
    "        for i in tmp.index:\n",
    "            bbox = [(xpos+pad,ypos+pad),(xpos+rectwidth-pad,ypos+rectheight-pad)]\n",
    "            updraw.rectangle(bbox,fill='hsl(0,0%,50%)',outline=None)\n",
    "            ypos = ypos - rectheight\n",
    "        \n",
    "        actual_positives = len(tmp)\n",
    "        n = actual_positives + len(neg[neg==binn])\n",
    "        expected_positives = int( n * float(prior) )\n",
    "        lift = actual_positives - expected_positives\n",
    "        \n",
    "        if lift > 0:\n",
    "            ypos = ppx_h - lift*rectheight\n",
    "        else:\n",
    "            ypos = ppx_h\n",
    "            \n",
    "        coords = [(xpos,ypos),(xpos+rectwidth,ypos)]\n",
    "        updraw.line(coords,fill=(255,166,77),width=6)\n",
    "        #updraw.line(coords,fill=(255,128,0),width=6)\n",
    "\n",
    "        try:\n",
    "            coords = [(last_xpos+rectwidth,last_ypos),(xpos,ypos)]\n",
    "            updraw.line(coords,fill=(255,166,77),width=6)\n",
    "            #updraw.line(coords,fill=(255,128,0),width=6)\n",
    "        except:\n",
    "            pass\n",
    "\n",
    "        last_ypos = ypos\n",
    "        last_xpos = xpos\n",
    "        \n",
    "    up = addlabels(up,labelticks(train_matrix,cfeat))\n",
    "    \n",
    "    ###########\n",
    "    ### NEG ###\n",
    "    ###########\n",
    "    \n",
    "    # reset for line thing\n",
    "    last_ypos = None\n",
    "    last_xpos = None\n",
    "    \n",
    "    negbinmax = neg.value_counts().max()\n",
    "    \n",
    "    npx_h = negbinmax * rectheight\n",
    "    \n",
    "    down = Image.new('RGB',(px_w,npx_h),(255,255,255))\n",
    "    downdraw = ImageDraw.Draw(down)\n",
    "    \n",
    "    for binn in range(nbins):\n",
    "        xpos = binn * rectwidth\n",
    "        ypos = npx_h - rectheight\n",
    "                \n",
    "        tmp = neg[neg==binn]\n",
    "        for i in tmp.index:\n",
    "            bbox = [(xpos+pad,ypos+pad),(xpos+rectwidth-pad,ypos+rectheight-pad)]\n",
    "            downdraw.rectangle(bbox,fill='hsl(0,0%,50%)',outline=None)\n",
    "            ypos = ypos - rectheight\n",
    "               \n",
    "        actual_positives = len(pos[pos==binn])\n",
    "        n = actual_positives + len(tmp)\n",
    "        expected_positives = int( n * float(prior) )\n",
    "        lift = actual_positives - expected_positives        \n",
    "                \n",
    "        if lift < 0:\n",
    "            ypos = npx_h - abs(lift)*rectheight\n",
    "        else:\n",
    "            ypos = npx_h\n",
    "            \n",
    "        coords = [(xpos,ypos),(xpos+rectwidth,ypos)]\n",
    "        downdraw.line(coords,fill=(255,166,77),width=6)\n",
    "        #downdraw.line(coords,fill=(255,128,0),width=6)\n",
    "        \n",
    "        try:\n",
    "            coords = [(last_xpos+rectwidth,last_ypos),(xpos,ypos)]\n",
    "            downdraw.line(coords,fill=(255,166,77),width=6)\n",
    "            #downdraw.line(coords,fill=(255,128,0),width=6)\n",
    "        except:\n",
    "            pass\n",
    "        \n",
    "        last_ypos = ypos\n",
    "        last_xpos = xpos\n",
    "    \n",
    "    unicanvas = Image.new('RGB',(px_w,up.height+npx_h),(255,255,255))\n",
    "    unicanvas.paste(up,(0,0))\n",
    "\n",
    "    down_flipped = down.transpose(Image.FLIP_TOP_BOTTOM)\n",
    "    unicanvas.paste(down_flipped,(0,up.height))\n",
    "\n",
    "    return unicanvas"
   ]
  },
  {
   "cell_type": "code",
   "execution_count": 36,
   "metadata": {
    "collapsed": true
   },
   "outputs": [],
   "source": [
    "pad = 1"
   ]
  },
  {
   "cell_type": "code",
   "execution_count": 37,
   "metadata": {
    "collapsed": true
   },
   "outputs": [],
   "source": [
    "rectwidth = 28\n",
    "rectheight = 28"
   ]
  },
  {
   "cell_type": "code",
   "execution_count": 38,
   "metadata": {
    "collapsed": false
   },
   "outputs": [
    {
     "name": "stderr",
     "output_type": "stream",
     "text": [
      "/Library/Python/2.7/site-packages/ipykernel/__main__.py:4: UserWarning: Boolean Series key will be reindexed to match DataFrame index.\n",
      "/Library/Python/2.7/site-packages/ipykernel/__main__.py:5: UserWarning: Boolean Series key will be reindexed to match DataFrame index.\n"
     ]
    }
   ],
   "source": [
    "for cfeat in top_feats:\n",
    "    im = updown(train_matrix,cfeat,rectwidth,rectheight,pad)\n",
    "    im.save(\"/Users/damoncrockett/Desktop/tmpwintour/PILplatz/lift/\"+cfeat+\".png\")"
   ]
  },
  {
   "cell_type": "code",
   "execution_count": null,
   "metadata": {
    "collapsed": true
   },
   "outputs": [],
   "source": []
  }
 ],
 "metadata": {
  "kernelspec": {
   "display_name": "Python 2",
   "language": "python",
   "name": "python2"
  },
  "language_info": {
   "codemirror_mode": {
    "name": "ipython",
    "version": 2
   },
   "file_extension": ".py",
   "mimetype": "text/x-python",
   "name": "python",
   "nbconvert_exporter": "python",
   "pygments_lexer": "ipython2",
   "version": "2.7.10"
  }
 },
 "nbformat": 4,
 "nbformat_minor": 0
}
