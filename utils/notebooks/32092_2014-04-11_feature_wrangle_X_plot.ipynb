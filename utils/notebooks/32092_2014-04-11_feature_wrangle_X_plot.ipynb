{
 "cells": [
  {
   "cell_type": "code",
   "execution_count": 1,
   "metadata": {
    "collapsed": true
   },
   "outputs": [],
   "source": [
    "import pandas as pd\n",
    "from collections import Counter\n",
    "from PIL import Image,ImageDraw,ImageFont\n",
    "from scipy.stats import spearmanr\n",
    "import os\n",
    "import numpy as np"
   ]
  },
  {
   "cell_type": "code",
   "execution_count": 2,
   "metadata": {
    "collapsed": true
   },
   "outputs": [],
   "source": [
    "limefeat_alphasort = pd.read_csv(\"limefeat_alphasort.csv\")\n",
    "officer_table = pd.read_csv(\"officer_table.csv\")\n",
    "df = pd.read_csv(\"lime-robustness-all-score-outcome.csv\")"
   ]
  },
  {
   "cell_type": "code",
   "execution_count": 3,
   "metadata": {
    "collapsed": true
   },
   "outputs": [],
   "source": [
    "def relister(liststring):\n",
    "    tmp = liststring.lstrip(\"[\").rstrip(\"]\")\n",
    "    tmp = tmp.split(\",\")\n",
    "    tmp = [item.translate(None,\" '\") for item in tmp]\n",
    "    return tmp"
   ]
  },
  {
   "cell_type": "code",
   "execution_count": 4,
   "metadata": {
    "collapsed": true
   },
   "outputs": [],
   "source": [
    "def setstring2list(setstring):\n",
    "    tmp = setstring.lstrip(\"{\").rstrip(\"}\")\n",
    "    tmp = tmp.split(\",\")\n",
    "    tmp = [item.translate(None,\" '\") for item in tmp]\n",
    "    return tmp"
   ]
  },
  {
   "cell_type": "code",
   "execution_count": 5,
   "metadata": {
    "collapsed": true
   },
   "outputs": [],
   "source": [
    "officer_table['feats'] = officer_table.feats.apply(relister)\n",
    "df['unq'] = df.unq.apply(setstring2list)"
   ]
  },
  {
   "cell_type": "code",
   "execution_count": 6,
   "metadata": {
    "collapsed": true
   },
   "outputs": [],
   "source": [
    "officer_table.sort_values(by=\"unit_score\",ascending=False,inplace=True)\n",
    "officer_table.reset_index(drop=True,inplace=True)"
   ]
  },
  {
   "cell_type": "markdown",
   "metadata": {},
   "source": [
    "#### Feature categories"
   ]
  },
  {
   "cell_type": "code",
   "execution_count": 7,
   "metadata": {
    "collapsed": true
   },
   "outputs": [],
   "source": [
    "cathue = {\n",
    "    'ts':'0',\n",
    "    'fi':'32',\n",
    "    'ir':'60',\n",
    "    'shifts':'115',\n",
    "    'dispatch':'180',\n",
    "    'arrests':'240',\n",
    "    'ic':'270',\n",
    "    'demarrests':'300',\n",
    "    'ocnd':'200'\n",
    "    }\n",
    "\n",
    "catsat = {\n",
    "    'ts':'100%',\n",
    "    'fi':'100%',\n",
    "    'ir':'100%',\n",
    "    'shifts':'100%',\n",
    "    'dispatch':'100%',\n",
    "    'arrests':'100%',\n",
    "    'ic':'100%',\n",
    "    'demarrests':'100%',\n",
    "    'ocnd':'100%'\n",
    "    }\n",
    "\n",
    "catval = {\n",
    "    '1d':'5%',\n",
    "    '1w':'25%',\n",
    "    '1m':'50%',\n",
    "    '1y':'75%',\n",
    "    '5y':'100%',\n",
    "    'all':'100%',\n",
    "    }"
   ]
  },
  {
   "cell_type": "markdown",
   "metadata": {
    "collapsed": true
   },
   "source": [
    "#### X"
   ]
  },
  {
   "cell_type": "code",
   "execution_count": 8,
   "metadata": {
    "collapsed": true
   },
   "outputs": [],
   "source": [
    "X = pd.read_csv(\"32092_2014-04-11_test-matrix-and-labels.csv\")\n",
    "del X['outcome']\n",
    "del X['as_of_date']\n",
    "tmp = officer_table[['officer_id','unit_score']]\n",
    "tmp.set_index('officer_id',inplace=True)\n",
    "X = X.join(tmp,on='officer_id')\n",
    "X.sort_values(by='unit_score',ascending=False,inplace=True)\n",
    "X.reset_index(drop=True,inplace=True)\n",
    "del X['officer_id']\n",
    "del X['unit_score']"
   ]
  },
  {
   "cell_type": "code",
   "execution_count": 9,
   "metadata": {
    "collapsed": false
   },
   "outputs": [],
   "source": [
    "# we want to flag the rows that only have ts, ir, and ocnd\n",
    "\n",
    "feature_type_sets = []\n",
    "for i in officer_table.index:\n",
    "    type_list = []\n",
    "    features = officer_table.feats.loc[i]\n",
    "    for feature in features:\n",
    "        tmp = limefeat_alphasort[limefeat_alphasort.feature==feature]\n",
    "        record_type = tmp.record_type.iloc[0]\n",
    "        type_list.append(record_type)\n",
    "    feature_type_sets.append(set(type_list))\n",
    "officer_table['feature_type_sets'] = feature_type_sets\n",
    "officer_table['type_flag'] = [len(item) for item in officer_table.feature_type_sets]"
   ]
  },
  {
   "cell_type": "code",
   "execution_count": 10,
   "metadata": {
    "collapsed": true
   },
   "outputs": [],
   "source": [
    "rectwidth = 16\n",
    "rectheight = 16\n",
    "px_w = len(limefeat_alphasort) * rectwidth\n",
    "px_h = len(X) * rectheight"
   ]
  },
  {
   "cell_type": "code",
   "execution_count": 11,
   "metadata": {
    "collapsed": false
   },
   "outputs": [],
   "source": [
    "def offtablefeat(X,feature_table):\n",
    "    canvas = Image.new('RGB',(px_w,px_h),'hsl(0,0%,100%)')\n",
    "    feats = X.columns\n",
    "    for i in X.index:\n",
    "        ycoord = i * rectheight\n",
    "        \n",
    "        for feat in feats:\n",
    "            tmp = feature_table[feature_table.feature==feat]\n",
    "            record_type = tmp.record_type.iloc[0]\n",
    "            idx = tmp.index[0]\n",
    "            \n",
    "            xcoord = idx * rectwidth\n",
    "            bbox = [xcoord, ycoord, xcoord + rectwidth, ycoord + rectheight]\n",
    "            \n",
    "            try:\n",
    "                hue = cathue[record_type]\n",
    "                \n",
    "                if officer_table.type_flag.loc[i]==3:  # they have same index\n",
    "                    val = '65%'\n",
    "                else:\n",
    "                    val = '25%'\n",
    "                \n",
    "                if X[feat].loc[i]==0:\n",
    "                    sat = '0%'\n",
    "                else:\n",
    "                    sat = sat = catsat[record_type]\n",
    "            \n",
    "            except: # white\n",
    "                hue = '0'\n",
    "                sat = '0%'\n",
    "                val = '100%'\n",
    "\n",
    "            fillcolor = 'hsl('+hue+\",\"+sat+\",\"+val+\")\"\n",
    "            draw = ImageDraw.Draw(canvas)\n",
    "            draw.rectangle(bbox,fill=fillcolor,outline=None)\n",
    "    return canvas"
   ]
  },
  {
   "cell_type": "code",
   "execution_count": 12,
   "metadata": {
    "collapsed": false
   },
   "outputs": [],
   "source": [
    "offtablefeat(X,limefeat_alphasort).save(\"X.png\")"
   ]
  }
 ],
 "metadata": {
  "kernelspec": {
   "display_name": "Python 2",
   "language": "python",
   "name": "python2"
  },
  "language_info": {
   "codemirror_mode": {
    "name": "ipython",
    "version": 2
   },
   "file_extension": ".py",
   "mimetype": "text/x-python",
   "name": "python",
   "nbconvert_exporter": "python",
   "pygments_lexer": "ipython2",
   "version": "2.7.10"
  }
 },
 "nbformat": 4,
 "nbformat_minor": 0
}
