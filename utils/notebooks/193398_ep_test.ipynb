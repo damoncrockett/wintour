{
 "cells": [
  {
   "cell_type": "code",
   "execution_count": 93,
   "metadata": {
    "collapsed": true
   },
   "outputs": [],
   "source": [
    "import pandas as pd\n",
    "from PIL import Image,ImageDraw,ImageFont\n",
    "import os\n",
    "import numpy as np\n",
    "import math"
   ]
  },
  {
   "cell_type": "code",
   "execution_count": 94,
   "metadata": {
    "collapsed": true
   },
   "outputs": [],
   "source": [
    "ii = pd.read_csv(\"193398_individual_importances.csv\")"
   ]
  },
  {
   "cell_type": "code",
   "execution_count": 95,
   "metadata": {
    "collapsed": false
   },
   "outputs": [
    {
     "data": {
      "text/plain": [
       "ts_id_p1y_trafficstopsbysearchreason_consent_sum     299\n",
       "dispatch_id_p1w_dispatchtype_domestic_disturb_sum    172\n",
       "dispatch_id_p1w_dispatchtype_domestic_disturb_avg    145\n",
       "dispatch_id_p5y_dispatchtype_assault_avg             124\n",
       "irag_id_all_dayssincelastallegation_min              106\n",
       "Name: risk_1, dtype: int64"
      ]
     },
     "execution_count": 95,
     "metadata": {},
     "output_type": "execute_result"
    }
   ],
   "source": [
    "ii.risk_1.value_counts().head()"
   ]
  },
  {
   "cell_type": "code",
   "execution_count": 96,
   "metadata": {
    "collapsed": false
   },
   "outputs": [
    {
     "data": {
      "text/plain": [
       "dispatch_id_p1w_dispatchtype_domestic_disturb_avg    159\n",
       "dispatch_id_p1w_dispatchtype_domestic_disturb_sum    137\n",
       "dispatch_id_p5y_dispatchtype_assault_avg             116\n",
       "irag_id_all_dayssincelastallegation_min               90\n",
       "dispatch_id_p1y_dispatchtype_traffic_sum              76\n",
       "Name: risk_2, dtype: int64"
      ]
     },
     "execution_count": 96,
     "metadata": {},
     "output_type": "execute_result"
    }
   ],
   "source": [
    "ii.risk_2.value_counts().head()"
   ]
  },
  {
   "cell_type": "code",
   "execution_count": 97,
   "metadata": {
    "collapsed": false
   },
   "outputs": [
    {
     "data": {
      "text/plain": [
       "dispatch_id_p1w_dispatchtype_domestic_disturb_avg    74\n",
       "dispatch_id_p1y_dispatchtype_traffic_sum             73\n",
       "dispatch_id_p1y_dispatchtype_assist_sum              73\n",
       "shifts_id_p5y_hourspershift_sum                      70\n",
       "dispatch_id_p5y_dispatchtype_assault_avg             70\n",
       "Name: risk_3, dtype: int64"
      ]
     },
     "execution_count": 97,
     "metadata": {},
     "output_type": "execute_result"
    }
   ],
   "source": [
    "ii.risk_3.value_counts().head()"
   ]
  },
  {
   "cell_type": "code",
   "execution_count": 98,
   "metadata": {
    "collapsed": false
   },
   "outputs": [
    {
     "data": {
      "text/plain": [
       "dispatch_id_p1y_dispatchtype_traffic_sum     85\n",
       "dispatch_id_p1y_dispatchtype_disorder_sum    76\n",
       "dispatch_id_p1y_dispatchtype_drug_sum        74\n",
       "dispatch_id_p1y_dispatchtype_shooting_sum    69\n",
       "shifts_id_p5y_hourspershift_sum              66\n",
       "Name: risk_4, dtype: int64"
      ]
     },
     "execution_count": 98,
     "metadata": {},
     "output_type": "execute_result"
    }
   ],
   "source": [
    "ii.risk_4.value_counts().head()"
   ]
  },
  {
   "cell_type": "code",
   "execution_count": 99,
   "metadata": {
    "collapsed": false
   },
   "outputs": [
    {
     "data": {
      "text/plain": [
       "dispatch_id_p1y_dispatchtype_assist_sum             74\n",
       "dispatch_id_p1y_dispatchtype_suspicious_sum         73\n",
       "dispatch_id_p1y_dispatchtype_disorder_sum           70\n",
       "dispatch_id_p1y_dispatchtype_intoxicated_avg        69\n",
       "dispatch_id_p1w_dispatchinitiatiationtype_ci_sum    68\n",
       "Name: risk_5, dtype: int64"
      ]
     },
     "execution_count": 99,
     "metadata": {},
     "output_type": "execute_result"
    }
   ],
   "source": [
    "ii.risk_5.value_counts().head()"
   ]
  },
  {
   "cell_type": "code",
   "execution_count": 100,
   "metadata": {
    "collapsed": true
   },
   "outputs": [],
   "source": [
    "ii.set_index(\"entity_id\",inplace=True)"
   ]
  },
  {
   "cell_type": "code",
   "execution_count": 101,
   "metadata": {
    "collapsed": false
   },
   "outputs": [],
   "source": [
    "feature_table = pd.read_csv(\"193398_feattable.csv\")\n",
    "feature_table = feature_table[feature_table.feature_importance>0.00353]\n",
    "feature_table.reset_index(drop=True,inplace=True)\n",
    "top_feats = list(feature_table.feature)"
   ]
  },
  {
   "cell_type": "code",
   "execution_count": 102,
   "metadata": {
    "collapsed": false
   },
   "outputs": [
    {
     "data": {
      "text/plain": [
       "10"
      ]
     },
     "execution_count": 102,
     "metadata": {},
     "output_type": "execute_result"
    }
   ],
   "source": [
    "len(top_feats)"
   ]
  },
  {
   "cell_type": "code",
   "execution_count": 103,
   "metadata": {
    "collapsed": false
   },
   "outputs": [
    {
     "data": {
      "text/plain": [
       "['ocag_id_all_officerage_max',\n",
       " 'dispatch_id_p1y_dispatchinitiatiationtype_ci_sum',\n",
       " 'dispatch_id_p1m_dispatchinitiatiationtype_ci_sum',\n",
       " 'dispatch_id_p1m_dispatchtype_theft_sum',\n",
       " 'dispatch_id_p1m_dispatchtype_domestic_disturb_sum',\n",
       " 'dispatch_id_p1m_dispatchtype_disorder_sum',\n",
       " 'dispatch_id_p1y_dispatchtype_assist_sum',\n",
       " 'dispatch_id_p1y_dispatchtype_domestic_disturb_sum',\n",
       " 'dispatch_id_p1y_dispatchtype_shooting_sum',\n",
       " 'dispatch_id_p1y_dispatchtype_assault_sum']"
      ]
     },
     "execution_count": 103,
     "metadata": {},
     "output_type": "execute_result"
    }
   ],
   "source": [
    "top_feats"
   ]
  },
  {
   "cell_type": "code",
   "execution_count": 104,
   "metadata": {
    "collapsed": true
   },
   "outputs": [],
   "source": [
    "singleton = 5570"
   ]
  },
  {
   "cell_type": "code",
   "execution_count": 105,
   "metadata": {
    "collapsed": true
   },
   "outputs": [],
   "source": [
    "singlevars = [\n",
    "    ii.risk_1.loc[singleton],\n",
    "    ii.risk_2.loc[singleton],\n",
    "    ii.risk_3.loc[singleton],\n",
    "    ii.risk_4.loc[singleton],\n",
    "    ii.risk_5.loc[singleton]\n",
    "    ]"
   ]
  },
  {
   "cell_type": "code",
   "execution_count": 106,
   "metadata": {
    "collapsed": false
   },
   "outputs": [
    {
     "data": {
      "text/plain": [
       "['shifts_id_p5y_hourspershift_sum',\n",
       " 'dispatch_id_p5y_dispatchtype_assault_avg',\n",
       " 'dispatch_id_p1y_dispatchinitiatiationtype_ci_sum',\n",
       " 'dispatch_id_p1y_dispatchtype_traffic_sum',\n",
       " 'dispatch_id_p1y_dispatchtype_assist_sum']"
      ]
     },
     "execution_count": 106,
     "metadata": {},
     "output_type": "execute_result"
    }
   ],
   "source": [
    "singlevars"
   ]
  },
  {
   "cell_type": "code",
   "execution_count": 107,
   "metadata": {
    "collapsed": false
   },
   "outputs": [],
   "source": [
    "#hotvar = top_feats[9]\n",
    "#cfeat = top_feats[9]\n",
    "hotvar = singlevars[0]\n",
    "cfeat = singlevars[0]"
   ]
  },
  {
   "cell_type": "markdown",
   "metadata": {},
   "source": [
    "#### test matrix"
   ]
  },
  {
   "cell_type": "code",
   "execution_count": 108,
   "metadata": {
    "collapsed": false
   },
   "outputs": [],
   "source": [
    "test_matrix = pd.read_csv(\"193398_test_2014-04-01.csv\")\n",
    "test_matrix.set_index(\"officer_id\",inplace=True)"
   ]
  },
  {
   "cell_type": "code",
   "execution_count": 109,
   "metadata": {
    "collapsed": true
   },
   "outputs": [],
   "source": [
    "test_matrix.sort_values(by='score',ascending=False,inplace=True)\n",
    "labels = test_matrix.outcome\n",
    "scores = test_matrix.score"
   ]
  },
  {
   "cell_type": "code",
   "execution_count": 110,
   "metadata": {
    "collapsed": false
   },
   "outputs": [
    {
     "data": {
      "text/plain": [
       "1466"
      ]
     },
     "execution_count": 110,
     "metadata": {},
     "output_type": "execute_result"
    }
   ],
   "source": [
    "len(test_matrix)"
   ]
  },
  {
   "cell_type": "code",
   "execution_count": 111,
   "metadata": {
    "collapsed": false
   },
   "outputs": [],
   "source": [
    "test_matrix = test_matrix[test_matrix['ocag_id_all_officerage_max']!=0]"
   ]
  },
  {
   "cell_type": "code",
   "execution_count": 112,
   "metadata": {
    "collapsed": false
   },
   "outputs": [
    {
     "data": {
      "text/plain": [
       "1465"
      ]
     },
     "execution_count": 112,
     "metadata": {},
     "output_type": "execute_result"
    }
   ],
   "source": [
    "len(test_matrix)"
   ]
  },
  {
   "cell_type": "code",
   "execution_count": 113,
   "metadata": {
    "collapsed": false
   },
   "outputs": [],
   "source": [
    "test_matrix['hotvar_imp'] = False"
   ]
  },
  {
   "cell_type": "code",
   "execution_count": 114,
   "metadata": {
    "collapsed": false
   },
   "outputs": [],
   "source": [
    "ii_idxs = [item for item in ii.index if item in test_matrix.index]"
   ]
  },
  {
   "cell_type": "code",
   "execution_count": 115,
   "metadata": {
    "collapsed": false
   },
   "outputs": [],
   "source": [
    "for i in ii_idxs:    \n",
    "    featlist = [\n",
    "        ii.risk_1.loc[i],\n",
    "        ii.risk_2.loc[i],\n",
    "        ii.risk_3.loc[i],\n",
    "        ii.risk_4.loc[i],\n",
    "        ii.risk_5.loc[i]\n",
    "    ]\n",
    "    \n",
    "    if hotvar in featlist:\n",
    "        test_matrix.hotvar_imp.loc[i] = True"
   ]
  },
  {
   "cell_type": "code",
   "execution_count": 116,
   "metadata": {
    "collapsed": false
   },
   "outputs": [
    {
     "name": "stdout",
     "output_type": "stream",
     "text": [
      "0.0624336247543 0.145132730406\n"
     ]
    }
   ],
   "source": [
    "print min(scores),max(scores)"
   ]
  },
  {
   "cell_type": "code",
   "execution_count": 117,
   "metadata": {
    "collapsed": false
   },
   "outputs": [
    {
     "data": {
      "text/plain": [
       "0    1309\n",
       "1     156\n",
       "Name: outcome, dtype: int64"
      ]
     },
     "execution_count": 117,
     "metadata": {},
     "output_type": "execute_result"
    }
   ],
   "source": [
    "test_matrix.outcome.value_counts()"
   ]
  },
  {
   "cell_type": "code",
   "execution_count": 118,
   "metadata": {
    "collapsed": false
   },
   "outputs": [],
   "source": [
    "tmp = test_matrix[['ocag_id_all_officerage_max','outcome']]"
   ]
  },
  {
   "cell_type": "code",
   "execution_count": 119,
   "metadata": {
    "collapsed": false
   },
   "outputs": [],
   "source": [
    "prior = float(156)/1309"
   ]
  },
  {
   "cell_type": "code",
   "execution_count": 120,
   "metadata": {
    "collapsed": false
   },
   "outputs": [
    {
     "data": {
      "text/plain": [
       "45.0"
      ]
     },
     "execution_count": 120,
     "metadata": {},
     "output_type": "execute_result"
    }
   ],
   "source": [
    "max(tmp.ocag_id_all_officerage_max) - min(tmp.ocag_id_all_officerage_max)"
   ]
  },
  {
   "cell_type": "code",
   "execution_count": 121,
   "metadata": {
    "collapsed": false
   },
   "outputs": [
    {
     "data": {
      "text/plain": [
       "False    1130\n",
       "True      335\n",
       "Name: hotvar_imp, dtype: int64"
      ]
     },
     "execution_count": 121,
     "metadata": {},
     "output_type": "execute_result"
    }
   ],
   "source": [
    "test_matrix.hotvar_imp.value_counts()"
   ]
  },
  {
   "cell_type": "code",
   "execution_count": 122,
   "metadata": {
    "collapsed": false
   },
   "outputs": [],
   "source": [
    "hotidxs = test_matrix.index[test_matrix.hotvar_imp==True]"
   ]
  },
  {
   "cell_type": "markdown",
   "metadata": {},
   "source": [
    "## Binning"
   ]
  },
  {
   "cell_type": "code",
   "execution_count": 123,
   "metadata": {
    "collapsed": true
   },
   "outputs": [],
   "source": [
    "def binticks_label(matrix,feat):\n",
    "    tmp = matrix.loc[:,feat]\n",
    "    tmpmin = min(tmp)\n",
    "    tmpmax = max(tmp)\n",
    "    tmprange = tmpmax - tmpmin\n",
    "    step = tmprange / 100\n",
    "    return np.arange(tmpmin,tmpmax+step,step)"
   ]
  },
  {
   "cell_type": "code",
   "execution_count": 124,
   "metadata": {
    "collapsed": true
   },
   "outputs": [],
   "source": [
    "def labelticks(matrix,feat):\n",
    "    tmp = matrix.loc[:,feat]\n",
    "    tmpmin = min(tmp)\n",
    "    tmpmax = max(tmp)\n",
    "    tmprange = tmpmax - tmpmin\n",
    "    step = tmprange / 20\n",
    "    return np.arange(tmpmin,tmpmax+step,step)"
   ]
  },
  {
   "cell_type": "code",
   "execution_count": 125,
   "metadata": {
    "collapsed": true
   },
   "outputs": [],
   "source": [
    "def minmax_label(matrix,feat):\n",
    "    tmp = matrix.loc[:,feat]\n",
    "    tmpmin = min(tmp)\n",
    "    tmpmax = max(tmp)\n",
    "    return tmpmin,tmpmax"
   ]
  },
  {
   "cell_type": "markdown",
   "metadata": {},
   "source": [
    "### Axis labels"
   ]
  },
  {
   "cell_type": "code",
   "execution_count": 126,
   "metadata": {
    "collapsed": true
   },
   "outputs": [],
   "source": [
    "def addlabels(canvas,ticks):\n",
    "    width = canvas.width\n",
    "    height = canvas.height\n",
    "    margin = rectheight\n",
    "    newheight = height + margin\n",
    "    \n",
    "    unicanvas = Image.new('RGBA',(width,newheight),(255,255,255,0))\n",
    "    unicanvas.paste(canvas,(0,0))\n",
    "    \n",
    "    font = ImageFont.truetype('VeraMono.ttf', rectheight - 16 )\n",
    "    \n",
    "    # fontWidth, fontHeight = font.getsize(high) # can use if I have sizing issues\n",
    "\n",
    "    draw = ImageDraw.Draw(unicanvas,'RGBA')\n",
    "    \n",
    "    for i in range(len(ticks)):\n",
    "        xpos = i * rectwidth * 5\n",
    "        draw.text((xpos,newheight - margin ),text=str(int(ticks[i])),font=font,fill=(0,0,0))\n",
    "    \n",
    "    return unicanvas"
   ]
  },
  {
   "cell_type": "code",
   "execution_count": 169,
   "metadata": {
    "collapsed": true
   },
   "outputs": [],
   "source": [
    "def scorenorm(item):\n",
    "    scoremin = min(scores)\n",
    "    scorerng = max(scores) - scoremin\n",
    "    return int( ( ( 1 - ( ( item - scoremin ) / scorerng ) ) ) * 50 ) + 50"
   ]
  },
  {
   "cell_type": "markdown",
   "metadata": {},
   "source": [
    "# test plot"
   ]
  },
  {
   "cell_type": "code",
   "execution_count": 170,
   "metadata": {
    "collapsed": false
   },
   "outputs": [],
   "source": [
    "def updown(X,cfeat,rectwidth,rectheight,pad):\n",
    "    bins = binticks_label(test_matrix,cfeat)\n",
    "    nbins = len(bins)\n",
    "    pos = pd.cut(X[labels==1].loc[:,cfeat],bins=bins,labels=False,include_lowest=True)\n",
    "    neg = pd.cut(X[labels==0].loc[:,cfeat],bins=bins,labels=False,include_lowest=True)\n",
    "    px_w = ( nbins - 1 ) * rectwidth # a hack; won't work with all subsets\n",
    "        \n",
    "    ###########\n",
    "    ### POS ###\n",
    "    ###########\n",
    "    \n",
    "    posbinmax = pos.value_counts().max()\n",
    "    overmax = int( math.ceil( neg.value_counts().max() * prior ) )\n",
    "    \n",
    "    if posbinmax >= overmax:\n",
    "        ppx_h = posbinmax * rectheight\n",
    "    else:\n",
    "        ppx_h = overmax * rectheight\n",
    "    \n",
    "    up = Image.new('RGBA',(px_w,ppx_h),(255,255,255,0))\n",
    "    updraw = ImageDraw.Draw(up)\n",
    "        \n",
    "    for binn in range(nbins):\n",
    "        xpos = binn * rectwidth\n",
    "        ypos = ppx_h - rectheight\n",
    "\n",
    "        tmp = pos[pos==binn]\n",
    "        \n",
    "        for i in tmp.index:\n",
    "            bbox = [(xpos+pad,ypos+pad),(xpos+rectwidth-pad,ypos+rectheight-pad)]\n",
    "            if i in hotidxs:\n",
    "                if i==singleton:\n",
    "                    #updraw.rectangle(bbox,fill='hsl(0,50%,'+str(scorenorm(scores[i]))+'%)',outline='hsl(0,50%,'+str(scorenorm(scores[i]))+'%)')\n",
    "                    updraw.rectangle(bbox,fill='hsl(0,0%,'+str(scorenorm(scores[i]))+'%)',outline='hsl(0,0%,0%)')\n",
    "                    #updraw.rectangle(bbox,fill='hsl(0,50%,50%)',outline='hsl(0,50%,50%)') # red\n",
    "                else:\n",
    "                    #updraw.rectangle(bbox,fill='hsl(120,50%,'+str(scorenorm(scores[i]))+'%)',outline='hsl(120,50%,'+str(scorenorm(scores[i]))+'%)')\n",
    "                    updraw.rectangle(bbox,fill='hsl(0,0%,'+str(scorenorm(scores[i]))+'%)',outline='hsl(0,0%,0%)')\n",
    "                    #updraw.rectangle(bbox,fill='hsl(120,50%,50%)',outline='hsl(120,50%,50%)') # green\n",
    "            else:\n",
    "                if i==singleton:\n",
    "                    #updraw.rectangle(bbox,fill='hsl(0,50%,'+str(scorenorm(scores[i]))+'%)',outline='hsl(0,50%,'+str(scorenorm(scores[i]))+'%)')\n",
    "                    updraw.rectangle(bbox,fill='hsl(0,0%,'+str(scorenorm(scores[i]))+'%)',outline='hsl(0,0%,0%)')\n",
    "                    #updraw.rectangle(bbox,fill='hsl(0,50%,50%)',outline='hsl(0,50%,50%)') # red\n",
    "                else:\n",
    "                    pass\n",
    "                    updraw.rectangle(bbox,fill='hsl(0,0%,'+str(scorenorm(scores[i]))+'%)',outline='hsl(0,0%,0%)')\n",
    "                    #updraw.rectangle(bbox,fill='hsl(0,0%,75%)',outline=None) # grey\n",
    "            \n",
    "            ypos = ypos - rectheight\n",
    "        \n",
    "        actual_positives = len(tmp)\n",
    "        n = actual_positives + len(neg[neg==binn])\n",
    "        expected_positives = int( n * float(prior) )\n",
    "        lift = actual_positives - expected_positives\n",
    "        \n",
    "        if lift > 0:\n",
    "            ypos = ppx_h - lift*rectheight\n",
    "        else:\n",
    "            ypos = ppx_h\n",
    "            \n",
    "        coords = [(xpos,ypos),(xpos+rectwidth,ypos)]\n",
    "        #updraw.line(coords,fill=(220,101,113),width=6) # red\n",
    "\n",
    "        try:\n",
    "            coords = [(last_xpos+rectwidth,last_ypos),(xpos,ypos)]\n",
    "            #updraw.line(coords,fill=(220,101,113),width=6)\n",
    "        except:\n",
    "            pass\n",
    "\n",
    "        last_ypos = ypos\n",
    "        last_xpos = xpos\n",
    "        \n",
    "    up = addlabels(up,labelticks(test_matrix,cfeat))    \n",
    "    updraw = ImageDraw.Draw(up) # will use it below\n",
    "\n",
    "    ###########\n",
    "    ### NEG ###\n",
    "    ###########\n",
    "    \n",
    "    # reset for line thing\n",
    "    last_ypos = None\n",
    "    last_xpos = None\n",
    "    \n",
    "    negbinmax = neg.value_counts().max()\n",
    "    \n",
    "    npx_h = negbinmax * rectheight\n",
    "    \n",
    "    down = Image.new('RGBA',(px_w,npx_h),(255,255,255,0))\n",
    "    downdraw = ImageDraw.Draw(down)\n",
    "    \n",
    "    for binn in range(nbins):\n",
    "        xpos = binn * rectwidth\n",
    "        ypos = npx_h - rectheight\n",
    "                \n",
    "        tmp = neg[neg==binn]\n",
    "        for i in tmp.index:\n",
    "            bbox = [(xpos+pad,ypos+pad),(xpos+rectwidth-pad,ypos+rectheight-pad)]\n",
    "            \n",
    "            if i in hotidxs:\n",
    "                if i==singleton:\n",
    "                    #downdraw.rectangle(bbox,fill='hsl(0,50%,'+str(scorenorm(scores[i]))+'%)',outline='hsl(0,50%,'+str(scorenorm(scores[i]))+'%)')\n",
    "                    downdraw.rectangle(bbox,fill='hsl(0,0%,'+str(scorenorm(scores[i]))+'%)',outline='hsl(0,0%,0%)')\n",
    "                    #downdraw.rectangle(bbox,fill='hsl(0,50%,50%)',outline='hsl(0,50%,50%)') # red\n",
    "                else:\n",
    "                    #downdraw.rectangle(bbox,fill='hsl(120,50%,'+str(scorenorm(scores[i]))+'%)',outline='hsl(120,50%,'+str(scorenorm(scores[i]))+'%)')\n",
    "                    downdraw.rectangle(bbox,fill='hsl(0,0%,'+str(scorenorm(scores[i]))+'%)',outline='hsl(0,0%,0%)')\n",
    "                    #downdraw.rectangle(bbox,fill='hsl(120,50%,50%)',outline='hsl(120,50%,50%)') # green\n",
    "            else:\n",
    "                if i==singleton:\n",
    "                    #downdraw.rectangle(bbox,fill='hsl(0,50%,'+str(scorenorm(scores[i]))+'%)',outline='hsl(0,50%,'+str(scorenorm(scores[i]))+'%)')\n",
    "                    downdraw.rectangle(bbox,fill='hsl(0,0%,'+str(scorenorm(scores[i]))+'%)',outline='hsl(0,0%,0%)')\n",
    "                    #downdraw.rectangle(bbox,fill='hsl(0,50%,50%)',outline='hsl(0,50%,50%)') # red\n",
    "                else:\n",
    "                    pass\n",
    "                    downdraw.rectangle(bbox,fill='hsl(0,0%,'+str(scorenorm(scores[i]))+'%)',outline='hsl(0,0%,0%)')\n",
    "                    #downdraw.rectangle(bbox,fill='hsl(0,0%,75%)',outline=None) # grey\n",
    "            \n",
    "            ypos = ypos - rectheight\n",
    "               \n",
    "        actual_positives = len(pos[pos==binn])\n",
    "        n = actual_positives + len(tmp)\n",
    "        expected_positives = int( n * float(prior) )\n",
    "        lift = actual_positives - expected_positives        \n",
    "                \n",
    "        if lift < 0:\n",
    "            ypos = npx_h - abs(lift)*rectheight\n",
    "        else:\n",
    "            ypos = npx_h\n",
    "            \n",
    "        coords = [(xpos,ypos),(xpos+rectwidth,ypos)]\n",
    "        #downdraw.line(coords,fill=(112,159,210),width=6)\n",
    "        \n",
    "        try:\n",
    "            coords = [(last_xpos+rectwidth,last_ypos),(xpos,ypos)]\n",
    "            #downdraw.line(coords,fill=(112,159,210),width=6)\n",
    "        except:\n",
    "            pass\n",
    "        \n",
    "        negbinheight = len(tmp)\n",
    "        nneg = len(neg)\n",
    "        npos = len(pos)\n",
    "        overheight = int( negbinheight * npos / nneg )               \n",
    "        ypos = ppx_h - overheight*rectheight # ppx_h bc plotting to 'up'\n",
    "\n",
    "        coords = [(xpos,ypos),(xpos+rectwidth,ypos)]\n",
    "        #updraw.line(coords,fill=(255,166,77),width=6)\n",
    "        \n",
    "        try:\n",
    "            coords = [(last_xpos+rectwidth,last_ypos),(xpos,ypos)]\n",
    "            #updraw.line(coords,fill=(255,166,77),width=6)\n",
    "        except:\n",
    "            pass\n",
    "        \n",
    "        last_ypos = ypos\n",
    "        last_xpos = xpos\n",
    "    \n",
    "    unicanvas = Image.new('RGBA',(px_w,up.height+npx_h),(255,255,255,0))\n",
    "    unicanvas.paste(up,(0,0))\n",
    "\n",
    "    down_flipped = down.transpose(Image.FLIP_TOP_BOTTOM)\n",
    "    unicanvas.paste(down_flipped,(0,up.height))\n",
    "\n",
    "    return unicanvas,up.height,px_w"
   ]
  },
  {
   "cell_type": "code",
   "execution_count": 171,
   "metadata": {
    "collapsed": true
   },
   "outputs": [],
   "source": [
    "pad = 0"
   ]
  },
  {
   "cell_type": "code",
   "execution_count": 172,
   "metadata": {
    "collapsed": true
   },
   "outputs": [],
   "source": [
    "rectwidth = 56\n",
    "rectheight = 56"
   ]
  },
  {
   "cell_type": "code",
   "execution_count": 173,
   "metadata": {
    "collapsed": false
   },
   "outputs": [
    {
     "name": "stderr",
     "output_type": "stream",
     "text": [
      "/Library/Python/2.7/site-packages/ipykernel/__main__.py:4: UserWarning: Boolean Series key will be reindexed to match DataFrame index.\n",
      "/Library/Python/2.7/site-packages/ipykernel/__main__.py:5: UserWarning: Boolean Series key will be reindexed to match DataFrame index.\n"
     ]
    }
   ],
   "source": [
    "im,uph,px_w = updown(test_matrix,cfeat,rectwidth,rectheight,pad)"
   ]
  },
  {
   "cell_type": "code",
   "execution_count": 174,
   "metadata": {
    "collapsed": true
   },
   "outputs": [],
   "source": [
    "im.save(\"/Users/damoncrockett/Desktop/\"+cfeat+\"_test\"+\"_hotonlyepsinglerisk50.png\")"
   ]
  },
  {
   "cell_type": "code",
   "execution_count": 168,
   "metadata": {
    "collapsed": false
   },
   "outputs": [],
   "source": [
    "#halfheight = 1575/2\n",
    "#cropbox = [0,uph-halfheight,px_w,uph+halfheight]\n",
    "#im = im.crop(cropbox)"
   ]
  },
  {
   "cell_type": "code",
   "execution_count": null,
   "metadata": {
    "collapsed": true
   },
   "outputs": [],
   "source": []
  },
  {
   "cell_type": "code",
   "execution_count": null,
   "metadata": {
    "collapsed": true
   },
   "outputs": [],
   "source": []
  }
 ],
 "metadata": {
  "kernelspec": {
   "display_name": "Python 2",
   "language": "python",
   "name": "python2"
  },
  "language_info": {
   "codemirror_mode": {
    "name": "ipython",
    "version": 2
   },
   "file_extension": ".py",
   "mimetype": "text/x-python",
   "name": "python",
   "nbconvert_exporter": "python",
   "pygments_lexer": "ipython2",
   "version": "2.7.10"
  }
 },
 "nbformat": 4,
 "nbformat_minor": 0
}
