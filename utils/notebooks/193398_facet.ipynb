{
 "cells": [
  {
   "cell_type": "code",
   "execution_count": 29,
   "metadata": {
    "collapsed": true
   },
   "outputs": [],
   "source": [
    "import pandas as pd\n",
    "from PIL import Image,ImageDraw,ImageFont\n",
    "import os\n",
    "import numpy as np\n",
    "import math"
   ]
  },
  {
   "cell_type": "code",
   "execution_count": 30,
   "metadata": {
    "collapsed": true
   },
   "outputs": [],
   "source": [
    "feature_table = pd.read_csv(\"193398_feattable.csv\")"
   ]
  },
  {
   "cell_type": "code",
   "execution_count": 31,
   "metadata": {
    "collapsed": true
   },
   "outputs": [],
   "source": [
    "feature_table.sort_values(by=\"feature_importance\",inplace=True)\n",
    "feature_table.reset_index(drop=True,inplace=True)"
   ]
  },
  {
   "cell_type": "code",
   "execution_count": 32,
   "metadata": {
    "collapsed": true
   },
   "outputs": [],
   "source": [
    "%matplotlib inline\n",
    "import matplotlib.pyplot as plt"
   ]
  },
  {
   "cell_type": "code",
   "execution_count": 33,
   "metadata": {
    "collapsed": false
   },
   "outputs": [
    {
     "data": {
      "text/plain": [
       "[<matplotlib.lines.Line2D at 0x10df87c90>]"
      ]
     },
     "execution_count": 33,
     "metadata": {},
     "output_type": "execute_result"
    },
    {
     "data": {
      "image/png": "[encoded data removed]",
      "text/plain": [
       "<matplotlib.figure.Figure at 0x1088c6690>"
      ]
     },
     "metadata": {},
     "output_type": "display_data"
    }
   ],
   "source": [
    "fig,ax = plt.subplots()\n",
    "ax.plot(feature_table.index,feature_table.feature_importance)"
   ]
  },
  {
   "cell_type": "code",
   "execution_count": 34,
   "metadata": {
    "collapsed": true
   },
   "outputs": [],
   "source": [
    "ii = pd.read_csv(\"193398_individual_importances.csv\")"
   ]
  },
  {
   "cell_type": "code",
   "execution_count": 35,
   "metadata": {
    "collapsed": false
   },
   "outputs": [],
   "source": [
    "#feature_table = feature_table[feature_table.feature_importance>0.00305]\n",
    "#feature_table.reset_index(drop=True,inplace=True)\n",
    "top_feats = list(feature_table.feature)"
   ]
  },
  {
   "cell_type": "code",
   "execution_count": 36,
   "metadata": {
    "collapsed": false
   },
   "outputs": [
    {
     "data": {
      "text/plain": [
       "1504"
      ]
     },
     "execution_count": 36,
     "metadata": {},
     "output_type": "execute_result"
    }
   ],
   "source": [
    "len(top_feats)"
   ]
  },
  {
   "cell_type": "code",
   "execution_count": 37,
   "metadata": {
    "collapsed": false
   },
   "outputs": [],
   "source": [
    "#top_feats"
   ]
  },
  {
   "cell_type": "code",
   "execution_count": 38,
   "metadata": {
    "collapsed": false
   },
   "outputs": [],
   "source": [
    "botfeats = feature_table.sort_values(by=\"feature_importance\").feature[:5]"
   ]
  },
  {
   "cell_type": "markdown",
   "metadata": {},
   "source": [
    "#### train matrix"
   ]
  },
  {
   "cell_type": "code",
   "execution_count": 39,
   "metadata": {
    "collapsed": true
   },
   "outputs": [],
   "source": [
    "train_matrix = pd.read_csv(\"193398_train.csv\")\n",
    "labels = train_matrix.outcome\n",
    "#del train_matrix['outcome']"
   ]
  },
  {
   "cell_type": "code",
   "execution_count": 40,
   "metadata": {
    "collapsed": false
   },
   "outputs": [],
   "source": [
    "train_matrix = train_matrix[train_matrix['ocag_id_all_officerage_max']!=0]"
   ]
  },
  {
   "cell_type": "code",
   "execution_count": 41,
   "metadata": {
    "collapsed": false
   },
   "outputs": [
    {
     "data": {
      "text/plain": [
       "0    15256\n",
       "1     1531\n",
       "Name: outcome, dtype: int64"
      ]
     },
     "execution_count": 41,
     "metadata": {},
     "output_type": "execute_result"
    }
   ],
   "source": [
    "train_matrix.outcome.value_counts()"
   ]
  },
  {
   "cell_type": "code",
   "execution_count": 42,
   "metadata": {
    "collapsed": false
   },
   "outputs": [],
   "source": [
    "tmp = train_matrix[['ocag_id_all_officerage_max','outcome']]"
   ]
  },
  {
   "cell_type": "code",
   "execution_count": 43,
   "metadata": {
    "collapsed": false
   },
   "outputs": [],
   "source": [
    "prior = float(1531)/15256"
   ]
  },
  {
   "cell_type": "code",
   "execution_count": 44,
   "metadata": {
    "collapsed": false
   },
   "outputs": [
    {
     "data": {
      "text/plain": [
       "46.0"
      ]
     },
     "execution_count": 44,
     "metadata": {},
     "output_type": "execute_result"
    }
   ],
   "source": [
    "max(tmp.ocag_id_all_officerage_max) - min(tmp.ocag_id_all_officerage_max)"
   ]
  },
  {
   "cell_type": "code",
   "execution_count": 45,
   "metadata": {
    "collapsed": false
   },
   "outputs": [
    {
     "data": {
      "text/plain": [
       "21.0"
      ]
     },
     "execution_count": 45,
     "metadata": {},
     "output_type": "execute_result"
    }
   ],
   "source": [
    "min(tmp.ocag_id_all_officerage_max)"
   ]
  },
  {
   "cell_type": "code",
   "execution_count": 46,
   "metadata": {
    "collapsed": false
   },
   "outputs": [
    {
     "data": {
      "text/plain": [
       "array([21, 22, 23, 24, 25, 26, 27, 28, 29, 30, 31, 32, 33, 34, 35, 36, 37,\n",
       "       38, 39, 40, 41, 42, 43, 44, 45, 46, 47, 48, 49, 50, 51, 52, 53, 54,\n",
       "       55, 56, 57, 58, 59, 60, 61, 62, 63, 64, 65, 66, 67])"
      ]
     },
     "execution_count": 46,
     "metadata": {},
     "output_type": "execute_result"
    }
   ],
   "source": [
    "ages = np.arange(21,68)\n",
    "ages"
   ]
  },
  {
   "cell_type": "code",
   "execution_count": 47,
   "metadata": {
    "collapsed": false
   },
   "outputs": [
    {
     "name": "stdout",
     "output_type": "stream",
     "text": [
      "16\n"
     ]
    }
   ],
   "source": [
    "agelabels = np.arange(21,68,3)\n",
    "print len(agelabels)"
   ]
  },
  {
   "cell_type": "markdown",
   "metadata": {},
   "source": [
    "## Binning"
   ]
  },
  {
   "cell_type": "code",
   "execution_count": 48,
   "metadata": {
    "collapsed": true
   },
   "outputs": [],
   "source": [
    "def binticks_label(matrix,feat):\n",
    "    tmp = matrix.loc[:,feat]\n",
    "    tmpmin = min(tmp)\n",
    "    tmpmax = max(tmp)\n",
    "    tmprange = tmpmax - tmpmin\n",
    "    step = tmprange / 100\n",
    "    return np.arange(tmpmin,tmpmax+step,step)"
   ]
  },
  {
   "cell_type": "code",
   "execution_count": 49,
   "metadata": {
    "collapsed": true
   },
   "outputs": [],
   "source": [
    "def labelticks(matrix,feat):\n",
    "    tmp = matrix.loc[:,feat]\n",
    "    tmpmin = min(tmp)\n",
    "    tmpmax = max(tmp)\n",
    "    tmprange = tmpmax - tmpmin\n",
    "    step = tmprange / 20\n",
    "    return np.arange(tmpmin,tmpmax+step,step)"
   ]
  },
  {
   "cell_type": "code",
   "execution_count": 50,
   "metadata": {
    "collapsed": true
   },
   "outputs": [],
   "source": [
    "def minmax_label(matrix,feat):\n",
    "    tmp = matrix.loc[:,feat]\n",
    "    tmpmin = min(tmp)\n",
    "    tmpmax = max(tmp)\n",
    "    return tmpmin,tmpmax"
   ]
  },
  {
   "cell_type": "markdown",
   "metadata": {},
   "source": [
    "### Axis labels"
   ]
  },
  {
   "cell_type": "code",
   "execution_count": 89,
   "metadata": {
    "collapsed": true
   },
   "outputs": [],
   "source": [
    "def addlabels(canvas,ticks):\n",
    "    width = canvas.width\n",
    "    height = canvas.height\n",
    "    margin = rectheight\n",
    "    newheight = height + margin\n",
    "    \n",
    "    unicanvas = Image.new('RGB',(width,newheight),(255,255,255))\n",
    "    unicanvas.paste(canvas,(0,0))\n",
    "    \n",
    "    font = ImageFont.truetype('VeraMono.ttf', rectheight - 16 )\n",
    "    \n",
    "    # fontWidth, fontHeight = font.getsize(high) # can use if I have sizing issues\n",
    "\n",
    "    draw = ImageDraw.Draw(unicanvas,'RGB')\n",
    "    \n",
    "    for i in range(len(ticks)):\n",
    "        xpos = i * rectwidth * 3\n",
    "        #xpos = i * rectwidth * 5\n",
    "        draw.text((xpos,newheight - margin ),text=str(ticks[i]),font=font,fill=(0,0,0))\n",
    "    \n",
    "    return unicanvas"
   ]
  },
  {
   "cell_type": "markdown",
   "metadata": {},
   "source": [
    "# Train plot"
   ]
  },
  {
   "cell_type": "code",
   "execution_count": 90,
   "metadata": {
    "collapsed": true
   },
   "outputs": [],
   "source": [
    "def updown(X,cfeat,rectwidth,rectheight,pad):\n",
    "    #bins = binticks_label(train_matrix,cfeat) # note that this will give full-data bin edges regardless of subsetting\n",
    "    bins = ages\n",
    "    nbins = len(bins)\n",
    "    pos = pd.cut(X[labels==1].loc[:,cfeat],bins=bins,labels=False,include_lowest=True)\n",
    "    neg = pd.cut(X[labels==0].loc[:,cfeat],bins=bins,labels=False,include_lowest=True)\n",
    "    px_w = ( nbins - 1 ) * rectwidth # a hack; won't work with all subsets\n",
    "        \n",
    "    ###########\n",
    "    ### POS ###\n",
    "    ###########\n",
    "    \n",
    "    posbinmax = pos.value_counts().max()\n",
    "    ppx_h = posbinmax * rectheight\n",
    "    \n",
    "    up = Image.new('RGB',(px_w,ppx_h),(255,255,255))\n",
    "    updraw = ImageDraw.Draw(up)\n",
    "    \n",
    "    for binn in range(nbins):\n",
    "        xpos = binn * rectwidth\n",
    "        ypos = ppx_h - rectheight\n",
    "\n",
    "        tmp = pos[pos==binn]\n",
    "        for i in tmp.index:\n",
    "            bbox = [(xpos+pad,ypos+pad),(xpos+rectwidth-pad,ypos+rectheight-pad)]\n",
    "            updraw.rectangle(bbox,fill='hsl(0,0%,50%)',outline=None)\n",
    "            ypos = ypos - rectheight\n",
    "        \n",
    "        actual_positives = len(tmp)\n",
    "        n = actual_positives + len(neg[neg==binn])\n",
    "        expected_positives = int( n * float(prior) )\n",
    "        lift = actual_positives - expected_positives\n",
    "        \n",
    "        if lift > 0:\n",
    "            ypos = ppx_h - lift*rectheight\n",
    "        else:\n",
    "            ypos = ppx_h\n",
    "            \n",
    "        coords = [(xpos,ypos),(xpos+rectwidth,ypos)]\n",
    "        #updraw.line(coords,fill=(220,101,113),width=6) # red\n",
    "        \n",
    "        try:\n",
    "            coords = [(last_xpos+rectwidth,last_ypos),(xpos,ypos)]\n",
    "            #updraw.line(coords,fill=(220,101,113),width=6)\n",
    "        except:\n",
    "            pass\n",
    "\n",
    "        last_ypos = ypos\n",
    "        last_xpos = xpos\n",
    "        \n",
    "        # lp draw boxes (instead of fill)\n",
    "        ypos = ppx_h - rectheight # need to reset\n",
    "\n",
    "        for i in range(lift):\n",
    "            bbox = [(xpos+pad,ypos+pad),(xpos+rectwidth-pad,ypos+rectheight-pad)]\n",
    "            #updraw.rectangle(bbox,fill=(220,101,113),outline=None)\n",
    "            ypos = ypos - rectheight\n",
    "        \n",
    "        # lp fill\n",
    "        #bbox = [(xpos+pad,ypos),(xpos+rectwidth-pad,ppx_h)]\n",
    "        #updraw.rectangle(bbox,fill=(220,101,113),outline=None)\n",
    "        \n",
    "    #up = addlabels(up,labelticks(train_matrix,cfeat))\n",
    "    up = addlabels(up,agelabels)\n",
    "    \n",
    "    ###########\n",
    "    ### NEG ###\n",
    "    ###########\n",
    "    \n",
    "    # reset for line thing\n",
    "    last_ypos = None\n",
    "    last_xpos = None\n",
    "    \n",
    "    negbinmax = neg.value_counts().max()\n",
    "    \n",
    "    npx_h = negbinmax * rectheight\n",
    "    \n",
    "    down = Image.new('RGB',(px_w,npx_h),(255,255,255))\n",
    "    downdraw = ImageDraw.Draw(down)\n",
    "    \n",
    "    lifts = []\n",
    "    for binn in range(nbins):\n",
    "        xpos = binn * rectwidth\n",
    "        ypos = npx_h - rectheight\n",
    "                \n",
    "        tmp = neg[neg==binn]\n",
    "        for i in tmp.index:\n",
    "            bbox = [(xpos+pad,ypos+pad),(xpos+rectwidth-pad,ypos+rectheight-pad)]\n",
    "            downdraw.rectangle(bbox,fill='hsl(0,0%,75%)',outline=None)\n",
    "            ypos = ypos - rectheight\n",
    "               \n",
    "        actual_positives = len(pos[pos==binn])\n",
    "        n = actual_positives + len(tmp)\n",
    "        expected_positives = int( n * float(prior) )\n",
    "        lift = actual_positives - expected_positives\n",
    "        lifts.append(lift)\n",
    "                \n",
    "        if lift < 0:\n",
    "            ypos = npx_h - abs(lift)*rectheight\n",
    "        else:\n",
    "            ypos = npx_h\n",
    "            \n",
    "        coords = [(xpos,ypos),(xpos+rectwidth,ypos)]\n",
    "        #downdraw.line(coords,fill=(112,159,210),width=6)\n",
    "        \n",
    "        try:\n",
    "            coords = [(last_xpos+rectwidth,last_ypos),(xpos,ypos)]\n",
    "            #downdraw.line(coords,fill=(112,159,210),width=6)\n",
    "        except:\n",
    "            pass\n",
    "        \n",
    "        last_ypos = ypos\n",
    "        last_xpos = xpos\n",
    "        \n",
    "        # lp draw boxes \n",
    "        ypos = npx_h - rectheight\n",
    "\n",
    "        if lift < 0: # this ensures only pulls are plotted on downdraw\n",
    "            for i in range(abs(lift)):        \n",
    "                bbox = [(xpos+pad,ypos+pad),(xpos+rectwidth-pad,ypos+rectheight-pad)]\n",
    "                #downdraw.rectangle(bbox,fill=(112,159,210),outline=None)\n",
    "                ypos = ypos - rectheight\n",
    "        \n",
    "        # lp fill\n",
    "        #bbox = [(xpos+pad,ypos),(xpos+rectwidth-pad,npx_h)]\n",
    "        #downdraw.rectangle(bbox,fill=(112,159,210),outline=None)\n",
    "    \n",
    "    unicanvas = up # eliminate down\n",
    "    #unicanvas = Image.new('RGB',(px_w,up.height+npx_h),(255,255,255))\n",
    "    #unicanvas.paste(up,(0,0))\n",
    "\n",
    "    #down_flipped = down.transpose(Image.FLIP_TOP_BOTTOM)\n",
    "    #unicanvas.paste(down_flipped,(0,up.height))\n",
    "\n",
    "    return unicanvas,up.height,px_w,lifts"
   ]
  },
  {
   "cell_type": "code",
   "execution_count": 97,
   "metadata": {
    "collapsed": true
   },
   "outputs": [],
   "source": [
    "pad = 2"
   ]
  },
  {
   "cell_type": "code",
   "execution_count": 98,
   "metadata": {
    "collapsed": true
   },
   "outputs": [],
   "source": [
    "rectwidth = 56\n",
    "rectheight = 56"
   ]
  },
  {
   "cell_type": "markdown",
   "metadata": {},
   "source": [
    "### Interaction Binning"
   ]
  },
  {
   "cell_type": "code",
   "execution_count": 99,
   "metadata": {
    "collapsed": false
   },
   "outputs": [],
   "source": [
    "#ifeat = \"arrests_id_p1y_arrestson_sat_avg\"\n",
    "cfeat = 'ocag_id_all_officerage_max'\n",
    "#train_matrix['ifeat'] = pd.cut(train_matrix[ifeat],bins=3,labels=False,include_lowest=False)"
   ]
  },
  {
   "cell_type": "code",
   "execution_count": 100,
   "metadata": {
    "collapsed": true
   },
   "outputs": [],
   "source": [
    "#X = train_matrix[train_matrix.ifeat==1]"
   ]
  },
  {
   "cell_type": "code",
   "execution_count": 101,
   "metadata": {
    "collapsed": false
   },
   "outputs": [],
   "source": [
    "#len(X)"
   ]
  },
  {
   "cell_type": "code",
   "execution_count": 102,
   "metadata": {
    "collapsed": false
   },
   "outputs": [
    {
     "name": "stderr",
     "output_type": "stream",
     "text": [
      "/Library/Python/2.7/site-packages/ipykernel/__main__.py:5: UserWarning: Boolean Series key will be reindexed to match DataFrame index.\n",
      "/Library/Python/2.7/site-packages/ipykernel/__main__.py:6: UserWarning: Boolean Series key will be reindexed to match DataFrame index.\n"
     ]
    }
   ],
   "source": [
    "im,uph,px_w,lifts = updown(train_matrix,cfeat,rectwidth,rectheight,pad)\n",
    "#lp_crop = [0,uph-(max(lifts)*rectheight+2*rectheight),px_w,uph+(abs(min(lifts))*rectheight+rectheight)]\n",
    "#im = im.crop(lp_crop)\n",
    "im.save(\"/Users/damoncrockett/Desktop/\"+cfeat+\".png\")\n",
    "#im.save(\"/Users/damoncrockett/Desktop/\"+cfeat+\"_\"+ifeat+\"bin2\"+\"_lp.png\")"
   ]
  },
  {
   "cell_type": "code",
   "execution_count": null,
   "metadata": {
    "collapsed": true
   },
   "outputs": [],
   "source": []
  },
  {
   "cell_type": "code",
   "execution_count": null,
   "metadata": {
    "collapsed": false
   },
   "outputs": [],
   "source": [
    "#halfheight = 1575/2\n",
    "#cropbox = [0,uph-halfheight,px_w,uph+halfheight]\n",
    "#im = im.crop(cropbox)"
   ]
  },
  {
   "cell_type": "code",
   "execution_count": null,
   "metadata": {
    "collapsed": true
   },
   "outputs": [],
   "source": [
    "#im.save(\"/Users/damoncrockett/Desktop/tmpwintour/PILplatz/VASTvideo/\"+cfeat+\"linepos\"+\".png\")"
   ]
  }
 ],
 "metadata": {
  "kernelspec": {
   "display_name": "Python 2",
   "language": "python",
   "name": "python2"
  },
  "language_info": {
   "codemirror_mode": {
    "name": "ipython",
    "version": 2
   },
   "file_extension": ".py",
   "mimetype": "text/x-python",
   "name": "python",
   "nbconvert_exporter": "python",
   "pygments_lexer": "ipython2",
   "version": "2.7.10"
  }
 },
 "nbformat": 4,
 "nbformat_minor": 0
}
