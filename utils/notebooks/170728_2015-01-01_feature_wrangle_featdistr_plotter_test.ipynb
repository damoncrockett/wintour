{
 "cells": [
  {
   "cell_type": "code",
   "execution_count": 1,
   "metadata": {
    "collapsed": true
   },
   "outputs": [],
   "source": [
    "import pandas as pd\n",
    "from PIL import Image,ImageDraw,ImageFont\n",
    "import os\n",
    "import numpy as np"
   ]
  },
  {
   "cell_type": "code",
   "execution_count": 2,
   "metadata": {
    "collapsed": true
   },
   "outputs": [],
   "source": [
    "feature_table = pd.read_csv(\"170728_2015-01-01_alphasort.csv\")"
   ]
  },
  {
   "cell_type": "code",
   "execution_count": 3,
   "metadata": {
    "collapsed": false
   },
   "outputs": [],
   "source": [
    "feature_table = feature_table[feature_table.feature_importance>0.0015]\n",
    "feature_table.reset_index(drop=True,inplace=True)\n",
    "top_feats = list(feature_table.feature)"
   ]
  },
  {
   "cell_type": "code",
   "execution_count": 4,
   "metadata": {
    "collapsed": false
   },
   "outputs": [
    {
     "data": {
      "text/plain": [
       "5"
      ]
     },
     "execution_count": 4,
     "metadata": {},
     "output_type": "execute_result"
    }
   ],
   "source": [
    "len(top_feats)"
   ]
  },
  {
   "cell_type": "markdown",
   "metadata": {},
   "source": [
    "#### Color settings"
   ]
  },
  {
   "cell_type": "code",
   "execution_count": 5,
   "metadata": {
    "collapsed": true
   },
   "outputs": [],
   "source": [
    "cathue = {\n",
    "    'ts':'0',\n",
    "    'fi':'32',\n",
    "    'ir':'60',\n",
    "    'shifts':'115',\n",
    "    'dispatch':'180',\n",
    "    'arrests':'240',\n",
    "    'ic':'270',\n",
    "    'demarrests':'300',\n",
    "    'ocnd':'200'\n",
    "    }"
   ]
  },
  {
   "cell_type": "markdown",
   "metadata": {
    "collapsed": true
   },
   "source": [
    "#### test matrix"
   ]
  },
  {
   "cell_type": "code",
   "execution_count": 6,
   "metadata": {
    "collapsed": false
   },
   "outputs": [],
   "source": [
    "test_matrix = pd.read_csv(\"170728_2015-01-01_test-matrix-and-labels-and-scores.csv\")\n",
    "test_matrix.sort_values(by='score',ascending=False,inplace=True)\n",
    "outcomes = test_matrix.outcome\n",
    "scores = test_matrix.score\n",
    "del test_matrix['outcome']\n",
    "del test_matrix['score']\n",
    "del test_matrix['as_of_date']\n",
    "del test_matrix['officer_id']"
   ]
  },
  {
   "cell_type": "code",
   "execution_count": 7,
   "metadata": {
    "collapsed": false
   },
   "outputs": [],
   "source": [
    "test_matrix = test_matrix.loc[:,top_feats]"
   ]
  },
  {
   "cell_type": "markdown",
   "metadata": {},
   "source": [
    "## Binning"
   ]
  },
  {
   "cell_type": "code",
   "execution_count": 8,
   "metadata": {
    "collapsed": true
   },
   "outputs": [],
   "source": [
    "def binticks(matrix,featidx):\n",
    "    tmp = matrix.iloc[:,featidx]\n",
    "    tmpmin = min(tmp)\n",
    "    tmpmax = max(tmp)\n",
    "    tmprange = tmpmax - tmpmin\n",
    "    step = tmprange / 100\n",
    "    return np.arange(tmpmin,tmpmax+step,step)"
   ]
  },
  {
   "cell_type": "code",
   "execution_count": 9,
   "metadata": {
    "collapsed": true
   },
   "outputs": [],
   "source": [
    "def labelticks(matrix,featidx):\n",
    "    tmp = matrix.iloc[:,featidx]\n",
    "    tmpmin = min(tmp)\n",
    "    tmpmax = max(tmp)\n",
    "    tmprange = tmpmax - tmpmin\n",
    "    step = tmprange / 20\n",
    "    return np.arange(tmpmin,tmpmax,step)"
   ]
  },
  {
   "cell_type": "code",
   "execution_count": 10,
   "metadata": {
    "collapsed": true
   },
   "outputs": [],
   "source": [
    "def minmax(matrix,featidx):\n",
    "    tmp = matrix.iloc[:,featidx]\n",
    "    tmpmin = min(tmp)\n",
    "    tmpmax = max(tmp)\n",
    "    return tmpmin,tmpmax"
   ]
  },
  {
   "cell_type": "markdown",
   "metadata": {},
   "source": [
    "### Axis labels"
   ]
  },
  {
   "cell_type": "code",
   "execution_count": 11,
   "metadata": {
    "collapsed": true
   },
   "outputs": [],
   "source": [
    "def addlabels(canvas,ticks):\n",
    "    width = canvas.width\n",
    "    height = canvas.height\n",
    "    margin = 64\n",
    "    newheight = height + margin\n",
    "    \n",
    "    unicanvas = Image.new('RGB',(width,newheight),(255,255,255))\n",
    "    unicanvas.paste(canvas,(0,0))\n",
    "    \n",
    "    font = ImageFont.truetype('VeraMono.ttf', rectheight - 10 )\n",
    "    \n",
    "    # fontWidth, fontHeight = font.getsize(high) # can use if I have sizing issues\n",
    "\n",
    "    draw = ImageDraw.Draw(unicanvas,'RGB')\n",
    "    \n",
    "    for i in range(len(ticks)):\n",
    "        xpos = i * rectwidth * 5\n",
    "        draw.text((xpos,newheight - 60 ),text=str(int(ticks[i])),font=font,fill=(0,0,0))\n",
    "    \n",
    "    return unicanvas"
   ]
  },
  {
   "cell_type": "markdown",
   "metadata": {},
   "source": [
    "# Test matrix plots"
   ]
  },
  {
   "cell_type": "code",
   "execution_count": 12,
   "metadata": {
    "collapsed": true
   },
   "outputs": [],
   "source": [
    "def scorenorm(item):\n",
    "    scoremin = min(scores)\n",
    "    scorerng = max(scores) - scoremin\n",
    "    return int( ( ( 1 - ( ( item - scoremin ) / scorerng ) ) ) * 100 )"
   ]
  },
  {
   "cell_type": "code",
   "execution_count": 13,
   "metadata": {
    "collapsed": false
   },
   "outputs": [],
   "source": [
    "def dblriskhist(X,featidx,rectwidth,rectheight,pad):\n",
    "    pos = pd.cut(X[outcomes==1].iloc[:,featidx],bins=binticks(test_matrix,featidx),labels=False,include_lowest=True)\n",
    "    neg = pd.cut(X[outcomes==0].iloc[:,featidx],bins=binticks(test_matrix,featidx),labels=False,include_lowest=True)\n",
    "    \n",
    "    px_w = ( len(binticks(test_matrix,featidx)) - 1 ) * rectwidth # a hack; won't work with all subsets\n",
    "    \n",
    "    ###########\n",
    "    ### POS ###\n",
    "    ###########\n",
    "    \n",
    "    posbinmax = pos.value_counts().max()\n",
    "    ppx_h = posbinmax * rectheight\n",
    "    \n",
    "    up = Image.new('RGB',(px_w,ppx_h),(255,255,255))\n",
    "    updraw = ImageDraw.Draw(up)\n",
    "    \n",
    "    for binn in pos.value_counts().keys():\n",
    "        xpos = binn * rectwidth\n",
    "        ypos = ppx_h - rectheight\n",
    "\n",
    "        tmp = pos[pos==binn]\n",
    "\n",
    "        for i in tmp.index:\n",
    "            bbox = [(xpos+pad,ypos+pad),(xpos+rectwidth-pad,ypos+rectheight-pad)]\n",
    "            updraw.rectangle(bbox,fill='hsl(0,0%,'+str(scorenorm(scores[i]))+'%)',outline=(189,189,189))\n",
    "            ypos = ypos - rectheight\n",
    "            \n",
    "    up = addlabels(up,labelticks(test_matrix,featidx))\n",
    "    \n",
    "    ###########\n",
    "    ### NEG ###\n",
    "    ###########\n",
    "    \n",
    "    negbinmax = neg.value_counts().max()\n",
    "    \n",
    "    npx_h = negbinmax * rectheight\n",
    "    \n",
    "    down = Image.new('RGB',(px_w,npx_h),(255,255,255))\n",
    "    downdraw = ImageDraw.Draw(down)\n",
    "    updraw = ImageDraw.Draw(up) # have to reset to draw overheight lines\n",
    "    \n",
    "    for binn in sorted(neg.value_counts().keys()): # sorted or else line thing won't work\n",
    "        xpos = binn * rectwidth\n",
    "        ypos = npx_h - rectheight\n",
    "                \n",
    "        tmp = neg[neg==binn]\n",
    "        negbinheight = len(tmp)\n",
    "        nneg = len(neg)\n",
    "        npos = len(pos)\n",
    "        overheight = int( negbinheight * npos / nneg )\n",
    "        \n",
    "        for i in tmp.index:\n",
    "            bbox = [(xpos,ypos),(xpos+rectwidth,ypos+rectheight)]\n",
    "            downdraw.rectangle(bbox,fill='hsl(0,0%,'+str(scorenorm(scores[i]))+'%)',outline=(189,189,189))\n",
    "            ypos = ypos - rectheight\n",
    "                    \n",
    "        ypos = ppx_h - overheight*rectheight\n",
    "        coords = [(xpos,ypos),(xpos+rectwidth,ypos)]\n",
    "        updraw.line(coords,fill=(255,128,0),width=13)\n",
    "        \n",
    "        try:\n",
    "            coords = [(last_xpos+rectwidth,last_ypos),(xpos,ypos)]\n",
    "            updraw.line(coords,fill=(255,128,0),width=13)\n",
    "        except:\n",
    "            pass\n",
    "        \n",
    "        last_ypos = ypos\n",
    "        last_xpos = xpos\n",
    "    \n",
    "    unicanvas = Image.new('RGB',(px_w,up.height+npx_h),(255,255,255))\n",
    "    unicanvas.paste(up,(0,0))\n",
    "\n",
    "    down_flipped = down.transpose(Image.FLIP_TOP_BOTTOM)\n",
    "    unicanvas.paste(down_flipped,(0,up.height))\n",
    "\n",
    "    return unicanvas"
   ]
  },
  {
   "cell_type": "code",
   "execution_count": 14,
   "metadata": {
    "collapsed": true
   },
   "outputs": [],
   "source": [
    "rectwidth = 64\n",
    "rectheight = 64\n",
    "pad = 0"
   ]
  },
  {
   "cell_type": "code",
   "execution_count": 15,
   "metadata": {
    "collapsed": false
   },
   "outputs": [],
   "source": [
    "for featidx in range(len(top_feats)):    \n",
    "    im = dblriskhist(test_matrix,featidx,rectwidth,rectheight,pad)\n",
    "    im.save(\"/Users/damoncrockett/Desktop/tmpwintour/PILplatz/dblrisk_white/\"+top_feats[featidx]+\".png\")"
   ]
  },
  {
   "cell_type": "code",
   "execution_count": null,
   "metadata": {
    "collapsed": true
   },
   "outputs": [],
   "source": []
  },
  {
   "cell_type": "code",
   "execution_count": null,
   "metadata": {
    "collapsed": true
   },
   "outputs": [],
   "source": []
  },
  {
   "cell_type": "code",
   "execution_count": null,
   "metadata": {
    "collapsed": true
   },
   "outputs": [],
   "source": []
  },
  {
   "cell_type": "code",
   "execution_count": null,
   "metadata": {
    "collapsed": true
   },
   "outputs": [],
   "source": []
  }
 ],
 "metadata": {
  "kernelspec": {
   "display_name": "Python 2",
   "language": "python",
   "name": "python2"
  },
  "language_info": {
   "codemirror_mode": {
    "name": "ipython",
    "version": 2
   },
   "file_extension": ".py",
   "mimetype": "text/x-python",
   "name": "python",
   "nbconvert_exporter": "python",
   "pygments_lexer": "ipython2",
   "version": "2.7.10"
  }
 },
 "nbformat": 4,
 "nbformat_minor": 0
}
