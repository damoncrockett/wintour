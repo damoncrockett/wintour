{
 "cells": [
  {
   "cell_type": "code",
   "execution_count": 62,
   "metadata": {
    "collapsed": true
   },
   "outputs": [],
   "source": [
    "import pandas as pd\n",
    "from PIL import Image,ImageDraw,ImageFont\n",
    "import os\n",
    "import numpy as np\n",
    "import math"
   ]
  },
  {
   "cell_type": "code",
   "execution_count": 63,
   "metadata": {
    "collapsed": true
   },
   "outputs": [],
   "source": [
    "feature_table = pd.read_csv(\"193398_feattable.csv\")"
   ]
  },
  {
   "cell_type": "code",
   "execution_count": 64,
   "metadata": {
    "collapsed": true
   },
   "outputs": [],
   "source": [
    "ii = pd.read_csv(\"193398_individual_importances.csv\")"
   ]
  },
  {
   "cell_type": "code",
   "execution_count": 65,
   "metadata": {
    "collapsed": false
   },
   "outputs": [],
   "source": [
    "feature_table = feature_table[feature_table.feature_importance>0.004]\n",
    "feature_table.reset_index(drop=True,inplace=True)\n",
    "top_feats = list(feature_table.feature)"
   ]
  },
  {
   "cell_type": "code",
   "execution_count": 66,
   "metadata": {
    "collapsed": false
   },
   "outputs": [
    {
     "data": {
      "text/plain": [
       "5"
      ]
     },
     "execution_count": 66,
     "metadata": {},
     "output_type": "execute_result"
    }
   ],
   "source": [
    "len(top_feats)"
   ]
  },
  {
   "cell_type": "code",
   "execution_count": 67,
   "metadata": {
    "collapsed": false
   },
   "outputs": [
    {
     "data": {
      "text/plain": [
       "['ocag_id_all_officerage_max',\n",
       " 'dispatch_id_p1y_dispatchinitiatiationtype_ci_sum',\n",
       " 'dispatch_id_p1m_dispatchinitiatiationtype_ci_sum',\n",
       " 'dispatch_id_p1y_dispatchtype_assist_sum',\n",
       " 'dispatch_id_p1y_dispatchtype_assault_sum']"
      ]
     },
     "execution_count": 67,
     "metadata": {},
     "output_type": "execute_result"
    }
   ],
   "source": [
    "top_feats"
   ]
  },
  {
   "cell_type": "markdown",
   "metadata": {},
   "source": [
    "#### test matrix"
   ]
  },
  {
   "cell_type": "code",
   "execution_count": 68,
   "metadata": {
    "collapsed": false
   },
   "outputs": [],
   "source": [
    "test_matrix = pd.read_csv(\"193398_test_2014-04-01.csv\")\n",
    "test_matrix.set_index(\"officer_id\",inplace=True)"
   ]
  },
  {
   "cell_type": "code",
   "execution_count": 69,
   "metadata": {
    "collapsed": true
   },
   "outputs": [],
   "source": [
    "test_matrix.sort_values(by='score',ascending=False,inplace=True)\n",
    "labels = test_matrix.outcome\n",
    "scores = test_matrix.score"
   ]
  },
  {
   "cell_type": "code",
   "execution_count": 70,
   "metadata": {
    "collapsed": false
   },
   "outputs": [],
   "source": [
    "test_matrix = test_matrix[test_matrix['ocag_id_all_officerage_max']!=0]"
   ]
  },
  {
   "cell_type": "code",
   "execution_count": 71,
   "metadata": {
    "collapsed": false
   },
   "outputs": [
    {
     "data": {
      "text/plain": [
       "0    1309\n",
       "1     156\n",
       "Name: outcome, dtype: int64"
      ]
     },
     "execution_count": 71,
     "metadata": {},
     "output_type": "execute_result"
    }
   ],
   "source": [
    "test_matrix.outcome.value_counts()"
   ]
  },
  {
   "cell_type": "code",
   "execution_count": 72,
   "metadata": {
    "collapsed": true
   },
   "outputs": [],
   "source": [
    "prior = float(156)/1309"
   ]
  },
  {
   "cell_type": "markdown",
   "metadata": {},
   "source": [
    "## Binning"
   ]
  },
  {
   "cell_type": "code",
   "execution_count": 73,
   "metadata": {
    "collapsed": true
   },
   "outputs": [],
   "source": [
    "def binticks_label(matrix,feat):\n",
    "    tmp = matrix.loc[:,feat]\n",
    "    tmpmin = min(tmp)\n",
    "    tmpmax = max(tmp)\n",
    "    tmprange = tmpmax - tmpmin\n",
    "    step = tmprange / 100\n",
    "    return np.arange(tmpmin,tmpmax+step,step)"
   ]
  },
  {
   "cell_type": "code",
   "execution_count": 74,
   "metadata": {
    "collapsed": true
   },
   "outputs": [],
   "source": [
    "def labelticks(matrix,feat):\n",
    "    tmp = matrix.loc[:,feat]\n",
    "    tmpmin = min(tmp)\n",
    "    tmpmax = max(tmp)\n",
    "    tmprange = tmpmax - tmpmin\n",
    "    step = tmprange / 20\n",
    "    return np.arange(tmpmin,tmpmax+step,step)"
   ]
  },
  {
   "cell_type": "code",
   "execution_count": 75,
   "metadata": {
    "collapsed": true
   },
   "outputs": [],
   "source": [
    "def minmax_label(matrix,feat):\n",
    "    tmp = matrix.loc[:,feat]\n",
    "    tmpmin = min(tmp)\n",
    "    tmpmax = max(tmp)\n",
    "    return tmpmin,tmpmax"
   ]
  },
  {
   "cell_type": "markdown",
   "metadata": {},
   "source": [
    "### Axis labels"
   ]
  },
  {
   "cell_type": "code",
   "execution_count": 76,
   "metadata": {
    "collapsed": true
   },
   "outputs": [],
   "source": [
    "def addlabels(canvas,ticks):\n",
    "    width = canvas.width\n",
    "    height = canvas.height\n",
    "    margin = 28\n",
    "    newheight = height + margin\n",
    "    \n",
    "    unicanvas = Image.new('RGB',(width,newheight),(255,255,255))\n",
    "    unicanvas.paste(canvas,(0,0))\n",
    "    \n",
    "    font = ImageFont.truetype('VeraMono.ttf', rectheight - 8 )\n",
    "    \n",
    "    # fontWidth, fontHeight = font.getsize(high) # can use if I have sizing issues\n",
    "\n",
    "    draw = ImageDraw.Draw(unicanvas,'RGB')\n",
    "    \n",
    "    for i in range(len(ticks)):\n",
    "        xpos = i * rectwidth * 5\n",
    "        draw.text((xpos,newheight - 28 ),text=str(ticks[i]),font=font,fill=(0,0,0))\n",
    "    \n",
    "    return unicanvas"
   ]
  },
  {
   "cell_type": "markdown",
   "metadata": {},
   "source": [
    "# test plot"
   ]
  },
  {
   "cell_type": "code",
   "execution_count": 77,
   "metadata": {
    "collapsed": true
   },
   "outputs": [],
   "source": [
    "def updown(X,cfeat,rectwidth,rectheight,pad):\n",
    "    bins = binticks_label(test_matrix,cfeat)\n",
    "    nbins = len(bins)\n",
    "    pos = pd.cut(X[labels==1].loc[:,cfeat],bins=bins,labels=False,include_lowest=True)\n",
    "    neg = pd.cut(X[labels==0].loc[:,cfeat],bins=bins,labels=False,include_lowest=True)\n",
    "    px_w = ( nbins - 1 ) * rectwidth # a hack; won't work with all subsets\n",
    "        \n",
    "    ###########\n",
    "    ### POS ###\n",
    "    ###########\n",
    "    \n",
    "    posbinmax = pos.value_counts().max()\n",
    "    ppx_h = posbinmax * rectheight\n",
    "    \n",
    "    up = Image.new('RGB',(px_w,ppx_h),(255,255,255))\n",
    "    updraw = ImageDraw.Draw(up)\n",
    "    \n",
    "    for binn in range(nbins):\n",
    "        xpos = binn * rectwidth\n",
    "        ypos = ppx_h - rectheight\n",
    "\n",
    "        tmp = pos[pos==binn]\n",
    "        for i in tmp.index:\n",
    "            bbox = [(xpos+pad,ypos+pad),(xpos+rectwidth-pad,ypos+rectheight-pad)]\n",
    "            #updraw.rectangle(bbox,fill='hsl(0,0%,75%)',outline=None)\n",
    "            ypos = ypos - rectheight\n",
    "        \n",
    "        actual_positives = len(tmp)\n",
    "        n = actual_positives + len(neg[neg==binn])\n",
    "        expected_positives = int( n * float(prior) )\n",
    "        lift = actual_positives - expected_positives\n",
    "        \n",
    "        if lift > 0:\n",
    "            ypos = ppx_h - lift*rectheight\n",
    "        else:\n",
    "            ypos = ppx_h\n",
    "            \n",
    "        coords = [(xpos,ypos),(xpos+rectwidth,ypos)]\n",
    "        updraw.line(coords,fill=(220,101,113),width=6) # red\n",
    "\n",
    "        try:\n",
    "            coords = [(last_xpos+rectwidth,last_ypos),(xpos,ypos)]\n",
    "            updraw.line(coords,fill=(220,101,113),width=6)\n",
    "        except:\n",
    "            pass\n",
    "\n",
    "        last_ypos = ypos\n",
    "        last_xpos = xpos\n",
    "        \n",
    "    up = addlabels(up,labelticks(test_matrix,cfeat))\n",
    "    \n",
    "    ###########\n",
    "    ### NEG ###\n",
    "    ###########\n",
    "    \n",
    "    # reset for line thing\n",
    "    last_ypos = None\n",
    "    last_xpos = None\n",
    "    \n",
    "    negbinmax = neg.value_counts().max()\n",
    "    \n",
    "    npx_h = negbinmax * rectheight\n",
    "    \n",
    "    down = Image.new('RGB',(px_w,npx_h),(255,255,255))\n",
    "    downdraw = ImageDraw.Draw(down)\n",
    "    \n",
    "    for binn in range(nbins):\n",
    "        xpos = binn * rectwidth\n",
    "        ypos = npx_h - rectheight\n",
    "                \n",
    "        tmp = neg[neg==binn]\n",
    "        for i in tmp.index:\n",
    "            bbox = [(xpos+pad,ypos+pad),(xpos+rectwidth-pad,ypos+rectheight-pad)]\n",
    "            #downdraw.rectangle(bbox,fill='hsl(0,0%,75%)',outline=None)\n",
    "            ypos = ypos - rectheight\n",
    "               \n",
    "        actual_positives = len(pos[pos==binn])\n",
    "        n = actual_positives + len(tmp)\n",
    "        expected_positives = int( n * float(prior) )\n",
    "        lift = actual_positives - expected_positives        \n",
    "                \n",
    "        if lift < 0:\n",
    "            ypos = npx_h - abs(lift)*rectheight\n",
    "        else:\n",
    "            ypos = npx_h\n",
    "            \n",
    "        coords = [(xpos,ypos),(xpos+rectwidth,ypos)]\n",
    "        downdraw.line(coords,fill=(112,159,210),width=6)\n",
    "        \n",
    "        try:\n",
    "            coords = [(last_xpos+rectwidth,last_ypos),(xpos,ypos)]\n",
    "            downdraw.line(coords,fill=(112,159,210),width=6)\n",
    "        except:\n",
    "            pass\n",
    "        \n",
    "        last_ypos = ypos\n",
    "        last_xpos = xpos\n",
    "    \n",
    "    unicanvas = Image.new('RGB',(px_w,up.height+npx_h),(255,255,255))\n",
    "    unicanvas.paste(up,(0,0))\n",
    "\n",
    "    down_flipped = down.transpose(Image.FLIP_TOP_BOTTOM)\n",
    "    unicanvas.paste(down_flipped,(0,up.height))\n",
    "\n",
    "    return unicanvas,up.height,px_w"
   ]
  },
  {
   "cell_type": "code",
   "execution_count": 78,
   "metadata": {
    "collapsed": true
   },
   "outputs": [],
   "source": [
    "pad = 1"
   ]
  },
  {
   "cell_type": "code",
   "execution_count": 79,
   "metadata": {
    "collapsed": true
   },
   "outputs": [],
   "source": [
    "rectwidth = 28\n",
    "rectheight = 28"
   ]
  },
  {
   "cell_type": "code",
   "execution_count": 80,
   "metadata": {
    "collapsed": false
   },
   "outputs": [
    {
     "data": {
      "text/plain": [
       "['ocag_id_all_officerage_max',\n",
       " 'dispatch_id_p1y_dispatchinitiatiationtype_ci_sum',\n",
       " 'dispatch_id_p1m_dispatchinitiatiationtype_ci_sum',\n",
       " 'dispatch_id_p1y_dispatchtype_assist_sum',\n",
       " 'dispatch_id_p1y_dispatchtype_assault_sum']"
      ]
     },
     "execution_count": 80,
     "metadata": {},
     "output_type": "execute_result"
    }
   ],
   "source": [
    "top_feats"
   ]
  },
  {
   "cell_type": "code",
   "execution_count": 102,
   "metadata": {
    "collapsed": true
   },
   "outputs": [],
   "source": [
    "singlevars = [\n",
    "    ii.risk_1[ii.entity_id==1364].iloc[0],\n",
    "    ii.risk_2[ii.entity_id==1364].iloc[0],\n",
    "    ii.risk_3[ii.entity_id==1364].iloc[0],\n",
    "    ii.risk_4[ii.entity_id==1364].iloc[0]\n",
    "    ]"
   ]
  },
  {
   "cell_type": "code",
   "execution_count": 115,
   "metadata": {
    "collapsed": false
   },
   "outputs": [
    {
     "name": "stderr",
     "output_type": "stream",
     "text": [
      "/Library/Python/2.7/site-packages/ipykernel/__main__.py:4: UserWarning: Boolean Series key will be reindexed to match DataFrame index.\n",
      "/Library/Python/2.7/site-packages/ipykernel/__main__.py:5: UserWarning: Boolean Series key will be reindexed to match DataFrame index.\n"
     ]
    }
   ],
   "source": [
    "cfeat = singlevars[3]\n",
    "im,uph,px_w = updown(test_matrix,cfeat,rectwidth,rectheight,pad)"
   ]
  },
  {
   "cell_type": "code",
   "execution_count": 116,
   "metadata": {
    "collapsed": false
   },
   "outputs": [
    {
     "name": "stdout",
     "output_type": "stream",
     "text": [
      "49.0 441.0 71.0 643.0\n"
     ]
    }
   ],
   "source": [
    "print test_matrix[singlevars[0]].loc[1364],test_matrix[singlevars[1]].loc[1364],test_matrix[singlevars[2]].loc[1364],test_matrix[singlevars[3]].loc[1364]"
   ]
  },
  {
   "cell_type": "code",
   "execution_count": 117,
   "metadata": {
    "collapsed": false
   },
   "outputs": [],
   "source": [
    "halfheight = 1575/2\n",
    "cropbox = [0,uph-halfheight,px_w,uph+halfheight]\n",
    "im = im.crop(cropbox)"
   ]
  },
  {
   "cell_type": "code",
   "execution_count": 118,
   "metadata": {
    "collapsed": true
   },
   "outputs": [],
   "source": [
    "im.save(\"/Users/damoncrockett/Desktop/tmpwintour/PILplatz/VASTvideo/\"+cfeat+\"testlp3\"+\".png\")"
   ]
  },
  {
   "cell_type": "code",
   "execution_count": null,
   "metadata": {
    "collapsed": true
   },
   "outputs": [],
   "source": []
  }
 ],
 "metadata": {
  "kernelspec": {
   "display_name": "Python 2",
   "language": "python",
   "name": "python2"
  },
  "language_info": {
   "codemirror_mode": {
    "name": "ipython",
    "version": 2
   },
   "file_extension": ".py",
   "mimetype": "text/x-python",
   "name": "python",
   "nbconvert_exporter": "python",
   "pygments_lexer": "ipython2",
   "version": "2.7.10"
  }
 },
 "nbformat": 4,
 "nbformat_minor": 0
}
