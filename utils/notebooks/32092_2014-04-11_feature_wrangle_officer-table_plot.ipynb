{
 "cells": [
  {
   "cell_type": "code",
   "execution_count": 1,
   "metadata": {
    "collapsed": true
   },
   "outputs": [],
   "source": [
    "import pandas as pd\n",
    "from collections import Counter\n",
    "from PIL import Image,ImageDraw,ImageFont\n",
    "from scipy.stats import spearmanr\n",
    "import os\n",
    "import numpy as np"
   ]
  },
  {
   "cell_type": "code",
   "execution_count": 2,
   "metadata": {
    "collapsed": true
   },
   "outputs": [],
   "source": [
    "limefeat_alphasort = pd.read_csv(\"limefeat_alphasort.csv\")\n",
    "officer_table = pd.read_csv(\"officer_table.csv\")"
   ]
  },
  {
   "cell_type": "code",
   "execution_count": 3,
   "metadata": {
    "collapsed": false
   },
   "outputs": [],
   "source": [
    "def relister(liststring):\n",
    "    l = []\n",
    "    tmp = liststring.lstrip(\"[\").rstrip(\"]\")\n",
    "    tmp = tmp.split(\",\")\n",
    "    tmp = [item.translate(None,\" '\") for item in tmp]\n",
    "    return tmp"
   ]
  },
  {
   "cell_type": "code",
   "execution_count": 4,
   "metadata": {
    "collapsed": false
   },
   "outputs": [],
   "source": [
    "officer_table['feats'] = officer_table.feats.apply(relister)"
   ]
  },
  {
   "cell_type": "markdown",
   "metadata": {},
   "source": [
    "#### Feature categories"
   ]
  },
  {
   "cell_type": "code",
   "execution_count": 5,
   "metadata": {
    "collapsed": true
   },
   "outputs": [],
   "source": [
    "cathue = {\n",
    "    'ts':'0',\n",
    "    'fi':'32',\n",
    "    'ir':'60',\n",
    "    'shifts':'115',\n",
    "    'dispatch':'180',\n",
    "    'arrests':'240',\n",
    "    'ic':'270',\n",
    "    'demarrests':'300',\n",
    "    'ocnd':'200'\n",
    "    }\n",
    "\n",
    "catsat = {\n",
    "    'ts':'100%',\n",
    "    'fi':'100%',\n",
    "    'ir':'100%',\n",
    "    'shifts':'100%',\n",
    "    'dispatch':'100%',\n",
    "    'arrests':'100%',\n",
    "    'ic':'100%',\n",
    "    'demarrests':'100%',\n",
    "    'ocnd':'100%'\n",
    "    }\n",
    "\n",
    "catval = {\n",
    "    '1d':'5%',\n",
    "    '1w':'25%',\n",
    "    '1m':'50%',\n",
    "    '1y':'75%',\n",
    "    '5y':'100%',\n",
    "    'all':'100%',\n",
    "    }"
   ]
  },
  {
   "cell_type": "code",
   "execution_count": 6,
   "metadata": {
    "collapsed": false
   },
   "outputs": [],
   "source": [
    "officer_table.sort_values(by=\"unit_score\",ascending=False,inplace=True)\n",
    "officer_table.reset_index(drop=True,inplace=True)"
   ]
  },
  {
   "cell_type": "code",
   "execution_count": 7,
   "metadata": {
    "collapsed": true
   },
   "outputs": [],
   "source": [
    "rectwidth = 16\n",
    "rectheight = 16\n",
    "px_w = len(limefeat_alphasort) * rectwidth\n",
    "px_h = len(officer_table) * rectheight"
   ]
  },
  {
   "cell_type": "code",
   "execution_count": 8,
   "metadata": {
    "collapsed": false
   },
   "outputs": [],
   "source": [
    "def offtable(officer_table,feature_table):\n",
    "    canvas = Image.new('RGB',(px_w,px_h),'hsl(0,0%,100%)')\n",
    "    for i in officer_table.index:\n",
    "        feats = officer_table.feats.loc[i]\n",
    "        ycoord = i * rectheight\n",
    "        #outcome = officer_table.outcome.loc[i]\n",
    "        \n",
    "        for feat in feats:\n",
    "            tmp = feature_table[feature_table.feature==feat]\n",
    "            record_type = tmp.record_type.iloc[0]\n",
    "            idx = tmp.index[0]\n",
    "            \n",
    "            xcoord = idx * rectwidth\n",
    "            bbox = [xcoord, ycoord, xcoord + rectwidth, ycoord + rectheight]\n",
    "            \n",
    "            try:\n",
    "                hue = cathue[record_type]\n",
    "                sat = catsat[record_type]\n",
    "                val = '50%'\n",
    "            except:\n",
    "                hue = '0'\n",
    "                sat = '0%'\n",
    "                val = '100%'\n",
    "\n",
    "            fillcolor = 'hsl('+hue+\",\"+sat+\",\"+val+\")\"\n",
    "            draw = ImageDraw.Draw(canvas)\n",
    "            draw.rectangle(bbox,fill=fillcolor,outline=None)\n",
    "    return canvas"
   ]
  },
  {
   "cell_type": "code",
   "execution_count": 9,
   "metadata": {
    "collapsed": false
   },
   "outputs": [],
   "source": [
    "offtable(officer_table,limefeat_alphasort).save(\"officer_table.png\")"
   ]
  }
 ],
 "metadata": {
  "kernelspec": {
   "display_name": "Python 2",
   "language": "python",
   "name": "python2"
  },
  "language_info": {
   "codemirror_mode": {
    "name": "ipython",
    "version": 2
   },
   "file_extension": ".py",
   "mimetype": "text/x-python",
   "name": "python",
   "nbconvert_exporter": "python",
   "pygments_lexer": "ipython2",
   "version": "2.7.10"
  }
 },
 "nbformat": 4,
 "nbformat_minor": 0
}
