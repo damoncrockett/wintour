{
 "cells": [
  {
   "cell_type": "code",
   "execution_count": 1,
   "metadata": {
    "collapsed": true
   },
   "outputs": [],
   "source": [
    "import pandas as pd\n",
    "import numpy as np\n",
    "from collections import Counter\n",
    "%matplotlib inline"
   ]
  },
  {
   "cell_type": "code",
   "execution_count": 2,
   "metadata": {
    "collapsed": false
   },
   "outputs": [],
   "source": [
    "feature_table = pd.read_csv(\"170728_2015-01-01_alphasort.csv\")"
   ]
  },
  {
   "cell_type": "code",
   "execution_count": 3,
   "metadata": {
    "collapsed": false
   },
   "outputs": [
    {
     "name": "stderr",
     "output_type": "stream",
     "text": [
      "/Library/Python/2.7/site-packages/ipykernel/__main__.py:2: SettingWithCopyWarning: \n",
      "A value is trying to be set on a copy of a slice from a DataFrame\n",
      "\n",
      "See the caveats in the documentation: http://pandas.pydata.org/pandas-docs/stable/indexing.html#indexing-view-versus-copy\n",
      "  from ipykernel import kernelapp as app\n"
     ]
    }
   ],
   "source": [
    "tmp = feature_table[feature_table.feature_importance>0.00125]\n",
    "tmp.sort_values(by='feature_importance',ascending=False,inplace=True)\n",
    "tmp.reset_index(drop=True,inplace=True)\n",
    "top_feats = list(tmp.feature)"
   ]
  },
  {
   "cell_type": "code",
   "execution_count": 4,
   "metadata": {
    "collapsed": false
   },
   "outputs": [
    {
     "data": {
      "text/plain": [
       "['dispatch_id_p3m_dispatchinitiatiationtype_ci_sum',\n",
       " 'dispatch_id_p6m_dispatchinitiatiationtype_ci_sum',\n",
       " 'ocag_id_all_officerage_max',\n",
       " 'dispatch_id_p3m_dispatchtype_domestic_disturb_sum',\n",
       " 'dispatch_id_p1m_dispatchinitiatiationtype_ci_sum',\n",
       " 'ts_id_p3m_trafficstopsbyrace_black_sum',\n",
       " 'dispatch_id_p3m_dispatchtype_traffic_sum',\n",
       " 'dispatch_id_p3m_dispatchtype_disorder_sum',\n",
       " 'dispatch_id_p3m_dispatchtype_theft_sum',\n",
       " 'dispatch_id_p6m_dispatchtype_assist_sum',\n",
       " 'dispatch_id_p1y_dispatchinitiatiationtype_ci_sum',\n",
       " 'ts_id_p3m_trafficstops_count',\n",
       " 'dispatch_id_p3m_dispatchtype_assist_sum',\n",
       " 'dispatch_id_p6m_dispatchtype_disorder_sum',\n",
       " 'ts_id_p1m_trafficstops_count',\n",
       " 'dispatch_id_p1m_dispatchtype_traffic_sum',\n",
       " 'demarrests_id_p5y_populationdensity_avg',\n",
       " 'ts_id_p3m_trafficstopsbystopresult_verbal_warning_sum',\n",
       " 'dispatch_id_p6m_dispatchtype_domestic_disturb_sum',\n",
       " 'dispatch_id_p1m_dispatchtype_disorder_sum',\n",
       " 'dispatch_id_p6m_dispatchtype_assault_sum',\n",
       " 'dispatch_id_p6m_dispatchtype_suspicious_sum',\n",
       " 'dispatch_id_p2y_dispatchtype_assault_sum',\n",
       " 'dispatch_id_p1y_dispatchtype_assist_sum',\n",
       " 'ts_id_p1m_trafficstopsbyrace_black_sum',\n",
       " 'arrests_id_p5y_arrestson_sat_avg',\n",
       " 'demarrests_id_p2y_populationdensity_avg',\n",
       " 'dispatch_id_p1y_dispatchtype_domestic_disturb_sum',\n",
       " 'dispatch_id_p3m_dispatchtype_assault_sum',\n",
       " 'dispatch_id_p6m_dispatchtype_drug_sum',\n",
       " 'dispatch_id_p6m_dispatchtype_shooting_sum',\n",
       " 'dispatch_id_p3m_dispatchtype_suspicious_sum',\n",
       " 'demarrests_id_p2y_blackpopulation_avg']"
      ]
     },
     "execution_count": 4,
     "metadata": {},
     "output_type": "execute_result"
    }
   ],
   "source": [
    "top_feats"
   ]
  },
  {
   "cell_type": "code",
   "execution_count": 5,
   "metadata": {
    "collapsed": true
   },
   "outputs": [],
   "source": [
    "train_matrix = pd.read_csv(\"170728_2015-01-01_train-matrix-and-labels.csv\")\n",
    "labels = train_matrix.outcome\n",
    "del train_matrix['outcome']\n",
    "#train_matrix = train_matrix.loc[:,top_feats]"
   ]
  },
  {
   "cell_type": "code",
   "execution_count": 6,
   "metadata": {
    "collapsed": false
   },
   "outputs": [],
   "source": [
    "directionality = []\n",
    "for feature in feature_table.feature:\n",
    "    tmp = train_matrix[feature]\n",
    "    pos = tmp[labels==1]\n",
    "    neg = tmp[labels==0]\n",
    "    if np.mean(pos) > np.mean(neg):\n",
    "        directionality.append('pos')\n",
    "    elif np.mean(pos) < np.mean(neg):\n",
    "        directionality.append('neg')\n",
    "    elif np.mean(pos) == np.mean(neg):\n",
    "        directionality.append('equal')\n",
    "    else:\n",
    "        directionality.append('wtf')"
   ]
  },
  {
   "cell_type": "code",
   "execution_count": 7,
   "metadata": {
    "collapsed": false
   },
   "outputs": [],
   "source": [
    "feature_table['direction'] = directionality"
   ]
  },
  {
   "cell_type": "code",
   "execution_count": 8,
   "metadata": {
    "collapsed": true
   },
   "outputs": [],
   "source": [
    "numvals = []\n",
    "for feature in feature_table.feature:\n",
    "    n = len(train_matrix[feature].value_counts())\n",
    "    numvals.append(n)"
   ]
  },
  {
   "cell_type": "code",
   "execution_count": 9,
   "metadata": {
    "collapsed": true
   },
   "outputs": [],
   "source": [
    "feature_table['numvals'] = numvals"
   ]
  },
  {
   "cell_type": "markdown",
   "metadata": {},
   "source": [
    "### grabbin feats"
   ]
  },
  {
   "cell_type": "code",
   "execution_count": 10,
   "metadata": {
    "collapsed": true
   },
   "outputs": [],
   "source": [
    "qstr = \"record_type=='ocnd' & numvals > 1\"\n",
    "ocnds = list(feature_table.query(qstr).feature)"
   ]
  },
  {
   "cell_type": "code",
   "execution_count": 11,
   "metadata": {
    "collapsed": false
   },
   "outputs": [],
   "source": [
    "qstr = \"record_type=='arrests' & direction=='pos' & temp_agg=='p5y' & num_agg=='sum'\"\n",
    "bad_arrests = list(feature_table.query(qstr).feature)"
   ]
  },
  {
   "cell_type": "code",
   "execution_count": 12,
   "metadata": {
    "collapsed": false
   },
   "outputs": [],
   "source": [
    "qstr = \"record_type=='dispatch' & direction=='pos' & temp_agg=='p5y' & num_agg=='sum'\"\n",
    "bad_dispatches = list(feature_table.query(qstr).feature)"
   ]
  },
  {
   "cell_type": "code",
   "execution_count": 13,
   "metadata": {
    "collapsed": true
   },
   "outputs": [],
   "source": [
    "qstr = \"record_type=='ts' & direction=='pos' & temp_agg=='p5y' & num_agg=='sum'\"\n",
    "bad_ts = list(feature_table.query(qstr).feature)"
   ]
  },
  {
   "cell_type": "code",
   "execution_count": 14,
   "metadata": {
    "collapsed": true
   },
   "outputs": [],
   "source": [
    "qstr = \"record_type=='ir' & direction=='pos' & temp_agg=='p5y' & num_agg=='sum'\"\n",
    "bad_ir = list(feature_table.query(qstr).feature)"
   ]
  },
  {
   "cell_type": "code",
   "execution_count": 15,
   "metadata": {
    "collapsed": true
   },
   "outputs": [],
   "source": [
    "qstr = \"record_type=='ic' & direction=='pos' & temp_agg=='p5y' & num_agg=='sum'\"\n",
    "bad_ic = list(feature_table.query(qstr).feature)"
   ]
  },
  {
   "cell_type": "markdown",
   "metadata": {},
   "source": [
    "### Let's start measuring!"
   ]
  },
  {
   "cell_type": "code",
   "execution_count": 16,
   "metadata": {
    "collapsed": true
   },
   "outputs": [],
   "source": [
    "from scipy.stats import histogram as hist\n",
    "\n",
    "def minmax(matrix,feat):\n",
    "    tmp = matrix.loc[:,feat]\n",
    "    return min(tmp),max(tmp)\n",
    "\n",
    "def probnorm(array):\n",
    "    divisor = sum(array)\n",
    "    return np.asarray([item / float(divisor) for item in array])"
   ]
  },
  {
   "cell_type": "markdown",
   "metadata": {},
   "source": [
    "#### Officer demographics"
   ]
  },
  {
   "cell_type": "code",
   "execution_count": 17,
   "metadata": {
    "collapsed": true
   },
   "outputs": [],
   "source": [
    "def euc_binary(ocnd,feat):\n",
    "    featlabel0 = probnorm(hist(train_matrix[feat][labels==0],100,minmax(train_matrix,feat))[0])\n",
    "    featlabel1 = probnorm(hist(train_matrix[feat][labels==1],100,minmax(train_matrix,feat))[0])\n",
    "    featdist = np.linalg.norm(featlabel0-featlabel1)\n",
    "    \n",
    "    ocnd0 = train_matrix[feat][train_matrix[ocnd]==0]\n",
    "    ocnd1 = train_matrix[feat][train_matrix[ocnd]==1]\n",
    "    \n",
    "    ocnd0label0 = probnorm(hist(ocnd0[labels==0],100,minmax(train_matrix,feat))[0])\n",
    "    ocnd0label1 = probnorm(hist(ocnd0[labels==1],100,minmax(train_matrix,feat))[0])\n",
    "    ocnd1label0 = probnorm(hist(ocnd1[labels==0],100,minmax(train_matrix,feat))[0])\n",
    "    ocnd1label1 = probnorm(hist(ocnd1[labels==1],100,minmax(train_matrix,feat))[0])\n",
    "    \n",
    "    ocnd0dist = np.linalg.norm(ocnd0label0-ocnd0label1)\n",
    "    ocnd1dist = np.linalg.norm(ocnd1label0-ocnd1label1)\n",
    "    \n",
    "    return featdist,ocnd0dist,ocnd1dist"
   ]
  },
  {
   "cell_type": "code",
   "execution_count": 75,
   "metadata": {
    "collapsed": false
   },
   "outputs": [
    {
     "data": {
      "text/plain": [
       "'\\nmain_feat = []\\nfeatdist = []\\ndemog_feat = []\\ndemog0dist = []\\ndemog1dist = []\\n\\ncounter = 0\\nfor top_feat in feature_table.feature:\\n    for ocnd in ocnds:\\n        if top_feat!=ocnd:\\n            counter+=1\\n            main_feat.append(top_feat)\\n            demog_feat.append(ocnd)\\n            \\n            dists = euc_binary(ocnd,top_feat)\\n            featdist.append(dists[0])\\n            demog0dist.append(dists[1])\\n            demog1dist.append(dists[2])\\n            \\n            if np.random.binomial(1,0.001)==1:\\n                print counter\\n                \\n            \\ndf = pd.DataFrame({\\n        \"main_feat\":main_feat,\\n        \"demog_feat\":demog_feat,\\n        \"featdist\":featdist,\\n        \"demog0dist\":demog0dist,\\n        \"demog1dist\":demog1dist\\n    })\\n\\ndf.to_csv(\"170728_2015-01-01_interactions_topfeat_ocnd_probnorm.csv\",index=False)\\n'"
      ]
     },
     "execution_count": 75,
     "metadata": {},
     "output_type": "execute_result"
    }
   ],
   "source": [
    "\"\"\"\n",
    "main_feat = []\n",
    "featdist = []\n",
    "demog_feat = []\n",
    "demog0dist = []\n",
    "demog1dist = []\n",
    "\n",
    "counter = 0\n",
    "for top_feat in feature_table.feature:\n",
    "    for ocnd in ocnds:\n",
    "        if top_feat!=ocnd:\n",
    "            counter+=1\n",
    "            main_feat.append(top_feat)\n",
    "            demog_feat.append(ocnd)\n",
    "            \n",
    "            dists = euc_binary(ocnd,top_feat)\n",
    "            featdist.append(dists[0])\n",
    "            demog0dist.append(dists[1])\n",
    "            demog1dist.append(dists[2])\n",
    "            \n",
    "            if np.random.binomial(1,0.001)==1:\n",
    "                print counter\n",
    "                \n",
    "            \n",
    "df = pd.DataFrame({\n",
    "        \"main_feat\":main_feat,\n",
    "        \"demog_feat\":demog_feat,\n",
    "        \"featdist\":featdist,\n",
    "        \"demog0dist\":demog0dist,\n",
    "        \"demog1dist\":demog1dist\n",
    "    })\n",
    "    \n",
    "#df['zerodiff'] = [abs(df.featdist.loc[i]-df.demog0dist.loc[i]) for i in range(len(df))]\n",
    "#df['onediff'] = [abs(df.featdist.loc[i]-df.demog1dist.loc[i]) for i in range(len(df))]\n",
    "#df['zerosize'] = [train_matrix[item].value_counts()[0] for item in df.demog_feat]\n",
    "\n",
    "dfsub = feature_table[['feature','feature_importance']]\n",
    "dfsub.rename(columns={\"feature\":\"main_feat\"},inplace=True)\n",
    "dfsub.set_index('main_feat',inplace=True)\n",
    "df = df.join(dfsub,on='main_feat')\n",
    "df.to_csv(\"170728_2015-01-01_interactions_topfeat_ocnd_probnorm.csv\",index=False)\n",
    "\"\"\""
   ]
  },
  {
   "cell_type": "code",
   "execution_count": 76,
   "metadata": {
    "collapsed": true
   },
   "outputs": [],
   "source": [
    "#tmp = df.query(\"demog0dist > 0.2 & featdist < 0.1 & zerosize > 277\")\n",
    "#tmp = tmp[['demog_feat','main_feat','zerosize','feature_importance']]\n",
    "#tmp.sort_values(by='feature_importance',ascending=False)\n",
    "#df.query(\"demog0dist > 0.2 & featdist < 0.1 & zerosize > 277\")"
   ]
  },
  {
   "cell_type": "markdown",
   "metadata": {},
   "source": [
    "#### Continuous Variables: The Bad"
   ]
  },
  {
   "cell_type": "code",
   "execution_count": 56,
   "metadata": {
    "collapsed": true
   },
   "outputs": [],
   "source": [
    "def KLD(p,q):\n",
    "    p = p + 0.000001 # bc KLD undefined if any bin==0\n",
    "    q = q + 0.000001\n",
    "    \n",
    "    quot = p / q\n",
    "    logquot = np.apply_along_axis(np.log,0,quot)\n",
    "    plogquot = p * logquot\n",
    "    \n",
    "    return sum(plogquot)"
   ]
  },
  {
   "cell_type": "code",
   "execution_count": 57,
   "metadata": {
    "collapsed": true
   },
   "outputs": [],
   "source": [
    "cfeat = \"dispatch_id_p6m_dispatchtype_drug_sum\"\n",
    "ifeat = \"bad_ic\""
   ]
  },
  {
   "cell_type": "code",
   "execution_count": 72,
   "metadata": {
    "collapsed": true
   },
   "outputs": [],
   "source": [
    "featlabel0 = probnorm(hist(train_matrix[cfeat][labels==0],100,minmax(train_matrix,cfeat))[0])\n",
    "featlabel1 = probnorm(hist(train_matrix[cfeat][labels==1],100,minmax(train_matrix,cfeat))[0])"
   ]
  },
  {
   "cell_type": "code",
   "execution_count": 73,
   "metadata": {
    "collapsed": false
   },
   "outputs": [
    {
     "data": {
      "text/plain": [
       "0.13686287398908545"
      ]
     },
     "execution_count": 73,
     "metadata": {},
     "output_type": "execute_result"
    }
   ],
   "source": [
    "KLD(featlabel1,featlabel0)"
   ]
  },
  {
   "cell_type": "code",
   "execution_count": 75,
   "metadata": {
    "collapsed": false
   },
   "outputs": [
    {
     "data": {
      "text/plain": [
       "array([ 0.69314718,  0.69314718,  0.69314718])"
      ]
     },
     "execution_count": 75,
     "metadata": {},
     "output_type": "execute_result"
    }
   ],
   "source": [
    "np.log(np.array([2,2,2]))"
   ]
  },
  {
   "cell_type": "code",
   "execution_count": 25,
   "metadata": {
    "collapsed": false
   },
   "outputs": [
    {
     "data": {
      "text/html": [
       "<div>\n",
       "<table border=\"1\" class=\"dataframe\">\n",
       "  <thead>\n",
       "    <tr style=\"text-align: right;\">\n",
       "      <th></th>\n",
       "      <th>bad_arrests</th>\n",
       "      <th>bad_ic</th>\n",
       "      <th>bad_ir</th>\n",
       "      <th>bad_dispatches</th>\n",
       "      <th>bad_ts</th>\n",
       "    </tr>\n",
       "  </thead>\n",
       "  <tbody>\n",
       "    <tr>\n",
       "      <th>0</th>\n",
       "      <td>685.0</td>\n",
       "      <td>6.0</td>\n",
       "      <td>16.0</td>\n",
       "      <td>0.0</td>\n",
       "      <td>1101.0</td>\n",
       "    </tr>\n",
       "    <tr>\n",
       "      <th>1</th>\n",
       "      <td>405.0</td>\n",
       "      <td>1.0</td>\n",
       "      <td>4.0</td>\n",
       "      <td>0.0</td>\n",
       "      <td>192.0</td>\n",
       "    </tr>\n",
       "    <tr>\n",
       "      <th>2</th>\n",
       "      <td>399.0</td>\n",
       "      <td>6.0</td>\n",
       "      <td>22.0</td>\n",
       "      <td>0.0</td>\n",
       "      <td>728.0</td>\n",
       "    </tr>\n",
       "    <tr>\n",
       "      <th>3</th>\n",
       "      <td>74.0</td>\n",
       "      <td>0.0</td>\n",
       "      <td>0.0</td>\n",
       "      <td>0.0</td>\n",
       "      <td>97.0</td>\n",
       "    </tr>\n",
       "    <tr>\n",
       "      <th>4</th>\n",
       "      <td>224.0</td>\n",
       "      <td>3.0</td>\n",
       "      <td>7.0</td>\n",
       "      <td>0.0</td>\n",
       "      <td>228.0</td>\n",
       "    </tr>\n",
       "    <tr>\n",
       "      <th>5</th>\n",
       "      <td>5.0</td>\n",
       "      <td>0.0</td>\n",
       "      <td>0.0</td>\n",
       "      <td>0.0</td>\n",
       "      <td>0.0</td>\n",
       "    </tr>\n",
       "    <tr>\n",
       "      <th>6</th>\n",
       "      <td>328.0</td>\n",
       "      <td>2.0</td>\n",
       "      <td>6.0</td>\n",
       "      <td>0.0</td>\n",
       "      <td>452.0</td>\n",
       "    </tr>\n",
       "    <tr>\n",
       "      <th>7</th>\n",
       "      <td>339.0</td>\n",
       "      <td>6.0</td>\n",
       "      <td>16.0</td>\n",
       "      <td>0.0</td>\n",
       "      <td>458.0</td>\n",
       "    </tr>\n",
       "    <tr>\n",
       "      <th>8</th>\n",
       "      <td>214.0</td>\n",
       "      <td>1.0</td>\n",
       "      <td>4.0</td>\n",
       "      <td>0.0</td>\n",
       "      <td>674.0</td>\n",
       "    </tr>\n",
       "    <tr>\n",
       "      <th>9</th>\n",
       "      <td>4.0</td>\n",
       "      <td>1.0</td>\n",
       "      <td>3.0</td>\n",
       "      <td>0.0</td>\n",
       "      <td>2.0</td>\n",
       "    </tr>\n",
       "    <tr>\n",
       "      <th>10</th>\n",
       "      <td>90.0</td>\n",
       "      <td>2.0</td>\n",
       "      <td>6.0</td>\n",
       "      <td>0.0</td>\n",
       "      <td>543.0</td>\n",
       "    </tr>\n",
       "    <tr>\n",
       "      <th>11</th>\n",
       "      <td>459.0</td>\n",
       "      <td>4.0</td>\n",
       "      <td>10.0</td>\n",
       "      <td>0.0</td>\n",
       "      <td>3450.0</td>\n",
       "    </tr>\n",
       "    <tr>\n",
       "      <th>12</th>\n",
       "      <td>177.0</td>\n",
       "      <td>1.0</td>\n",
       "      <td>3.0</td>\n",
       "      <td>0.0</td>\n",
       "      <td>117.0</td>\n",
       "    </tr>\n",
       "    <tr>\n",
       "      <th>13</th>\n",
       "      <td>767.0</td>\n",
       "      <td>6.0</td>\n",
       "      <td>13.0</td>\n",
       "      <td>0.0</td>\n",
       "      <td>560.0</td>\n",
       "    </tr>\n",
       "    <tr>\n",
       "      <th>14</th>\n",
       "      <td>201.0</td>\n",
       "      <td>1.0</td>\n",
       "      <td>3.0</td>\n",
       "      <td>0.0</td>\n",
       "      <td>739.0</td>\n",
       "    </tr>\n",
       "    <tr>\n",
       "      <th>15</th>\n",
       "      <td>1272.0</td>\n",
       "      <td>15.0</td>\n",
       "      <td>39.0</td>\n",
       "      <td>0.0</td>\n",
       "      <td>882.0</td>\n",
       "    </tr>\n",
       "    <tr>\n",
       "      <th>16</th>\n",
       "      <td>292.0</td>\n",
       "      <td>3.0</td>\n",
       "      <td>7.0</td>\n",
       "      <td>0.0</td>\n",
       "      <td>1378.0</td>\n",
       "    </tr>\n",
       "    <tr>\n",
       "      <th>17</th>\n",
       "      <td>532.0</td>\n",
       "      <td>8.0</td>\n",
       "      <td>25.0</td>\n",
       "      <td>0.0</td>\n",
       "      <td>836.0</td>\n",
       "    </tr>\n",
       "    <tr>\n",
       "      <th>18</th>\n",
       "      <td>75.0</td>\n",
       "      <td>5.0</td>\n",
       "      <td>21.0</td>\n",
       "      <td>0.0</td>\n",
       "      <td>47.0</td>\n",
       "    </tr>\n",
       "    <tr>\n",
       "      <th>19</th>\n",
       "      <td>50.0</td>\n",
       "      <td>16.0</td>\n",
       "      <td>32.0</td>\n",
       "      <td>0.0</td>\n",
       "      <td>0.0</td>\n",
       "    </tr>\n",
       "    <tr>\n",
       "      <th>20</th>\n",
       "      <td>784.0</td>\n",
       "      <td>30.0</td>\n",
       "      <td>67.0</td>\n",
       "      <td>0.0</td>\n",
       "      <td>2391.0</td>\n",
       "    </tr>\n",
       "    <tr>\n",
       "      <th>21</th>\n",
       "      <td>695.0</td>\n",
       "      <td>11.0</td>\n",
       "      <td>33.0</td>\n",
       "      <td>0.0</td>\n",
       "      <td>426.0</td>\n",
       "    </tr>\n",
       "    <tr>\n",
       "      <th>22</th>\n",
       "      <td>215.0</td>\n",
       "      <td>12.0</td>\n",
       "      <td>30.0</td>\n",
       "      <td>0.0</td>\n",
       "      <td>396.0</td>\n",
       "    </tr>\n",
       "    <tr>\n",
       "      <th>23</th>\n",
       "      <td>719.0</td>\n",
       "      <td>15.0</td>\n",
       "      <td>99.0</td>\n",
       "      <td>0.0</td>\n",
       "      <td>4324.0</td>\n",
       "    </tr>\n",
       "    <tr>\n",
       "      <th>24</th>\n",
       "      <td>109.0</td>\n",
       "      <td>6.0</td>\n",
       "      <td>16.0</td>\n",
       "      <td>0.0</td>\n",
       "      <td>636.0</td>\n",
       "    </tr>\n",
       "    <tr>\n",
       "      <th>25</th>\n",
       "      <td>240.0</td>\n",
       "      <td>2.0</td>\n",
       "      <td>6.0</td>\n",
       "      <td>0.0</td>\n",
       "      <td>0.0</td>\n",
       "    </tr>\n",
       "    <tr>\n",
       "      <th>26</th>\n",
       "      <td>50.0</td>\n",
       "      <td>0.0</td>\n",
       "      <td>0.0</td>\n",
       "      <td>0.0</td>\n",
       "      <td>338.0</td>\n",
       "    </tr>\n",
       "    <tr>\n",
       "      <th>27</th>\n",
       "      <td>124.0</td>\n",
       "      <td>0.0</td>\n",
       "      <td>0.0</td>\n",
       "      <td>0.0</td>\n",
       "      <td>384.0</td>\n",
       "    </tr>\n",
       "    <tr>\n",
       "      <th>28</th>\n",
       "      <td>232.0</td>\n",
       "      <td>3.0</td>\n",
       "      <td>9.0</td>\n",
       "      <td>0.0</td>\n",
       "      <td>1780.0</td>\n",
       "    </tr>\n",
       "    <tr>\n",
       "      <th>29</th>\n",
       "      <td>230.0</td>\n",
       "      <td>4.0</td>\n",
       "      <td>17.0</td>\n",
       "      <td>0.0</td>\n",
       "      <td>844.0</td>\n",
       "    </tr>\n",
       "    <tr>\n",
       "      <th>...</th>\n",
       "      <td>...</td>\n",
       "      <td>...</td>\n",
       "      <td>...</td>\n",
       "      <td>...</td>\n",
       "      <td>...</td>\n",
       "    </tr>\n",
       "    <tr>\n",
       "      <th>8614</th>\n",
       "      <td>375.0</td>\n",
       "      <td>5.0</td>\n",
       "      <td>13.0</td>\n",
       "      <td>5031.0</td>\n",
       "      <td>49.0</td>\n",
       "    </tr>\n",
       "    <tr>\n",
       "      <th>8615</th>\n",
       "      <td>121.0</td>\n",
       "      <td>14.0</td>\n",
       "      <td>54.0</td>\n",
       "      <td>30358.0</td>\n",
       "      <td>3834.0</td>\n",
       "    </tr>\n",
       "    <tr>\n",
       "      <th>8616</th>\n",
       "      <td>502.0</td>\n",
       "      <td>7.0</td>\n",
       "      <td>19.0</td>\n",
       "      <td>21161.0</td>\n",
       "      <td>390.0</td>\n",
       "    </tr>\n",
       "    <tr>\n",
       "      <th>8617</th>\n",
       "      <td>24.0</td>\n",
       "      <td>8.0</td>\n",
       "      <td>18.0</td>\n",
       "      <td>303.0</td>\n",
       "      <td>0.0</td>\n",
       "    </tr>\n",
       "    <tr>\n",
       "      <th>8618</th>\n",
       "      <td>374.0</td>\n",
       "      <td>9.0</td>\n",
       "      <td>22.0</td>\n",
       "      <td>18125.0</td>\n",
       "      <td>364.0</td>\n",
       "    </tr>\n",
       "    <tr>\n",
       "      <th>8619</th>\n",
       "      <td>197.0</td>\n",
       "      <td>2.0</td>\n",
       "      <td>6.0</td>\n",
       "      <td>19442.0</td>\n",
       "      <td>146.0</td>\n",
       "    </tr>\n",
       "    <tr>\n",
       "      <th>8620</th>\n",
       "      <td>0.0</td>\n",
       "      <td>0.0</td>\n",
       "      <td>0.0</td>\n",
       "      <td>708.0</td>\n",
       "      <td>73.0</td>\n",
       "    </tr>\n",
       "    <tr>\n",
       "      <th>8621</th>\n",
       "      <td>150.0</td>\n",
       "      <td>4.0</td>\n",
       "      <td>8.0</td>\n",
       "      <td>205.0</td>\n",
       "      <td>0.0</td>\n",
       "    </tr>\n",
       "    <tr>\n",
       "      <th>8622</th>\n",
       "      <td>0.0</td>\n",
       "      <td>8.0</td>\n",
       "      <td>17.0</td>\n",
       "      <td>234.0</td>\n",
       "      <td>0.0</td>\n",
       "    </tr>\n",
       "    <tr>\n",
       "      <th>8623</th>\n",
       "      <td>537.0</td>\n",
       "      <td>14.0</td>\n",
       "      <td>194.0</td>\n",
       "      <td>32377.0</td>\n",
       "      <td>1124.0</td>\n",
       "    </tr>\n",
       "    <tr>\n",
       "      <th>8624</th>\n",
       "      <td>807.0</td>\n",
       "      <td>21.0</td>\n",
       "      <td>348.0</td>\n",
       "      <td>19010.0</td>\n",
       "      <td>2758.0</td>\n",
       "    </tr>\n",
       "    <tr>\n",
       "      <th>8625</th>\n",
       "      <td>760.0</td>\n",
       "      <td>18.0</td>\n",
       "      <td>110.0</td>\n",
       "      <td>18739.0</td>\n",
       "      <td>3126.0</td>\n",
       "    </tr>\n",
       "    <tr>\n",
       "      <th>8626</th>\n",
       "      <td>541.0</td>\n",
       "      <td>13.0</td>\n",
       "      <td>52.0</td>\n",
       "      <td>12964.0</td>\n",
       "      <td>816.0</td>\n",
       "    </tr>\n",
       "    <tr>\n",
       "      <th>8627</th>\n",
       "      <td>215.0</td>\n",
       "      <td>4.0</td>\n",
       "      <td>12.0</td>\n",
       "      <td>15156.0</td>\n",
       "      <td>750.0</td>\n",
       "    </tr>\n",
       "    <tr>\n",
       "      <th>8628</th>\n",
       "      <td>366.0</td>\n",
       "      <td>0.0</td>\n",
       "      <td>0.0</td>\n",
       "      <td>13451.0</td>\n",
       "      <td>1580.0</td>\n",
       "    </tr>\n",
       "    <tr>\n",
       "      <th>8629</th>\n",
       "      <td>553.0</td>\n",
       "      <td>14.0</td>\n",
       "      <td>69.0</td>\n",
       "      <td>397.0</td>\n",
       "      <td>61.0</td>\n",
       "    </tr>\n",
       "    <tr>\n",
       "      <th>8630</th>\n",
       "      <td>1155.0</td>\n",
       "      <td>18.0</td>\n",
       "      <td>47.0</td>\n",
       "      <td>19226.0</td>\n",
       "      <td>2764.0</td>\n",
       "    </tr>\n",
       "    <tr>\n",
       "      <th>8631</th>\n",
       "      <td>419.0</td>\n",
       "      <td>8.0</td>\n",
       "      <td>21.0</td>\n",
       "      <td>30537.0</td>\n",
       "      <td>1691.0</td>\n",
       "    </tr>\n",
       "    <tr>\n",
       "      <th>8632</th>\n",
       "      <td>217.0</td>\n",
       "      <td>9.0</td>\n",
       "      <td>21.0</td>\n",
       "      <td>27643.0</td>\n",
       "      <td>192.0</td>\n",
       "    </tr>\n",
       "    <tr>\n",
       "      <th>8633</th>\n",
       "      <td>334.0</td>\n",
       "      <td>6.0</td>\n",
       "      <td>20.0</td>\n",
       "      <td>18858.0</td>\n",
       "      <td>1782.0</td>\n",
       "    </tr>\n",
       "    <tr>\n",
       "      <th>8634</th>\n",
       "      <td>755.0</td>\n",
       "      <td>21.0</td>\n",
       "      <td>54.0</td>\n",
       "      <td>9331.0</td>\n",
       "      <td>813.0</td>\n",
       "    </tr>\n",
       "    <tr>\n",
       "      <th>8635</th>\n",
       "      <td>25.0</td>\n",
       "      <td>1.0</td>\n",
       "      <td>3.0</td>\n",
       "      <td>1699.0</td>\n",
       "      <td>3.0</td>\n",
       "    </tr>\n",
       "    <tr>\n",
       "      <th>8636</th>\n",
       "      <td>63.0</td>\n",
       "      <td>6.0</td>\n",
       "      <td>12.0</td>\n",
       "      <td>30033.0</td>\n",
       "      <td>1072.0</td>\n",
       "    </tr>\n",
       "    <tr>\n",
       "      <th>8637</th>\n",
       "      <td>68.0</td>\n",
       "      <td>6.0</td>\n",
       "      <td>22.0</td>\n",
       "      <td>5286.0</td>\n",
       "      <td>260.0</td>\n",
       "    </tr>\n",
       "    <tr>\n",
       "      <th>8638</th>\n",
       "      <td>468.0</td>\n",
       "      <td>11.0</td>\n",
       "      <td>28.0</td>\n",
       "      <td>13692.0</td>\n",
       "      <td>1760.0</td>\n",
       "    </tr>\n",
       "    <tr>\n",
       "      <th>8639</th>\n",
       "      <td>204.0</td>\n",
       "      <td>3.0</td>\n",
       "      <td>9.0</td>\n",
       "      <td>12015.0</td>\n",
       "      <td>1005.0</td>\n",
       "    </tr>\n",
       "    <tr>\n",
       "      <th>8640</th>\n",
       "      <td>253.0</td>\n",
       "      <td>1.0</td>\n",
       "      <td>7.0</td>\n",
       "      <td>18812.0</td>\n",
       "      <td>937.0</td>\n",
       "    </tr>\n",
       "    <tr>\n",
       "      <th>8641</th>\n",
       "      <td>411.0</td>\n",
       "      <td>7.0</td>\n",
       "      <td>16.0</td>\n",
       "      <td>16012.0</td>\n",
       "      <td>697.0</td>\n",
       "    </tr>\n",
       "    <tr>\n",
       "      <th>8642</th>\n",
       "      <td>423.0</td>\n",
       "      <td>4.0</td>\n",
       "      <td>13.0</td>\n",
       "      <td>11093.0</td>\n",
       "      <td>1347.0</td>\n",
       "    </tr>\n",
       "    <tr>\n",
       "      <th>8643</th>\n",
       "      <td>1402.0</td>\n",
       "      <td>25.0</td>\n",
       "      <td>64.0</td>\n",
       "      <td>20675.0</td>\n",
       "      <td>2017.0</td>\n",
       "    </tr>\n",
       "  </tbody>\n",
       "</table>\n",
       "<p>8644 rows × 5 columns</p>\n",
       "</div>"
      ],
      "text/plain": [
       "      bad_arrests  bad_ic  bad_ir  bad_dispatches  bad_ts\n",
       "0           685.0     6.0    16.0             0.0  1101.0\n",
       "1           405.0     1.0     4.0             0.0   192.0\n",
       "2           399.0     6.0    22.0             0.0   728.0\n",
       "3            74.0     0.0     0.0             0.0    97.0\n",
       "4           224.0     3.0     7.0             0.0   228.0\n",
       "5             5.0     0.0     0.0             0.0     0.0\n",
       "6           328.0     2.0     6.0             0.0   452.0\n",
       "7           339.0     6.0    16.0             0.0   458.0\n",
       "8           214.0     1.0     4.0             0.0   674.0\n",
       "9             4.0     1.0     3.0             0.0     2.0\n",
       "10           90.0     2.0     6.0             0.0   543.0\n",
       "11          459.0     4.0    10.0             0.0  3450.0\n",
       "12          177.0     1.0     3.0             0.0   117.0\n",
       "13          767.0     6.0    13.0             0.0   560.0\n",
       "14          201.0     1.0     3.0             0.0   739.0\n",
       "15         1272.0    15.0    39.0             0.0   882.0\n",
       "16          292.0     3.0     7.0             0.0  1378.0\n",
       "17          532.0     8.0    25.0             0.0   836.0\n",
       "18           75.0     5.0    21.0             0.0    47.0\n",
       "19           50.0    16.0    32.0             0.0     0.0\n",
       "20          784.0    30.0    67.0             0.0  2391.0\n",
       "21          695.0    11.0    33.0             0.0   426.0\n",
       "22          215.0    12.0    30.0             0.0   396.0\n",
       "23          719.0    15.0    99.0             0.0  4324.0\n",
       "24          109.0     6.0    16.0             0.0   636.0\n",
       "25          240.0     2.0     6.0             0.0     0.0\n",
       "26           50.0     0.0     0.0             0.0   338.0\n",
       "27          124.0     0.0     0.0             0.0   384.0\n",
       "28          232.0     3.0     9.0             0.0  1780.0\n",
       "29          230.0     4.0    17.0             0.0   844.0\n",
       "...           ...     ...     ...             ...     ...\n",
       "8614        375.0     5.0    13.0          5031.0    49.0\n",
       "8615        121.0    14.0    54.0         30358.0  3834.0\n",
       "8616        502.0     7.0    19.0         21161.0   390.0\n",
       "8617         24.0     8.0    18.0           303.0     0.0\n",
       "8618        374.0     9.0    22.0         18125.0   364.0\n",
       "8619        197.0     2.0     6.0         19442.0   146.0\n",
       "8620          0.0     0.0     0.0           708.0    73.0\n",
       "8621        150.0     4.0     8.0           205.0     0.0\n",
       "8622          0.0     8.0    17.0           234.0     0.0\n",
       "8623        537.0    14.0   194.0         32377.0  1124.0\n",
       "8624        807.0    21.0   348.0         19010.0  2758.0\n",
       "8625        760.0    18.0   110.0         18739.0  3126.0\n",
       "8626        541.0    13.0    52.0         12964.0   816.0\n",
       "8627        215.0     4.0    12.0         15156.0   750.0\n",
       "8628        366.0     0.0     0.0         13451.0  1580.0\n",
       "8629        553.0    14.0    69.0           397.0    61.0\n",
       "8630       1155.0    18.0    47.0         19226.0  2764.0\n",
       "8631        419.0     8.0    21.0         30537.0  1691.0\n",
       "8632        217.0     9.0    21.0         27643.0   192.0\n",
       "8633        334.0     6.0    20.0         18858.0  1782.0\n",
       "8634        755.0    21.0    54.0          9331.0   813.0\n",
       "8635         25.0     1.0     3.0          1699.0     3.0\n",
       "8636         63.0     6.0    12.0         30033.0  1072.0\n",
       "8637         68.0     6.0    22.0          5286.0   260.0\n",
       "8638        468.0    11.0    28.0         13692.0  1760.0\n",
       "8639        204.0     3.0     9.0         12015.0  1005.0\n",
       "8640        253.0     1.0     7.0         18812.0   937.0\n",
       "8641        411.0     7.0    16.0         16012.0   697.0\n",
       "8642        423.0     4.0    13.0         11093.0  1347.0\n",
       "8643       1402.0    25.0    64.0         20675.0  2017.0\n",
       "\n",
       "[8644 rows x 5 columns]"
      ]
     },
     "execution_count": 25,
     "metadata": {},
     "output_type": "execute_result"
    }
   ],
   "source": [
    "def KL_cont(ifeat,cfeat,nbins):\n",
    "    featlabel0 = probnorm(hist(train_matrix[cfeat][labels==0],100,minmax(train_matrix,cfeat))[0])\n",
    "    featlabel1 = probnorm(hist(train_matrix[cfeat][labels==1],100,minmax(train_matrix,cfeat))[0])\n",
    "    \n",
    "    featdist = \n",
    "    \n",
    "    subdists = []\n",
    "    for binn in range(nbins):\n",
    "        sub = train_matrix[cfeat][pd.cut(dfbad[ifeat],bins=nbins,labels=False)==binn]\n",
    "        sub0 = probnorm(hist(sub[labels==0],10,minmax(train_matrix,cfeat))[0])\n",
    "        sub1 = probnorm(hist(sub[labels==1],10,minmax(train_matrix,cfeat))[0])\n",
    "        subdists.append( np.linalg.norm(sub0-sub1) )\n",
    "    \n",
    "    return featdist,subdists "
   ]
  },
  {
   "cell_type": "code",
   "execution_count": null,
   "metadata": {
    "collapsed": true
   },
   "outputs": [],
   "source": []
  },
  {
   "cell_type": "code",
   "execution_count": null,
   "metadata": {
    "collapsed": true
   },
   "outputs": [],
   "source": []
  },
  {
   "cell_type": "code",
   "execution_count": null,
   "metadata": {
    "collapsed": true
   },
   "outputs": [],
   "source": []
  },
  {
   "cell_type": "code",
   "execution_count": null,
   "metadata": {
    "collapsed": true
   },
   "outputs": [],
   "source": []
  },
  {
   "cell_type": "code",
   "execution_count": 18,
   "metadata": {
    "collapsed": true
   },
   "outputs": [],
   "source": [
    "def featagg(featlist,matrix):\n",
    "    return matrix.loc[:,featlist].sum(axis=1)"
   ]
  },
  {
   "cell_type": "code",
   "execution_count": 19,
   "metadata": {
    "collapsed": false
   },
   "outputs": [],
   "source": [
    "bads = {\"bad_arrests\":bad_arrests,\n",
    "        \"bad_dispatches\":bad_dispatches,\n",
    "        \"bad_ts\":bad_ts,\n",
    "        \"bad_ir\":bad_ir,\n",
    "        \"bad_ic\":bad_ic}\n",
    "dfbad = pd.DataFrame()"
   ]
  },
  {
   "cell_type": "code",
   "execution_count": 20,
   "metadata": {
    "collapsed": false
   },
   "outputs": [],
   "source": [
    "for bad in bads.keys():\n",
    "    dfbad[bad] = featagg(bads[bad],train_matrix)"
   ]
  },
  {
   "cell_type": "code",
   "execution_count": 106,
   "metadata": {
    "collapsed": true
   },
   "outputs": [],
   "source": [
    "#dfbad.to_csv(\"170728_2015-01-01_dfbad.csv\",index=False)"
   ]
  },
  {
   "cell_type": "code",
   "execution_count": 21,
   "metadata": {
    "collapsed": false
   },
   "outputs": [],
   "source": [
    "def euc_cont(ifeat,cfeat,nbins):\n",
    "    featlabel0 = probnorm(hist(train_matrix[cfeat][labels==0],10,minmax(train_matrix,cfeat))[0])\n",
    "    featlabel1 = probnorm(hist(train_matrix[cfeat][labels==1],10,minmax(train_matrix,cfeat))[0])\n",
    "    featdist = np.linalg.norm(featlabel0-featlabel1)\n",
    "    \n",
    "    subdists = []\n",
    "    for binn in range(nbins):\n",
    "        sub = train_matrix[cfeat][pd.cut(dfbad[ifeat],bins=nbins,labels=False)==binn]\n",
    "        sub0 = probnorm(hist(sub[labels==0],10,minmax(train_matrix,cfeat))[0])\n",
    "        sub1 = probnorm(hist(sub[labels==1],10,minmax(train_matrix,cfeat))[0])\n",
    "        subdists.append( np.linalg.norm(sub0-sub1) )\n",
    "    \n",
    "    return featdist,subdists "
   ]
  },
  {
   "cell_type": "code",
   "execution_count": 22,
   "metadata": {
    "collapsed": true
   },
   "outputs": [],
   "source": [
    "nbins = 4"
   ]
  },
  {
   "cell_type": "code",
   "execution_count": 143,
   "metadata": {
    "collapsed": false
   },
   "outputs": [],
   "source": [
    "ifeats = []\n",
    "cfeats = []\n",
    "featdists = []\n",
    "subdists = []\n",
    "\n",
    "for ifeat in dfbad.columns:\n",
    "    for cfeat in top_feats:\n",
    "        ifeats.append(ifeat)\n",
    "        cfeats.append(cfeat)\n",
    "        outputs = euc_cont(ifeat,cfeat,nbins)\n",
    "        featdists.append(outputs[0])\n",
    "        subdists.append(outputs[1])\n",
    "        \n",
    "diffs = pd.DataFrame({\n",
    "        \"ifeat\":ifeats,\n",
    "        \"cfeat\":cfeats,\n",
    "        \"featdist\":featdists,\n",
    "        \"subdist\":subdists\n",
    "    })"
   ]
  },
  {
   "cell_type": "code",
   "execution_count": 144,
   "metadata": {
    "collapsed": false
   },
   "outputs": [],
   "source": [
    "diffs.to_csv(\"/Users/damoncrockett/Desktop/tmptable.csv\",index=False)"
   ]
  },
  {
   "cell_type": "code",
   "execution_count": 158,
   "metadata": {
    "collapsed": true
   },
   "outputs": [],
   "source": [
    "nbinbs = 4\n",
    "binn = 3\n",
    "cfeat = \"dispatch_id_p6m_dispatchtype_drug_sum\"\n",
    "ifeat = \"bad_ic\""
   ]
  },
  {
   "cell_type": "code",
   "execution_count": 159,
   "metadata": {
    "collapsed": false
   },
   "outputs": [],
   "source": [
    "sub = train_matrix[cfeat][pd.cut(dfbad[ifeat],bins=nbins,labels=False)==binn]"
   ]
  },
  {
   "cell_type": "code",
   "execution_count": 160,
   "metadata": {
    "collapsed": false
   },
   "outputs": [
    {
     "data": {
      "text/plain": [
       "4076    27.0\n",
       "5350    37.0\n",
       "6692    49.0\n",
       "8105    43.0\n",
       "Name: dispatch_id_p6m_dispatchtype_drug_sum, dtype: float64"
      ]
     },
     "execution_count": 160,
     "metadata": {},
     "output_type": "execute_result"
    }
   ],
   "source": [
    "sub"
   ]
  },
  {
   "cell_type": "code",
   "execution_count": 161,
   "metadata": {
    "collapsed": true
   },
   "outputs": [],
   "source": [
    "sub0 = probnorm(hist(sub[labels==0],10,minmax(train_matrix,cfeat))[0])\n",
    "sub1 = probnorm(hist(sub[labels==1],10,minmax(train_matrix,cfeat))[0])"
   ]
  },
  {
   "cell_type": "code",
   "execution_count": 162,
   "metadata": {
    "collapsed": false
   },
   "outputs": [
    {
     "data": {
      "text/plain": [
       "array([ 0.  ,  0.  ,  0.  ,  0.  ,  0.25,  0.25,  0.25,  0.25,  0.  ,  0.  ])"
      ]
     },
     "execution_count": 162,
     "metadata": {},
     "output_type": "execute_result"
    }
   ],
   "source": [
    "sub0"
   ]
  },
  {
   "cell_type": "code",
   "execution_count": 163,
   "metadata": {
    "collapsed": false
   },
   "outputs": [
    {
     "data": {
      "text/plain": [
       "array([ nan,  nan,  nan,  nan,  nan,  nan,  nan,  nan,  nan,  nan])"
      ]
     },
     "execution_count": 163,
     "metadata": {},
     "output_type": "execute_result"
    }
   ],
   "source": [
    "sub1"
   ]
  },
  {
   "cell_type": "code",
   "execution_count": 172,
   "metadata": {
    "collapsed": false
   },
   "outputs": [
    {
     "data": {
      "text/plain": [
       "45"
      ]
     },
     "execution_count": 172,
     "metadata": {},
     "output_type": "execute_result"
    }
   ],
   "source": [
    "int(45.4545)"
   ]
  },
  {
   "cell_type": "code",
   "execution_count": null,
   "metadata": {
    "collapsed": true
   },
   "outputs": [],
   "source": []
  },
  {
   "cell_type": "code",
   "execution_count": 164,
   "metadata": {
    "collapsed": false
   },
   "outputs": [
    {
     "name": "stdout",
     "output_type": "stream",
     "text": [
      "0    8503\n",
      "1     132\n",
      "3       5\n",
      "2       4\n",
      "Name: bad_arrests, dtype: int64\n",
      "0    8594\n",
      "1      43\n",
      "3       4\n",
      "2       3\n",
      "Name: bad_ic, dtype: int64\n",
      "0    8555\n",
      "1      82\n",
      "3       5\n",
      "2       2\n",
      "Name: bad_ir, dtype: int64\n",
      "0    7644\n",
      "1     952\n",
      "2      42\n",
      "3       6\n",
      "Name: bad_dispatches, dtype: int64\n",
      "0    8362\n",
      "1     202\n",
      "2      60\n",
      "3      20\n",
      "Name: bad_ts, dtype: int64\n"
     ]
    }
   ],
   "source": [
    "for col in dfbad.columns:\n",
    "    print pd.cut(dfbad[col],nbins,labels=False).value_counts()"
   ]
  },
  {
   "cell_type": "code",
   "execution_count": null,
   "metadata": {
    "collapsed": true
   },
   "outputs": [],
   "source": []
  },
  {
   "cell_type": "code",
   "execution_count": 41,
   "metadata": {
    "collapsed": false
   },
   "outputs": [],
   "source": []
  },
  {
   "cell_type": "code",
   "execution_count": 42,
   "metadata": {
    "collapsed": false
   },
   "outputs": [],
   "source": []
  },
  {
   "cell_type": "code",
   "execution_count": 43,
   "metadata": {
    "collapsed": false
   },
   "outputs": [],
   "source": []
  },
  {
   "cell_type": "code",
   "execution_count": 45,
   "metadata": {
    "collapsed": false
   },
   "outputs": [],
   "source": []
  },
  {
   "cell_type": "code",
   "execution_count": 46,
   "metadata": {
    "collapsed": false
   },
   "outputs": [],
   "source": []
  },
  {
   "cell_type": "code",
   "execution_count": null,
   "metadata": {
    "collapsed": true
   },
   "outputs": [],
   "source": []
  },
  {
   "cell_type": "code",
   "execution_count": null,
   "metadata": {
    "collapsed": true
   },
   "outputs": [],
   "source": []
  },
  {
   "cell_type": "code",
   "execution_count": null,
   "metadata": {
    "collapsed": true
   },
   "outputs": [],
   "source": []
  }
 ],
 "metadata": {
  "kernelspec": {
   "display_name": "Python 2",
   "language": "python",
   "name": "python2"
  },
  "language_info": {
   "codemirror_mode": {
    "name": "ipython",
    "version": 2
   },
   "file_extension": ".py",
   "mimetype": "text/x-python",
   "name": "python",
   "nbconvert_exporter": "python",
   "pygments_lexer": "ipython2",
   "version": "2.7.10"
  }
 },
 "nbformat": 4,
 "nbformat_minor": 0
}
