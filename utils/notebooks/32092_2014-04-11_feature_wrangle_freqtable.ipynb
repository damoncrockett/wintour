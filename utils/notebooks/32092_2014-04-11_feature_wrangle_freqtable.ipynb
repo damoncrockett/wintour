{
 "cells": [
  {
   "cell_type": "code",
   "execution_count": 14,
   "metadata": {
    "collapsed": true
   },
   "outputs": [],
   "source": [
    "import pandas as pd\n",
    "from collections import Counter\n",
    "from PIL import Image,ImageDraw,ImageFont\n",
    "from scipy.stats import spearmanr\n",
    "import os\n",
    "import numpy as np"
   ]
  },
  {
   "cell_type": "code",
   "execution_count": 15,
   "metadata": {
    "collapsed": true
   },
   "outputs": [],
   "source": [
    "limefeat = pd.read_csv(\"limefeat.csv\")\n",
    "logregfeat = pd.read_csv(\"logregfeat.csv\")"
   ]
  },
  {
   "cell_type": "code",
   "execution_count": 16,
   "metadata": {
    "collapsed": true
   },
   "outputs": [],
   "source": [
    "def featparse(df):\n",
    "    df['record_type'] = [item.split(\"_\")[0] for item in df.feature]\n",
    "    df['unit'] = [item.split(\"_\")[1] for item in df.feature]\n",
    "    df['num_agg'] = [item.split(\"_\")[-1] for item in df.feature]\n",
    "\n",
    "    feat_var = []\n",
    "    temp_agg = []\n",
    "    \n",
    "    for i in df.index:\n",
    "        featstr = df.feature.loc[i]\n",
    "        if df.record_type.loc[i]=='ocnd':\n",
    "            feat_var.append(featstr.split(\"_\")[2])\n",
    "            temp_agg.append(None)\n",
    "        else:\n",
    "            feat_var.append(featstr.split(\"_\")[3])\n",
    "            temp_agg.append(featstr.split(\"_\")[2])\n",
    "    \n",
    "    df['feat_var'] = feat_var\n",
    "    df['temp_agg'] = temp_agg"
   ]
  },
  {
   "cell_type": "code",
   "execution_count": 17,
   "metadata": {
    "collapsed": true
   },
   "outputs": [],
   "source": [
    "df = pd.read_csv(\"lime-robustness-all-score-outcome.csv\")\n",
    "feats = []\n",
    "for i in df.index:\n",
    "    tmp = df.unq.loc[i]\n",
    "    tmp = tmp.rstrip(\"}\")\n",
    "    tmp = tmp.lstrip(\"{\")\n",
    "    feats.append(tmp.split(\",\"))\n",
    "feats = [item for sublist in feats for item in sublist]\n",
    "feats = [item.translate(None,\" '\") for item in feats]"
   ]
  },
  {
   "cell_type": "markdown",
   "metadata": {},
   "source": [
    "#### Record Type prevalence overall vs prevalence in LIME models"
   ]
  },
  {
   "cell_type": "code",
   "execution_count": 18,
   "metadata": {
    "collapsed": true
   },
   "outputs": [],
   "source": [
    "fi = pd.read_csv(\"32092_2014-04-11_feature-importances.csv\")\n",
    "fi = fi[['feature','feature_importance']]\n",
    "fi['feature_importance_abs'] = fi.feature_importance.apply(abs)\n",
    "fi.sort_values(by=\"feature_importance_abs\",ascending=False,inplace=True)\n",
    "fi.reset_index(drop=True,inplace=True)\n",
    "featparse(fi)"
   ]
  },
  {
   "cell_type": "code",
   "execution_count": 19,
   "metadata": {
    "collapsed": true
   },
   "outputs": [],
   "source": [
    "limefeatlist = set(limefeat.feature)\n",
    "logregfeatlist = set(logregfeat.feature)"
   ]
  },
  {
   "cell_type": "code",
   "execution_count": 20,
   "metadata": {
    "collapsed": false
   },
   "outputs": [],
   "source": [
    "fc = pd.DataFrame({\"feature\":[item[0] for item in Counter(feats).most_common()],\n",
    "              \"frequency\":[item[1] for item in Counter(feats).most_common()]})\n",
    "\n",
    "featparse(fc)\n",
    "tmp = pd.DataFrame({\"feature\":list(logregfeatlist-limefeatlist),\n",
    "                    \"frequency\":0})\n",
    "featparse(tmp)\n",
    "fc = fc.append(tmp)\n",
    "fc.reset_index(drop=True,inplace=True)"
   ]
  },
  {
   "cell_type": "code",
   "execution_count": 21,
   "metadata": {
    "collapsed": false
   },
   "outputs": [],
   "source": [
    "tmp = fc[['record_type','frequency']]\n",
    "tmp = tmp.groupby(\"record_type\").agg(sum)\n",
    "tmp.reset_index(inplace=True)"
   ]
  },
  {
   "cell_type": "code",
   "execution_count": 22,
   "metadata": {
    "collapsed": false
   },
   "outputs": [],
   "source": [
    "temp = pd.DataFrame(fc.record_type.value_counts())\n",
    "temp.reset_index(inplace=True)\n",
    "temp.rename(columns={\"record_type\":\"overall_freq\",\n",
    "                    \"index\":\"record_type\"},\n",
    "           inplace=True)"
   ]
  },
  {
   "cell_type": "code",
   "execution_count": 23,
   "metadata": {
    "collapsed": false
   },
   "outputs": [],
   "source": [
    "temp.set_index(\"record_type\",inplace=True)\n",
    "tmp = tmp.join(temp,on=\"record_type\")"
   ]
  },
  {
   "cell_type": "code",
   "execution_count": 43,
   "metadata": {
    "collapsed": false
   },
   "outputs": [],
   "source": [
    "tmp.to_csv(\"freq.csv\",index=False)"
   ]
  }
 ],
 "metadata": {
  "kernelspec": {
   "display_name": "Python 2",
   "language": "python",
   "name": "python2"
  },
  "language_info": {
   "codemirror_mode": {
    "name": "ipython",
    "version": 2
   },
   "file_extension": ".py",
   "mimetype": "text/x-python",
   "name": "python",
   "nbconvert_exporter": "python",
   "pygments_lexer": "ipython2",
   "version": "2.7.10"
  }
 },
 "nbformat": 4,
 "nbformat_minor": 0
}
