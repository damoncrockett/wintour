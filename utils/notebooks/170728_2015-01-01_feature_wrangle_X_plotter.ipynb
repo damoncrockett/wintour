{
 "cells": [
  {
   "cell_type": "code",
   "execution_count": 1,
   "metadata": {
    "collapsed": true
   },
   "outputs": [],
   "source": [
    "import pandas as pd\n",
    "from collections import Counter\n",
    "from PIL import Image,ImageDraw,ImageFont\n",
    "from scipy.stats import spearmanr\n",
    "import os\n",
    "import numpy as np"
   ]
  },
  {
   "cell_type": "code",
   "execution_count": 2,
   "metadata": {
    "collapsed": true
   },
   "outputs": [],
   "source": [
    "highlight = False # optional to highlight ground truth flag\n",
    "colsort = True # optional to override alphasort"
   ]
  },
  {
   "cell_type": "code",
   "execution_count": 3,
   "metadata": {
    "collapsed": true
   },
   "outputs": [],
   "source": [
    "feature_table = pd.read_csv(\"170728_2015-01-01_alphasort.csv\")"
   ]
  },
  {
   "cell_type": "code",
   "execution_count": 4,
   "metadata": {
    "collapsed": false
   },
   "outputs": [],
   "source": [
    "feature_table = feature_table[feature_table.feature_importance>0.001]\n",
    "\n",
    "if colsort==True:\n",
    "    feature_table.sort_values(by='feature_importance',inplace=True,ascending=False) \n",
    "\n",
    "feature_table.reset_index(drop=True,inplace=True)\n",
    "top_feats = list(feature_table.feature)"
   ]
  },
  {
   "cell_type": "markdown",
   "metadata": {},
   "source": [
    "#### Color settings"
   ]
  },
  {
   "cell_type": "code",
   "execution_count": 5,
   "metadata": {
    "collapsed": true
   },
   "outputs": [],
   "source": [
    "cathue = {\n",
    "    'ts':'0',\n",
    "    'fi':'32',\n",
    "    'ir':'60',\n",
    "    'shifts':'115',\n",
    "    'dispatch':'180',\n",
    "    'arrests':'240',\n",
    "    'ic':'270',\n",
    "    'demarrests':'300',\n",
    "    'ocnd':'200'\n",
    "    }\n",
    "\n",
    "bkgdcolor = 'hsl(0,0%,50%)'\n",
    "linecolordark = 'hsl(0,0%,0%)'\n",
    "linecolormed = 'hsl(0,0%,25%)'\n",
    "linecolorlight = 'hsl(0,0%,33%)'\n",
    "textcolor = 'hsl(0,0%,100%)'"
   ]
  },
  {
   "cell_type": "markdown",
   "metadata": {
    "collapsed": true
   },
   "source": [
    "#### X"
   ]
  },
  {
   "cell_type": "code",
   "execution_count": 6,
   "metadata": {
    "collapsed": false
   },
   "outputs": [],
   "source": [
    "X = pd.read_csv(\"170728_2015-01-01_test-matrix-and-labels-and-scores.csv\")\n",
    "X.sort_values(by='score',ascending=False,inplace=True)\n",
    "X.set_index('officer_id',inplace=True)\n",
    "outcomes = X.outcome\n",
    "scores = X.score\n",
    "del X['outcome']\n",
    "del X['score']\n",
    "del X['as_of_date']"
   ]
  },
  {
   "cell_type": "code",
   "execution_count": 7,
   "metadata": {
    "collapsed": false
   },
   "outputs": [],
   "source": [
    "X = X.loc[:,top_feats]"
   ]
  },
  {
   "cell_type": "markdown",
   "metadata": {},
   "source": [
    "#### Mapping saturation to data values"
   ]
  },
  {
   "cell_type": "code",
   "execution_count": 8,
   "metadata": {
    "collapsed": false
   },
   "outputs": [],
   "source": [
    "from scipy.stats import percentileofscore as pct"
   ]
  },
  {
   "cell_type": "code",
   "execution_count": 9,
   "metadata": {
    "collapsed": true
   },
   "outputs": [],
   "source": [
    "Xpct = X"
   ]
  },
  {
   "cell_type": "code",
   "execution_count": 10,
   "metadata": {
    "collapsed": true
   },
   "outputs": [],
   "source": [
    "def norm(col):\n",
    "    rng = max(col) - min(col)\n",
    "    tmp = [(item - min(col)) / float(rng) for item in col]\n",
    "    return [int(round(item*100)) for item in tmp]"
   ]
  },
  {
   "cell_type": "code",
   "execution_count": 11,
   "metadata": {
    "collapsed": true
   },
   "outputs": [],
   "source": [
    "def twocat(cell):\n",
    "    if cell==1:\n",
    "        cell = 65\n",
    "    elif cell==0:\n",
    "        cell = 25"
   ]
  },
  {
   "cell_type": "code",
   "execution_count": 12,
   "metadata": {
    "collapsed": false
   },
   "outputs": [
    {
     "name": "stdout",
     "output_type": "stream",
     "text": [
      "38\n",
      "99\n",
      "139\n"
     ]
    }
   ],
   "source": [
    "counter=-1\n",
    "for col in Xpct.columns:\n",
    "    counter+=1\n",
    "    if np.random.binomial(1,0.01)==1:\n",
    "        print counter\n",
    "    if all(Xpct[col]<=0):\n",
    "        Xpct[col] = 0\n",
    "    elif 'ocnd' in col:\n",
    "        Xpct[col] = Xpct[col].apply(twocat)\n",
    "    else:\n",
    "        Xpct[col] = norm(X[col])"
   ]
  },
  {
   "cell_type": "code",
   "execution_count": 14,
   "metadata": {
    "collapsed": true
   },
   "outputs": [],
   "source": [
    "rectwidth = 16\n",
    "rectheight = 16\n",
    "\n",
    "px_w = len(feature_table) * rectwidth\n",
    "px_h = len(X) * rectheight"
   ]
  },
  {
   "cell_type": "code",
   "execution_count": 15,
   "metadata": {
    "collapsed": false
   },
   "outputs": [],
   "source": [
    "def offtablefeat(X,feature_table):\n",
    "    canvas = Image.new('RGB',(px_w,px_h),bkgdcolor)\n",
    "    feats = X.columns\n",
    "    for i in range(len(X)):\n",
    "        ycoord = i * rectheight\n",
    "        \n",
    "        for feat in feats:\n",
    "            tmp = feature_table[feature_table.feature==feat]\n",
    "            record_type = tmp.record_type.iloc[0]\n",
    "            idx = tmp.index[0]\n",
    "            \n",
    "            xcoord = idx * rectwidth\n",
    "            bbox = [xcoord, ycoord, xcoord + rectwidth, ycoord + rectheight]\n",
    "            \n",
    "            try:\n",
    "                hue = cathue[record_type]\n",
    "                satlevel = X[feat].iloc[i]\n",
    "                if satlevel==None:\n",
    "                    sat = '0%'\n",
    "                else:\n",
    "                    sat = str(satlevel)+'%'\n",
    "                \n",
    "                if highlight==True:\n",
    "                    if outcomes.loc[i]==1:\n",
    "                        val = '65%'\n",
    "                    else:\n",
    "                        val = '25%'\n",
    "                else:\n",
    "                    val = '50%'\n",
    "                    \n",
    "            except:\n",
    "                hue = '0'\n",
    "                sat = '0%'\n",
    "                \n",
    "                vallevel = X[feat].iloc[i]\n",
    "                if vallevel==None:\n",
    "                    val = '100%'\n",
    "                else:\n",
    "                    val = str(100-vallevel)+'%' # so low is white and black is high\n",
    "\n",
    "            fillcolor = 'hsl('+hue+\",\"+sat+\",\"+val+\")\"\n",
    "            draw = ImageDraw.Draw(canvas)\n",
    "            draw.rectangle(bbox,fill=fillcolor,outline=None)\n",
    "            if np.random.binomial(1,0.0005)==1:\n",
    "                print i\n",
    "    return canvas"
   ]
  },
  {
   "cell_type": "code",
   "execution_count": 16,
   "metadata": {
    "collapsed": false
   },
   "outputs": [
    {
     "name": "stdout",
     "output_type": "stream",
     "text": [
      "11\n",
      "13\n",
      "20\n",
      "42\n",
      "45\n",
      "78\n",
      "98\n",
      "100\n",
      "121\n",
      "142\n",
      "160\n",
      "172\n",
      "176\n",
      "180\n",
      "200\n",
      "237\n",
      "262\n",
      "296\n",
      "298\n",
      "304\n",
      "307\n",
      "318\n",
      "328\n",
      "346\n",
      "362\n",
      "379\n",
      "385\n",
      "418\n",
      "441\n",
      "446\n",
      "497\n",
      "518\n",
      "519\n",
      "532\n",
      "541\n",
      "552\n",
      "556\n",
      "559\n",
      "581\n",
      "581\n",
      "582\n",
      "594\n",
      "602\n",
      "604\n",
      "604\n",
      "611\n",
      "613\n",
      "629\n",
      "634\n",
      "636\n",
      "637\n",
      "659\n",
      "674\n",
      "685\n",
      "688\n",
      "692\n",
      "711\n",
      "711\n",
      "717\n",
      "722\n",
      "732\n",
      "741\n",
      "746\n",
      "748\n",
      "755\n",
      "796\n",
      "809\n",
      "851\n",
      "852\n",
      "855\n",
      "872\n",
      "879\n",
      "890\n",
      "895\n",
      "896\n",
      "923\n",
      "923\n",
      "924\n",
      "928\n",
      "929\n",
      "939\n",
      "965\n",
      "968\n",
      "974\n",
      "979\n",
      "997\n",
      "1022\n",
      "1026\n",
      "1031\n",
      "1059\n",
      "1066\n",
      "1069\n",
      "1088\n",
      "1093\n",
      "1102\n",
      "1109\n",
      "1156\n",
      "1159\n",
      "1191\n",
      "1198\n",
      "1200\n",
      "1210\n",
      "1215\n",
      "1229\n",
      "1232\n",
      "1238\n",
      "1269\n",
      "1274\n",
      "1277\n",
      "1284\n",
      "1295\n",
      "1302\n",
      "1317\n",
      "1337\n",
      "1352\n",
      "1352\n",
      "1366\n",
      "1369\n",
      "1372\n",
      "1379\n",
      "1386\n",
      "1392\n",
      "1406\n",
      "1422\n",
      "1442\n",
      "1443\n",
      "1445\n",
      "1446\n",
      "1456\n",
      "1461\n",
      "1483\n",
      "1487\n",
      "1489\n",
      "1496\n",
      "1498\n",
      "1500\n",
      "1503\n",
      "1509\n",
      "1524\n",
      "1534\n",
      "1536\n",
      "1544\n",
      "1548\n"
     ]
    }
   ],
   "source": [
    "im = offtablefeat(Xpct,feature_table)"
   ]
  },
  {
   "cell_type": "code",
   "execution_count": 17,
   "metadata": {
    "collapsed": true
   },
   "outputs": [],
   "source": [
    "w = im.width\n",
    "h = im.height\n",
    "x = 120\n",
    "canvas = Image.new('RGB',((w+x),(h)),bkgdcolor)\n",
    "canvas.paste(im,(x,0))\n",
    "#im = None"
   ]
  },
  {
   "cell_type": "code",
   "execution_count": 18,
   "metadata": {
    "collapsed": true
   },
   "outputs": [],
   "source": [
    "draw = ImageDraw.Draw(canvas)\n",
    "counter = -1\n",
    "for i in Xpct.index:\n",
    "    counter+=1\n",
    "    score = scores.loc[i]\n",
    "    text = str(i)+\",\"+str(score)[:4]\n",
    "    font = ImageFont.truetype('VeraMono.ttf', rectheight-1)\n",
    "    fontWidth, fontHeight = font.getsize(text)\n",
    "    \n",
    "    xpos = 5\n",
    "    ypos = counter * rectheight\n",
    "    draw.text((xpos,ypos),text=text,font=font,fill=textcolor)\n",
    "    \n",
    "    linex = w+x\n",
    "    liney = counter * rectheight\n",
    "    draw.line([(0,liney),(linex,liney)],width=1,fill=linecolordark)"
   ]
  },
  {
   "cell_type": "code",
   "execution_count": 19,
   "metadata": {
    "collapsed": true
   },
   "outputs": [],
   "source": [
    "w = canvas.width\n",
    "h = canvas.height\n",
    "y = 600\n",
    "unicanvas = Image.new('RGB',((w),(h+y)),bkgdcolor)\n",
    "unicanvas.paste(canvas,(0,y))\n",
    "#canvas = None"
   ]
  },
  {
   "cell_type": "code",
   "execution_count": 20,
   "metadata": {
    "collapsed": true
   },
   "outputs": [],
   "source": [
    "draw = ImageDraw.Draw(unicanvas)\n",
    "for i in feature_table.index:\n",
    "    feature = feature_table.featstr.loc[i]\n",
    "    text = str(feature)\n",
    "    record_type = feature_table.record_type.loc[i]\n",
    "    \n",
    "    font = ImageFont.truetype('VeraMono.ttf', rectwidth-1)\n",
    "    fontWidth, fontHeight = font.getsize(text)\n",
    "    \n",
    "    val = '50%'\n",
    "    \n",
    "    try:\n",
    "        hue = cathue[record_type]\n",
    "        sat = '50%'\n",
    "    except:\n",
    "        hue = '0'\n",
    "        sat = '0%'\n",
    "\n",
    "    fillcolor = 'hsl('+hue+\",\"+sat+\",\"+val+\")\"\n",
    "            \n",
    "    imtmp = Image.new('RGBA', (fontWidth, fontHeight),fillcolor)\n",
    "    drawtmp = ImageDraw.Draw(imtmp)\n",
    "    drawtmp.text((0,0),text=text,font=font,fill=textcolor)\n",
    "    imtmp = imtmp.rotate(90,expand=1)\n",
    "    \n",
    "    xpos = i * rectwidth + x - 3\n",
    "    ypos = y - imtmp.height - 2\n",
    "    unicanvas.paste(imtmp,(xpos,ypos),imtmp)\n",
    "    \n",
    "    linex = i * rectwidth + x\n",
    "    liney = y\n",
    "    draw.line([(linex,liney),(linex,unicanvas.height)],width=1,fill=linecolordark)"
   ]
  },
  {
   "cell_type": "code",
   "execution_count": 21,
   "metadata": {
    "collapsed": false
   },
   "outputs": [],
   "source": [
    "unicanvas.save(\"/Users/damoncrockett/Desktop/X_\"+str(highlight)+\"_\"+str(colsort)+\".png\")"
   ]
  },
  {
   "cell_type": "code",
   "execution_count": null,
   "metadata": {
    "collapsed": true
   },
   "outputs": [],
   "source": []
  }
 ],
 "metadata": {
  "kernelspec": {
   "display_name": "Python 2",
   "language": "python",
   "name": "python2"
  },
  "language_info": {
   "codemirror_mode": {
    "name": "ipython",
    "version": 2
   },
   "file_extension": ".py",
   "mimetype": "text/x-python",
   "name": "python",
   "nbconvert_exporter": "python",
   "pygments_lexer": "ipython2",
   "version": "2.7.10"
  }
 },
 "nbformat": 4,
 "nbformat_minor": 0
}
