{
 "cells": [
  {
   "cell_type": "code",
   "execution_count": 1,
   "metadata": {
    "collapsed": true
   },
   "outputs": [],
   "source": [
    "import pandas as pd\n",
    "from collections import Counter\n",
    "from PIL import Image,ImageDraw,ImageFont\n",
    "from scipy.stats import spearmanr\n",
    "import os\n",
    "import numpy as np\n",
    "import colorsys"
   ]
  },
  {
   "cell_type": "code",
   "execution_count": 16,
   "metadata": {
    "collapsed": true
   },
   "outputs": [],
   "source": [
    "feattable = pd.read_csv(\"170728_2015-01-01_alphasort.csv\")"
   ]
  },
  {
   "cell_type": "code",
   "execution_count": 17,
   "metadata": {
    "collapsed": false
   },
   "outputs": [],
   "source": [
    "feattable = feattable[feattable.feature_importance > 0.001125]"
   ]
  },
  {
   "cell_type": "code",
   "execution_count": 18,
   "metadata": {
    "collapsed": false
   },
   "outputs": [
    {
     "data": {
      "text/plain": [
       "80"
      ]
     },
     "execution_count": 18,
     "metadata": {},
     "output_type": "execute_result"
    }
   ],
   "source": [
    "len(feattable)"
   ]
  },
  {
   "cell_type": "code",
   "execution_count": 19,
   "metadata": {
    "collapsed": true
   },
   "outputs": [],
   "source": [
    "feattable.reset_index(drop=True,inplace=True)"
   ]
  },
  {
   "cell_type": "code",
   "execution_count": 20,
   "metadata": {
    "collapsed": false
   },
   "outputs": [
    {
     "data": {
      "text/plain": [
       "dispatch      44\n",
       "ts            22\n",
       "demarrests     5\n",
       "arrests        5\n",
       "shifts         3\n",
       "ocag           1\n",
       "Name: record_type, dtype: int64"
      ]
     },
     "execution_count": 20,
     "metadata": {},
     "output_type": "execute_result"
    }
   ],
   "source": [
    "feattable.record_type.value_counts()"
   ]
  },
  {
   "cell_type": "markdown",
   "metadata": {},
   "source": [
    "#### Color settings"
   ]
  },
  {
   "cell_type": "code",
   "execution_count": 56,
   "metadata": {
    "collapsed": true
   },
   "outputs": [],
   "source": [
    "cathue = {\n",
    "    'arrests':(102,194,165),\n",
    "    'demarrests':(252,141,98),\n",
    "    'dispatch':(141,160,203),\n",
    "    'ocag':(231,138,195),\n",
    "    'shifts':(166,216,84),\n",
    "    'ts':(255,217,47)\n",
    "    }\n",
    "\n",
    "bkgdcolor = (255,255,255)\n",
    "linecolor = (127,127,127)\n",
    "textcolor = (64,64,64)"
   ]
  },
  {
   "cell_type": "markdown",
   "metadata": {
    "collapsed": true
   },
   "source": [
    "#### X"
   ]
  },
  {
   "cell_type": "code",
   "execution_count": 104,
   "metadata": {
    "collapsed": true
   },
   "outputs": [],
   "source": [
    "X = pd.read_csv(\"170728_2015-01-01_test-matrix-and-labels-and-scores.csv\")"
   ]
  },
  {
   "cell_type": "code",
   "execution_count": 105,
   "metadata": {
    "collapsed": true
   },
   "outputs": [],
   "source": [
    "X = X.sample(n=int(len(X)/float(4)))"
   ]
  },
  {
   "cell_type": "code",
   "execution_count": 106,
   "metadata": {
    "collapsed": false
   },
   "outputs": [
    {
     "data": {
      "text/plain": [
       "389"
      ]
     },
     "execution_count": 106,
     "metadata": {},
     "output_type": "execute_result"
    }
   ],
   "source": [
    "len(X)"
   ]
  },
  {
   "cell_type": "markdown",
   "metadata": {},
   "source": [
    "#### Mapping saturation to data values"
   ]
  },
  {
   "cell_type": "code",
   "execution_count": 107,
   "metadata": {
    "collapsed": false
   },
   "outputs": [],
   "source": [
    "from scipy.stats import percentileofscore as pct"
   ]
  },
  {
   "cell_type": "code",
   "execution_count": 108,
   "metadata": {
    "collapsed": false
   },
   "outputs": [],
   "source": [
    "Xpct = X.drop(['officer_id','as_of_date','outcome','score'],axis=1)"
   ]
  },
  {
   "cell_type": "code",
   "execution_count": 109,
   "metadata": {
    "collapsed": false
   },
   "outputs": [],
   "source": [
    "Xpct = Xpct.loc[:,feattable.feature]"
   ]
  },
  {
   "cell_type": "code",
   "execution_count": 110,
   "metadata": {
    "collapsed": true
   },
   "outputs": [],
   "source": [
    "def norm(col):\n",
    "    rng = max(col) - min(col)\n",
    "    tmp = [(item - min(col)) / float(rng) for item in col]\n",
    "    return [int(round(item*100)) for item in tmp]"
   ]
  },
  {
   "cell_type": "code",
   "execution_count": 111,
   "metadata": {
    "collapsed": false
   },
   "outputs": [
    {
     "name": "stdout",
     "output_type": "stream",
     "text": [
      "14\n"
     ]
    }
   ],
   "source": [
    "counter=-1\n",
    "for col in Xpct.columns:\n",
    "    counter+=1\n",
    "    if np.random.binomial(1,0.01)==1:\n",
    "        print counter\n",
    "    if all(X[col]<=0):\n",
    "        Xpct[col] = 0\n",
    "    elif 'ocnd' in col:\n",
    "        for i in X.index:\n",
    "            if X[col].loc[i]==1:\n",
    "                Xpct[col].loc[i] = 65\n",
    "            elif X[col].loc[i]==0:\n",
    "                Xpct[col].loc[i] = 25\n",
    "    else:\n",
    "        Xpct[col] = norm(X[col])"
   ]
  },
  {
   "cell_type": "code",
   "execution_count": 112,
   "metadata": {
    "collapsed": true
   },
   "outputs": [],
   "source": [
    "rectwidth = 32\n",
    "rectheight = 32\n",
    "px_w = len(feattable) * rectwidth\n",
    "px_h = len(Xpct) * rectheight"
   ]
  },
  {
   "cell_type": "code",
   "execution_count": 113,
   "metadata": {
    "collapsed": false
   },
   "outputs": [],
   "source": [
    "X.sort_values(by='score',ascending=False,inplace=True)"
   ]
  },
  {
   "cell_type": "code",
   "execution_count": 114,
   "metadata": {
    "collapsed": false
   },
   "outputs": [],
   "source": [
    "def offtablefeat(X,feattable):\n",
    "    canvas = Image.new('RGB',(px_w,px_h),bkgdcolor)\n",
    "    feats = feattable.feature\n",
    "    \n",
    "    counter = -1\n",
    "    for i in X.index:\n",
    "        counter+=1\n",
    "        ycoord = counter * rectheight\n",
    "        \n",
    "        for feat in feats:\n",
    "            tmp = feattable[feattable.feature==feat]\n",
    "            record_type = tmp.record_type.iloc[0]\n",
    "            idx = tmp.index[0]\n",
    "            \n",
    "            xcoord = idx * rectwidth\n",
    "            bbox = [xcoord, ycoord, xcoord + rectwidth, ycoord + rectheight]\n",
    "            \n",
    "            alpha = int( Xpct[feat].loc[i] / float(100) * 255 )\n",
    "            fillcolor = cathue[record_type] + (alpha,)\n",
    "            \n",
    "            draw = ImageDraw.Draw(canvas,'RGBA')\n",
    "            draw.rectangle(bbox,fill=fillcolor,outline=None)\n",
    "            \n",
    "    return canvas"
   ]
  },
  {
   "cell_type": "code",
   "execution_count": 115,
   "metadata": {
    "collapsed": true
   },
   "outputs": [],
   "source": [
    "im = offtablefeat(X,feattable)"
   ]
  },
  {
   "cell_type": "code",
   "execution_count": 141,
   "metadata": {
    "collapsed": false
   },
   "outputs": [],
   "source": [
    "w = im.width\n",
    "h = im.height\n",
    "x = 75\n",
    "canvas = Image.new('RGB',((w+x),(h)),bkgdcolor)\n",
    "canvas.paste(im,(x,0))"
   ]
  },
  {
   "cell_type": "code",
   "execution_count": 142,
   "metadata": {
    "collapsed": false
   },
   "outputs": [],
   "source": [
    "draw = ImageDraw.Draw(canvas)\n",
    "\n",
    "counter = -1\n",
    "for i in X.index:\n",
    "    counter+=1\n",
    "    score = int( X.score.loc[i] * 100 )\n",
    "    text = str(score)\n",
    "    font = ImageFont.truetype('VeraMono.ttf', rectheight-1)\n",
    "    fontWidth, fontHeight = font.getsize(text)\n",
    "    \n",
    "    xpos = 5\n",
    "    ypos = counter * rectheight\n",
    "    draw.text((xpos,ypos),text=text,font=font,fill=textcolor)\n",
    "    \n",
    "    linex = w+x\n",
    "    liney = counter * rectheight\n",
    "    draw.line([(0,liney),(linex,liney)],width=1,fill=linecolordark)"
   ]
  },
  {
   "cell_type": "code",
   "execution_count": 143,
   "metadata": {
    "collapsed": true
   },
   "outputs": [],
   "source": [
    "w = canvas.width\n",
    "h = canvas.height\n",
    "y = 750\n",
    "unicanvas = Image.new('RGB',((w),(h+y)),bkgdcolor)\n",
    "unicanvas.paste(canvas,(0,y))\n",
    "canvas = None"
   ]
  },
  {
   "cell_type": "code",
   "execution_count": 144,
   "metadata": {
    "collapsed": true
   },
   "outputs": [],
   "source": [
    "draw = ImageDraw.Draw(unicanvas)\n",
    "for i in feattable.index:\n",
    "    feature = feattable.featstr.loc[i]\n",
    "    record_type = feattable.record_type.loc[i]\n",
    "    text = str(feature)\n",
    "    \n",
    "    font = ImageFont.truetype('VeraMono.ttf', rectwidth - 7)\n",
    "    fontWidth, fontHeight = font.getsize(text)\n",
    "    \n",
    "    imtmp = Image.new('RGBA', (fontWidth + 4, fontHeight), cathue[record_type] + (100,))\n",
    "    drawtmp = ImageDraw.Draw(imtmp)\n",
    "    drawtmp.text((3,0),text=text,font=font,fill=textcolor)\n",
    "    imtmp = imtmp.rotate(90,expand=1)\n",
    "    \n",
    "    xpos = i * rectwidth + x - 5\n",
    "    ypos = y - imtmp.height - 12\n",
    "    unicanvas.paste(imtmp,(xpos,ypos),imtmp)\n",
    "    \n",
    "    linex = i * rectwidth + x\n",
    "    liney = y\n",
    "    draw.line([(linex,liney),(linex,unicanvas.height)],width=1,fill=linecolordark)"
   ]
  },
  {
   "cell_type": "code",
   "execution_count": 145,
   "metadata": {
    "collapsed": false
   },
   "outputs": [],
   "source": [
    "unicanvas.save(\"/Users/damoncrockett/Desktop/table_view.png\")"
   ]
  },
  {
   "cell_type": "code",
   "execution_count": null,
   "metadata": {
    "collapsed": true
   },
   "outputs": [],
   "source": []
  },
  {
   "cell_type": "code",
   "execution_count": null,
   "metadata": {
    "collapsed": true
   },
   "outputs": [],
   "source": []
  }
 ],
 "metadata": {
  "kernelspec": {
   "display_name": "Python 2",
   "language": "python",
   "name": "python2"
  },
  "language_info": {
   "codemirror_mode": {
    "name": "ipython",
    "version": 2
   },
   "file_extension": ".py",
   "mimetype": "text/x-python",
   "name": "python",
   "nbconvert_exporter": "python",
   "pygments_lexer": "ipython2",
   "version": "2.7.10"
  }
 },
 "nbformat": 4,
 "nbformat_minor": 0
}
