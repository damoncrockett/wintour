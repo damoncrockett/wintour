{
 "cells": [
  {
   "cell_type": "code",
   "execution_count": 242,
   "metadata": {
    "collapsed": true
   },
   "outputs": [],
   "source": [
    "import pandas as pd\n",
    "from PIL import Image,ImageDraw,ImageFont\n",
    "import os\n",
    "import numpy as np\n",
    "import math"
   ]
  },
  {
   "cell_type": "code",
   "execution_count": 243,
   "metadata": {
    "collapsed": true
   },
   "outputs": [],
   "source": [
    "feature_table = pd.read_csv(\"193398_feattable.csv\")"
   ]
  },
  {
   "cell_type": "code",
   "execution_count": 244,
   "metadata": {
    "collapsed": true
   },
   "outputs": [],
   "source": [
    "ii = pd.read_csv(\"193398_individual_importances.csv\")"
   ]
  },
  {
   "cell_type": "code",
   "execution_count": 245,
   "metadata": {
    "collapsed": false
   },
   "outputs": [],
   "source": [
    "feature_table = feature_table[feature_table.feature_importance>0.003]\n",
    "feature_table.reset_index(drop=True,inplace=True)\n",
    "top_feats = list(feature_table.feature)"
   ]
  },
  {
   "cell_type": "code",
   "execution_count": 246,
   "metadata": {
    "collapsed": false
   },
   "outputs": [
    {
     "data": {
      "text/plain": [
       "21"
      ]
     },
     "execution_count": 246,
     "metadata": {},
     "output_type": "execute_result"
    }
   ],
   "source": [
    "len(top_feats)"
   ]
  },
  {
   "cell_type": "code",
   "execution_count": 247,
   "metadata": {
    "collapsed": false
   },
   "outputs": [
    {
     "data": {
      "text/plain": [
       "['ocag_id_all_officerage_max',\n",
       " 'ts_id_p1y_trafficstopsbystoptype_equipment_violation_sum',\n",
       " 'shifts_id_p5y_hourspershift_sum',\n",
       " 'arrests_id_p5y_suspectsarrestedofrace_unknown_avg',\n",
       " 'dispatch_id_p1y_dispatchinitiatiationtype_ci_sum',\n",
       " 'dispatch_id_p1m_dispatchinitiatiationtype_ci_sum',\n",
       " 'dispatch_id_p1m_dispatchtype_theft_sum',\n",
       " 'dispatch_id_p1m_dispatchtype_assist_sum',\n",
       " 'dispatch_id_p1m_dispatchtype_domestic_disturb_sum',\n",
       " 'dispatch_id_p1m_dispatchtype_disorder_sum',\n",
       " 'dispatch_id_p1m_dispatchtype_traffic_sum',\n",
       " 'dispatch_id_p1m_dispatchtype_domestic_disturb_avg',\n",
       " 'dispatch_id_p5y_dispatchtype_assault_avg',\n",
       " 'dispatch_id_p1y_dispatchtype_assist_sum',\n",
       " 'dispatch_id_p1y_dispatchtype_domestic_disturb_sum',\n",
       " 'dispatch_id_p1y_dispatchtype_shooting_sum',\n",
       " 'dispatch_id_p1y_dispatchtype_intoxicated_sum',\n",
       " 'dispatch_id_p1y_dispatchtype_assault_sum',\n",
       " 'dispatch_id_p1y_dispatchtype_drug_sum',\n",
       " 'dispatch_id_p1y_dispatchtype_intoxicated_avg',\n",
       " 'dispatch_id_p1w_dispatchinitiatiationtype_ci_sum']"
      ]
     },
     "execution_count": 247,
     "metadata": {},
     "output_type": "execute_result"
    }
   ],
   "source": [
    "top_feats"
   ]
  },
  {
   "cell_type": "markdown",
   "metadata": {},
   "source": [
    "#### train matrix"
   ]
  },
  {
   "cell_type": "code",
   "execution_count": 248,
   "metadata": {
    "collapsed": true
   },
   "outputs": [],
   "source": [
    "train_matrix = pd.read_csv(\"193398_train.csv\")\n",
    "labels = train_matrix.outcome\n",
    "#del train_matrix['outcome']"
   ]
  },
  {
   "cell_type": "code",
   "execution_count": 249,
   "metadata": {
    "collapsed": false
   },
   "outputs": [],
   "source": [
    "train_matrix = train_matrix[train_matrix['ocag_id_all_officerage_max']!=0]"
   ]
  },
  {
   "cell_type": "code",
   "execution_count": 250,
   "metadata": {
    "collapsed": false
   },
   "outputs": [
    {
     "data": {
      "text/plain": [
       "0    15256\n",
       "1     1531\n",
       "Name: outcome, dtype: int64"
      ]
     },
     "execution_count": 250,
     "metadata": {},
     "output_type": "execute_result"
    }
   ],
   "source": [
    "train_matrix.outcome.value_counts()"
   ]
  },
  {
   "cell_type": "code",
   "execution_count": 251,
   "metadata": {
    "collapsed": false
   },
   "outputs": [],
   "source": [
    "tmp = train_matrix[['ocag_id_all_officerage_max','outcome']]"
   ]
  },
  {
   "cell_type": "code",
   "execution_count": 252,
   "metadata": {
    "collapsed": false
   },
   "outputs": [],
   "source": [
    "prior = float(1531)/15256"
   ]
  },
  {
   "cell_type": "code",
   "execution_count": 253,
   "metadata": {
    "collapsed": false
   },
   "outputs": [
    {
     "data": {
      "text/plain": [
       "46.0"
      ]
     },
     "execution_count": 253,
     "metadata": {},
     "output_type": "execute_result"
    }
   ],
   "source": [
    "max(tmp.ocag_id_all_officerage_max) - min(tmp.ocag_id_all_officerage_max)"
   ]
  },
  {
   "cell_type": "code",
   "execution_count": 254,
   "metadata": {
    "collapsed": true
   },
   "outputs": [],
   "source": [
    "ages = np.arange(21,68)\n",
    "agelabels = np.arange(21,68,3)"
   ]
  },
  {
   "cell_type": "markdown",
   "metadata": {},
   "source": [
    "## Binning"
   ]
  },
  {
   "cell_type": "code",
   "execution_count": 255,
   "metadata": {
    "collapsed": true
   },
   "outputs": [],
   "source": [
    "def binticks_label(matrix,feat):\n",
    "    tmp = matrix.loc[:,feat]\n",
    "    tmpmin = min(tmp)\n",
    "    tmpmax = max(tmp)\n",
    "    tmprange = tmpmax - tmpmin\n",
    "    step = tmprange / 100\n",
    "    return np.arange(tmpmin,tmpmax+step,step)"
   ]
  },
  {
   "cell_type": "code",
   "execution_count": 256,
   "metadata": {
    "collapsed": true
   },
   "outputs": [],
   "source": [
    "def labelticks(matrix,feat):\n",
    "    tmp = matrix.loc[:,feat]\n",
    "    tmpmin = min(tmp)\n",
    "    tmpmax = max(tmp)\n",
    "    tmprange = tmpmax - tmpmin\n",
    "    step = tmprange / 20\n",
    "    return np.arange(tmpmin,tmpmax+step,step)"
   ]
  },
  {
   "cell_type": "code",
   "execution_count": 257,
   "metadata": {
    "collapsed": true
   },
   "outputs": [],
   "source": [
    "def minmax_label(matrix,feat):\n",
    "    tmp = matrix.loc[:,feat]\n",
    "    tmpmin = min(tmp)\n",
    "    tmpmax = max(tmp)\n",
    "    return tmpmin,tmpmax"
   ]
  },
  {
   "cell_type": "markdown",
   "metadata": {},
   "source": [
    "### Axis labels"
   ]
  },
  {
   "cell_type": "code",
   "execution_count": 268,
   "metadata": {
    "collapsed": true
   },
   "outputs": [],
   "source": [
    "def addlabels(canvas,ticks):\n",
    "    width = canvas.width\n",
    "    height = canvas.height\n",
    "    margin = rectheight\n",
    "    newheight = height + margin\n",
    "    \n",
    "    unicanvas = Image.new('RGBA',(width,newheight),(255,255,255,0))\n",
    "    unicanvas.paste(canvas,(0,0))\n",
    "    \n",
    "    font = ImageFont.truetype('VeraMono.ttf', rectheight - 16 )\n",
    "    \n",
    "    # fontWidth, fontHeight = font.getsize(high) # can use if I have sizing issues\n",
    "\n",
    "    draw = ImageDraw.Draw(unicanvas,'RGBA')\n",
    "    \n",
    "    for i in range(len(ticks)):\n",
    "        xpos = i * rectwidth * 3\n",
    "        #xpos = i * rectwidth * 5\n",
    "        draw.text((xpos,newheight - margin + 15 ),text=str(ticks[i]),font=font,fill=(0,0,0))\n",
    "    \n",
    "    return unicanvas"
   ]
  },
  {
   "cell_type": "markdown",
   "metadata": {},
   "source": [
    "# Train plot"
   ]
  },
  {
   "cell_type": "code",
   "execution_count": 269,
   "metadata": {
    "collapsed": true
   },
   "outputs": [],
   "source": [
    "def up(X,cfeat,rectwidth,rectheight,pad):\n",
    "    bins = binticks_label(train_matrix,cfeat)\n",
    "    nbins = len(bins)\n",
    "    pos = pd.cut(X.loc[:,cfeat],bins=bins,labels=False,include_lowest=True)\n",
    "    px_w = ( nbins - 1 ) * rectwidth # a hack; won't work with all subsets\n",
    "        \n",
    "    ###########\n",
    "    ### POS ###\n",
    "    ###########\n",
    "    \n",
    "    posbinmax = pos.value_counts().max()\n",
    "    \n",
    "    ppx_h = posbinmax * rectheight\n",
    "    \n",
    "    up = Image.new('RGB',(px_w,ppx_h),(255,255,255,0))\n",
    "    updraw = ImageDraw.Draw(up)\n",
    "    \n",
    "    for binn in range(nbins):\n",
    "        xpos = binn * rectwidth\n",
    "        ypos = ppx_h - rectheight\n",
    "\n",
    "        tmp = pos[pos==binn]\n",
    "        for i in tmp.index:\n",
    "            bbox = [(xpos+pad,ypos+pad),(xpos+rectwidth-pad,ypos+rectheight-pad)]\n",
    "            updraw.rectangle(bbox,fill='hsl(0,0%,75%)',outline=None)\n",
    "            ypos = ypos - rectheight\n",
    "        \n",
    "    up = addlabels(up,labelticks(train_matrix,cfeat))    \n",
    "    updraw = ImageDraw.Draw(up) # will use it below\n",
    "\n",
    "    return up"
   ]
  },
  {
   "cell_type": "code",
   "execution_count": 310,
   "metadata": {
    "collapsed": true
   },
   "outputs": [],
   "source": [
    "def updown(X,cfeat,rectwidth,rectheight,pad):\n",
    "    #bins = binticks_label(train_matrix,cfeat)\n",
    "    bins = ages\n",
    "    nbins = len(bins)\n",
    "    pos = pd.cut(X[labels==1].loc[:,cfeat],bins=bins,labels=False,include_lowest=True)\n",
    "    neg = pd.cut(X[labels==0].loc[:,cfeat],bins=bins,labels=False,include_lowest=True)\n",
    "    px_w = ( nbins - 1 ) * rectwidth # a hack; won't work with all subsets\n",
    "        \n",
    "    ###########\n",
    "    ### POS ###\n",
    "    ###########\n",
    "    \n",
    "    posbinmax = pos.value_counts().max()\n",
    "    overmax = int( math.ceil( neg.value_counts().max() * prior ) )\n",
    "    \n",
    "    if posbinmax >= overmax:\n",
    "        ppx_h = posbinmax * rectheight\n",
    "    else:\n",
    "        ppx_h = overmax * rectheight\n",
    "    \n",
    "    up = Image.new('RGBA',(px_w,ppx_h),(255,255,255,0))\n",
    "    updraw = ImageDraw.Draw(up)\n",
    "    \n",
    "    for binn in range(nbins):\n",
    "        xpos = binn * rectwidth\n",
    "        ypos = ppx_h - rectheight\n",
    "\n",
    "        tmp = pos[pos==binn]\n",
    "        for i in tmp.index:\n",
    "            bbox = [(xpos+pad,ypos+pad),(xpos+rectwidth-pad,ypos+rectheight-pad)]\n",
    "            updraw.rectangle(bbox,fill='hsl(0,0%,50%)',outline=None)\n",
    "            ypos = ypos - rectheight\n",
    "        \n",
    "        actual_positives = len(tmp)\n",
    "        n = actual_positives + len(neg[neg==binn])\n",
    "        expected_positives = int( n * float(prior) )\n",
    "        lift = actual_positives - expected_positives\n",
    "        \n",
    "        if lift > 0:\n",
    "            ypos = ppx_h - lift*rectheight\n",
    "        else:\n",
    "            ypos = ppx_h\n",
    "            \n",
    "        coords = [(xpos,ypos),(xpos+rectwidth,ypos)]\n",
    "        #updraw.line(coords,fill=(220,101,113),width=6) # red\n",
    "\n",
    "        try:\n",
    "            coords = [(last_xpos+rectwidth,last_ypos),(xpos,ypos)]\n",
    "            #updraw.line(coords,fill=(220,101,113),width=6)\n",
    "        except:\n",
    "            pass\n",
    "\n",
    "        last_ypos = ypos\n",
    "        last_xpos = xpos\n",
    "        \n",
    "    up = addlabels(up,agelabels)   \n",
    "    #up = addlabels(up,labelticks(train_matrix,cfeat))    \n",
    "    updraw = ImageDraw.Draw(up) # will use it below\n",
    "\n",
    "    ###########\n",
    "    ### NEG ###\n",
    "    ###########\n",
    "    \n",
    "    # reset for line thing\n",
    "    last_ypos = None\n",
    "    last_xpos = None\n",
    "    \n",
    "    negbinmax = neg.value_counts().max()\n",
    "    \n",
    "    npx_h = negbinmax * rectheight\n",
    "    \n",
    "    down = Image.new('RGBA',(px_w,npx_h),(255,255,255,0))\n",
    "    downdraw = ImageDraw.Draw(down)\n",
    "    \n",
    "    for binn in range(nbins):\n",
    "        xpos = binn * rectwidth\n",
    "        ypos = npx_h - rectheight\n",
    "                \n",
    "        tmp = neg[neg==binn]\n",
    "        for i in tmp.index:\n",
    "            bbox = [(xpos+pad,ypos+pad),(xpos+rectwidth-pad,ypos+rectheight-pad)]\n",
    "            downdraw.rectangle(bbox,fill='hsl(0,0%,50%)',outline=None)\n",
    "            ypos = ypos - rectheight\n",
    "               \n",
    "        actual_positives = len(pos[pos==binn])\n",
    "        n = actual_positives + len(tmp)\n",
    "        expected_positives = int( n * float(prior) )\n",
    "        lift = actual_positives - expected_positives        \n",
    "                \n",
    "        if lift < 0:\n",
    "            ypos = npx_h - abs(lift)*rectheight\n",
    "        else:\n",
    "            ypos = npx_h\n",
    "            \n",
    "        coords = [(xpos,ypos),(xpos+rectwidth,ypos)]\n",
    "        #downdraw.line(coords,fill=(112,159,210),width=6)\n",
    "        \n",
    "        try:\n",
    "            coords = [(last_xpos+rectwidth,last_ypos),(xpos,ypos)]\n",
    "            #downdraw.line(coords,fill=(112,159,210),width=6)\n",
    "        except:\n",
    "            pass\n",
    "        \n",
    "        negbinheight = len(tmp)\n",
    "        nneg = len(neg)\n",
    "        npos = len(pos)\n",
    "        overheight = int( negbinheight * npos / nneg )               \n",
    "        ypos = ppx_h - overheight*rectheight # ppx_h bc plotting to 'up'\n",
    "\n",
    "        coords = [(xpos,ypos),(xpos+rectwidth,ypos)]\n",
    "        updraw.line(coords,fill=(50,103,159,190),width=16)\n",
    "        \n",
    "        try:\n",
    "            coords = [(last_xpos+rectwidth,last_ypos),(xpos,ypos)]\n",
    "            updraw.line(coords,fill=(50,103,159,190),width=16)\n",
    "        except:\n",
    "            pass\n",
    "        \n",
    "        last_ypos = ypos\n",
    "        last_xpos = xpos\n",
    "        \n",
    "        # ep fill\n",
    "        bbox = [(xpos,ypos),(xpos+rectwidth,npx_h)]\n",
    "        #updraw.rectangle(bbox,fill=(112,159,210,96),outline=None)\n",
    "    \n",
    "    unicanvas = up\n",
    "    #unicanvas = Image.new('RGB',(px_w,up.height+npx_h),(255,255,255))\n",
    "    #unicanvas.paste(up,(0,0))\n",
    "\n",
    "    #down_flipped = down.transpose(Image.FLIP_TOP_BOTTOM)\n",
    "    #unicanvas.paste(down_flipped,(0,up.height))\n",
    "\n",
    "    return unicanvas,up.height,px_w"
   ]
  },
  {
   "cell_type": "code",
   "execution_count": 311,
   "metadata": {
    "collapsed": true
   },
   "outputs": [],
   "source": [
    "pad = 2"
   ]
  },
  {
   "cell_type": "code",
   "execution_count": 312,
   "metadata": {
    "collapsed": true
   },
   "outputs": [],
   "source": [
    "rectwidth = 56\n",
    "rectheight = 56"
   ]
  },
  {
   "cell_type": "markdown",
   "metadata": {},
   "source": [
    "### Interaction binning"
   ]
  },
  {
   "cell_type": "code",
   "execution_count": 313,
   "metadata": {
    "collapsed": false
   },
   "outputs": [],
   "source": [
    "#ifeat = \"arrests_id_p1y_arrestson_sat_avg\"\n",
    "cfeat = 'ocag_id_all_officerage_max'\n",
    "#train_matrix['ifeat'] = pd.cut(train_matrix[ifeat],bins=3,labels=False,include_lowest=False)"
   ]
  },
  {
   "cell_type": "code",
   "execution_count": 314,
   "metadata": {
    "collapsed": true
   },
   "outputs": [],
   "source": [
    "#X = train_matrix[train_matrix.ifeat==1]"
   ]
  },
  {
   "cell_type": "code",
   "execution_count": 315,
   "metadata": {
    "collapsed": false
   },
   "outputs": [
    {
     "name": "stderr",
     "output_type": "stream",
     "text": [
      "/Library/Python/2.7/site-packages/ipykernel/__main__.py:5: UserWarning: Boolean Series key will be reindexed to match DataFrame index.\n",
      "/Library/Python/2.7/site-packages/ipykernel/__main__.py:6: UserWarning: Boolean Series key will be reindexed to match DataFrame index.\n"
     ]
    }
   ],
   "source": [
    "im,uph,px_w = updown(train_matrix,cfeat,rectwidth,rectheight,pad)\n",
    "#im = up(train_matrix,cfeat,rectwidth,rectheight,pad)"
   ]
  },
  {
   "cell_type": "code",
   "execution_count": 316,
   "metadata": {
    "collapsed": false
   },
   "outputs": [],
   "source": [
    "#height = 2160\n",
    "#cropbox = [0,uph-height,px_w,uph+height]\n",
    "#imcrop = im.crop(cropbox)"
   ]
  },
  {
   "cell_type": "code",
   "execution_count": 317,
   "metadata": {
    "collapsed": true
   },
   "outputs": [],
   "source": [
    "#imcrop.save(\"/Users/damoncrockett/Desktop/\"+cfeat+\"_\"+ifeat+\"bin1\"+\"_ep.png\")\n",
    "im.save(\"/Users/damoncrockett/Desktop/\"+cfeat+\".png\")"
   ]
  },
  {
   "cell_type": "code",
   "execution_count": null,
   "metadata": {
    "collapsed": true
   },
   "outputs": [],
   "source": []
  }
 ],
 "metadata": {
  "kernelspec": {
   "display_name": "Python 2",
   "language": "python",
   "name": "python2"
  },
  "language_info": {
   "codemirror_mode": {
    "name": "ipython",
    "version": 2
   },
   "file_extension": ".py",
   "mimetype": "text/x-python",
   "name": "python",
   "nbconvert_exporter": "python",
   "pygments_lexer": "ipython2",
   "version": "2.7.10"
  }
 },
 "nbformat": 4,
 "nbformat_minor": 0
}
