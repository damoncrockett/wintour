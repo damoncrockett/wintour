{
 "cells": [
  {
   "cell_type": "code",
   "execution_count": 1,
   "metadata": {
    "collapsed": true
   },
   "outputs": [],
   "source": [
    "import pandas as pd\n",
    "from PIL import Image,ImageDraw,ImageFont\n",
    "import os\n",
    "import numpy as np\n",
    "import math"
   ]
  },
  {
   "cell_type": "markdown",
   "metadata": {},
   "source": [
    "#### train matrix"
   ]
  },
  {
   "cell_type": "code",
   "execution_count": 2,
   "metadata": {
    "collapsed": true
   },
   "outputs": [],
   "source": [
    "train_matrix = pd.read_csv(\"170728_2015-01-01_train-matrix-and-labels.csv\")\n",
    "labels = train_matrix.outcome\n",
    "del train_matrix['outcome']"
   ]
  },
  {
   "cell_type": "markdown",
   "metadata": {},
   "source": [
    "## Binning"
   ]
  },
  {
   "cell_type": "code",
   "execution_count": 3,
   "metadata": {
    "collapsed": true
   },
   "outputs": [],
   "source": [
    "def binticks_label(matrix,feat):\n",
    "    tmp = matrix.loc[:,feat]\n",
    "    tmpmin = min(tmp)\n",
    "    tmpmax = max(tmp)\n",
    "    tmprange = tmpmax - tmpmin\n",
    "    step = tmprange / 100\n",
    "    return np.arange(tmpmin,tmpmax+step,step)"
   ]
  },
  {
   "cell_type": "code",
   "execution_count": 4,
   "metadata": {
    "collapsed": true
   },
   "outputs": [],
   "source": [
    "def labelticks(matrix,feat):\n",
    "    tmp = matrix.loc[:,feat]\n",
    "    tmpmin = min(tmp)\n",
    "    tmpmax = max(tmp)\n",
    "    tmprange = tmpmax - tmpmin\n",
    "    step = tmprange / 20\n",
    "    return np.arange(tmpmin,tmpmax+step,step)"
   ]
  },
  {
   "cell_type": "code",
   "execution_count": 5,
   "metadata": {
    "collapsed": true
   },
   "outputs": [],
   "source": [
    "def minmax_label(matrix,feat):\n",
    "    tmp = matrix.loc[:,feat]\n",
    "    tmpmin = min(tmp)\n",
    "    tmpmax = max(tmp)\n",
    "    return tmpmin,tmpmax"
   ]
  },
  {
   "cell_type": "markdown",
   "metadata": {},
   "source": [
    "### Axis labels"
   ]
  },
  {
   "cell_type": "code",
   "execution_count": 6,
   "metadata": {
    "collapsed": true
   },
   "outputs": [],
   "source": [
    "def addlabels(canvas,ticks):\n",
    "    width = canvas.width\n",
    "    height = canvas.height\n",
    "    margin = 28\n",
    "    newheight = height + margin\n",
    "    \n",
    "    unicanvas = Image.new('RGB',(width,newheight),(255,255,255))\n",
    "    unicanvas.paste(canvas,(0,0))\n",
    "    \n",
    "    font = ImageFont.truetype('VeraMono.ttf', rectheight - 8 )\n",
    "    \n",
    "    # fontWidth, fontHeight = font.getsize(high) # can use if I have sizing issues\n",
    "\n",
    "    draw = ImageDraw.Draw(unicanvas,'RGB')\n",
    "    \n",
    "    for i in range(len(ticks)):\n",
    "        xpos = i * rectwidth * 5\n",
    "        draw.text((xpos,newheight - 28 ),text=str(ticks[i]),font=font,fill=(0,0,0))\n",
    "    \n",
    "    return unicanvas"
   ]
  },
  {
   "cell_type": "markdown",
   "metadata": {},
   "source": [
    "# Train plot"
   ]
  },
  {
   "cell_type": "markdown",
   "metadata": {},
   "source": [
    "### Overlaid histograms"
   ]
  },
  {
   "cell_type": "code",
   "execution_count": 11,
   "metadata": {
    "collapsed": true
   },
   "outputs": [],
   "source": [
    "cfeat = \"dispatch_id_p3m_dispatchtype_traffic_sum\"\n",
    "ifeat = \"demarrests_id_p2y_blackpopulation_avg\""
   ]
  },
  {
   "cell_type": "code",
   "execution_count": 12,
   "metadata": {
    "collapsed": true
   },
   "outputs": [],
   "source": [
    "binned = pd.cut(train_matrix[ifeat],bins=4,labels=False)"
   ]
  },
  {
   "cell_type": "code",
   "execution_count": 13,
   "metadata": {
    "collapsed": false
   },
   "outputs": [],
   "source": [
    "subset0 = train_matrix[binned==0]\n",
    "subset1 = train_matrix[binned==1]\n",
    "subset2 = train_matrix[binned==2]\n",
    "subset3 = train_matrix[binned==3]"
   ]
  },
  {
   "cell_type": "code",
   "execution_count": 20,
   "metadata": {
    "collapsed": true
   },
   "outputs": [],
   "source": [
    "def overhist_label(X,labels,feat,rectwidth,rectheight,pad,subset):\n",
    "    \n",
    "    pos = pd.cut(subset[labels==1].loc[:,feat],bins=binticks_label(X,feat),labels=False,include_lowest=True)\n",
    "    neg = pd.cut(subset[labels==0].loc[:,feat],bins=binticks_label(X,feat),labels=False,include_lowest=True)\n",
    "    \n",
    "    # handmade binticks\n",
    "    #pos = pd.cut(subset[labels==1].loc[:,feat],bins=np.arange(22,69,1),labels=False,include_lowest=True)\n",
    "    #neg = pd.cut(subset[labels==0].loc[:,feat],bins=np.arange(22,69,1),labels=False,include_lowest=True)\n",
    "    \n",
    "    binmax = neg.value_counts().max()\n",
    "    \n",
    "    px_w = len(binticks_label(X,feat)) * rectwidth + 1\n",
    "    px_h = binmax * rectheight\n",
    "    \n",
    "    canvas = Image.new('RGB',(px_w,px_h),(255,255,255))\n",
    "    draw = ImageDraw.Draw(canvas,'RGBA')\n",
    "    \n",
    "    for binn in pos.value_counts().keys():\n",
    "        xpos = binn * rectwidth\n",
    "        ypos = px_h - rectheight\n",
    "\n",
    "        tmp = pos[pos==binn]\n",
    "\n",
    "        for i in tmp.index:\n",
    "            bbox = [(xpos+pad,ypos+pad-1),(xpos+rectwidth-pad,ypos+rectheight-pad-1)]\n",
    "            draw.rectangle(bbox,fill=(220,101,113,127),outline=None)\n",
    "            ypos = ypos - rectheight\n",
    "    \n",
    "    for binn in neg.value_counts().keys():\n",
    "        xpos = binn * rectwidth\n",
    "        ypos = px_h - rectheight\n",
    "\n",
    "        tmp = neg[neg==binn]\n",
    "        negbinheight = len(tmp)\n",
    "        nneg = len(neg)\n",
    "        npos = len(pos)\n",
    "        overheight = int( negbinheight * npos / nneg )\n",
    "\n",
    "        for i in tmp.index:\n",
    "            bbox = [(xpos,ypos-1),(xpos+rectwidth,ypos+rectheight-1)]\n",
    "            draw.rectangle(bbox,fill=None,outline=(189,189,189,255))\n",
    "            ypos = ypos - rectheight\n",
    "        \n",
    "        ypos = px_h - rectheight # reset\n",
    "        \n",
    "        for i in range(overheight):\n",
    "            bbox = [(xpos+pad,ypos+pad-1),(xpos+rectwidth-pad,ypos+rectheight-pad-1)]\n",
    "            draw.rectangle(bbox,fill=(112,159,210,127),outline=None)\n",
    "            ypos = ypos - rectheight\n",
    "    \n",
    "    # range labels\n",
    "    canvas = addlabels(canvas,labelticks(X,feat))\n",
    "    \n",
    "    return canvas"
   ]
  },
  {
   "cell_type": "code",
   "execution_count": 21,
   "metadata": {
    "collapsed": true
   },
   "outputs": [],
   "source": [
    "pad = 1"
   ]
  },
  {
   "cell_type": "code",
   "execution_count": 22,
   "metadata": {
    "collapsed": true
   },
   "outputs": [],
   "source": [
    "rectwidth = 28\n",
    "rectheight = 28"
   ]
  },
  {
   "cell_type": "code",
   "execution_count": 28,
   "metadata": {
    "collapsed": true
   },
   "outputs": [],
   "source": [
    "subset = subset3"
   ]
  },
  {
   "cell_type": "code",
   "execution_count": 29,
   "metadata": {
    "collapsed": false
   },
   "outputs": [
    {
     "name": "stderr",
     "output_type": "stream",
     "text": [
      "/Library/Python/2.7/site-packages/ipykernel/__main__.py:3: UserWarning: Boolean Series key will be reindexed to match DataFrame index.\n",
      "  app.launch_new_instance()\n",
      "/Library/Python/2.7/site-packages/ipykernel/__main__.py:4: UserWarning: Boolean Series key will be reindexed to match DataFrame index.\n"
     ]
    }
   ],
   "source": [
    "im = overhist_label(train_matrix,labels,cfeat,rectwidth,rectheight,pad,subset)\n",
    "im.save(\"/Users/damoncrockett/Desktop/subset3.png\")"
   ]
  },
  {
   "cell_type": "code",
   "execution_count": null,
   "metadata": {
    "collapsed": true
   },
   "outputs": [],
   "source": []
  },
  {
   "cell_type": "code",
   "execution_count": null,
   "metadata": {
    "collapsed": true
   },
   "outputs": [],
   "source": []
  }
 ],
 "metadata": {
  "kernelspec": {
   "display_name": "Python 2",
   "language": "python",
   "name": "python2"
  },
  "language_info": {
   "codemirror_mode": {
    "name": "ipython",
    "version": 2
   },
   "file_extension": ".py",
   "mimetype": "text/x-python",
   "name": "python",
   "nbconvert_exporter": "python",
   "pygments_lexer": "ipython2",
   "version": "2.7.10"
  }
 },
 "nbformat": 4,
 "nbformat_minor": 0
}
