{
 "cells": [
  {
   "cell_type": "code",
   "execution_count": 6,
   "metadata": {
    "collapsed": true
   },
   "outputs": [],
   "source": [
    "import pandas as pd\n",
    "from collections import Counter\n",
    "from PIL import Image,ImageDraw,ImageFont\n",
    "from scipy.stats import spearmanr\n",
    "import os\n",
    "import numpy as np"
   ]
  },
  {
   "cell_type": "code",
   "execution_count": 7,
   "metadata": {
    "collapsed": false
   },
   "outputs": [],
   "source": [
    "def featparse(df):\n",
    "    df['record_type'] = [item.split(\"_\")[0] for item in df.feature]\n",
    "    df['unit'] = [item.split(\"_\")[1] for item in df.feature]\n",
    "    df['num_agg'] = [item.split(\"_\")[-1] for item in df.feature]\n",
    "\n",
    "    feat_var = []\n",
    "    temp_agg = []\n",
    "    \n",
    "    for i in df.index:\n",
    "        featstr = df.feature.loc[i]\n",
    "        if df.record_type.loc[i]=='ocnd':\n",
    "            feat_var.append(featstr.split(\"_\")[2])\n",
    "            temp_agg.append(None)\n",
    "        else:\n",
    "            feat_var.append(featstr.split(\"_\")[3])\n",
    "            temp_agg.append(featstr.split(\"_\")[2])\n",
    "    \n",
    "    df['feat_var'] = feat_var\n",
    "    df['temp_agg'] = temp_agg"
   ]
  },
  {
   "cell_type": "code",
   "execution_count": 8,
   "metadata": {
    "collapsed": false
   },
   "outputs": [],
   "source": [
    "df = pd.read_csv(\"170728_feature_importances.csv\")"
   ]
  },
  {
   "cell_type": "code",
   "execution_count": 4,
   "metadata": {
    "collapsed": false
   },
   "outputs": [],
   "source": [
    "\"\"\"feats = []\n",
    "for i in df.index:\n",
    "    tmp = df.unq.loc[i]\n",
    "    tmp = tmp.rstrip(\"}\")\n",
    "    tmp = tmp.lstrip(\"{\")\n",
    "    feats.append(tmp.split(\",\"))\n",
    "feats = [item for sublist in feats for item in sublist]\n",
    "feats = [item.translate(None,\" '\") for item in feats]\n",
    "\n",
    "limefeat = pd.DataFrame({\"feature\":[item[0] for item in Counter(feats).most_common()],\n",
    "              \"frequency\":[item[1] for item in Counter(feats).most_common()]})\"\"\""
   ]
  },
  {
   "cell_type": "code",
   "execution_count": 10,
   "metadata": {
    "collapsed": false
   },
   "outputs": [
    {
     "name": "stderr",
     "output_type": "stream",
     "text": [
      "/Library/Python/2.7/site-packages/ipykernel/__main__.py:3: SettingWithCopyWarning: \n",
      "A value is trying to be set on a copy of a slice from a DataFrame\n",
      "\n",
      "See the caveats in the documentation: http://pandas.pydata.org/pandas-docs/stable/indexing.html#indexing-view-versus-copy\n",
      "  app.launch_new_instance()\n"
     ]
    }
   ],
   "source": [
    "df = df[['feature','feature_importance']]\n",
    "#df['feature_importance_abs'] = df.feature_importance.apply(abs)\n",
    "df.sort_values(by=\"feature_importance\",ascending=False,inplace=True)\n",
    "df.reset_index(drop=True,inplace=True)"
   ]
  },
  {
   "cell_type": "code",
   "execution_count": 11,
   "metadata": {
    "collapsed": false
   },
   "outputs": [
    {
     "name": "stderr",
     "output_type": "stream",
     "text": [
      "/Library/Python/2.7/site-packages/ipykernel/__main__.py:2: SettingWithCopyWarning: \n",
      "A value is trying to be set on a copy of a slice from a DataFrame.\n",
      "Try using .loc[row_indexer,col_indexer] = value instead\n",
      "\n",
      "See the caveats in the documentation: http://pandas.pydata.org/pandas-docs/stable/indexing.html#indexing-view-versus-copy\n",
      "  from ipykernel import kernelapp as app\n",
      "/Library/Python/2.7/site-packages/ipykernel/__main__.py:3: SettingWithCopyWarning: \n",
      "A value is trying to be set on a copy of a slice from a DataFrame.\n",
      "Try using .loc[row_indexer,col_indexer] = value instead\n",
      "\n",
      "See the caveats in the documentation: http://pandas.pydata.org/pandas-docs/stable/indexing.html#indexing-view-versus-copy\n",
      "  app.launch_new_instance()\n"
     ]
    }
   ],
   "source": [
    "#featparse(limefeat)\n",
    "featparse(df)"
   ]
  },
  {
   "cell_type": "code",
   "execution_count": 13,
   "metadata": {
    "collapsed": false
   },
   "outputs": [],
   "source": [
    "#limefeatlist = set(limefeat.feature)\n",
    "#featlist = set(df.feature)"
   ]
  },
  {
   "cell_type": "markdown",
   "metadata": {},
   "source": [
    "Adding the features LIME didn't pick up to the limefeat dataframe, so that we can do a direct comparison with the feature importances from the original scikit-learn logistic regression model."
   ]
  },
  {
   "cell_type": "code",
   "execution_count": 14,
   "metadata": {
    "collapsed": false
   },
   "outputs": [
    {
     "data": {
      "text/plain": [
       "'tmp = pd.DataFrame({\"feature\":list(logregfeatlist-limefeatlist),\\n                    \"frequency\":0})\\nfeatparse(tmp)\\nlimefeat = limefeat.append(tmp)\\nlimefeat.reset_index(drop=True,inplace=True)'"
      ]
     },
     "execution_count": 14,
     "metadata": {},
     "output_type": "execute_result"
    }
   ],
   "source": [
    "\"\"\"tmp = pd.DataFrame({\"feature\":list(logregfeatlist-limefeatlist),\n",
    "                    \"frequency\":0})\n",
    "featparse(tmp)\n",
    "limefeat = limefeat.append(tmp)\n",
    "limefeat.reset_index(drop=True,inplace=True)\"\"\""
   ]
  },
  {
   "cell_type": "markdown",
   "metadata": {},
   "source": [
    "#### Sorting LIME table according to scikit-learn LogReg feature importance ordering"
   ]
  },
  {
   "cell_type": "code",
   "execution_count": 9,
   "metadata": {
    "collapsed": false
   },
   "outputs": [
    {
     "name": "stderr",
     "output_type": "stream",
     "text": [
      "/Library/Python/2.7/site-packages/pandas/core/frame.py:2754: SettingWithCopyWarning: \n",
      "A value is trying to be set on a copy of a slice from a DataFrame\n",
      "\n",
      "See the caveats in the documentation: http://pandas.pydata.org/pandas-docs/stable/indexing.html#indexing-view-versus-copy\n",
      "  **kwargs)\n"
     ]
    }
   ],
   "source": [
    "\"\"\"tmp = logregfeat[['feature']]\n",
    "tmp.reset_index(drop=False,inplace=True)\n",
    "tmp.set_index(\"feature\",inplace=True)\n",
    "tmp.rename(columns={\"index\":\"idx\"},inplace=True)\n",
    "limefeat = limefeat.join(tmp,on=\"feature\")\"\"\""
   ]
  },
  {
   "cell_type": "code",
   "execution_count": 15,
   "metadata": {
    "collapsed": true
   },
   "outputs": [],
   "source": [
    "#limefeat.to_csv(\"limefeat.csv\",index=False)\n",
    "df.to_csv(\"170728_2015-01-01_featlist.csv\",index=False)"
   ]
  },
  {
   "cell_type": "code",
   "execution_count": null,
   "metadata": {
    "collapsed": true
   },
   "outputs": [],
   "source": []
  }
 ],
 "metadata": {
  "kernelspec": {
   "display_name": "Python 2",
   "language": "python",
   "name": "python2"
  },
  "language_info": {
   "codemirror_mode": {
    "name": "ipython",
    "version": 2
   },
   "file_extension": ".py",
   "mimetype": "text/x-python",
   "name": "python",
   "nbconvert_exporter": "python",
   "pygments_lexer": "ipython2",
   "version": "2.7.10"
  }
 },
 "nbformat": 4,
 "nbformat_minor": 0
}
