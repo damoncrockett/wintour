{
 "cells": [
  {
   "cell_type": "code",
   "execution_count": 1,
   "metadata": {
    "collapsed": true
   },
   "outputs": [],
   "source": [
    "import pandas as pd\n",
    "%matplotlib inline\n",
    "import numpy as np"
   ]
  },
  {
   "cell_type": "code",
   "execution_count": 14,
   "metadata": {
    "collapsed": true
   },
   "outputs": [],
   "source": [
    "df = pd.read_csv(\"indiv_tree_pred.csv\")"
   ]
  },
  {
   "cell_type": "code",
   "execution_count": 15,
   "metadata": {
    "collapsed": false
   },
   "outputs": [
    {
     "data": {
      "text/html": [
       "<div>\n",
       "<table border=\"1\" class=\"dataframe\">\n",
       "  <thead>\n",
       "    <tr style=\"text-align: right;\">\n",
       "      <th></th>\n",
       "      <th>0</th>\n",
       "      <th>1</th>\n",
       "      <th>2</th>\n",
       "      <th>3</th>\n",
       "      <th>4</th>\n",
       "      <th>5</th>\n",
       "      <th>6</th>\n",
       "      <th>7</th>\n",
       "      <th>8</th>\n",
       "      <th>9</th>\n",
       "      <th>...</th>\n",
       "      <th>9990</th>\n",
       "      <th>9991</th>\n",
       "      <th>9992</th>\n",
       "      <th>9993</th>\n",
       "      <th>9994</th>\n",
       "      <th>9995</th>\n",
       "      <th>9996</th>\n",
       "      <th>9997</th>\n",
       "      <th>9998</th>\n",
       "      <th>9999</th>\n",
       "    </tr>\n",
       "  </thead>\n",
       "  <tbody>\n",
       "    <tr>\n",
       "      <th>0</th>\n",
       "      <td>0.222222</td>\n",
       "      <td>0.986248</td>\n",
       "      <td>0.961240</td>\n",
       "      <td>0.000000</td>\n",
       "      <td>0.941197</td>\n",
       "      <td>0.947612</td>\n",
       "      <td>0.917943</td>\n",
       "      <td>0.963057</td>\n",
       "      <td>0.963636</td>\n",
       "      <td>0.938841</td>\n",
       "      <td>...</td>\n",
       "      <td>0.953333</td>\n",
       "      <td>0.943343</td>\n",
       "      <td>0.200000</td>\n",
       "      <td>0.919436</td>\n",
       "      <td>1.000000</td>\n",
       "      <td>0.952071</td>\n",
       "      <td>0.952158</td>\n",
       "      <td>0.975225</td>\n",
       "      <td>0.846154</td>\n",
       "      <td>0.825000</td>\n",
       "    </tr>\n",
       "    <tr>\n",
       "      <th>1</th>\n",
       "      <td>1.000000</td>\n",
       "      <td>0.910338</td>\n",
       "      <td>1.000000</td>\n",
       "      <td>0.819843</td>\n",
       "      <td>0.764228</td>\n",
       "      <td>0.873271</td>\n",
       "      <td>0.887763</td>\n",
       "      <td>0.889109</td>\n",
       "      <td>0.902937</td>\n",
       "      <td>0.333333</td>\n",
       "      <td>...</td>\n",
       "      <td>0.869001</td>\n",
       "      <td>0.906694</td>\n",
       "      <td>0.916438</td>\n",
       "      <td>1.000000</td>\n",
       "      <td>0.901186</td>\n",
       "      <td>0.560976</td>\n",
       "      <td>1.000000</td>\n",
       "      <td>0.885714</td>\n",
       "      <td>1.000000</td>\n",
       "      <td>0.915796</td>\n",
       "    </tr>\n",
       "    <tr>\n",
       "      <th>2</th>\n",
       "      <td>0.971429</td>\n",
       "      <td>0.942332</td>\n",
       "      <td>0.916031</td>\n",
       "      <td>0.959627</td>\n",
       "      <td>0.941197</td>\n",
       "      <td>1.000000</td>\n",
       "      <td>0.960711</td>\n",
       "      <td>0.963057</td>\n",
       "      <td>0.902937</td>\n",
       "      <td>0.951743</td>\n",
       "      <td>...</td>\n",
       "      <td>0.959916</td>\n",
       "      <td>0.966102</td>\n",
       "      <td>0.916438</td>\n",
       "      <td>0.919436</td>\n",
       "      <td>1.000000</td>\n",
       "      <td>0.831858</td>\n",
       "      <td>0.912201</td>\n",
       "      <td>1.000000</td>\n",
       "      <td>0.961338</td>\n",
       "      <td>0.983158</td>\n",
       "    </tr>\n",
       "    <tr>\n",
       "      <th>3</th>\n",
       "      <td>0.920000</td>\n",
       "      <td>1.000000</td>\n",
       "      <td>0.882470</td>\n",
       "      <td>0.931677</td>\n",
       "      <td>0.764228</td>\n",
       "      <td>0.873271</td>\n",
       "      <td>0.250000</td>\n",
       "      <td>0.925175</td>\n",
       "      <td>0.901840</td>\n",
       "      <td>0.938841</td>\n",
       "      <td>...</td>\n",
       "      <td>0.906250</td>\n",
       "      <td>0.953321</td>\n",
       "      <td>0.981982</td>\n",
       "      <td>0.919436</td>\n",
       "      <td>0.946541</td>\n",
       "      <td>0.952071</td>\n",
       "      <td>0.877193</td>\n",
       "      <td>0.828306</td>\n",
       "      <td>0.961338</td>\n",
       "      <td>0.912281</td>\n",
       "    </tr>\n",
       "    <tr>\n",
       "      <th>4</th>\n",
       "      <td>0.966863</td>\n",
       "      <td>0.986248</td>\n",
       "      <td>0.965693</td>\n",
       "      <td>0.958086</td>\n",
       "      <td>0.941197</td>\n",
       "      <td>0.952986</td>\n",
       "      <td>0.960711</td>\n",
       "      <td>1.000000</td>\n",
       "      <td>0.902937</td>\n",
       "      <td>0.951743</td>\n",
       "      <td>...</td>\n",
       "      <td>0.921642</td>\n",
       "      <td>0.953321</td>\n",
       "      <td>1.000000</td>\n",
       "      <td>0.945177</td>\n",
       "      <td>1.000000</td>\n",
       "      <td>0.952071</td>\n",
       "      <td>0.912201</td>\n",
       "      <td>0.956220</td>\n",
       "      <td>0.985981</td>\n",
       "      <td>0.937778</td>\n",
       "    </tr>\n",
       "  </tbody>\n",
       "</table>\n",
       "<p>5 rows × 10000 columns</p>\n",
       "</div>"
      ],
      "text/plain": [
       "          0         1         2         3         4         5         6  \\\n",
       "0  0.222222  0.986248  0.961240  0.000000  0.941197  0.947612  0.917943   \n",
       "1  1.000000  0.910338  1.000000  0.819843  0.764228  0.873271  0.887763   \n",
       "2  0.971429  0.942332  0.916031  0.959627  0.941197  1.000000  0.960711   \n",
       "3  0.920000  1.000000  0.882470  0.931677  0.764228  0.873271  0.250000   \n",
       "4  0.966863  0.986248  0.965693  0.958086  0.941197  0.952986  0.960711   \n",
       "\n",
       "          7         8         9    ...         9990      9991      9992  \\\n",
       "0  0.963057  0.963636  0.938841    ...     0.953333  0.943343  0.200000   \n",
       "1  0.889109  0.902937  0.333333    ...     0.869001  0.906694  0.916438   \n",
       "2  0.963057  0.902937  0.951743    ...     0.959916  0.966102  0.916438   \n",
       "3  0.925175  0.901840  0.938841    ...     0.906250  0.953321  0.981982   \n",
       "4  1.000000  0.902937  0.951743    ...     0.921642  0.953321  1.000000   \n",
       "\n",
       "       9993      9994      9995      9996      9997      9998      9999  \n",
       "0  0.919436  1.000000  0.952071  0.952158  0.975225  0.846154  0.825000  \n",
       "1  1.000000  0.901186  0.560976  1.000000  0.885714  1.000000  0.915796  \n",
       "2  0.919436  1.000000  0.831858  0.912201  1.000000  0.961338  0.983158  \n",
       "3  0.919436  0.946541  0.952071  0.877193  0.828306  0.961338  0.912281  \n",
       "4  0.945177  1.000000  0.952071  0.912201  0.956220  0.985981  0.937778  \n",
       "\n",
       "[5 rows x 10000 columns]"
      ]
     },
     "execution_count": 15,
     "metadata": {},
     "output_type": "execute_result"
    }
   ],
   "source": [
    "df.head()"
   ]
  },
  {
   "cell_type": "code",
   "execution_count": 16,
   "metadata": {
    "collapsed": false
   },
   "outputs": [],
   "source": [
    "def complement(x):\n",
    "    return float(1) - x"
   ]
  },
  {
   "cell_type": "code",
   "execution_count": 17,
   "metadata": {
    "collapsed": false
   },
   "outputs": [],
   "source": [
    "df = df.apply(complement,axis=1)"
   ]
  },
  {
   "cell_type": "code",
   "execution_count": 18,
   "metadata": {
    "collapsed": false
   },
   "outputs": [
    {
     "data": {
      "text/html": [
       "<div>\n",
       "<table border=\"1\" class=\"dataframe\">\n",
       "  <thead>\n",
       "    <tr style=\"text-align: right;\">\n",
       "      <th></th>\n",
       "      <th>0</th>\n",
       "      <th>1</th>\n",
       "      <th>2</th>\n",
       "      <th>3</th>\n",
       "      <th>4</th>\n",
       "      <th>5</th>\n",
       "      <th>6</th>\n",
       "      <th>7</th>\n",
       "      <th>8</th>\n",
       "      <th>9</th>\n",
       "      <th>...</th>\n",
       "      <th>9990</th>\n",
       "      <th>9991</th>\n",
       "      <th>9992</th>\n",
       "      <th>9993</th>\n",
       "      <th>9994</th>\n",
       "      <th>9995</th>\n",
       "      <th>9996</th>\n",
       "      <th>9997</th>\n",
       "      <th>9998</th>\n",
       "      <th>9999</th>\n",
       "    </tr>\n",
       "  </thead>\n",
       "  <tbody>\n",
       "    <tr>\n",
       "      <th>0</th>\n",
       "      <td>0.777778</td>\n",
       "      <td>0.013752</td>\n",
       "      <td>0.038760</td>\n",
       "      <td>1.000000</td>\n",
       "      <td>0.058803</td>\n",
       "      <td>0.052388</td>\n",
       "      <td>0.082057</td>\n",
       "      <td>0.036943</td>\n",
       "      <td>0.036364</td>\n",
       "      <td>0.061159</td>\n",
       "      <td>...</td>\n",
       "      <td>0.046667</td>\n",
       "      <td>0.056657</td>\n",
       "      <td>0.800000</td>\n",
       "      <td>0.080564</td>\n",
       "      <td>0.000000</td>\n",
       "      <td>0.047929</td>\n",
       "      <td>0.047842</td>\n",
       "      <td>0.024775</td>\n",
       "      <td>0.153846</td>\n",
       "      <td>0.175000</td>\n",
       "    </tr>\n",
       "    <tr>\n",
       "      <th>1</th>\n",
       "      <td>0.000000</td>\n",
       "      <td>0.089662</td>\n",
       "      <td>0.000000</td>\n",
       "      <td>0.180157</td>\n",
       "      <td>0.235772</td>\n",
       "      <td>0.126729</td>\n",
       "      <td>0.112237</td>\n",
       "      <td>0.110891</td>\n",
       "      <td>0.097063</td>\n",
       "      <td>0.666667</td>\n",
       "      <td>...</td>\n",
       "      <td>0.130999</td>\n",
       "      <td>0.093306</td>\n",
       "      <td>0.083562</td>\n",
       "      <td>0.000000</td>\n",
       "      <td>0.098814</td>\n",
       "      <td>0.439024</td>\n",
       "      <td>0.000000</td>\n",
       "      <td>0.114286</td>\n",
       "      <td>0.000000</td>\n",
       "      <td>0.084204</td>\n",
       "    </tr>\n",
       "    <tr>\n",
       "      <th>2</th>\n",
       "      <td>0.028571</td>\n",
       "      <td>0.057668</td>\n",
       "      <td>0.083969</td>\n",
       "      <td>0.040373</td>\n",
       "      <td>0.058803</td>\n",
       "      <td>0.000000</td>\n",
       "      <td>0.039289</td>\n",
       "      <td>0.036943</td>\n",
       "      <td>0.097063</td>\n",
       "      <td>0.048257</td>\n",
       "      <td>...</td>\n",
       "      <td>0.040084</td>\n",
       "      <td>0.033898</td>\n",
       "      <td>0.083562</td>\n",
       "      <td>0.080564</td>\n",
       "      <td>0.000000</td>\n",
       "      <td>0.168142</td>\n",
       "      <td>0.087799</td>\n",
       "      <td>0.000000</td>\n",
       "      <td>0.038662</td>\n",
       "      <td>0.016842</td>\n",
       "    </tr>\n",
       "    <tr>\n",
       "      <th>3</th>\n",
       "      <td>0.080000</td>\n",
       "      <td>0.000000</td>\n",
       "      <td>0.117530</td>\n",
       "      <td>0.068323</td>\n",
       "      <td>0.235772</td>\n",
       "      <td>0.126729</td>\n",
       "      <td>0.750000</td>\n",
       "      <td>0.074825</td>\n",
       "      <td>0.098160</td>\n",
       "      <td>0.061159</td>\n",
       "      <td>...</td>\n",
       "      <td>0.093750</td>\n",
       "      <td>0.046679</td>\n",
       "      <td>0.018018</td>\n",
       "      <td>0.080564</td>\n",
       "      <td>0.053459</td>\n",
       "      <td>0.047929</td>\n",
       "      <td>0.122807</td>\n",
       "      <td>0.171694</td>\n",
       "      <td>0.038662</td>\n",
       "      <td>0.087719</td>\n",
       "    </tr>\n",
       "    <tr>\n",
       "      <th>4</th>\n",
       "      <td>0.033137</td>\n",
       "      <td>0.013752</td>\n",
       "      <td>0.034307</td>\n",
       "      <td>0.041914</td>\n",
       "      <td>0.058803</td>\n",
       "      <td>0.047014</td>\n",
       "      <td>0.039289</td>\n",
       "      <td>0.000000</td>\n",
       "      <td>0.097063</td>\n",
       "      <td>0.048257</td>\n",
       "      <td>...</td>\n",
       "      <td>0.078358</td>\n",
       "      <td>0.046679</td>\n",
       "      <td>0.000000</td>\n",
       "      <td>0.054823</td>\n",
       "      <td>0.000000</td>\n",
       "      <td>0.047929</td>\n",
       "      <td>0.087799</td>\n",
       "      <td>0.043780</td>\n",
       "      <td>0.014019</td>\n",
       "      <td>0.062222</td>\n",
       "    </tr>\n",
       "  </tbody>\n",
       "</table>\n",
       "<p>5 rows × 10000 columns</p>\n",
       "</div>"
      ],
      "text/plain": [
       "          0         1         2         3         4         5         6  \\\n",
       "0  0.777778  0.013752  0.038760  1.000000  0.058803  0.052388  0.082057   \n",
       "1  0.000000  0.089662  0.000000  0.180157  0.235772  0.126729  0.112237   \n",
       "2  0.028571  0.057668  0.083969  0.040373  0.058803  0.000000  0.039289   \n",
       "3  0.080000  0.000000  0.117530  0.068323  0.235772  0.126729  0.750000   \n",
       "4  0.033137  0.013752  0.034307  0.041914  0.058803  0.047014  0.039289   \n",
       "\n",
       "          7         8         9    ...         9990      9991      9992  \\\n",
       "0  0.036943  0.036364  0.061159    ...     0.046667  0.056657  0.800000   \n",
       "1  0.110891  0.097063  0.666667    ...     0.130999  0.093306  0.083562   \n",
       "2  0.036943  0.097063  0.048257    ...     0.040084  0.033898  0.083562   \n",
       "3  0.074825  0.098160  0.061159    ...     0.093750  0.046679  0.018018   \n",
       "4  0.000000  0.097063  0.048257    ...     0.078358  0.046679  0.000000   \n",
       "\n",
       "       9993      9994      9995      9996      9997      9998      9999  \n",
       "0  0.080564  0.000000  0.047929  0.047842  0.024775  0.153846  0.175000  \n",
       "1  0.000000  0.098814  0.439024  0.000000  0.114286  0.000000  0.084204  \n",
       "2  0.080564  0.000000  0.168142  0.087799  0.000000  0.038662  0.016842  \n",
       "3  0.080564  0.053459  0.047929  0.122807  0.171694  0.038662  0.087719  \n",
       "4  0.054823  0.000000  0.047929  0.087799  0.043780  0.014019  0.062222  \n",
       "\n",
       "[5 rows x 10000 columns]"
      ]
     },
     "execution_count": 18,
     "metadata": {},
     "output_type": "execute_result"
    }
   ],
   "source": [
    "df.head()"
   ]
  },
  {
   "cell_type": "code",
   "execution_count": 6,
   "metadata": {
    "collapsed": true
   },
   "outputs": [],
   "source": [
    "df.to_csv(\"tree_predictions.csv\",index=False)"
   ]
  },
  {
   "cell_type": "code",
   "execution_count": 8,
   "metadata": {
    "collapsed": false
   },
   "outputs": [],
   "source": [
    "def getrange(col):\n",
    "    return max(col)-min(col)"
   ]
  },
  {
   "cell_type": "code",
   "execution_count": 19,
   "metadata": {
    "collapsed": false
   },
   "outputs": [],
   "source": [
    "tmp = df.apply(getrange,axis=0)"
   ]
  },
  {
   "cell_type": "code",
   "execution_count": 20,
   "metadata": {
    "collapsed": false
   },
   "outputs": [
    {
     "data": {
      "text/plain": [
       "0       1.0\n",
       "1       1.0\n",
       "2       1.0\n",
       "3       1.0\n",
       "4       1.0\n",
       "5       1.0\n",
       "6       1.0\n",
       "7       1.0\n",
       "8       1.0\n",
       "9       1.0\n",
       "10      1.0\n",
       "11      1.0\n",
       "12      1.0\n",
       "13      1.0\n",
       "14      1.0\n",
       "15      1.0\n",
       "16      1.0\n",
       "17      1.0\n",
       "18      1.0\n",
       "19      1.0\n",
       "20      1.0\n",
       "21      1.0\n",
       "22      1.0\n",
       "23      1.0\n",
       "24      1.0\n",
       "25      1.0\n",
       "26      1.0\n",
       "27      1.0\n",
       "28      1.0\n",
       "29      1.0\n",
       "       ... \n",
       "9970    1.0\n",
       "9971    1.0\n",
       "9972    1.0\n",
       "9973    1.0\n",
       "9974    1.0\n",
       "9975    1.0\n",
       "9976    1.0\n",
       "9977    1.0\n",
       "9978    1.0\n",
       "9979    1.0\n",
       "9980    1.0\n",
       "9981    1.0\n",
       "9982    1.0\n",
       "9983    1.0\n",
       "9984    1.0\n",
       "9985    1.0\n",
       "9986    1.0\n",
       "9987    1.0\n",
       "9988    1.0\n",
       "9989    1.0\n",
       "9990    1.0\n",
       "9991    1.0\n",
       "9992    1.0\n",
       "9993    1.0\n",
       "9994    1.0\n",
       "9995    1.0\n",
       "9996    1.0\n",
       "9997    1.0\n",
       "9998    1.0\n",
       "9999    1.0\n",
       "dtype: float64"
      ]
     },
     "execution_count": 20,
     "metadata": {},
     "output_type": "execute_result"
    }
   ],
   "source": [
    "tmp"
   ]
  },
  {
   "cell_type": "code",
   "execution_count": 21,
   "metadata": {
    "collapsed": false
   },
   "outputs": [
    {
     "data": {
      "text/plain": [
       "1.0    10000\n",
       "dtype: int64"
      ]
     },
     "execution_count": 21,
     "metadata": {},
     "output_type": "execute_result"
    }
   ],
   "source": [
    "tmp.value_counts()"
   ]
  },
  {
   "cell_type": "code",
   "execution_count": 47,
   "metadata": {
    "collapsed": false
   },
   "outputs": [],
   "source": [
    "binticks = np.arange(0,1.1,.1)"
   ]
  },
  {
   "cell_type": "code",
   "execution_count": 48,
   "metadata": {
    "collapsed": false
   },
   "outputs": [
    {
     "name": "stdout",
     "output_type": "stream",
     "text": [
      "100\n",
      "3362\n",
      "3664\n",
      "5757\n",
      "6466\n"
     ]
    }
   ],
   "source": [
    "for column in df.columns:\n",
    "    if np.random.binomial(1,0.001)==1:\n",
    "        print column\n",
    "    tmp = pd.cut(df[column],binticks,labels=False)\n",
    "    tmp = tmp.fillna(0)\n",
    "    tmp = tmp.apply(int)\n",
    "    df[column] = tmp"
   ]
  },
  {
   "cell_type": "code",
   "execution_count": 49,
   "metadata": {
    "collapsed": true
   },
   "outputs": [],
   "source": [
    "df.to_csv(\"indiv_tree_pred_binned.csv\",index=False)"
   ]
  },
  {
   "cell_type": "code",
   "execution_count": 70,
   "metadata": {
    "collapsed": false
   },
   "outputs": [],
   "source": [
    "binned = pd.DataFrame(index=range(10))"
   ]
  },
  {
   "cell_type": "code",
   "execution_count": 71,
   "metadata": {
    "collapsed": false
   },
   "outputs": [
    {
     "name": "stdout",
     "output_type": "stream",
     "text": [
      "2300\n",
      "3083\n",
      "3409\n",
      "4153\n",
      "4610\n",
      "5540\n",
      "7415\n",
      "7477\n",
      "8832\n"
     ]
    }
   ],
   "source": [
    "for column in df.columns:\n",
    "    if np.random.binomial(1,0.001)==1:\n",
    "        print column\n",
    "    binned[column] = df[[column]].groupby(column).size()"
   ]
  },
  {
   "cell_type": "code",
   "execution_count": 74,
   "metadata": {
    "collapsed": false
   },
   "outputs": [],
   "source": [
    "binned.fillna(0,inplace=True)"
   ]
  },
  {
   "cell_type": "code",
   "execution_count": 77,
   "metadata": {
    "collapsed": false
   },
   "outputs": [],
   "source": [
    "binned = binned.transpose()"
   ]
  },
  {
   "cell_type": "code",
   "execution_count": 78,
   "metadata": {
    "collapsed": true
   },
   "outputs": [],
   "source": [
    "binned.to_csv(\"indiv_tree_pred_binned_grouped.csv\",index=False)"
   ]
  }
 ],
 "metadata": {
  "kernelspec": {
   "display_name": "Python 2",
   "language": "python",
   "name": "python2"
  },
  "language_info": {
   "codemirror_mode": {
    "name": "ipython",
    "version": 2
   },
   "file_extension": ".py",
   "mimetype": "text/x-python",
   "name": "python",
   "nbconvert_exporter": "python",
   "pygments_lexer": "ipython2",
   "version": "2.7.10"
  }
 },
 "nbformat": 4,
 "nbformat_minor": 0
}
