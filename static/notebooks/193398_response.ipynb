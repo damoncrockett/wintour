{
 "cells": [
  {
   "cell_type": "code",
   "execution_count": 37,
   "metadata": {
    "collapsed": true
   },
   "outputs": [],
   "source": [
    "import pandas as pd\n",
    "from PIL import Image,ImageDraw,ImageFont\n",
    "import os\n",
    "import numpy as np\n",
    "import math"
   ]
  },
  {
   "cell_type": "markdown",
   "metadata": {},
   "source": [
    "#### train matrix"
   ]
  },
  {
   "cell_type": "code",
   "execution_count": 38,
   "metadata": {
    "collapsed": false
   },
   "outputs": [],
   "source": [
    "test_matrix = pd.read_csv(\"193398_test_2014-04-01.csv\")"
   ]
  },
  {
   "cell_type": "code",
   "execution_count": 39,
   "metadata": {
    "collapsed": false
   },
   "outputs": [],
   "source": [
    "test_matrix.sort_values(by='score',ascending=False,inplace=True)"
   ]
  },
  {
   "cell_type": "code",
   "execution_count": 40,
   "metadata": {
    "collapsed": false
   },
   "outputs": [],
   "source": [
    "test_matrix.reset_index(drop=True,inplace=True)"
   ]
  },
  {
   "cell_type": "markdown",
   "metadata": {},
   "source": [
    "## Binning"
   ]
  },
  {
   "cell_type": "code",
   "execution_count": 41,
   "metadata": {
    "collapsed": true
   },
   "outputs": [],
   "source": [
    "def binticks(matrix,feat):\n",
    "    tmp = matrix.loc[:,feat]\n",
    "    tmpmin = min(tmp)\n",
    "    tmpmax = max(tmp)\n",
    "    tmprange = tmpmax - tmpmin\n",
    "    step = tmprange / 100\n",
    "    return np.arange(tmpmin,tmpmax+step,step)"
   ]
  },
  {
   "cell_type": "code",
   "execution_count": 42,
   "metadata": {
    "collapsed": true
   },
   "outputs": [],
   "source": [
    "def labelticks(matrix,feat):\n",
    "    tmp = matrix.loc[:,feat]\n",
    "    tmpmin = min(tmp)\n",
    "    tmpmax = max(tmp)\n",
    "    tmprange = tmpmax - tmpmin\n",
    "    step = tmprange / 20\n",
    "    return np.arange(tmpmin,tmpmax+step,step)"
   ]
  },
  {
   "cell_type": "code",
   "execution_count": 43,
   "metadata": {
    "collapsed": true
   },
   "outputs": [],
   "source": [
    "def minmax(matrix,feat):\n",
    "    tmp = matrix.loc[:,feat]\n",
    "    tmpmin = min(tmp)\n",
    "    tmpmax = max(tmp)\n",
    "    return tmpmin,tmpmax"
   ]
  },
  {
   "cell_type": "markdown",
   "metadata": {},
   "source": [
    "### Axis labels"
   ]
  },
  {
   "cell_type": "code",
   "execution_count": 44,
   "metadata": {
    "collapsed": false
   },
   "outputs": [],
   "source": [
    "def addlabels(canvas,ticks):\n",
    "    width = canvas.width\n",
    "    height = canvas.height\n",
    "    margin = 28\n",
    "    newheight = height + margin\n",
    "    \n",
    "    unicanvas = Image.new('RGB',(width,newheight),(255,255,255))\n",
    "    unicanvas.paste(canvas,(0,0))\n",
    "    \n",
    "    font = ImageFont.truetype('VeraMono.ttf', rectheight - 8 )\n",
    "    \n",
    "    # fontWidth, fontHeight = font.getsize(high) # can use if I have sizing issues\n",
    "\n",
    "    draw = ImageDraw.Draw(unicanvas,'RGB')\n",
    "    \n",
    "    for i in range(len(ticks)):\n",
    "        xpos = i * rectwidth * 5\n",
    "        draw.text((xpos,newheight - 28 ),text=str(int(ticks[i]*100)),font=font,fill=(0,0,0))\n",
    "    \n",
    "    return unicanvas"
   ]
  },
  {
   "cell_type": "markdown",
   "metadata": {},
   "source": [
    "## Plot"
   ]
  },
  {
   "cell_type": "code",
   "execution_count": 45,
   "metadata": {
    "collapsed": true
   },
   "outputs": [],
   "source": [
    "def overhist_label(X,feat,rectwidth,rectheight,pad):\n",
    "    \n",
    "    binned = pd.cut(X[feat],bins=binticks(X,feat),labels=False,include_lowest=True)\n",
    "    binmax = binned.value_counts().max()\n",
    "    \n",
    "    px_w = len(binticks(X,feat)) * rectwidth\n",
    "    px_h = binmax * rectheight\n",
    "    \n",
    "    font = ImageFont.truetype('VeraMono.ttf', rectheight / 2 - 4)\n",
    "    \n",
    "    canvas = Image.new('RGB',(px_w,px_h),(255,255,255))\n",
    "    draw = ImageDraw.Draw(canvas,'RGBA')\n",
    "    \n",
    "    for binn in binned.value_counts().keys():\n",
    "        xpos = binn * rectwidth\n",
    "        ypos = px_h - rectheight\n",
    "\n",
    "        tmp = binned[binned==binn]\n",
    "\n",
    "        for i in tmp.index:\n",
    "            bbox = [(xpos+pad,ypos+pad-1),(xpos+rectwidth-pad,ypos+rectheight-pad-1)]\n",
    "            outcome = test_matrix.outcome.loc[i]\n",
    "            \n",
    "            if outcome==1:\n",
    "                fillcolor = (220,101,113,127) # red\n",
    "                if i <= 100:\n",
    "                    fillcolor = (170,39,52,190) # darker red if model says '1'\n",
    "            else:\n",
    "                fillcolor = (112,159,210,127) # blue\n",
    "                if i <= 100:\n",
    "                    fillcolor = (50,103,159,190) # darker blue if model says '1'\n",
    "            \n",
    "            #draw.rectangle(bbox,fill=fillcolor,outline=(189,189,189,255))\n",
    "            #draw.rectangle(bbox,fill=fillcolor,outline=(255,255,255,255))\n",
    "            draw.rectangle(bbox,fill=fillcolor,outline=None)\n",
    "            #draw.text((xpos+2,ypos+5),text=str(i),font=font,fill=(255,255,255,255))\n",
    "            ypos = ypos - rectheight\n",
    "    \n",
    "    # range labels\n",
    "    canvas = addlabels(canvas,labelticks(X,feat))\n",
    "    \n",
    "    return canvas"
   ]
  },
  {
   "cell_type": "code",
   "execution_count": 46,
   "metadata": {
    "collapsed": true
   },
   "outputs": [],
   "source": [
    "cfeat = 'score'\n",
    "pad = 1"
   ]
  },
  {
   "cell_type": "code",
   "execution_count": 47,
   "metadata": {
    "collapsed": true
   },
   "outputs": [],
   "source": [
    "rectwidth = 28\n",
    "rectheight = 28"
   ]
  },
  {
   "cell_type": "code",
   "execution_count": 48,
   "metadata": {
    "collapsed": false
   },
   "outputs": [],
   "source": [
    "im = overhist_label(test_matrix,cfeat,rectwidth,rectheight,pad)\n",
    "im.save(\"/Users/damoncrockett/Desktop/response_view.png\")"
   ]
  }
 ],
 "metadata": {
  "kernelspec": {
   "display_name": "Python 2",
   "language": "python",
   "name": "python2"
  },
  "language_info": {
   "codemirror_mode": {
    "name": "ipython",
    "version": 2
   },
   "file_extension": ".py",
   "mimetype": "text/x-python",
   "name": "python",
   "nbconvert_exporter": "python",
   "pygments_lexer": "ipython2",
   "version": "2.7.10"
  }
 },
 "nbformat": 4,
 "nbformat_minor": 0
}
