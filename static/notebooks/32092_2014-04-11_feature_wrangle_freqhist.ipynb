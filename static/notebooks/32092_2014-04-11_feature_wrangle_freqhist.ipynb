{
 "cells": [
  {
   "cell_type": "code",
   "execution_count": 8,
   "metadata": {
    "collapsed": true
   },
   "outputs": [],
   "source": [
    "import pandas as pd\n",
    "from collections import Counter\n",
    "from PIL import Image,ImageDraw,ImageFont\n",
    "from scipy.stats import spearmanr\n",
    "import os\n",
    "import numpy as np"
   ]
  },
  {
   "cell_type": "code",
   "execution_count": 9,
   "metadata": {
    "collapsed": true
   },
   "outputs": [],
   "source": [
    "limefeat = pd.read_csv(\"limefeat.csv\")\n",
    "logregfeat = pd.read_csv(\"logregfeat.csv\")"
   ]
  },
  {
   "cell_type": "code",
   "execution_count": 10,
   "metadata": {
    "collapsed": true
   },
   "outputs": [],
   "source": [
    "cathue = {\n",
    "    'ts':'0',\n",
    "    'fi':'32',\n",
    "    'ir':'60',\n",
    "    'shifts':'115',\n",
    "    'dispatch':'180',\n",
    "    'arrests':'240',\n",
    "    'ic':'270',\n",
    "    'demarrests':'300',\n",
    "    'ocnd':'200'\n",
    "    }\n",
    "\n",
    "catsat = {\n",
    "    'ts':'100%',\n",
    "    'fi':'100%',\n",
    "    'ir':'100%',\n",
    "    'shifts':'100%',\n",
    "    'dispatch':'100%',\n",
    "    'arrests':'100%',\n",
    "    'ic':'100%',\n",
    "    'demarrests':'100%',\n",
    "    'ocnd':'100%'\n",
    "    }\n",
    "\n",
    "catval = {\n",
    "    '1d':'5%',\n",
    "    '1w':'25%',\n",
    "    '1m':'50%',\n",
    "    '1y':'75%',\n",
    "    '5y':'100%',\n",
    "    'all':'100%',\n",
    "    }"
   ]
  },
  {
   "cell_type": "code",
   "execution_count": 11,
   "metadata": {
    "collapsed": true
   },
   "outputs": [],
   "source": [
    "limefeat = limefeat[limefeat.record_type.isin(list(cathue.keys()))]\n",
    "logregfeat = logregfeat[logregfeat.record_type.isin(list(cathue.keys()))]\n",
    "\n",
    "limefeat.reset_index(drop=True,inplace=True)\n",
    "logregfeat.reset_index(drop=True,inplace=True)"
   ]
  },
  {
   "cell_type": "markdown",
   "metadata": {},
   "source": [
    "#### Freq Hist. color by type"
   ]
  },
  {
   "cell_type": "code",
   "execution_count": 12,
   "metadata": {
    "collapsed": false
   },
   "outputs": [],
   "source": [
    "limefeat = limefeat[limefeat.frequency>4]"
   ]
  },
  {
   "cell_type": "code",
   "execution_count": 13,
   "metadata": {
    "collapsed": true
   },
   "outputs": [],
   "source": [
    "rectwidth = 8\n",
    "px_h = 1609\n",
    "px_w = len(limefeat) * rectwidth "
   ]
  },
  {
   "cell_type": "code",
   "execution_count": 14,
   "metadata": {
    "collapsed": false
   },
   "outputs": [],
   "source": [
    "def freqhist(df):\n",
    "\n",
    "    canvas = Image.new('RGB',(px_w,px_h),'hsl(0,0%,100%)')\n",
    "\n",
    "    for i in df.index:\n",
    "        height = df.frequency.loc[i]\n",
    "        ycoord = px_h - height\n",
    "        xcoord = i * rectwidth\n",
    "\n",
    "        bbox = [xcoord, ycoord, xcoord + rectwidth, px_h]\n",
    "\n",
    "        temp_agg = df.temp_agg.loc[i]\n",
    "        if temp_agg==None:\n",
    "            val = '50%'\n",
    "        else:\n",
    "            #val = catval[temp_agg]\n",
    "            val = '50%'\n",
    "\n",
    "        record_type = df.record_type.loc[i]\n",
    "        hue = cathue[record_type]\n",
    "        sat = catsat[record_type]\n",
    "\n",
    "        fillcolor = 'hsl('+hue+\",\"+sat+\",\"+val+\")\"\n",
    "        draw = ImageDraw.Draw(canvas)\n",
    "        draw.rectangle(bbox,fill=fillcolor,outline=None)\n",
    "        \n",
    "    return canvas"
   ]
  },
  {
   "cell_type": "code",
   "execution_count": 15,
   "metadata": {
    "collapsed": false
   },
   "outputs": [],
   "source": [
    "freqhist(limefeat).save(\"freqhist_limefeat.png\")"
   ]
  }
 ],
 "metadata": {
  "kernelspec": {
   "display_name": "Python 2",
   "language": "python",
   "name": "python2"
  },
  "language_info": {
   "codemirror_mode": {
    "name": "ipython",
    "version": 2
   },
   "file_extension": ".py",
   "mimetype": "text/x-python",
   "name": "python",
   "nbconvert_exporter": "python",
   "pygments_lexer": "ipython2",
   "version": "2.7.10"
  }
 },
 "nbformat": 4,
 "nbformat_minor": 0
}
