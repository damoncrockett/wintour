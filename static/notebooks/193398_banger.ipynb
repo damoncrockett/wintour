{
 "cells": [
  {
   "cell_type": "code",
   "execution_count": 388,
   "metadata": {
    "collapsed": true
   },
   "outputs": [],
   "source": [
    "import pandas as pd\n",
    "from PIL import Image,ImageDraw,ImageFont\n",
    "import os\n",
    "import numpy as np\n",
    "import math"
   ]
  },
  {
   "cell_type": "code",
   "execution_count": 389,
   "metadata": {
    "collapsed": true
   },
   "outputs": [],
   "source": [
    "ii = pd.read_csv(\"193398_individual_importances.csv\")"
   ]
  },
  {
   "cell_type": "code",
   "execution_count": 390,
   "metadata": {
    "collapsed": true
   },
   "outputs": [],
   "source": [
    "ii.set_index(\"entity_id\",inplace=True)"
   ]
  },
  {
   "cell_type": "code",
   "execution_count": 391,
   "metadata": {
    "collapsed": false
   },
   "outputs": [],
   "source": [
    "feature_table = pd.read_csv(\"193398_feattable.csv\")\n",
    "feature_table = feature_table[feature_table.feature_importance>0.00353]\n",
    "feature_table.reset_index(drop=True,inplace=True)\n",
    "top_feats = list(feature_table.feature)"
   ]
  },
  {
   "cell_type": "code",
   "execution_count": 392,
   "metadata": {
    "collapsed": true
   },
   "outputs": [],
   "source": [
    "singleton = 3537"
   ]
  },
  {
   "cell_type": "code",
   "execution_count": 393,
   "metadata": {
    "collapsed": true
   },
   "outputs": [],
   "source": [
    "singlevars = [\n",
    "    ii.risk_1.loc[singleton],\n",
    "    ii.risk_2.loc[singleton],\n",
    "    ii.risk_3.loc[singleton],\n",
    "    ii.risk_4.loc[singleton],\n",
    "    ii.risk_5.loc[singleton]\n",
    "    ]"
   ]
  },
  {
   "cell_type": "code",
   "execution_count": 394,
   "metadata": {
    "collapsed": false
   },
   "outputs": [
    {
     "data": {
      "text/plain": [
       "['ts_id_p1y_trafficstopsbysearchreason_consent_sum',\n",
       " 'dispatch_id_p1y_dispatchtype_assault_sum',\n",
       " 'dispatch_id_p1y_dispatchtype_disorder_sum',\n",
       " 'dispatch_id_p1m_dispatchtype_disorder_sum',\n",
       " 'dispatch_id_p1y_dispatchinitiatiationtype_ci_sum']"
      ]
     },
     "execution_count": 394,
     "metadata": {},
     "output_type": "execute_result"
    }
   ],
   "source": [
    "singlevars"
   ]
  },
  {
   "cell_type": "code",
   "execution_count": 395,
   "metadata": {
    "collapsed": false
   },
   "outputs": [],
   "source": [
    "#hotvar = singlevars[0]"
   ]
  },
  {
   "cell_type": "markdown",
   "metadata": {},
   "source": [
    "#### test matrix"
   ]
  },
  {
   "cell_type": "code",
   "execution_count": 396,
   "metadata": {
    "collapsed": false
   },
   "outputs": [],
   "source": [
    "test_matrix = pd.read_csv(\"193398_test_2014-04-01.csv\")\n",
    "test_matrix.set_index(\"officer_id\",inplace=True)"
   ]
  },
  {
   "cell_type": "code",
   "execution_count": 397,
   "metadata": {
    "collapsed": true
   },
   "outputs": [],
   "source": [
    "test_matrix.sort_values(by='score',ascending=False,inplace=True)\n",
    "labels = test_matrix.outcome\n",
    "scores = test_matrix.score"
   ]
  },
  {
   "cell_type": "code",
   "execution_count": 398,
   "metadata": {
    "collapsed": false
   },
   "outputs": [],
   "source": [
    "test_matrix = test_matrix[test_matrix['ocag_id_all_officerage_max']!=0]"
   ]
  },
  {
   "cell_type": "code",
   "execution_count": 399,
   "metadata": {
    "collapsed": false
   },
   "outputs": [],
   "source": [
    "test_matrix['hotvar_imp'] = False"
   ]
  },
  {
   "cell_type": "code",
   "execution_count": 400,
   "metadata": {
    "collapsed": false
   },
   "outputs": [],
   "source": [
    "ii_idxs = [item for item in ii.index if item in test_matrix.index]"
   ]
  },
  {
   "cell_type": "code",
   "execution_count": 401,
   "metadata": {
    "collapsed": false
   },
   "outputs": [],
   "source": [
    "for i in ii_idxs:    \n",
    "    featlist = [\n",
    "        ii.risk_1.loc[i],\n",
    "        ii.risk_2.loc[i],\n",
    "        ii.risk_3.loc[i],\n",
    "        ii.risk_4.loc[i],\n",
    "        ii.risk_5.loc[i]\n",
    "    ]\n",
    "    \n",
    "    if hotvar in featlist:\n",
    "        test_matrix.hotvar_imp.loc[i] = True"
   ]
  },
  {
   "cell_type": "code",
   "execution_count": 402,
   "metadata": {
    "collapsed": false
   },
   "outputs": [
    {
     "name": "stdout",
     "output_type": "stream",
     "text": [
      "0.0624336247543 0.145132730406\n"
     ]
    }
   ],
   "source": [
    "print min(scores),max(scores)"
   ]
  },
  {
   "cell_type": "code",
   "execution_count": 403,
   "metadata": {
    "collapsed": false
   },
   "outputs": [
    {
     "data": {
      "text/plain": [
       "0    1309\n",
       "1     156\n",
       "Name: outcome, dtype: int64"
      ]
     },
     "execution_count": 403,
     "metadata": {},
     "output_type": "execute_result"
    }
   ],
   "source": [
    "test_matrix.outcome.value_counts()"
   ]
  },
  {
   "cell_type": "code",
   "execution_count": 404,
   "metadata": {
    "collapsed": false
   },
   "outputs": [],
   "source": [
    "tmp = test_matrix[['ocag_id_all_officerage_max','outcome']]"
   ]
  },
  {
   "cell_type": "code",
   "execution_count": 405,
   "metadata": {
    "collapsed": false
   },
   "outputs": [],
   "source": [
    "prior = float(156)/1309"
   ]
  },
  {
   "cell_type": "code",
   "execution_count": 406,
   "metadata": {
    "collapsed": false
   },
   "outputs": [
    {
     "data": {
      "text/plain": [
       "45.0"
      ]
     },
     "execution_count": 406,
     "metadata": {},
     "output_type": "execute_result"
    }
   ],
   "source": [
    "max(tmp.ocag_id_all_officerage_max) - min(tmp.ocag_id_all_officerage_max)"
   ]
  },
  {
   "cell_type": "code",
   "execution_count": 407,
   "metadata": {
    "collapsed": false
   },
   "outputs": [
    {
     "data": {
      "text/plain": [
       "False    1130\n",
       "True      335\n",
       "Name: hotvar_imp, dtype: int64"
      ]
     },
     "execution_count": 407,
     "metadata": {},
     "output_type": "execute_result"
    }
   ],
   "source": [
    "test_matrix.hotvar_imp.value_counts()"
   ]
  },
  {
   "cell_type": "code",
   "execution_count": 408,
   "metadata": {
    "collapsed": false
   },
   "outputs": [],
   "source": [
    "hotidxs = test_matrix.index[test_matrix.hotvar_imp==True]"
   ]
  },
  {
   "cell_type": "markdown",
   "metadata": {},
   "source": [
    "## Binning"
   ]
  },
  {
   "cell_type": "code",
   "execution_count": 463,
   "metadata": {
    "collapsed": true
   },
   "outputs": [],
   "source": [
    "def binticks(matrix,feat):\n",
    "    tmp = matrix.loc[:,feat]\n",
    "    tmpmin = min(tmp)\n",
    "    tmpmax = max(tmp)\n",
    "    tmprange = tmpmax - tmpmin\n",
    "    step = tmprange / 100\n",
    "    \n",
    "    return np.arange(tmpmin,tmpmax+step,step)"
   ]
  },
  {
   "cell_type": "markdown",
   "metadata": {},
   "source": [
    "### Dot"
   ]
  },
  {
   "cell_type": "code",
   "execution_count": 464,
   "metadata": {
    "collapsed": true
   },
   "outputs": [],
   "source": [
    "def adddot(canvas,binned,singleton):\n",
    "    width = canvas.width\n",
    "    height = canvas.height\n",
    "    margin = rectheight / 2\n",
    "    newheight = height + margin\n",
    "    \n",
    "    unicanvas = Image.new('RGBA',(width,newheight),(255,255,255,0))\n",
    "    unicanvas.paste(canvas,(0,0))\n",
    "    draw = ImageDraw.Draw(unicanvas,'RGBA')\n",
    "    \n",
    "    sbin = binned[singleton]\n",
    "    #draw.ellipse((sbin*rectwidth,height-margin,sbin*rectwidth+rectwidth,height+margin),outline=\"yellow\",fill=None)\n",
    "    \n",
    "    return unicanvas,sbin"
   ]
  },
  {
   "cell_type": "markdown",
   "metadata": {},
   "source": [
    "# banger plot"
   ]
  },
  {
   "cell_type": "code",
   "execution_count": 465,
   "metadata": {
    "collapsed": false
   },
   "outputs": [],
   "source": [
    "def banger(X,cfeat,rectwidth,rectheight,pad):\n",
    "    bins = binticks(test_matrix,cfeat)\n",
    "    nbins = len(bins)\n",
    "    binned = pd.cut(X.loc[:,cfeat],bins=bins,labels=False,include_lowest=True)\n",
    "    \n",
    "    px_w = ( nbins - 1 ) * rectwidth # a hack; won't work with all subsets\n",
    "    binmax = binned.value_counts().max()\n",
    "    px_h = binmax * rectheight\n",
    "    \n",
    "    canvas = Image.new('RGBA',(px_w,px_h),(255,255,255,0))\n",
    "    draw = ImageDraw.Draw(canvas)\n",
    "        \n",
    "    for binn in range(nbins):\n",
    "        binheight = len(binned[binned==binn])\n",
    "        xpos = binn * rectwidth\n",
    "        bbox = [(xpos,px_h-binheight*rectwidth),(xpos+rectwidth,px_h)]\n",
    "        draw.rectangle(bbox,fill=\"hsl(0,0%,50%)\",outline=None)\n",
    "        \n",
    "    wdot,sbin = adddot(canvas,binned,singleton)\n",
    "    print nbins,sbin\n",
    "    return wdot,px_w,px_h"
   ]
  },
  {
   "cell_type": "code",
   "execution_count": 466,
   "metadata": {
    "collapsed": true
   },
   "outputs": [],
   "source": [
    "pad = 0"
   ]
  },
  {
   "cell_type": "code",
   "execution_count": 467,
   "metadata": {
    "collapsed": true
   },
   "outputs": [],
   "source": [
    "rectwidth = 16\n",
    "rectheight = 16"
   ]
  },
  {
   "cell_type": "code",
   "execution_count": 478,
   "metadata": {
    "collapsed": true
   },
   "outputs": [],
   "source": [
    "cfeat = singlevars[4]"
   ]
  },
  {
   "cell_type": "code",
   "execution_count": 479,
   "metadata": {
    "collapsed": false
   },
   "outputs": [
    {
     "name": "stdout",
     "output_type": "stream",
     "text": [
      "101 83\n"
     ]
    }
   ],
   "source": [
    "im,px_w,px_h = banger(test_matrix,cfeat,rectwidth,rectheight,pad)"
   ]
  },
  {
   "cell_type": "code",
   "execution_count": 480,
   "metadata": {
    "collapsed": false
   },
   "outputs": [],
   "source": [
    "maxheight = 1224\n",
    "cropbox = [0,px_h-maxheight,px_w,px_h]\n",
    "im = im.crop(cropbox)\n",
    "im.save(\"/Users/damoncrockett/Desktop/\"+cfeat+\"_bangerNO.png\")"
   ]
  },
  {
   "cell_type": "code",
   "execution_count": null,
   "metadata": {
    "collapsed": true
   },
   "outputs": [],
   "source": []
  }
 ],
 "metadata": {
  "kernelspec": {
   "display_name": "Python 2",
   "language": "python",
   "name": "python2"
  },
  "language_info": {
   "codemirror_mode": {
    "name": "ipython",
    "version": 2
   },
   "file_extension": ".py",
   "mimetype": "text/x-python",
   "name": "python",
   "nbconvert_exporter": "python",
   "pygments_lexer": "ipython2",
   "version": "2.7.10"
  }
 },
 "nbformat": 4,
 "nbformat_minor": 0
}
