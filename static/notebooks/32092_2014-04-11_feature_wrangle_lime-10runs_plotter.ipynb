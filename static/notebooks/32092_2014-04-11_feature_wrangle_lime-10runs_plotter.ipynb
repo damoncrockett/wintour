{
 "cells": [
  {
   "cell_type": "code",
   "execution_count": 150,
   "metadata": {
    "collapsed": true
   },
   "outputs": [],
   "source": [
    "import pandas as pd\n",
    "from PIL import Image,ImageDraw,ImageFont\n",
    "import numpy as np"
   ]
  },
  {
   "cell_type": "code",
   "execution_count": 151,
   "metadata": {
    "collapsed": true
   },
   "outputs": [],
   "source": [
    "def setstring2list(setstring):\n",
    "    tmp = setstring.lstrip(\"{\").rstrip(\"}\")\n",
    "    tmp = tmp.split(\",\")\n",
    "    tmp = [item.translate(None,\" '\") for item in tmp]\n",
    "    return tmp"
   ]
  },
  {
   "cell_type": "code",
   "execution_count": 152,
   "metadata": {
    "collapsed": true
   },
   "outputs": [],
   "source": [
    "limefeat_alphasort = pd.read_csv(\"limefeat_alphasort.csv\")\n",
    "df = pd.read_csv(\"lime-robustness-all-score-outcome.csv\")\n",
    "df.sort_values(by=['unit_score','officer_id','nft'],ascending=[False,True,True],inplace=True)\n",
    "df.reset_index(drop=True,inplace=True)\n",
    "df['unq'] = df.unq.apply(setstring2list)"
   ]
  },
  {
   "cell_type": "markdown",
   "metadata": {},
   "source": [
    "# Subsetting LIME runs"
   ]
  },
  {
   "cell_type": "code",
   "execution_count": 153,
   "metadata": {
    "collapsed": false
   },
   "outputs": [],
   "source": [
    "officer_ids = list(df.officer_id.unique())\n",
    "#nsmps = [50,100,500,1000,3000,5000,7000]\n",
    "nsmps = [5000]\n",
    "#nfts = [2,5,7,11,13,17]\n",
    "nfts = [17]\n",
    "outcomes = [0,1]\n",
    "\n",
    "df = df[df.officer_id.isin(officer_ids)]\n",
    "df = df[df.nsmp.isin(nsmps)]\n",
    "df = df[df.nft.isin(nfts)]\n",
    "df = df[df.outcome.isin(outcomes)]\n",
    "\n",
    "df.reset_index(drop=True,inplace=True)"
   ]
  },
  {
   "cell_type": "code",
   "execution_count": 154,
   "metadata": {
    "collapsed": true
   },
   "outputs": [],
   "source": [
    "rowmod = 'smp-5000_'+str(nfts[0])"
   ]
  },
  {
   "cell_type": "markdown",
   "metadata": {},
   "source": [
    "# Subsetting Features"
   ]
  },
  {
   "cell_type": "code",
   "execution_count": 155,
   "metadata": {
    "collapsed": false
   },
   "outputs": [],
   "source": [
    "rectype = ['arrests','arstat','demarrests','dispatch','fi','ic','ir','irag','ocag','ocnd','outemp','shifts','ts']\n",
    "#rectype = ['arrests','dispatch','ocnd','outemp','ts']\n",
    "#temp_aggs = ['1d', '1m', '1w', '1y', '5y', 'all']\n",
    "\n",
    "limefeat_alphasort = limefeat_alphasort[limefeat_alphasort.record_type.isin(rectype)]\n",
    "#limefeat_alphasort = limefeat_alphasort[limefeat_alphasort.temp_agg.isin(temp_aggs)]\n",
    "\n",
    "limefeat_alphasort.reset_index(drop=True,inplace=True)\n",
    "\n",
    "colmod = 'all'"
   ]
  },
  {
   "cell_type": "markdown",
   "metadata": {},
   "source": [
    "# Collapse"
   ]
  },
  {
   "cell_type": "code",
   "execution_count": 156,
   "metadata": {
    "collapsed": true
   },
   "outputs": [],
   "source": [
    "collapse = True"
   ]
  },
  {
   "cell_type": "code",
   "execution_count": 157,
   "metadata": {
    "collapsed": false
   },
   "outputs": [],
   "source": [
    "if collapse==True:\n",
    "    featlists = []\n",
    "    for officer_id in df.officer_id.unique():\n",
    "        featlist = list(df.unq[df.officer_id==officer_id])\n",
    "        featlist = [item for sublist in featlist for item in sublist]\n",
    "        featlist = list(set(featlist))\n",
    "        featlists.append(featlist)\n",
    "\n",
    "    df = df[['officer_id','unit_score','outcome']].groupby('officer_id').agg(np.mean)\n",
    "    df.sort_values(by='unit_score',ascending=False,inplace=True)\n",
    "    df['unq'] = featlists\n",
    "    df['nft'] = None\n",
    "    df['nsmp'] = None\n",
    "    df.reset_index(inplace=True)"
   ]
  },
  {
   "cell_type": "markdown",
   "metadata": {},
   "source": [
    "# Color Settings"
   ]
  },
  {
   "cell_type": "code",
   "execution_count": 158,
   "metadata": {
    "collapsed": true
   },
   "outputs": [],
   "source": [
    "cathue = {\n",
    "    'ts':'0',\n",
    "    'fi':'32',\n",
    "    'ir':'60',\n",
    "    'shifts':'115',\n",
    "    'dispatch':'180',\n",
    "    'arrests':'240',\n",
    "    'ic':'270',\n",
    "    'demarrests':'300',\n",
    "    'ocnd':'200'\n",
    "    }\n",
    "\n",
    "bkgdcolor = 'hsl(0,0%,50%)'\n",
    "linecolordark = 'hsl(0,0%,0%)'\n",
    "linecolormed = 'hsl(0,0%,25%)'\n",
    "linecolorlight = 'hsl(0,0%,33%)'\n",
    "textcolor = 'hsl(0,0%,0%)'"
   ]
  },
  {
   "cell_type": "markdown",
   "metadata": {},
   "source": [
    "# Plotter"
   ]
  },
  {
   "cell_type": "code",
   "execution_count": 159,
   "metadata": {
    "collapsed": false
   },
   "outputs": [],
   "source": [
    "rectwidth = 10\n",
    "rectheight = 10\n",
    "px_w = len(limefeat_alphasort) * rectwidth\n",
    "px_h = len(df) * rectheight"
   ]
  },
  {
   "cell_type": "code",
   "execution_count": 160,
   "metadata": {
    "collapsed": true
   },
   "outputs": [],
   "source": [
    "def offtableart(df,limefeat_alphasort):\n",
    "    \n",
    "    canvas = Image.new('RGB',(px_w,px_h),bkgdcolor)\n",
    "    officer_id = None\n",
    "    nft = None\n",
    "    \n",
    "    for i in df.index:\n",
    "        feats = df.unq.loc[i]\n",
    "        ycoord = i * rectheight\n",
    "        \n",
    "        newid = df.officer_id.loc[i]\n",
    "        newft = df.nft.loc[i]  \n",
    "        \n",
    "        for feat in feats:\n",
    "            tmp = limefeat_alphasort[limefeat_alphasort.feature==feat]\n",
    "            \n",
    "            try:\n",
    "                record_type = tmp.record_type.iloc[0]\n",
    "                idx = tmp.index[0]\n",
    "                \n",
    "                xcoord = idx * rectwidth\n",
    "                bbox = [xcoord, ycoord, xcoord + rectwidth, ycoord + rectheight]\n",
    "\n",
    "                try:\n",
    "                    hue = cathue[record_type]\n",
    "                    sat = '100%'\n",
    "                    val = '50%'\n",
    "                except:\n",
    "                    hue = '0'\n",
    "                    sat = '0%'\n",
    "                    val = '100%'\n",
    "                    \n",
    "                fillcolor = 'hsl('+hue+\",\"+sat+\",\"+val+\")\"\n",
    "                draw = ImageDraw.Draw(canvas)\n",
    "                draw.rectangle(bbox,fill=fillcolor,outline=None)\n",
    "            \n",
    "            except:\n",
    "                pass     \n",
    "        \n",
    "        if newid!=officer_id:\n",
    "            draw.line([(0,ycoord),(px_w,ycoord)],width=1,fill=linecolordark)\n",
    "            officer_id = newid\n",
    "            nft = newft\n",
    "        elif newft!=nft:\n",
    "            draw.line([(0,ycoord),(px_w,ycoord)],width=1,fill=linecolormed)\n",
    "            nft = newft\n",
    "        else:\n",
    "            draw.line([(0,ycoord),(px_w,ycoord)],width=1,fill=linecolorlight)\n",
    "    \n",
    "    return canvas"
   ]
  },
  {
   "cell_type": "code",
   "execution_count": 161,
   "metadata": {
    "collapsed": false
   },
   "outputs": [],
   "source": [
    "im = offtableart(df,limefeat_alphasort)\n",
    "w = im.width\n",
    "h = im.height\n",
    "x = 100\n",
    "canvas = Image.new('RGB',((w+x),(h)),bkgdcolor)\n",
    "canvas.paste(im,(x,0))\n",
    "im = None"
   ]
  },
  {
   "cell_type": "code",
   "execution_count": 162,
   "metadata": {
    "collapsed": true
   },
   "outputs": [],
   "source": [
    "draw = ImageDraw.Draw(canvas)\n",
    "for i in df.index:\n",
    "    officer_id = df.officer_id.loc[i]\n",
    "    nft = df.nft.loc[i]\n",
    "    nsmp = df.nsmp.loc[i]\n",
    "    \n",
    "    text = str(officer_id)+\",\"+str(nft)+\",\"+str(nsmp)\n",
    "    font = ImageFont.truetype('VeraMono.ttf', rectheight)\n",
    "    \n",
    "    xpos = 5\n",
    "    ypos = i * rectheight\n",
    "    draw.text((xpos,ypos),text=text,font=font,fill=textcolor)"
   ]
  },
  {
   "cell_type": "code",
   "execution_count": 163,
   "metadata": {
    "collapsed": true
   },
   "outputs": [],
   "source": [
    "w = canvas.width\n",
    "h = canvas.height\n",
    "y = 400\n",
    "unicanvas = Image.new('RGB',((w),(h+y)),bkgdcolor)\n",
    "unicanvas.paste(canvas,(0,y))\n",
    "canvas = None"
   ]
  },
  {
   "cell_type": "code",
   "execution_count": 164,
   "metadata": {
    "collapsed": true
   },
   "outputs": [],
   "source": [
    "draw = ImageDraw.Draw(unicanvas)\n",
    "for i in limefeat_alphasort.index:\n",
    "    feature = limefeat_alphasort.featstr.loc[i]\n",
    "    text = str(feature)\n",
    "    \n",
    "    font = ImageFont.truetype('VeraMono.ttf', rectwidth)\n",
    "    fontWidth, fontHeight = font.getsize(text)\n",
    "    \n",
    "    imtmp = Image.new('RGBA', (fontWidth, fontHeight))\n",
    "    drawtmp = ImageDraw.Draw(imtmp)\n",
    "    drawtmp.text((0,0),text=text,font=font,fill=textcolor)\n",
    "    imtmp = imtmp.rotate(90,expand=1)\n",
    "    \n",
    "    xpos = i * rectwidth + x - 2\n",
    "    ypos = y - imtmp.height - 2\n",
    "    unicanvas.paste(imtmp,(xpos,ypos),imtmp)\n",
    "    \n",
    "    linex = i * rectwidth + x\n",
    "    liney = y\n",
    "    draw.line([(linex,liney),(linex,unicanvas.height)],width=1,fill=linecolorlight)"
   ]
  },
  {
   "cell_type": "code",
   "execution_count": 165,
   "metadata": {
    "collapsed": true
   },
   "outputs": [],
   "source": [
    "unicanvas.save('/Users/damoncrockett/Desktop/Leimplatz/'+rowmod+'___'+colmod+'.png')"
   ]
  }
 ],
 "metadata": {
  "kernelspec": {
   "display_name": "Python 2",
   "language": "python",
   "name": "python2"
  },
  "language_info": {
   "codemirror_mode": {
    "name": "ipython",
    "version": 2
   },
   "file_extension": ".py",
   "mimetype": "text/x-python",
   "name": "python",
   "nbconvert_exporter": "python",
   "pygments_lexer": "ipython2",
   "version": "2.7.10"
  }
 },
 "nbformat": 4,
 "nbformat_minor": 0
}
