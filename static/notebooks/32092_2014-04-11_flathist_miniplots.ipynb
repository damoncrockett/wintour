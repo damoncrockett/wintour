{
 "cells": [
  {
   "cell_type": "code",
   "execution_count": 302,
   "metadata": {
    "collapsed": true
   },
   "outputs": [],
   "source": [
    "import pandas as pd\n",
    "from PIL import Image,ImageDraw,ImageFont\n",
    "import numpy as np\n",
    "import math"
   ]
  },
  {
   "cell_type": "code",
   "execution_count": 303,
   "metadata": {
    "collapsed": true
   },
   "outputs": [],
   "source": [
    "df = pd.read_csv(\"lime-robustness-all-score-outcome.csv\")"
   ]
  },
  {
   "cell_type": "code",
   "execution_count": 304,
   "metadata": {
    "collapsed": true
   },
   "outputs": [],
   "source": [
    "toppct = 0.05"
   ]
  },
  {
   "cell_type": "code",
   "execution_count": 305,
   "metadata": {
    "collapsed": true
   },
   "outputs": [],
   "source": [
    "test_matrix_and_labels = pd.read_csv(\"32092_2014-04-11.csv\")"
   ]
  },
  {
   "cell_type": "code",
   "execution_count": 306,
   "metadata": {
    "collapsed": true
   },
   "outputs": [],
   "source": [
    "n = len(test_matrix_and_labels)"
   ]
  },
  {
   "cell_type": "code",
   "execution_count": 307,
   "metadata": {
    "collapsed": false
   },
   "outputs": [],
   "source": [
    "cutoff = int(math.ceil( len(test_matrix_and_labels) * toppct ))"
   ]
  },
  {
   "cell_type": "code",
   "execution_count": 308,
   "metadata": {
    "collapsed": true
   },
   "outputs": [],
   "source": [
    "visdf = test_matrix_and_labels.sort_values(by=\"unit_score\",ascending=False)"
   ]
  },
  {
   "cell_type": "code",
   "execution_count": 309,
   "metadata": {
    "collapsed": false
   },
   "outputs": [],
   "source": [
    "visdf.set_index(\"officer_id\",drop=True,inplace=True)"
   ]
  },
  {
   "cell_type": "code",
   "execution_count": 310,
   "metadata": {
    "collapsed": false
   },
   "outputs": [],
   "source": [
    "tmp = list(np.repeat(1,cutoff))\n",
    "tmp.extend(np.repeat(0,n-cutoff))\n",
    "\n",
    "visdf['pred'] = tmp"
   ]
  },
  {
   "cell_type": "code",
   "execution_count": 311,
   "metadata": {
    "collapsed": true
   },
   "outputs": [],
   "source": [
    "boxwidth = 32 # adjustable but not recommended\n",
    "gridheight = int(math.ceil( np.sqrt( n / 2 ) )) # ensuring 2:1 w:h \n",
    "gridwidth = gridheight * 2\n",
    "px_w,px_h = gridwidth * boxwidth, gridheight * boxwidth\n",
    "canvas = Image.new('RGB',(px_w,px_h),\"black\")"
   ]
  },
  {
   "cell_type": "code",
   "execution_count": 312,
   "metadata": {
    "collapsed": true
   },
   "outputs": [],
   "source": [
    "visdf['x'] = np.repeat(range(gridwidth-1,-1,-1),gridheight)[:n] # reversed range\n",
    "tmp = list(range(gridheight-1,-1,-1)) * gridwidth # reversed range\n",
    "visdf['y'] = tmp[:n]"
   ]
  },
  {
   "cell_type": "code",
   "execution_count": 313,
   "metadata": {
    "collapsed": true
   },
   "outputs": [],
   "source": [
    "chosen_officers = df.officer_id.unique()"
   ]
  },
  {
   "cell_type": "code",
   "execution_count": 314,
   "metadata": {
    "collapsed": false
   },
   "outputs": [
    {
     "data": {
      "text/plain": [
       "'\\naxis_labels = []\\nfor i in reversed(visdf.index): # reversed bc PIL causes slight overlap; advantageous to plot this order    \\n    if i in chosen_officers:\\n        if visdf.outcome.loc[i]==1:\\n            fillcolor = \"hsl(354,63%,56%)\" # red\\n            if visdf.pred.loc[i]==1:\\n                fillcolor = \"hsl(354,63%,28%)\" # darker red if model says \\'1\\'\\n        else:\\n            fillcolor = \"hsl(211,52%,56%)\" # blue\\n            if visdf.pred.loc[i]==1:\\n                fillcolor = \"hsl(211,52%,28%)\" # darker blue if model says \\'1\\'\\n    else:\\n        fillcolor = \"rgb(100,100,100)\"\\n        \\n    xcoord = visdf.x.loc[i] * boxwidth\\n    ycoord = visdf.y.loc[i] * boxwidth\\n\\n    if visdf.y.loc[i] == max(visdf.y):\\n        axis_labels.append(str(visdf.unit_score.loc[i])[1:4])\\n\\n    bbox = [\\n        xcoord,\\n        ycoord,\\n        xcoord + boxwidth,\\n        ycoord + boxwidth\\n    ]\\n\\n    draw = ImageDraw.Draw(canvas)\\n    draw.rectangle(bbox,fill=fillcolor,outline=None)\\n    \\n    if i in chosen_officers:\\n        draw.text((xcoord - 1 + 4, ycoord - 1 + boxwidth/4),str(i),fill=\"white\")'"
      ]
     },
     "execution_count": 314,
     "metadata": {},
     "output_type": "execute_result"
    }
   ],
   "source": [
    "\"\"\"\n",
    "axis_labels = []\n",
    "for i in reversed(visdf.index): # reversed bc PIL causes slight overlap; advantageous to plot this order    \n",
    "    if i in chosen_officers:\n",
    "        if visdf.outcome.loc[i]==1:\n",
    "            fillcolor = \"hsl(354,63%,56%)\" # red\n",
    "            if visdf.pred.loc[i]==1:\n",
    "                fillcolor = \"hsl(354,63%,28%)\" # darker red if model says '1'\n",
    "        else:\n",
    "            fillcolor = \"hsl(211,52%,56%)\" # blue\n",
    "            if visdf.pred.loc[i]==1:\n",
    "                fillcolor = \"hsl(211,52%,28%)\" # darker blue if model says '1'\n",
    "    else:\n",
    "        fillcolor = \"rgb(100,100,100)\"\n",
    "        \n",
    "    xcoord = visdf.x.loc[i] * boxwidth\n",
    "    ycoord = visdf.y.loc[i] * boxwidth\n",
    "\n",
    "    if visdf.y.loc[i] == max(visdf.y):\n",
    "        axis_labels.append(str(visdf.unit_score.loc[i])[1:4])\n",
    "\n",
    "    bbox = [\n",
    "        xcoord,\n",
    "        ycoord,\n",
    "        xcoord + boxwidth,\n",
    "        ycoord + boxwidth\n",
    "    ]\n",
    "\n",
    "    draw = ImageDraw.Draw(canvas)\n",
    "    draw.rectangle(bbox,fill=fillcolor,outline=None)\n",
    "    \n",
    "    if i in chosen_officers:\n",
    "        draw.text((xcoord - 1 + 4, ycoord - 1 + boxwidth/4),str(i),fill=\"white\")\"\"\""
   ]
  },
  {
   "cell_type": "code",
   "execution_count": 315,
   "metadata": {
    "collapsed": true
   },
   "outputs": [],
   "source": [
    "DIR = \"/Users/damoncrockett/Desktop/chop-new/\""
   ]
  },
  {
   "cell_type": "code",
   "execution_count": 316,
   "metadata": {
    "collapsed": true
   },
   "outputs": [],
   "source": [
    "axis_labels = []\n",
    "for i in reversed(visdf.index): # reversed bc PIL causes slight overlap; advantageous to plot this order    \n",
    "    if visdf.y.loc[i] == max(visdf.y):\n",
    "        axis_labels.append(str(visdf.unit_score.loc[i])[1:4])\n",
    "    \n",
    "    xcoord = visdf.x.loc[i] * boxwidth\n",
    "    ycoord = visdf.y.loc[i] * boxwidth\n",
    "    \n",
    "    if i not in chosen_officers:\n",
    "        \n",
    "        fillcolor = \"black\"\n",
    "        bbox = [\n",
    "            xcoord,\n",
    "            ycoord,\n",
    "            xcoord + boxwidth,\n",
    "            ycoord + boxwidth\n",
    "        ]\n",
    "\n",
    "        draw = ImageDraw.Draw(canvas)\n",
    "        draw.rectangle(bbox,fill=fillcolor,outline=None)\n",
    "        \n",
    "    else:\n",
    "        im = Image.open(DIR+str(i)+\".png\")\n",
    "        im.thumbnail((32,32),Image.ANTIALIAS)\n",
    "        canvas.paste(im,(xcoord,ycoord))"
   ]
  },
  {
   "cell_type": "code",
   "execution_count": 317,
   "metadata": {
    "collapsed": false
   },
   "outputs": [],
   "source": [
    "\"\"\"Add ticks and labels\"\"\"  \n",
    "axis_labels.reverse() # because we reversed the plotting order above\n",
    "plot_canvas_height = px_h + boxwidth*2\n",
    "plot_canvas = Image.new('RGB',(px_w,plot_canvas_height),\"black\")\n",
    "plot_canvas.paste(canvas,(0,0)) #pasting old canvas onto larger\n",
    "\n",
    "tick_locs_x = [int( item * boxwidth + boxwidth / 2 ) for item in range(gridwidth-1,-1,-1)]\n",
    "tick_locs_x = tick_locs_x[:len(axis_labels)]\n",
    "\n",
    "draw = ImageDraw.Draw(plot_canvas)\n",
    "for i in range(len(tick_locs_x)):\n",
    "    draw.line([\n",
    "            (tick_locs_x[i], plot_canvas_height - boxwidth - boxwidth / 2),\n",
    "            (tick_locs_x[i], plot_canvas_height - boxwidth * 2)\n",
    "        ],\n",
    "              fill=\"rgb(100,100,100)\"\n",
    "             )\n",
    "    draw.text(\n",
    "        (tick_locs_x[i] - boxwidth / 4 - 2, plot_canvas_height - boxwidth - 10),\n",
    "        axis_labels[i],\n",
    "        fill=\"rgb(100,100,100)\"\n",
    "    )"
   ]
  },
  {
   "cell_type": "code",
   "execution_count": 318,
   "metadata": {
    "collapsed": false
   },
   "outputs": [],
   "source": [
    "plot_canvas.save(\"32092_2014-04-11_chosen_miniplot.png\")"
   ]
  },
  {
   "cell_type": "code",
   "execution_count": null,
   "metadata": {
    "collapsed": true
   },
   "outputs": [],
   "source": []
  }
 ],
 "metadata": {
  "kernelspec": {
   "display_name": "Python 2",
   "language": "python",
   "name": "python2"
  },
  "language_info": {
   "codemirror_mode": {
    "name": "ipython",
    "version": 2
   },
   "file_extension": ".py",
   "mimetype": "text/x-python",
   "name": "python",
   "nbconvert_exporter": "python",
   "pygments_lexer": "ipython2",
   "version": "2.7.10"
  }
 },
 "nbformat": 4,
 "nbformat_minor": 0
}
