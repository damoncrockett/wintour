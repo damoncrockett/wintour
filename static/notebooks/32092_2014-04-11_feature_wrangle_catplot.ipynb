{
 "cells": [
  {
   "cell_type": "code",
   "execution_count": 19,
   "metadata": {
    "collapsed": true
   },
   "outputs": [],
   "source": [
    "import pandas as pd\n",
    "from collections import Counter\n",
    "from PIL import Image,ImageDraw,ImageFont\n",
    "from scipy.stats import spearmanr\n",
    "import os\n",
    "import numpy as np"
   ]
  },
  {
   "cell_type": "code",
   "execution_count": 20,
   "metadata": {
    "collapsed": true
   },
   "outputs": [],
   "source": [
    "limefeat = pd.read_csv(\"limefeat.csv\")\n",
    "logregfeat = pd.read_csv(\"logregfeat.csv\")"
   ]
  },
  {
   "cell_type": "markdown",
   "metadata": {},
   "source": [
    "#### Feature categories"
   ]
  },
  {
   "cell_type": "code",
   "execution_count": 21,
   "metadata": {
    "collapsed": true
   },
   "outputs": [],
   "source": [
    "cathue = {\n",
    "    'ts':'0',\n",
    "    'fi':'32',\n",
    "    'ir':'60',\n",
    "    'shifts':'115',\n",
    "    'dispatch':'180',\n",
    "    'arrests':'240',\n",
    "    'ic':'270',\n",
    "    'demarrests':'300',\n",
    "    'ocnd':'200'\n",
    "    }\n",
    "\n",
    "catsat = {\n",
    "    'ts':'100%',\n",
    "    'fi':'100%',\n",
    "    'ir':'100%',\n",
    "    'shifts':'100%',\n",
    "    'dispatch':'100%',\n",
    "    'arrests':'100%',\n",
    "    'ic':'100%',\n",
    "    'demarrests':'100%',\n",
    "    'ocnd':'100%'\n",
    "    }\n",
    "\n",
    "catval = {\n",
    "    '1d':'5%',\n",
    "    '1w':'25%',\n",
    "    '1m':'50%',\n",
    "    '1y':'75%',\n",
    "    '5y':'100%',\n",
    "    'all':'100%',\n",
    "    }"
   ]
  },
  {
   "cell_type": "code",
   "execution_count": 22,
   "metadata": {
    "collapsed": false
   },
   "outputs": [],
   "source": [
    "limefeat = limefeat[limefeat.record_type.isin(list(cathue.keys()))]\n",
    "logregfeat = logregfeat[logregfeat.record_type.isin(list(cathue.keys()))]"
   ]
  },
  {
   "cell_type": "code",
   "execution_count": 23,
   "metadata": {
    "collapsed": true
   },
   "outputs": [],
   "source": [
    "limefeat.reset_index(drop=True,inplace=True)\n",
    "logregfeat.reset_index(drop=True,inplace=True)"
   ]
  },
  {
   "cell_type": "code",
   "execution_count": 24,
   "metadata": {
    "collapsed": true
   },
   "outputs": [],
   "source": [
    "def catplot(df):\n",
    "    \n",
    "    canvas = Image.new('RGB',(px_w,px_h),'hsl(0,0%,100%)')\n",
    "    \n",
    "    for i in df.index:\n",
    "        xcoord = i * strokewidth\n",
    "        bbox = [xcoord, 0, xcoord + strokewidth, strokeheight]\n",
    "        \n",
    "        temp_agg = df.temp_agg.loc[i]\n",
    "        if temp_agg==None:\n",
    "            val = '50%'\n",
    "        else:\n",
    "            #val = catval[temp_agg]\n",
    "            val = '50%'\n",
    "        \n",
    "        record_type = df.record_type.loc[i]\n",
    "        hue = cathue[record_type]\n",
    "        sat = catsat[record_type]\n",
    "        \n",
    "        fillcolor = 'hsl('+hue+\",\"+sat+\",\"+val+\")\"\n",
    "        draw = ImageDraw.Draw(canvas)\n",
    "        draw.rectangle(bbox,fill=fillcolor,outline=None)\n",
    "    \n",
    "    return canvas"
   ]
  },
  {
   "cell_type": "code",
   "execution_count": 25,
   "metadata": {
    "collapsed": true
   },
   "outputs": [],
   "source": [
    "strokewidth = 8\n",
    "strokeheight = 800\n",
    "width = len(limefeat)\n",
    "px_w = width * strokewidth\n",
    "px_h = strokeheight"
   ]
  },
  {
   "cell_type": "code",
   "execution_count": 26,
   "metadata": {
    "collapsed": false
   },
   "outputs": [],
   "source": [
    "catplot(logregfeat).save(\"catplot_logregfeat.png\")\n",
    "catplot(limefeat).save(\"catplot_limefeat.png\")"
   ]
  },
  {
   "cell_type": "markdown",
   "metadata": {},
   "source": [
    "#### Squares in rows"
   ]
  },
  {
   "cell_type": "code",
   "execution_count": 27,
   "metadata": {
    "collapsed": false
   },
   "outputs": [],
   "source": [
    "limefeat = limefeat.iloc[:1440,:]\n",
    "logregfeat = logregfeat.iloc[:1440,:]"
   ]
  },
  {
   "cell_type": "code",
   "execution_count": 28,
   "metadata": {
    "collapsed": true
   },
   "outputs": [],
   "source": [
    "boxside = 32\n",
    "width = 120\n",
    "height = 12\n",
    "px_w = width * boxside\n",
    "px_h = height * boxside"
   ]
  },
  {
   "cell_type": "code",
   "execution_count": 29,
   "metadata": {
    "collapsed": true
   },
   "outputs": [],
   "source": [
    "def coords(df):\n",
    "    df['xgrid'] = range(width) * height\n",
    "    df['ygrid'] = np.repeat(range(height),width)"
   ]
  },
  {
   "cell_type": "code",
   "execution_count": 30,
   "metadata": {
    "collapsed": false
   },
   "outputs": [],
   "source": [
    "coords(limefeat)\n",
    "coords(logregfeat)"
   ]
  },
  {
   "cell_type": "code",
   "execution_count": 31,
   "metadata": {
    "collapsed": true
   },
   "outputs": [],
   "source": [
    "def catplotrows(df):\n",
    "    \n",
    "    canvas = Image.new('RGB',(px_w,px_h),'hsl(0,0%,100%)')\n",
    "    \n",
    "    for i in df.index:\n",
    "        xcoord = df.xgrid.loc[i] * boxside\n",
    "        ycoord = df.ygrid.loc[i] * boxside\n",
    "        \n",
    "        bbox = [xcoord, ycoord, xcoord + boxside, ycoord + boxside]\n",
    "        \n",
    "        temp_agg = df.temp_agg.loc[i]\n",
    "        if temp_agg==None:\n",
    "            val = '50%'\n",
    "        else:\n",
    "            #val = catval[temp_agg]\n",
    "            val = '50%'\n",
    "        \n",
    "        record_type = df.record_type.loc[i]\n",
    "        hue = cathue[record_type]\n",
    "        sat = catsat[record_type]\n",
    "        \n",
    "        fillcolor = 'hsl('+hue+\",\"+sat+\",\"+val+\")\"\n",
    "        draw = ImageDraw.Draw(canvas)\n",
    "        draw.rectangle(bbox,fill=fillcolor,outline=None)\n",
    "    \n",
    "    return canvas"
   ]
  },
  {
   "cell_type": "code",
   "execution_count": 32,
   "metadata": {
    "collapsed": true
   },
   "outputs": [],
   "source": [
    "catplotrows(logregfeat).save(\"catplotrows_logregfeat.png\")\n",
    "catplotrows(limefeat).save(\"catplotrows_limefeat.png\")"
   ]
  }
 ],
 "metadata": {
  "kernelspec": {
   "display_name": "Python 2",
   "language": "python",
   "name": "python2"
  },
  "language_info": {
   "codemirror_mode": {
    "name": "ipython",
    "version": 2
   },
   "file_extension": ".py",
   "mimetype": "text/x-python",
   "name": "python",
   "nbconvert_exporter": "python",
   "pygments_lexer": "ipython2",
   "version": "2.7.10"
  }
 },
 "nbformat": 4,
 "nbformat_minor": 0
}
