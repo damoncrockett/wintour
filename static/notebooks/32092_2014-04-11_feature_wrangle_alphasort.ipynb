{
 "cells": [
  {
   "cell_type": "code",
   "execution_count": 47,
   "metadata": {
    "collapsed": true
   },
   "outputs": [],
   "source": [
    "import pandas as pd\n",
    "from collections import Counter\n",
    "from PIL import Image,ImageDraw,ImageFont\n",
    "from scipy.stats import spearmanr\n",
    "import os\n",
    "import numpy as np"
   ]
  },
  {
   "cell_type": "code",
   "execution_count": 48,
   "metadata": {
    "collapsed": true
   },
   "outputs": [],
   "source": [
    "limefeat = pd.read_csv(\"limefeat.csv\")"
   ]
  },
  {
   "cell_type": "code",
   "execution_count": 49,
   "metadata": {
    "collapsed": false
   },
   "outputs": [],
   "source": [
    "limefeat.fillna(value='NA',inplace=True) # bc null handling in python is bollocks"
   ]
  },
  {
   "cell_type": "code",
   "execution_count": 50,
   "metadata": {
    "collapsed": false
   },
   "outputs": [],
   "source": [
    "limefeat['strlen'] = [len(item.split(\"_\")) for item in limefeat.feature]\n",
    "limefeat['feat_val'] = 0\n",
    "\n",
    "for i in limefeat.index:\n",
    "    if limefeat.record_type.loc[i]=='ocnd':\n",
    "        limefeat.feat_val.loc[i]=limefeat.feature.loc[i].split(\"_\")[3]\n",
    "        \n",
    "for i in limefeat.index:\n",
    "    if limefeat.record_type.loc[i]!='ocnd':\n",
    "        if limefeat.strlen.loc[i]==5:\n",
    "            limefeat.feat_val.loc[i]=None\n",
    "            \n",
    "for i in limefeat.index:\n",
    "    if limefeat.record_type.loc[i]!='ocnd':\n",
    "        if limefeat.strlen.loc[i]==6:\n",
    "            limefeat.feat_val.loc[i]=limefeat.feature.loc[i].split(\"_\")[4]\n",
    "            \n",
    "for i in limefeat.index:\n",
    "    if limefeat.record_type.loc[i]!='ocnd':\n",
    "        if limefeat.strlen.loc[i]==7:\n",
    "            valstr = limefeat.feature.loc[i].split(\"_\")[4]+limefeat.feature.loc[i].split(\"_\")[5]\n",
    "            limefeat.feat_val.loc[i]=valstr\n",
    "            \n",
    "for i in limefeat.index:\n",
    "    if limefeat.record_type.loc[i]!='ocnd':\n",
    "        if limefeat.strlen.loc[i]==8:\n",
    "            valstr = limefeat.feature.loc[i].split(\"_\")[4]+limefeat.feature.loc[i].split(\"_\")[5]+limefeat.feature.loc[i].split(\"_\")[6]\n",
    "            limefeat.feat_val.loc[i]=valstr\n",
    "            \n",
    "for i in limefeat.index:\n",
    "    if limefeat.record_type.loc[i]!='ocnd':\n",
    "        if limefeat.strlen.loc[i]==9:\n",
    "            valstr = limefeat.feature.loc[i].split(\"_\")[4]+limefeat.feature.loc[i].split(\"_\")[5]+limefeat.feature.loc[i].split(\"_\")[6]+limefeat.feature.loc[i].split(\"_\")[7]\n",
    "            limefeat.feat_val.loc[i]=valstr\n",
    "            \n",
    "featstrs = []\n",
    "for i in limefeat.index:\n",
    "    feat_var = limefeat.feat_var.loc[i]\n",
    "    \n",
    "    if limefeat.feat_val.loc[i] is None:\n",
    "        feat_val = ''\n",
    "    else:\n",
    "        feat_val = limefeat.feat_val.loc[i]\n",
    "        \n",
    "    num_agg = limefeat.num_agg.loc[i]\n",
    "    \n",
    "    if limefeat.temp_agg.loc[i] is 'NA':\n",
    "        temp_agg = ''\n",
    "    else:\n",
    "        temp_agg = limefeat.temp_agg.loc[i]\n",
    "    \n",
    "    featstr = feat_var + \"_\" + feat_val + \"_\" + num_agg + \"_\" + temp_agg\n",
    "    featstrs.append(featstr)\n",
    "\n",
    "limefeat['featstr'] = featstrs\n",
    "\n",
    "limefeat_alphasort = limefeat.sort_values(by=['record_type','feat_var','feat_val','num_agg','temp_agg'])\n",
    "limefeat_alphasort.reset_index(drop=True,inplace=True)"
   ]
  },
  {
   "cell_type": "code",
   "execution_count": 51,
   "metadata": {
    "collapsed": false
   },
   "outputs": [],
   "source": [
    "limefeat_alphasort.to_csv(\"limefeat_alphasort.csv\",index=False)"
   ]
  }
 ],
 "metadata": {
  "kernelspec": {
   "display_name": "Python 2",
   "language": "python",
   "name": "python2"
  },
  "language_info": {
   "codemirror_mode": {
    "name": "ipython",
    "version": 2
   },
   "file_extension": ".py",
   "mimetype": "text/x-python",
   "name": "python",
   "nbconvert_exporter": "python",
   "pygments_lexer": "ipython2",
   "version": "2.7.10"
  }
 },
 "nbformat": 4,
 "nbformat_minor": 0
}
