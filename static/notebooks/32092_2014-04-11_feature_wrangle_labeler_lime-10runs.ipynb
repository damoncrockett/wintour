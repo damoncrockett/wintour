{
 "cells": [
  {
   "cell_type": "code",
   "execution_count": 1,
   "metadata": {
    "collapsed": true
   },
   "outputs": [],
   "source": [
    "import pandas as pd\n",
    "from collections import Counter\n",
    "from PIL import Image,ImageDraw,ImageFont\n",
    "from scipy.stats import spearmanr\n",
    "import os\n",
    "import numpy as np"
   ]
  },
  {
   "cell_type": "code",
   "execution_count": 2,
   "metadata": {
    "collapsed": true
   },
   "outputs": [],
   "source": [
    "limefeat_alphasort = pd.read_csv(\"limefeat_alphasort.csv\")\n",
    "officer_table = pd.read_csv(\"officer_table.csv\")\n",
    "df = pd.read_csv(\"lime-robustness-all-score-outcome.csv\")"
   ]
  },
  {
   "cell_type": "code",
   "execution_count": 3,
   "metadata": {
    "collapsed": true
   },
   "outputs": [],
   "source": [
    "officer_table.sort_values(by=\"unit_score\",ascending=False,inplace=True)\n",
    "officer_table.reset_index(drop=True,inplace=True)"
   ]
  },
  {
   "cell_type": "code",
   "execution_count": 4,
   "metadata": {
    "collapsed": true
   },
   "outputs": [],
   "source": [
    "df.sort_values(by=['unit_score','officer_id','nft'],ascending=[False,True,True],inplace=True)\n",
    "df.reset_index(drop=True,inplace=True)"
   ]
  },
  {
   "cell_type": "code",
   "execution_count": 5,
   "metadata": {
    "collapsed": true
   },
   "outputs": [],
   "source": [
    "def relister(liststring):\n",
    "    tmp = liststring.lstrip(\"[\").rstrip(\"]\")\n",
    "    tmp = tmp.split(\",\")\n",
    "    tmp = [item.translate(None,\" '\") for item in tmp]\n",
    "    return tmp"
   ]
  },
  {
   "cell_type": "code",
   "execution_count": 6,
   "metadata": {
    "collapsed": true
   },
   "outputs": [],
   "source": [
    "def setstring2list(setstring):\n",
    "    tmp = setstring.lstrip(\"{\").rstrip(\"}\")\n",
    "    tmp = tmp.split(\",\")\n",
    "    tmp = [item.translate(None,\" '\") for item in tmp]\n",
    "    return tmp"
   ]
  },
  {
   "cell_type": "code",
   "execution_count": 7,
   "metadata": {
    "collapsed": true
   },
   "outputs": [],
   "source": [
    "officer_table['feats'] = officer_table.feats.apply(relister)\n",
    "df['unq'] = df.unq.apply(setstring2list)"
   ]
  },
  {
   "cell_type": "markdown",
   "metadata": {},
   "source": [
    "#### Feature categories"
   ]
  },
  {
   "cell_type": "code",
   "execution_count": 8,
   "metadata": {
    "collapsed": true
   },
   "outputs": [],
   "source": [
    "cathue = {\n",
    "    'ts':'0',\n",
    "    'fi':'32',\n",
    "    'ir':'60',\n",
    "    'shifts':'115',\n",
    "    'dispatch':'180',\n",
    "    'arrests':'240',\n",
    "    'ic':'270',\n",
    "    'demarrests':'300',\n",
    "    'ocnd':'200'\n",
    "    }\n",
    "\n",
    "catsat = {\n",
    "    'ts':'100%',\n",
    "    'fi':'100%',\n",
    "    'ir':'100%',\n",
    "    'shifts':'100%',\n",
    "    'dispatch':'100%',\n",
    "    'arrests':'100%',\n",
    "    'ic':'100%',\n",
    "    'demarrests':'100%',\n",
    "    'ocnd':'100%'\n",
    "    }\n",
    "\n",
    "catval = {\n",
    "    '1d':'5%',\n",
    "    '1w':'25%',\n",
    "    '1m':'50%',\n",
    "    '1y':'75%',\n",
    "    '5y':'100%',\n",
    "    'all':'100%',\n",
    "    }"
   ]
  },
  {
   "cell_type": "code",
   "execution_count": 9,
   "metadata": {
    "collapsed": true
   },
   "outputs": [],
   "source": [
    "impath = 'offtableart.png'\n",
    "rectheight = 10\n",
    "rectwidth = 10"
   ]
  },
  {
   "cell_type": "markdown",
   "metadata": {},
   "source": [
    "#### Row Labels"
   ]
  },
  {
   "cell_type": "code",
   "execution_count": 10,
   "metadata": {
    "collapsed": false
   },
   "outputs": [
    {
     "name": "stderr",
     "output_type": "stream",
     "text": [
      "/Library/Python/2.7/site-packages/PIL/Image.py:2261: DecompressionBombWarning: Image size (404434800 pixels) exceeds limit of 89478485 pixels, could be decompression bomb DOS attack.\n",
      "  DecompressionBombWarning)\n"
     ]
    }
   ],
   "source": [
    "im = Image.open(impath)\n",
    "w = im.width\n",
    "h = im.height\n",
    "x = 100\n",
    "canvas = Image.new('RGB',((w+x),(h)),'hsl(0,0%,100%)')\n",
    "canvas.paste(im,(x,0))\n",
    "im = None"
   ]
  },
  {
   "cell_type": "code",
   "execution_count": 11,
   "metadata": {
    "collapsed": false
   },
   "outputs": [],
   "source": [
    "draw = ImageDraw.Draw(canvas)\n",
    "for i in df.index:\n",
    "    officer_id = df.officer_id.loc[i]\n",
    "    nft = df.nft.loc[i]\n",
    "    nsmp = df.nsmp.loc[i]\n",
    "    \n",
    "    text = str(officer_id)+\",\"+str(nft)+\",\"+str(nsmp)\n",
    "    font = ImageFont.truetype('VeraMono.ttf', rectheight)\n",
    "    \n",
    "    xpos = 5\n",
    "    ypos = i * rectheight\n",
    "    draw.text((xpos,ypos),text=text,font=font,fill=\"black\")"
   ]
  },
  {
   "cell_type": "code",
   "execution_count": 12,
   "metadata": {
    "collapsed": false
   },
   "outputs": [],
   "source": [
    "#canvas.save('/Users/damoncrockett/Desktop/tmp.png')"
   ]
  },
  {
   "cell_type": "markdown",
   "metadata": {},
   "source": [
    "#### Column Labels"
   ]
  },
  {
   "cell_type": "code",
   "execution_count": 13,
   "metadata": {
    "collapsed": false
   },
   "outputs": [],
   "source": [
    "w = canvas.width\n",
    "h = canvas.height\n",
    "y = 400\n",
    "unicanvas = Image.new('RGB',((w),(h+y)),'hsl(0,0%,100%)')\n",
    "unicanvas.paste(canvas,(0,y))\n",
    "canvas = None"
   ]
  },
  {
   "cell_type": "code",
   "execution_count": 14,
   "metadata": {
    "collapsed": false
   },
   "outputs": [],
   "source": [
    "draw = ImageDraw.Draw(unicanvas)\n",
    "for i in limefeat_alphasort.index:\n",
    "    feature = limefeat_alphasort.featstr.loc[i]\n",
    "    text = str(feature)\n",
    "    \n",
    "    font = ImageFont.truetype('VeraMono.ttf', rectwidth)\n",
    "    fontWidth, fontHeight = font.getsize(text)\n",
    "    \n",
    "    imtmp = Image.new('RGBA', (fontWidth, fontHeight))\n",
    "    drawtmp = ImageDraw.Draw(imtmp)\n",
    "    drawtmp.text((0,0),text=text,font=font,fill=\"black\")\n",
    "    imtmp = imtmp.rotate(90,expand=1)\n",
    "    \n",
    "    xpos = i * rectwidth + x - 2\n",
    "    ypos = y - imtmp.height - 2\n",
    "    unicanvas.paste(imtmp,(xpos,ypos),imtmp)\n",
    "    \n",
    "    linex = i * rectwidth + x\n",
    "    liney = y\n",
    "    draw.line([(linex,liney),(linex,unicanvas.height)],width=1,fill='black')"
   ]
  },
  {
   "cell_type": "code",
   "execution_count": 15,
   "metadata": {
    "collapsed": false
   },
   "outputs": [],
   "source": [
    "unicanvas.save('/Users/damoncrockett/Desktop/tmp.png')"
   ]
  }
 ],
 "metadata": {
  "kernelspec": {
   "display_name": "Python 2",
   "language": "python",
   "name": "python2"
  },
  "language_info": {
   "codemirror_mode": {
    "name": "ipython",
    "version": 2
   },
   "file_extension": ".py",
   "mimetype": "text/x-python",
   "name": "python",
   "nbconvert_exporter": "python",
   "pygments_lexer": "ipython2",
   "version": "2.7.10"
  }
 },
 "nbformat": 4,
 "nbformat_minor": 0
}
