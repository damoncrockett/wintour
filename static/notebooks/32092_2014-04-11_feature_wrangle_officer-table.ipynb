{
 "cells": [
  {
   "cell_type": "code",
   "execution_count": 27,
   "metadata": {
    "collapsed": true
   },
   "outputs": [],
   "source": [
    "import pandas as pd\n",
    "from collections import Counter\n",
    "from PIL import Image,ImageDraw,ImageFont\n",
    "from scipy.stats import spearmanr\n",
    "import os\n",
    "import numpy as np"
   ]
  },
  {
   "cell_type": "code",
   "execution_count": 28,
   "metadata": {
    "collapsed": true
   },
   "outputs": [],
   "source": [
    "df = pd.read_csv(\"lime-robustness-all-score-outcome.csv\")"
   ]
  },
  {
   "cell_type": "code",
   "execution_count": 29,
   "metadata": {
    "collapsed": true
   },
   "outputs": [],
   "source": [
    "df = df[df.nsmp==5000]\n",
    "df = df[df.nft==5]"
   ]
  },
  {
   "cell_type": "code",
   "execution_count": 30,
   "metadata": {
    "collapsed": false
   },
   "outputs": [
    {
     "data": {
      "text/html": [
       "<div>\n",
       "<table border=\"1\" class=\"dataframe\">\n",
       "  <thead>\n",
       "    <tr style=\"text-align: right;\">\n",
       "      <th></th>\n",
       "      <th>officer_id</th>\n",
       "      <th>nsmp</th>\n",
       "      <th>nft</th>\n",
       "      <th>nunq</th>\n",
       "      <th>unq</th>\n",
       "      <th>rand</th>\n",
       "      <th>unit_score</th>\n",
       "      <th>outcome</th>\n",
       "    </tr>\n",
       "  </thead>\n",
       "  <tbody>\n",
       "    <tr>\n",
       "      <th>31</th>\n",
       "      <td>3735</td>\n",
       "      <td>5000</td>\n",
       "      <td>5</td>\n",
       "      <td>5</td>\n",
       "      <td>{'ts_id_1d_trafficstopswitharrest_sum', 'ocnd_...</td>\n",
       "      <td>no</td>\n",
       "      <td>1.000000</td>\n",
       "      <td>0</td>\n",
       "    </tr>\n",
       "    <tr>\n",
       "      <th>73</th>\n",
       "      <td>508</td>\n",
       "      <td>5000</td>\n",
       "      <td>5</td>\n",
       "      <td>7</td>\n",
       "      <td>{'outemp_id_5y_outsideemploymenthours_sum', 'o...</td>\n",
       "      <td>no</td>\n",
       "      <td>0.988909</td>\n",
       "      <td>1</td>\n",
       "    </tr>\n",
       "    <tr>\n",
       "      <th>115</th>\n",
       "      <td>4661</td>\n",
       "      <td>5000</td>\n",
       "      <td>5</td>\n",
       "      <td>5</td>\n",
       "      <td>{'ts_id_1d_trafficstopswitharrest_sum', 'ocnd_...</td>\n",
       "      <td>no</td>\n",
       "      <td>0.432389</td>\n",
       "      <td>0</td>\n",
       "    </tr>\n",
       "    <tr>\n",
       "      <th>157</th>\n",
       "      <td>5743</td>\n",
       "      <td>5000</td>\n",
       "      <td>5</td>\n",
       "      <td>5</td>\n",
       "      <td>{'ts_id_1d_trafficstopswitharrest_sum', 'ocnd_...</td>\n",
       "      <td>no</td>\n",
       "      <td>0.431597</td>\n",
       "      <td>1</td>\n",
       "    </tr>\n",
       "    <tr>\n",
       "      <th>199</th>\n",
       "      <td>3251</td>\n",
       "      <td>5000</td>\n",
       "      <td>5</td>\n",
       "      <td>5</td>\n",
       "      <td>{'ts_id_1d_trafficstopswitharrest_sum', 'ocnd_...</td>\n",
       "      <td>no</td>\n",
       "      <td>0.413052</td>\n",
       "      <td>0</td>\n",
       "    </tr>\n",
       "  </tbody>\n",
       "</table>\n",
       "</div>"
      ],
      "text/plain": [
       "     officer_id  nsmp  nft  nunq  \\\n",
       "31         3735  5000    5     5   \n",
       "73          508  5000    5     7   \n",
       "115        4661  5000    5     5   \n",
       "157        5743  5000    5     5   \n",
       "199        3251  5000    5     5   \n",
       "\n",
       "                                                   unq rand  unit_score  \\\n",
       "31   {'ts_id_1d_trafficstopswitharrest_sum', 'ocnd_...   no    1.000000   \n",
       "73   {'outemp_id_5y_outsideemploymenthours_sum', 'o...   no    0.988909   \n",
       "115  {'ts_id_1d_trafficstopswitharrest_sum', 'ocnd_...   no    0.432389   \n",
       "157  {'ts_id_1d_trafficstopswitharrest_sum', 'ocnd_...   no    0.431597   \n",
       "199  {'ts_id_1d_trafficstopswitharrest_sum', 'ocnd_...   no    0.413052   \n",
       "\n",
       "     outcome  \n",
       "31         0  \n",
       "73         1  \n",
       "115        0  \n",
       "157        1  \n",
       "199        0  "
      ]
     },
     "execution_count": 30,
     "metadata": {},
     "output_type": "execute_result"
    }
   ],
   "source": [
    "df.head()"
   ]
  },
  {
   "cell_type": "markdown",
   "metadata": {},
   "source": [
    "#### Officer Table"
   ]
  },
  {
   "cell_type": "code",
   "execution_count": 31,
   "metadata": {
    "collapsed": true
   },
   "outputs": [],
   "source": [
    "officer_table = df[['officer_id','unit_score','outcome','unq']]"
   ]
  },
  {
   "cell_type": "code",
   "execution_count": 32,
   "metadata": {
    "collapsed": false
   },
   "outputs": [],
   "source": [
    "officer_table_groups = officer_table.groupby('officer_id').groups"
   ]
  },
  {
   "cell_type": "code",
   "execution_count": 33,
   "metadata": {
    "collapsed": false
   },
   "outputs": [],
   "source": [
    "officer_table_trunc = officer_table[['officer_id','unit_score','outcome']]\n",
    "officer_table_trunc = officer_table_trunc.groupby(\"officer_id\").agg(np.mean)\n",
    "officer_table_trunc.reset_index(inplace=True)"
   ]
  },
  {
   "cell_type": "code",
   "execution_count": 34,
   "metadata": {
    "collapsed": false
   },
   "outputs": [],
   "source": [
    "featlists = []\n",
    "for i in officer_table_trunc.index:\n",
    "    officer_id = officer_table_trunc.officer_id.loc[i]\n",
    "    idxs = officer_table_groups[officer_id]\n",
    "    tmp = list(officer_table.loc[idxs,'unq'])\n",
    "    \n",
    "    feats = []\n",
    "    for item in tmp:\n",
    "        temp = item.rstrip(\"}\")\n",
    "        temp = temp.lstrip(\"{\")\n",
    "        feats.append(temp.split(\",\"))\n",
    "    feats = [item for sublist in feats for item in sublist]\n",
    "    feats = [item.translate(None,\" '\") for item in feats]\n",
    "    featlists.append(feats)\n",
    "    \n",
    "officer_table_trunc['feats'] = featlists"
   ]
  },
  {
   "cell_type": "code",
   "execution_count": 35,
   "metadata": {
    "collapsed": false
   },
   "outputs": [],
   "source": [
    "officer_table_trunc.to_csv(\"officer_table.csv\",index=False) # just so we have it!"
   ]
  },
  {
   "cell_type": "code",
   "execution_count": 36,
   "metadata": {
    "collapsed": false
   },
   "outputs": [],
   "source": [
    "feattable = pd.read_csv(\"limefeat_alphasort.csv\")"
   ]
  },
  {
   "cell_type": "code",
   "execution_count": 37,
   "metadata": {
    "collapsed": false
   },
   "outputs": [],
   "source": [
    "tmp = pd.DataFrame(columns=list(feattable.feature))"
   ]
  },
  {
   "cell_type": "code",
   "execution_count": 38,
   "metadata": {
    "collapsed": true
   },
   "outputs": [],
   "source": [
    "n = len(officer_table_trunc)"
   ]
  },
  {
   "cell_type": "code",
   "execution_count": 39,
   "metadata": {
    "collapsed": false
   },
   "outputs": [],
   "source": [
    "for col in tmp.columns:\n",
    "    tmp[col] = np.repeat(0,n)"
   ]
  },
  {
   "cell_type": "code",
   "execution_count": 40,
   "metadata": {
    "collapsed": false
   },
   "outputs": [],
   "source": [
    "tmp.index = officer_table_trunc.officer_id"
   ]
  },
  {
   "cell_type": "code",
   "execution_count": 41,
   "metadata": {
    "collapsed": false
   },
   "outputs": [],
   "source": [
    "for i in officer_table_trunc.officer_id:\n",
    "    feats = officer_table_trunc.feats[officer_table_trunc.officer_id==i].iloc[0]\n",
    "    for feat in feats:\n",
    "        tmp[feat].loc[i] = 1"
   ]
  },
  {
   "cell_type": "code",
   "execution_count": 42,
   "metadata": {
    "collapsed": false
   },
   "outputs": [],
   "source": [
    "tmp.to_csv(\"lime_table.csv\")"
   ]
  },
  {
   "cell_type": "code",
   "execution_count": 43,
   "metadata": {
    "collapsed": false
   },
   "outputs": [],
   "source": [
    "eo = pd.read_csv(\"explained_officers.csv\")"
   ]
  },
  {
   "cell_type": "code",
   "execution_count": 44,
   "metadata": {
    "collapsed": false
   },
   "outputs": [],
   "source": [
    "delcol = []\n",
    "for col in tmp:\n",
    "    if sum(tmp[col])==0:\n",
    "        del tmp[col]\n",
    "        delcol.append(col)"
   ]
  },
  {
   "cell_type": "code",
   "execution_count": 45,
   "metadata": {
    "collapsed": false
   },
   "outputs": [],
   "source": [
    "eo.set_index(\"officer_id\",inplace=True)"
   ]
  },
  {
   "cell_type": "code",
   "execution_count": 46,
   "metadata": {
    "collapsed": false
   },
   "outputs": [],
   "source": [
    "del eo['as_of_date']"
   ]
  },
  {
   "cell_type": "code",
   "execution_count": 47,
   "metadata": {
    "collapsed": true
   },
   "outputs": [],
   "source": [
    "for col in delcol:\n",
    "    del eo[col]"
   ]
  },
  {
   "cell_type": "code",
   "execution_count": 48,
   "metadata": {
    "collapsed": false
   },
   "outputs": [],
   "source": [
    "officer_table_trunc.set_index(\"officer_id\",inplace=True)"
   ]
  },
  {
   "cell_type": "code",
   "execution_count": 49,
   "metadata": {
    "collapsed": true
   },
   "outputs": [],
   "source": [
    "tmp['outcome'] = officer_table_trunc.outcome"
   ]
  },
  {
   "cell_type": "code",
   "execution_count": 50,
   "metadata": {
    "collapsed": false
   },
   "outputs": [],
   "source": [
    "eo.to_csv(\"raw.csv\")\n",
    "tmp.to_csv(\"lime.csv\")"
   ]
  },
  {
   "cell_type": "code",
   "execution_count": 51,
   "metadata": {
    "collapsed": false
   },
   "outputs": [
    {
     "data": {
      "text/plain": [
       "0    53\n",
       "1    13\n",
       "Name: outcome, dtype: int64"
      ]
     },
     "execution_count": 51,
     "metadata": {},
     "output_type": "execute_result"
    }
   ],
   "source": [
    "eo.outcome.value_counts()"
   ]
  },
  {
   "cell_type": "code",
   "execution_count": 52,
   "metadata": {
    "collapsed": false
   },
   "outputs": [
    {
     "data": {
      "text/plain": [
       "0    53\n",
       "1    13\n",
       "Name: outcome, dtype: int64"
      ]
     },
     "execution_count": 52,
     "metadata": {},
     "output_type": "execute_result"
    }
   ],
   "source": [
    "tmp.outcome.value_counts()"
   ]
  },
  {
   "cell_type": "code",
   "execution_count": 54,
   "metadata": {
    "collapsed": false
   },
   "outputs": [
    {
     "data": {
      "text/html": [
       "<div>\n",
       "<table border=\"1\" class=\"dataframe\">\n",
       "  <thead>\n",
       "    <tr style=\"text-align: right;\">\n",
       "      <th></th>\n",
       "      <th>ts_id_1d_trafficstopswitharrest_avg</th>\n",
       "      <th>ts_id_1d_trafficstopswitharrest_sum</th>\n",
       "      <th>ocnd_id_dummyofficergender_female_max</th>\n",
       "      <th>ocnd_id_dummyofficergender_unknown_max</th>\n",
       "      <th>ocnd_id_dummyofficergender_male_max</th>\n",
       "      <th>fi_id_1y_fieldinterviewsbyrace_american_indian_sum</th>\n",
       "      <th>fi_id_1y_fieldinterviewsbyrace_black_sum</th>\n",
       "      <th>arrests_id_5y_arrestson_fri_sum</th>\n",
       "      <th>demarrests_id_1y_foreclosures_avg</th>\n",
       "      <th>demarrests_id_5y_foreclosures_avg</th>\n",
       "      <th>...</th>\n",
       "      <th>ir_id_1y_incidentsoftype_complaint_sum</th>\n",
       "      <th>ir_id_1y_incidentsoftype_raid_search_sum</th>\n",
       "      <th>arrests_id_5y_arrestsoftype_ar5_sum</th>\n",
       "      <th>ir_id_5y_allallegations_sum</th>\n",
       "      <th>fi_id_5y_fieldinterviewsbyrace_unknown_sum</th>\n",
       "      <th>demarrests_id_5y_arrests311call_avg</th>\n",
       "      <th>fi_id_5y_fieldinterviewsbyoutcome_none_avg</th>\n",
       "      <th>demarrests_id_1y_violentcrimerate_avg</th>\n",
       "      <th>outemp_id_5y_outsideemploymenthours_sum</th>\n",
       "      <th>outcome</th>\n",
       "    </tr>\n",
       "    <tr>\n",
       "      <th>officer_id</th>\n",
       "      <th></th>\n",
       "      <th></th>\n",
       "      <th></th>\n",
       "      <th></th>\n",
       "      <th></th>\n",
       "      <th></th>\n",
       "      <th></th>\n",
       "      <th></th>\n",
       "      <th></th>\n",
       "      <th></th>\n",
       "      <th></th>\n",
       "      <th></th>\n",
       "      <th></th>\n",
       "      <th></th>\n",
       "      <th></th>\n",
       "      <th></th>\n",
       "      <th></th>\n",
       "      <th></th>\n",
       "      <th></th>\n",
       "      <th></th>\n",
       "      <th></th>\n",
       "    </tr>\n",
       "  </thead>\n",
       "  <tbody>\n",
       "    <tr>\n",
       "      <th>4</th>\n",
       "      <td>0.0</td>\n",
       "      <td>0</td>\n",
       "      <td>0</td>\n",
       "      <td>0</td>\n",
       "      <td>1</td>\n",
       "      <td>0</td>\n",
       "      <td>8</td>\n",
       "      <td>17</td>\n",
       "      <td>1.800</td>\n",
       "      <td>1.700000</td>\n",
       "      <td>...</td>\n",
       "      <td>0</td>\n",
       "      <td>0</td>\n",
       "      <td>3</td>\n",
       "      <td>0</td>\n",
       "      <td>1</td>\n",
       "      <td>0.0</td>\n",
       "      <td>0.666667</td>\n",
       "      <td>2.475</td>\n",
       "      <td>0.0</td>\n",
       "      <td>0</td>\n",
       "    </tr>\n",
       "    <tr>\n",
       "      <th>30</th>\n",
       "      <td>0.0</td>\n",
       "      <td>0</td>\n",
       "      <td>0</td>\n",
       "      <td>0</td>\n",
       "      <td>1</td>\n",
       "      <td>0</td>\n",
       "      <td>10</td>\n",
       "      <td>8</td>\n",
       "      <td>1.450</td>\n",
       "      <td>0.893750</td>\n",
       "      <td>...</td>\n",
       "      <td>0</td>\n",
       "      <td>0</td>\n",
       "      <td>9</td>\n",
       "      <td>3</td>\n",
       "      <td>0</td>\n",
       "      <td>0.0</td>\n",
       "      <td>0.763158</td>\n",
       "      <td>10.250</td>\n",
       "      <td>0.0</td>\n",
       "      <td>0</td>\n",
       "    </tr>\n",
       "    <tr>\n",
       "      <th>191</th>\n",
       "      <td>0.0</td>\n",
       "      <td>0</td>\n",
       "      <td>0</td>\n",
       "      <td>0</td>\n",
       "      <td>1</td>\n",
       "      <td>0</td>\n",
       "      <td>17</td>\n",
       "      <td>50</td>\n",
       "      <td>0.425</td>\n",
       "      <td>0.719608</td>\n",
       "      <td>...</td>\n",
       "      <td>0</td>\n",
       "      <td>0</td>\n",
       "      <td>72</td>\n",
       "      <td>14</td>\n",
       "      <td>0</td>\n",
       "      <td>385.4</td>\n",
       "      <td>0.517241</td>\n",
       "      <td>24.000</td>\n",
       "      <td>0.0</td>\n",
       "      <td>0</td>\n",
       "    </tr>\n",
       "    <tr>\n",
       "      <th>508</th>\n",
       "      <td>0.0</td>\n",
       "      <td>0</td>\n",
       "      <td>1</td>\n",
       "      <td>0</td>\n",
       "      <td>0</td>\n",
       "      <td>0</td>\n",
       "      <td>0</td>\n",
       "      <td>3</td>\n",
       "      <td>2.000</td>\n",
       "      <td>2.000000</td>\n",
       "      <td>...</td>\n",
       "      <td>0</td>\n",
       "      <td>24</td>\n",
       "      <td>1</td>\n",
       "      <td>119</td>\n",
       "      <td>85</td>\n",
       "      <td>0.0</td>\n",
       "      <td>1.000000</td>\n",
       "      <td>2.500</td>\n",
       "      <td>0.0</td>\n",
       "      <td>1</td>\n",
       "    </tr>\n",
       "    <tr>\n",
       "      <th>566</th>\n",
       "      <td>0.0</td>\n",
       "      <td>0</td>\n",
       "      <td>0</td>\n",
       "      <td>1</td>\n",
       "      <td>0</td>\n",
       "      <td>0</td>\n",
       "      <td>0</td>\n",
       "      <td>0</td>\n",
       "      <td>0.000</td>\n",
       "      <td>0.000000</td>\n",
       "      <td>...</td>\n",
       "      <td>0</td>\n",
       "      <td>0</td>\n",
       "      <td>0</td>\n",
       "      <td>0</td>\n",
       "      <td>0</td>\n",
       "      <td>0.0</td>\n",
       "      <td>0.000000</td>\n",
       "      <td>0.000</td>\n",
       "      <td>0.0</td>\n",
       "      <td>0</td>\n",
       "    </tr>\n",
       "  </tbody>\n",
       "</table>\n",
       "<p>5 rows × 32 columns</p>\n",
       "</div>"
      ],
      "text/plain": [
       "            ts_id_1d_trafficstopswitharrest_avg  \\\n",
       "officer_id                                        \n",
       "4                                           0.0   \n",
       "30                                          0.0   \n",
       "191                                         0.0   \n",
       "508                                         0.0   \n",
       "566                                         0.0   \n",
       "\n",
       "            ts_id_1d_trafficstopswitharrest_sum  \\\n",
       "officer_id                                        \n",
       "4                                             0   \n",
       "30                                            0   \n",
       "191                                           0   \n",
       "508                                           0   \n",
       "566                                           0   \n",
       "\n",
       "            ocnd_id_dummyofficergender_female_max  \\\n",
       "officer_id                                          \n",
       "4                                               0   \n",
       "30                                              0   \n",
       "191                                             0   \n",
       "508                                             1   \n",
       "566                                             0   \n",
       "\n",
       "            ocnd_id_dummyofficergender_unknown_max  \\\n",
       "officer_id                                           \n",
       "4                                                0   \n",
       "30                                               0   \n",
       "191                                              0   \n",
       "508                                              0   \n",
       "566                                              1   \n",
       "\n",
       "            ocnd_id_dummyofficergender_male_max  \\\n",
       "officer_id                                        \n",
       "4                                             1   \n",
       "30                                            1   \n",
       "191                                           1   \n",
       "508                                           0   \n",
       "566                                           0   \n",
       "\n",
       "            fi_id_1y_fieldinterviewsbyrace_american_indian_sum  \\\n",
       "officer_id                                                       \n",
       "4                                                           0    \n",
       "30                                                          0    \n",
       "191                                                         0    \n",
       "508                                                         0    \n",
       "566                                                         0    \n",
       "\n",
       "            fi_id_1y_fieldinterviewsbyrace_black_sum  \\\n",
       "officer_id                                             \n",
       "4                                                  8   \n",
       "30                                                10   \n",
       "191                                               17   \n",
       "508                                                0   \n",
       "566                                                0   \n",
       "\n",
       "            arrests_id_5y_arrestson_fri_sum  \\\n",
       "officer_id                                    \n",
       "4                                        17   \n",
       "30                                        8   \n",
       "191                                      50   \n",
       "508                                       3   \n",
       "566                                       0   \n",
       "\n",
       "            demarrests_id_1y_foreclosures_avg  \\\n",
       "officer_id                                      \n",
       "4                                       1.800   \n",
       "30                                      1.450   \n",
       "191                                     0.425   \n",
       "508                                     2.000   \n",
       "566                                     0.000   \n",
       "\n",
       "            demarrests_id_5y_foreclosures_avg   ...     \\\n",
       "officer_id                                      ...      \n",
       "4                                    1.700000   ...      \n",
       "30                                   0.893750   ...      \n",
       "191                                  0.719608   ...      \n",
       "508                                  2.000000   ...      \n",
       "566                                  0.000000   ...      \n",
       "\n",
       "            ir_id_1y_incidentsoftype_complaint_sum  \\\n",
       "officer_id                                           \n",
       "4                                                0   \n",
       "30                                               0   \n",
       "191                                              0   \n",
       "508                                              0   \n",
       "566                                              0   \n",
       "\n",
       "            ir_id_1y_incidentsoftype_raid_search_sum  \\\n",
       "officer_id                                             \n",
       "4                                                  0   \n",
       "30                                                 0   \n",
       "191                                                0   \n",
       "508                                               24   \n",
       "566                                                0   \n",
       "\n",
       "            arrests_id_5y_arrestsoftype_ar5_sum  ir_id_5y_allallegations_sum  \\\n",
       "officer_id                                                                     \n",
       "4                                             3                            0   \n",
       "30                                            9                            3   \n",
       "191                                          72                           14   \n",
       "508                                           1                          119   \n",
       "566                                           0                            0   \n",
       "\n",
       "            fi_id_5y_fieldinterviewsbyrace_unknown_sum  \\\n",
       "officer_id                                               \n",
       "4                                                    1   \n",
       "30                                                   0   \n",
       "191                                                  0   \n",
       "508                                                 85   \n",
       "566                                                  0   \n",
       "\n",
       "            demarrests_id_5y_arrests311call_avg  \\\n",
       "officer_id                                        \n",
       "4                                           0.0   \n",
       "30                                          0.0   \n",
       "191                                       385.4   \n",
       "508                                         0.0   \n",
       "566                                         0.0   \n",
       "\n",
       "            fi_id_5y_fieldinterviewsbyoutcome_none_avg  \\\n",
       "officer_id                                               \n",
       "4                                             0.666667   \n",
       "30                                            0.763158   \n",
       "191                                           0.517241   \n",
       "508                                           1.000000   \n",
       "566                                           0.000000   \n",
       "\n",
       "            demarrests_id_1y_violentcrimerate_avg  \\\n",
       "officer_id                                          \n",
       "4                                           2.475   \n",
       "30                                         10.250   \n",
       "191                                        24.000   \n",
       "508                                         2.500   \n",
       "566                                         0.000   \n",
       "\n",
       "            outemp_id_5y_outsideemploymenthours_sum  outcome  \n",
       "officer_id                                                    \n",
       "4                                               0.0        0  \n",
       "30                                              0.0        0  \n",
       "191                                             0.0        0  \n",
       "508                                             0.0        1  \n",
       "566                                             0.0        0  \n",
       "\n",
       "[5 rows x 32 columns]"
      ]
     },
     "execution_count": 54,
     "metadata": {},
     "output_type": "execute_result"
    }
   ],
   "source": [
    "eo.head()"
   ]
  },
  {
   "cell_type": "code",
   "execution_count": null,
   "metadata": {
    "collapsed": true
   },
   "outputs": [],
   "source": []
  }
 ],
 "metadata": {
  "kernelspec": {
   "display_name": "Python 2",
   "language": "python",
   "name": "python2"
  },
  "language_info": {
   "codemirror_mode": {
    "name": "ipython",
    "version": 2
   },
   "file_extension": ".py",
   "mimetype": "text/x-python",
   "name": "python",
   "nbconvert_exporter": "python",
   "pygments_lexer": "ipython2",
   "version": "2.7.10"
  }
 },
 "nbformat": 4,
 "nbformat_minor": 0
}
