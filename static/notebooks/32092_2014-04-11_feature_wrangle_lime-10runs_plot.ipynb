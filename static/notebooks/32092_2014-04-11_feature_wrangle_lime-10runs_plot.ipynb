{
 "cells": [
  {
   "cell_type": "code",
   "execution_count": 1,
   "metadata": {
    "collapsed": true
   },
   "outputs": [],
   "source": [
    "import pandas as pd\n",
    "from collections import Counter\n",
    "from PIL import Image,ImageDraw,ImageFont\n",
    "from scipy.stats import spearmanr\n",
    "import os\n",
    "import numpy as np"
   ]
  },
  {
   "cell_type": "code",
   "execution_count": 2,
   "metadata": {
    "collapsed": true
   },
   "outputs": [],
   "source": [
    "limefeat_alphasort = pd.read_csv(\"limefeat_alphasort.csv\")\n",
    "officer_table = pd.read_csv(\"officer_table.csv\")\n",
    "df = pd.read_csv(\"lime-robustness-all-score-outcome.csv\")"
   ]
  },
  {
   "cell_type": "code",
   "execution_count": 3,
   "metadata": {
    "collapsed": true
   },
   "outputs": [],
   "source": [
    "def relister(liststring):\n",
    "    tmp = liststring.lstrip(\"[\").rstrip(\"]\")\n",
    "    tmp = tmp.split(\",\")\n",
    "    tmp = [item.translate(None,\" '\") for item in tmp]\n",
    "    return tmp"
   ]
  },
  {
   "cell_type": "code",
   "execution_count": 4,
   "metadata": {
    "collapsed": true
   },
   "outputs": [],
   "source": [
    "def setstring2list(setstring):\n",
    "    tmp = setstring.lstrip(\"{\").rstrip(\"}\")\n",
    "    tmp = tmp.split(\",\")\n",
    "    tmp = [item.translate(None,\" '\") for item in tmp]\n",
    "    return tmp"
   ]
  },
  {
   "cell_type": "code",
   "execution_count": 5,
   "metadata": {
    "collapsed": false
   },
   "outputs": [],
   "source": [
    "officer_table['feats'] = officer_table.feats.apply(relister)"
   ]
  },
  {
   "cell_type": "code",
   "execution_count": 6,
   "metadata": {
    "collapsed": false
   },
   "outputs": [],
   "source": [
    "df['unq'] = df.unq.apply(setstring2list)"
   ]
  },
  {
   "cell_type": "markdown",
   "metadata": {},
   "source": [
    "#### Feature categories"
   ]
  },
  {
   "cell_type": "code",
   "execution_count": 7,
   "metadata": {
    "collapsed": true
   },
   "outputs": [],
   "source": [
    "cathue = {\n",
    "    'ts':'0',\n",
    "    'fi':'32',\n",
    "    'ir':'60',\n",
    "    'shifts':'115',\n",
    "    'dispatch':'180',\n",
    "    'arrests':'240',\n",
    "    'ic':'270',\n",
    "    'demarrests':'300',\n",
    "    'ocnd':'200'\n",
    "    }\n",
    "\n",
    "catsat = {\n",
    "    'ts':'100%',\n",
    "    'fi':'100%',\n",
    "    'ir':'100%',\n",
    "    'shifts':'100%',\n",
    "    'dispatch':'100%',\n",
    "    'arrests':'100%',\n",
    "    'ic':'100%',\n",
    "    'demarrests':'100%',\n",
    "    'ocnd':'100%'\n",
    "    }\n",
    "\n",
    "catval = {\n",
    "    '1d':'5%',\n",
    "    '1w':'25%',\n",
    "    '1m':'50%',\n",
    "    '1y':'75%',\n",
    "    '5y':'100%',\n",
    "    'all':'100%',\n",
    "    }"
   ]
  },
  {
   "cell_type": "markdown",
   "metadata": {
    "collapsed": true
   },
   "source": [
    "#### LIME 10-runs"
   ]
  },
  {
   "cell_type": "code",
   "execution_count": 8,
   "metadata": {
    "collapsed": false
   },
   "outputs": [],
   "source": [
    "lime_10runs = df[['officer_id','nsmp','nft','unq','unit_score']]"
   ]
  },
  {
   "cell_type": "code",
   "execution_count": 9,
   "metadata": {
    "collapsed": false
   },
   "outputs": [],
   "source": [
    "lime_10runs = lime_10runs.sort_values(by=['unit_score','officer_id','nft'],ascending=[False,True,True])\n",
    "lime_10runs.reset_index(drop=True,inplace=True)"
   ]
  },
  {
   "cell_type": "code",
   "execution_count": 10,
   "metadata": {
    "collapsed": false
   },
   "outputs": [],
   "source": [
    "rectwidth = 10\n",
    "rectheight = 10\n",
    "px_w = len(limefeat_alphasort) * rectwidth\n",
    "px_h = len(lime_10runs) * rectheight"
   ]
  },
  {
   "cell_type": "code",
   "execution_count": 11,
   "metadata": {
    "collapsed": true
   },
   "outputs": [],
   "source": [
    "def offtableart(lime_10runs,limefeat_alphasort):\n",
    "    \n",
    "    canvas = Image.new('RGB',(px_w,px_h),'hsl(0,0%,100%)')\n",
    "    officer_id = None\n",
    "    nft = None\n",
    "    \n",
    "    for i in lime_10runs.index:\n",
    "        feats = lime_10runs.unq.loc[i]\n",
    "        ycoord = i * rectheight\n",
    "        \n",
    "        newid = lime_10runs.officer_id.loc[i]\n",
    "        newft = lime_10runs.nft.loc[i]  \n",
    "        \n",
    "        for feat in feats:\n",
    "            tmp = limefeat_alphasort[limefeat_alphasort.feature==feat]\n",
    "            record_type = tmp.record_type.iloc[0]\n",
    "            idx = tmp.index[0]\n",
    "            \n",
    "            xcoord = idx * rectwidth\n",
    "            bbox = [xcoord, ycoord, xcoord + rectwidth, ycoord + rectheight]\n",
    "            \n",
    "            try:\n",
    "                hue = cathue[record_type]\n",
    "                sat = catsat[record_type]\n",
    "                val = '50%'\n",
    "            except:\n",
    "                hue = '0'\n",
    "                sat = '0%'\n",
    "                val = '100%'\n",
    "\n",
    "            fillcolor = 'hsl('+hue+\",\"+sat+\",\"+val+\")\"\n",
    "            draw = ImageDraw.Draw(canvas)\n",
    "            draw.rectangle(bbox,fill=fillcolor,outline=None)\n",
    "        \n",
    "        if newid!=officer_id:\n",
    "            draw.line([(0,ycoord),(px_w,ycoord)],width=3,fill='black')\n",
    "            officer_id = newid\n",
    "            nft = newft\n",
    "        elif newft!=nft:\n",
    "            draw.line([(0,ycoord),(px_w,ycoord)],width=2,fill='black')\n",
    "            nft = newft\n",
    "        else:\n",
    "            draw.line([(0,ycoord),(px_w,ycoord)],width=1,fill='black')\n",
    "    \n",
    "    return canvas"
   ]
  },
  {
   "cell_type": "code",
   "execution_count": 12,
   "metadata": {
    "collapsed": false
   },
   "outputs": [],
   "source": [
    "offtableart(lime_10runs,limefeat_alphasort).save(\"offtableart.png\")"
   ]
  }
 ],
 "metadata": {
  "kernelspec": {
   "display_name": "Python 2",
   "language": "python",
   "name": "python2"
  },
  "language_info": {
   "codemirror_mode": {
    "name": "ipython",
    "version": 2
   },
   "file_extension": ".py",
   "mimetype": "text/x-python",
   "name": "python",
   "nbconvert_exporter": "python",
   "pygments_lexer": "ipython2",
   "version": "2.7.10"
  }
 },
 "nbformat": 4,
 "nbformat_minor": 0
}
